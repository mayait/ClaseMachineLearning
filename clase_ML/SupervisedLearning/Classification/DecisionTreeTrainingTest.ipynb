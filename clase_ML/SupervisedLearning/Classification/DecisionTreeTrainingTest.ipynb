{
  "nbformat": 4,
  "nbformat_minor": 0,
  "metadata": {
    "colab": {
      "name": "DecisionTreeTrainingTest.ipynb",
      "provenance": [],
      "authorship_tag": "ABX9TyMfl+CP7mT4JjfgMSmPZH8h",
      "include_colab_link": true
    },
    "kernelspec": {
      "name": "python3",
      "display_name": "Python 3"
    },
    "language_info": {
      "name": "python"
    }
  },
  "cells": [
    {
      "cell_type": "markdown",
      "metadata": {
        "id": "view-in-github",
        "colab_type": "text"
      },
      "source": [
        "<a href=\"https://colab.research.google.com/github/mayait/ClaseMachineLearning/blob/main/SupervisedLearning/Classification/DecisionTreeTrainingTest.ipynb\" target=\"_parent\"><img src=\"https://colab.research.google.com/assets/colab-badge.svg\" alt=\"Open In Colab\"/></a>"
      ]
    },
    {
      "cell_type": "code",
      "source": [
        "#@title Nombre del estudiante\n",
        "Estudiante = \"\" #@param {type:\"string\"}\n",
        "Código = \"\" #@param {type:\"string\"}"
      ],
      "metadata": {
        "id": "oEfCT92oL7bC",
        "cellView": "form"
      },
      "execution_count": null,
      "outputs": []
    },
    {
      "cell_type": "markdown",
      "source": [
        "# Árbol de decisión\n",
        "\n",
        "Imagina que estás planificando las actividades de la próxima semana. Las cosas que harás dependerán en gran medida de si tus amigos tienen tiempo y del tiempo que haga afuera.\n",
        "\n",
        "![](https://github.com/mayait/ClaseAnalisisDatos/blob/main/DesitionTree/img/tree_1.png?raw=1)\n",
        "\n",
        "Este cuadro establece reglas de decisión simples, que lo ayudan a decidir qué hacer la próxima semana en función de algunos otros datos. En este caso, es la disponibilidad y las condiciones climáticas de tus amigos.\n",
        "\n",
        "Los árboles de decisión hacen lo mismo. \n",
        "\n",
        "**Construyen un conjunto de reglas de decisión en forma de estructura de árbol, lo que le ayuda a predecir un resultado a partir de los datos de entrada.**\n",
        "\n",
        "____\n",
        "\n",
        "\n",
        "# Terminología\n",
        "*   Nodo raíz: población completa o muestra\n",
        "*   Ramificación\n",
        "*   Nodo de decisión\n",
        "*   Nodo terminal y hoja\n",
        "*   Poda\n",
        "*   Rama/sub-árbol\n",
        "*   Nodos padre e hijo\n",
        "![](https://julianmaya.notion.site/image/https%3A%2F%2Fs3-us-west-2.amazonaws.com%2Fsecure.notion-static.com%2F43100fb8-8de3-4c6e-9828-d368ea194cba%2FUntitled.png?table=block&id=13a29d59-7a16-4b1f-b9b6-d3760d80cbf1&spaceId=42f304d0-48ef-446b-8385-5c22fd3187f7&width=2000&userId=&cache=v2)\n",
        "\n",
        "____\n",
        "\n",
        "## **Tipos de árboles**\n",
        "\n",
        "Los árboles se pueden clasificar en dos tipos que son:\n",
        "\n",
        "1. Árboles de regresión en los cuales la variable respuesta y es cuantitativa.\n",
        "    \n",
        "2. Árboles de clasificación en los cuales la variable respuesta y es cualitativa.\n",
        "\n",
        "![https://fhernanb.github.io/libro_mod_pred/images/tipos_arboles.png](https://fhernanb.github.io/libro_mod_pred/images/tipos_arboles.png)\n",
        "\n",
        "## Árbol de regresión\n",
        "\n",
        "![https://fhernanb.github.io/libro_mod_pred/images/ilustracion_arb_regresion.png](https://fhernanb.github.io/libro_mod_pred/images/ilustracion_arb_regresion.png)\n",
        "\n",
        "## Árbol de clasificación\n",
        "\n",
        "![https://fhernanb.github.io/libro_mod_pred/images/ilustracion_arb_clasi.png](https://fhernanb.github.io/libro_mod_pred/images/ilustracion_arb_clasi.png)\n",
        "\n",
        "\n",
        "## Ventajas\n",
        "\n",
        "Existen múltiples razones por las que los árboles de decisión son uno de los algoritmos de aprendizaje automático de referencia en las aplicaciones de la vida real:\n",
        "\n",
        "- Intuitivo\n",
        "- Informativo\n",
        "- Escalable\n",
        "- Util en exploración de datos: identificar importancia de variables a partir de cientos de variables.\n",
        "- Menos limpieza de datos: outliers y valores faltantes no influencian el modelo (A un cierto grado)\n",
        "-  El tipo de datos no es una restricción\n",
        "\n",
        "## Desventajas\n",
        "\n",
        "- Sobreajuste\n",
        "- Pérdida de información al categorizar variables continuas\n",
        "- Inestabilidad: un pequeño cambio en los datos puede modificar ampliamente la estructura del árbol. Por lo tanto la interpretación no es tan directa como parece.\n",
        "\n",
        "## Business Use-Cases\n",
        "\n",
        "Los árboles de decisión imitan la toma de decisiones humana y, por lo tanto, se pueden usar en una variedad de entornos comerciales.\n",
        "Las empresas suelen utilizarlos para predecir resultados futuros. Por ejemplo:\n",
        "\n",
        "- ¿Qué cliente se mantendrá fiel y cuál abandonará? (Árbol de decisión de clasificación)\n",
        "- ¿En cuánto podemos aumentar las ventas de un cliente, dadas sus opciones de productos? (Árbol de decisión de regresión)\n",
        "- ¿Qué artículo debo recomendar a los lectores de mi blog a continuación? (Árboles de decisión de clasificación)\n",
        "\n",
        "\n",
        "____"
      ],
      "metadata": {
        "id": "t7N07Wd_cb4z"
      }
    },
    {
      "cell_type": "code",
      "execution_count": 2,
      "metadata": {
        "id": "1RC3yl3EBs7W",
        "outputId": "f948c1dd-8140-42d3-bf18-a6216c2c7df5",
        "colab": {
          "base_uri": "https://localhost:8080/"
        }
      },
      "outputs": [
        {
          "output_type": "stream",
          "name": "stdout",
          "text": [
            "--2023-02-28 22:15:28--  https://raw.githubusercontent.com/mayait/ClaseAnalisisDatos/main/DesitionTree/data/bank/bank-full.csv\n",
            "Resolving raw.githubusercontent.com (raw.githubusercontent.com)... 185.199.108.133, 185.199.109.133, 185.199.110.133, ...\n",
            "Connecting to raw.githubusercontent.com (raw.githubusercontent.com)|185.199.108.133|:443... connected.\n",
            "HTTP request sent, awaiting response... 200 OK\n",
            "Length: 4610348 (4.4M) [text/plain]\n",
            "Saving to: ‘bank-full.csv.1’\n",
            "\n",
            "\rbank-full.csv.1       0%[                    ]       0  --.-KB/s               \rbank-full.csv.1     100%[===================>]   4.40M  --.-KB/s    in 0.02s   \n",
            "\n",
            "2023-02-28 22:15:28 (226 MB/s) - ‘bank-full.csv.1’ saved [4610348/4610348]\n",
            "\n"
          ]
        }
      ],
      "source": [
        "import pandas as pd\n",
        "import numpy as np\n",
        "import seaborn as sns\n",
        "import matplotlib.pyplot as plt\n",
        "import matplotlib.image as mpimg\n",
        "\n",
        "from sklearn.tree import DecisionTreeClassifier, export_graphviz\n",
        "from sklearn import tree\n",
        "from sklearn.tree import export_graphviz\n",
        "\n",
        "from sklearn.model_selection import train_test_split\n",
        "from sklearn.metrics import mean_absolute_error\n",
        "from sklearn import metrics #Import scikit-learn metrics module for accuracy calculation\n",
        "\n",
        "\n",
        "sns.set(rc={'figure.figsize':(20,20)})\n",
        "\n",
        "\n",
        "# Descargar el archivo automaticamente \n",
        "!wget https://raw.githubusercontent.com/mayait/ClaseAnalisisDatos/main/DesitionTree/data/bank/bank-full.csv"
      ]
    },
    {
      "cell_type": "markdown",
      "metadata": {
        "id": "yxenMAfbH1QK"
      },
      "source": [
        "---\n",
        "# Ejercicio 1\n",
        "\n",
        "Dataset: [Credit](https://archive.ics.uci.edu/ml/datasets/bank+marketing)\n",
        "\n",
        "**Source:**\n",
        "\n",
        "[Moro et al., 2014] S. Moro, P. Cortez and P. Rita. A Data-Driven Approach to Predict the Success of Bank Telemarketing. Decision Support Systems, Elsevier, 62:22-31, June 2014\n",
        "\n",
        "**Data Set Information:**\n",
        "\n",
        "The data is related with direct marketing campaigns of a Portuguese banking institution. The marketing campaigns were based on phone calls. Often, more than one contact to the same client was required, in order to access if the product (bank term deposit) would be ('yes') or not ('no') subscribed.There are four datasets:1) bank-additional-full.csv with all examples (41188) and 20 inputs, ordered by date (from May 2008 to November 2010), very close to the data analyzed in [Moro et al., 2014]2) bank-additional.csv with 10% of the examples (4119), randomly selected from 1), and 20 inputs.3) bank-full.csv with all examples and 17 inputs, ordered by date (older version of this dataset with less inputs).4) bank.csv with 10% of the examples and 17 inputs, randomly selected from 3 (older version of this dataset with less inputs).The smallest datasets are provided to test more computationally demanding machine learning algorithms (e.g., SVM).The classification goal is to predict if the client will subscribe (yes/no) a term deposit (variable y).\n",
        "\n",
        "**Attribute Information:**\n",
        "\n",
        "```\n",
        "1 - age (numeric)\n",
        "2 - job : type of job (categorical: 'admin.','blue-collar','entrepreneur','housemaid','management','retired','self-employed','services','student','technician','unemployed','unknown')\n",
        "3 - marital : marital status (categorical: 'divorced','married','single','unknown'; note: 'divorced' means divorced or widowed)\n",
        "4 - education (categorical: 'basic.4y','basic.6y','basic.9y','high.school','illiterate','professional.course','university.degree','unknown')\n",
        "5 - default: has credit in default? (categorical: 'no','yes','unknown')\n",
        "6 - housing: has housing loan? (categorical: 'no','yes','unknown')\n",
        "7 - loan: has personal loan? (categorical: 'no','yes','unknown') # related with the last contact of the current campaign:\n",
        "8 - contact: contact communication type (categorical: 'cellular','telephone')\n",
        "9 - month: last contact month of year (categorical: 'jan', 'feb', 'mar', ..., 'nov', 'dec')\n",
        "10 - day_of_week: last contact day of the week (categorical: 'mon','tue','wed','thu','fri')\n",
        "11 - duration: last contact duration, in seconds (numeric). Important note: this attribute highly affects the output target (e.g., if duration=0 then y='no'). Yet, the duration is not known before a call is performed. Also, after the end of the call y is obviously known. Thus, this input should only be included for benchmark purposes and should be discarded if the intention is to have a realistic predictive model. # other attributes:\n",
        "12 - campaign: number of contacts performed during this campaign and for this client (numeric, includes last contact)\n",
        "13 - pdays: number of days that passed by after the client was last contacted from a previous campaign (numeric; 999 means client was not previously contacted)\n",
        "14 - previous: number of contacts performed before this campaign and for this client (numeric)\n",
        "15 - poutcome: outcome of the previous marketing campaign (categorical: 'failure','nonexistent','success') # social and economic context attributes\n",
        "16 - emp.var.rate: employment variation rate - quarterly indicator (numeric)\n",
        "17 - cons.price.idx: consumer price index - monthly indicator (numeric)\n",
        "18 - cons.conf.idx: consumer confidence index - monthly indicator (numeric)\n",
        "19 - euribor3m: euribor 3 month rate - daily indicator (numeric)\n",
        "20 - nr.employed: number of employees - quarterly indicator (numeric)\n",
        "\n",
        "Output variable (desired target):\n",
        "21 - y - has the client subscribed a term deposit? (binary: 'yes','no')\n",
        "```\n",
        "\n"
      ]
    },
    {
      "cell_type": "markdown",
      "source": [
        "## 1. 🌶️ 🐕  \n",
        "\n",
        "\n",
        "> Importa en el dataframe ```df``` el archivo ```bank-full.csv```, toma nota que el separador es punto y coma."
      ],
      "metadata": {
        "id": "Nvlogci7FDkL"
      }
    },
    {
      "cell_type": "code",
      "execution_count": 4,
      "metadata": {
        "id": "chitj6OSYp-n",
        "outputId": "be4126e7-0aea-426c-c483-54316b325334",
        "colab": {
          "base_uri": "https://localhost:8080/",
          "height": 427
        }
      },
      "outputs": [
        {
          "output_type": "execute_result",
          "data": {
            "text/plain": [
              "       age           job  marital  education default  balance housing loan  \\\n",
              "7883    54   blue-collar  married    primary      no     -636     yes   no   \n",
              "43378   40        admin.  married  secondary      no     3126     yes   no   \n",
              "16807   30        admin.  married   tertiary      no        0     yes   no   \n",
              "26108   35      services  married    primary      no       31      no  yes   \n",
              "9823    38   blue-collar   single    unknown      no      840      no   no   \n",
              "20148   56   blue-collar  married  secondary      no     2750      no   no   \n",
              "38871   33  entrepreneur  married   tertiary      no      964     yes   no   \n",
              "22100   53   blue-collar  married  secondary      no      -31      no   no   \n",
              "13855   40   blue-collar  married  secondary      no     2158      no   no   \n",
              "34734   46    management  married   tertiary      no      523     yes   no   \n",
              "\n",
              "        contact  day month  duration  campaign  pdays  previous poutcome   y  \n",
              "7883    unknown   30   may       324         3     -1         0  unknown  no  \n",
              "43378  cellular   30   mar       186         2     90         5  failure  no  \n",
              "16807  cellular   24   jul       209         2     -1         0  unknown  no  \n",
              "26108  cellular   19   nov       131         3    133         3  failure  no  \n",
              "9823    unknown    9   jun       176         6     -1         0  unknown  no  \n",
              "20148  cellular   11   aug       115         2     -1         0  unknown  no  \n",
              "38871  cellular   18   may        97         1    180         3  failure  no  \n",
              "22100  cellular   21   aug        82         8     -1         0  unknown  no  \n",
              "13855  cellular   10   jul       277         1     -1         0  unknown  no  \n",
              "34734  cellular    6   may       105         4    366         2  failure  no  "
            ],
            "text/html": [
              "\n",
              "  <div id=\"df-b9f1167a-1f80-46e8-a9bd-9093912b5dc2\">\n",
              "    <div class=\"colab-df-container\">\n",
              "      <div>\n",
              "<style scoped>\n",
              "    .dataframe tbody tr th:only-of-type {\n",
              "        vertical-align: middle;\n",
              "    }\n",
              "\n",
              "    .dataframe tbody tr th {\n",
              "        vertical-align: top;\n",
              "    }\n",
              "\n",
              "    .dataframe thead th {\n",
              "        text-align: right;\n",
              "    }\n",
              "</style>\n",
              "<table border=\"1\" class=\"dataframe\">\n",
              "  <thead>\n",
              "    <tr style=\"text-align: right;\">\n",
              "      <th></th>\n",
              "      <th>age</th>\n",
              "      <th>job</th>\n",
              "      <th>marital</th>\n",
              "      <th>education</th>\n",
              "      <th>default</th>\n",
              "      <th>balance</th>\n",
              "      <th>housing</th>\n",
              "      <th>loan</th>\n",
              "      <th>contact</th>\n",
              "      <th>day</th>\n",
              "      <th>month</th>\n",
              "      <th>duration</th>\n",
              "      <th>campaign</th>\n",
              "      <th>pdays</th>\n",
              "      <th>previous</th>\n",
              "      <th>poutcome</th>\n",
              "      <th>y</th>\n",
              "    </tr>\n",
              "  </thead>\n",
              "  <tbody>\n",
              "    <tr>\n",
              "      <th>7883</th>\n",
              "      <td>54</td>\n",
              "      <td>blue-collar</td>\n",
              "      <td>married</td>\n",
              "      <td>primary</td>\n",
              "      <td>no</td>\n",
              "      <td>-636</td>\n",
              "      <td>yes</td>\n",
              "      <td>no</td>\n",
              "      <td>unknown</td>\n",
              "      <td>30</td>\n",
              "      <td>may</td>\n",
              "      <td>324</td>\n",
              "      <td>3</td>\n",
              "      <td>-1</td>\n",
              "      <td>0</td>\n",
              "      <td>unknown</td>\n",
              "      <td>no</td>\n",
              "    </tr>\n",
              "    <tr>\n",
              "      <th>43378</th>\n",
              "      <td>40</td>\n",
              "      <td>admin.</td>\n",
              "      <td>married</td>\n",
              "      <td>secondary</td>\n",
              "      <td>no</td>\n",
              "      <td>3126</td>\n",
              "      <td>yes</td>\n",
              "      <td>no</td>\n",
              "      <td>cellular</td>\n",
              "      <td>30</td>\n",
              "      <td>mar</td>\n",
              "      <td>186</td>\n",
              "      <td>2</td>\n",
              "      <td>90</td>\n",
              "      <td>5</td>\n",
              "      <td>failure</td>\n",
              "      <td>no</td>\n",
              "    </tr>\n",
              "    <tr>\n",
              "      <th>16807</th>\n",
              "      <td>30</td>\n",
              "      <td>admin.</td>\n",
              "      <td>married</td>\n",
              "      <td>tertiary</td>\n",
              "      <td>no</td>\n",
              "      <td>0</td>\n",
              "      <td>yes</td>\n",
              "      <td>no</td>\n",
              "      <td>cellular</td>\n",
              "      <td>24</td>\n",
              "      <td>jul</td>\n",
              "      <td>209</td>\n",
              "      <td>2</td>\n",
              "      <td>-1</td>\n",
              "      <td>0</td>\n",
              "      <td>unknown</td>\n",
              "      <td>no</td>\n",
              "    </tr>\n",
              "    <tr>\n",
              "      <th>26108</th>\n",
              "      <td>35</td>\n",
              "      <td>services</td>\n",
              "      <td>married</td>\n",
              "      <td>primary</td>\n",
              "      <td>no</td>\n",
              "      <td>31</td>\n",
              "      <td>no</td>\n",
              "      <td>yes</td>\n",
              "      <td>cellular</td>\n",
              "      <td>19</td>\n",
              "      <td>nov</td>\n",
              "      <td>131</td>\n",
              "      <td>3</td>\n",
              "      <td>133</td>\n",
              "      <td>3</td>\n",
              "      <td>failure</td>\n",
              "      <td>no</td>\n",
              "    </tr>\n",
              "    <tr>\n",
              "      <th>9823</th>\n",
              "      <td>38</td>\n",
              "      <td>blue-collar</td>\n",
              "      <td>single</td>\n",
              "      <td>unknown</td>\n",
              "      <td>no</td>\n",
              "      <td>840</td>\n",
              "      <td>no</td>\n",
              "      <td>no</td>\n",
              "      <td>unknown</td>\n",
              "      <td>9</td>\n",
              "      <td>jun</td>\n",
              "      <td>176</td>\n",
              "      <td>6</td>\n",
              "      <td>-1</td>\n",
              "      <td>0</td>\n",
              "      <td>unknown</td>\n",
              "      <td>no</td>\n",
              "    </tr>\n",
              "    <tr>\n",
              "      <th>20148</th>\n",
              "      <td>56</td>\n",
              "      <td>blue-collar</td>\n",
              "      <td>married</td>\n",
              "      <td>secondary</td>\n",
              "      <td>no</td>\n",
              "      <td>2750</td>\n",
              "      <td>no</td>\n",
              "      <td>no</td>\n",
              "      <td>cellular</td>\n",
              "      <td>11</td>\n",
              "      <td>aug</td>\n",
              "      <td>115</td>\n",
              "      <td>2</td>\n",
              "      <td>-1</td>\n",
              "      <td>0</td>\n",
              "      <td>unknown</td>\n",
              "      <td>no</td>\n",
              "    </tr>\n",
              "    <tr>\n",
              "      <th>38871</th>\n",
              "      <td>33</td>\n",
              "      <td>entrepreneur</td>\n",
              "      <td>married</td>\n",
              "      <td>tertiary</td>\n",
              "      <td>no</td>\n",
              "      <td>964</td>\n",
              "      <td>yes</td>\n",
              "      <td>no</td>\n",
              "      <td>cellular</td>\n",
              "      <td>18</td>\n",
              "      <td>may</td>\n",
              "      <td>97</td>\n",
              "      <td>1</td>\n",
              "      <td>180</td>\n",
              "      <td>3</td>\n",
              "      <td>failure</td>\n",
              "      <td>no</td>\n",
              "    </tr>\n",
              "    <tr>\n",
              "      <th>22100</th>\n",
              "      <td>53</td>\n",
              "      <td>blue-collar</td>\n",
              "      <td>married</td>\n",
              "      <td>secondary</td>\n",
              "      <td>no</td>\n",
              "      <td>-31</td>\n",
              "      <td>no</td>\n",
              "      <td>no</td>\n",
              "      <td>cellular</td>\n",
              "      <td>21</td>\n",
              "      <td>aug</td>\n",
              "      <td>82</td>\n",
              "      <td>8</td>\n",
              "      <td>-1</td>\n",
              "      <td>0</td>\n",
              "      <td>unknown</td>\n",
              "      <td>no</td>\n",
              "    </tr>\n",
              "    <tr>\n",
              "      <th>13855</th>\n",
              "      <td>40</td>\n",
              "      <td>blue-collar</td>\n",
              "      <td>married</td>\n",
              "      <td>secondary</td>\n",
              "      <td>no</td>\n",
              "      <td>2158</td>\n",
              "      <td>no</td>\n",
              "      <td>no</td>\n",
              "      <td>cellular</td>\n",
              "      <td>10</td>\n",
              "      <td>jul</td>\n",
              "      <td>277</td>\n",
              "      <td>1</td>\n",
              "      <td>-1</td>\n",
              "      <td>0</td>\n",
              "      <td>unknown</td>\n",
              "      <td>no</td>\n",
              "    </tr>\n",
              "    <tr>\n",
              "      <th>34734</th>\n",
              "      <td>46</td>\n",
              "      <td>management</td>\n",
              "      <td>married</td>\n",
              "      <td>tertiary</td>\n",
              "      <td>no</td>\n",
              "      <td>523</td>\n",
              "      <td>yes</td>\n",
              "      <td>no</td>\n",
              "      <td>cellular</td>\n",
              "      <td>6</td>\n",
              "      <td>may</td>\n",
              "      <td>105</td>\n",
              "      <td>4</td>\n",
              "      <td>366</td>\n",
              "      <td>2</td>\n",
              "      <td>failure</td>\n",
              "      <td>no</td>\n",
              "    </tr>\n",
              "  </tbody>\n",
              "</table>\n",
              "</div>\n",
              "      <button class=\"colab-df-convert\" onclick=\"convertToInteractive('df-b9f1167a-1f80-46e8-a9bd-9093912b5dc2')\"\n",
              "              title=\"Convert this dataframe to an interactive table.\"\n",
              "              style=\"display:none;\">\n",
              "        \n",
              "  <svg xmlns=\"http://www.w3.org/2000/svg\" height=\"24px\"viewBox=\"0 0 24 24\"\n",
              "       width=\"24px\">\n",
              "    <path d=\"M0 0h24v24H0V0z\" fill=\"none\"/>\n",
              "    <path d=\"M18.56 5.44l.94 2.06.94-2.06 2.06-.94-2.06-.94-.94-2.06-.94 2.06-2.06.94zm-11 1L8.5 8.5l.94-2.06 2.06-.94-2.06-.94L8.5 2.5l-.94 2.06-2.06.94zm10 10l.94 2.06.94-2.06 2.06-.94-2.06-.94-.94-2.06-.94 2.06-2.06.94z\"/><path d=\"M17.41 7.96l-1.37-1.37c-.4-.4-.92-.59-1.43-.59-.52 0-1.04.2-1.43.59L10.3 9.45l-7.72 7.72c-.78.78-.78 2.05 0 2.83L4 21.41c.39.39.9.59 1.41.59.51 0 1.02-.2 1.41-.59l7.78-7.78 2.81-2.81c.8-.78.8-2.07 0-2.86zM5.41 20L4 18.59l7.72-7.72 1.47 1.35L5.41 20z\"/>\n",
              "  </svg>\n",
              "      </button>\n",
              "      \n",
              "  <style>\n",
              "    .colab-df-container {\n",
              "      display:flex;\n",
              "      flex-wrap:wrap;\n",
              "      gap: 12px;\n",
              "    }\n",
              "\n",
              "    .colab-df-convert {\n",
              "      background-color: #E8F0FE;\n",
              "      border: none;\n",
              "      border-radius: 50%;\n",
              "      cursor: pointer;\n",
              "      display: none;\n",
              "      fill: #1967D2;\n",
              "      height: 32px;\n",
              "      padding: 0 0 0 0;\n",
              "      width: 32px;\n",
              "    }\n",
              "\n",
              "    .colab-df-convert:hover {\n",
              "      background-color: #E2EBFA;\n",
              "      box-shadow: 0px 1px 2px rgba(60, 64, 67, 0.3), 0px 1px 3px 1px rgba(60, 64, 67, 0.15);\n",
              "      fill: #174EA6;\n",
              "    }\n",
              "\n",
              "    [theme=dark] .colab-df-convert {\n",
              "      background-color: #3B4455;\n",
              "      fill: #D2E3FC;\n",
              "    }\n",
              "\n",
              "    [theme=dark] .colab-df-convert:hover {\n",
              "      background-color: #434B5C;\n",
              "      box-shadow: 0px 1px 3px 1px rgba(0, 0, 0, 0.15);\n",
              "      filter: drop-shadow(0px 1px 2px rgba(0, 0, 0, 0.3));\n",
              "      fill: #FFFFFF;\n",
              "    }\n",
              "  </style>\n",
              "\n",
              "      <script>\n",
              "        const buttonEl =\n",
              "          document.querySelector('#df-b9f1167a-1f80-46e8-a9bd-9093912b5dc2 button.colab-df-convert');\n",
              "        buttonEl.style.display =\n",
              "          google.colab.kernel.accessAllowed ? 'block' : 'none';\n",
              "\n",
              "        async function convertToInteractive(key) {\n",
              "          const element = document.querySelector('#df-b9f1167a-1f80-46e8-a9bd-9093912b5dc2');\n",
              "          const dataTable =\n",
              "            await google.colab.kernel.invokeFunction('convertToInteractive',\n",
              "                                                     [key], {});\n",
              "          if (!dataTable) return;\n",
              "\n",
              "          const docLinkHtml = 'Like what you see? Visit the ' +\n",
              "            '<a target=\"_blank\" href=https://colab.research.google.com/notebooks/data_table.ipynb>data table notebook</a>'\n",
              "            + ' to learn more about interactive tables.';\n",
              "          element.innerHTML = '';\n",
              "          dataTable['output_type'] = 'display_data';\n",
              "          await google.colab.output.renderOutput(dataTable, element);\n",
              "          const docLink = document.createElement('div');\n",
              "          docLink.innerHTML = docLinkHtml;\n",
              "          element.appendChild(docLink);\n",
              "        }\n",
              "      </script>\n",
              "    </div>\n",
              "  </div>\n",
              "  "
            ]
          },
          "metadata": {},
          "execution_count": 4
        }
      ],
      "source": [
        "df = pd.read_csv('bank-full.csv', sep=';')\n",
        "df.sample(10)"
      ]
    },
    {
      "cell_type": "markdown",
      "source": [
        "# 2. 🌶️ 🐕  Explora el DF"
      ],
      "metadata": {
        "id": "4bECSQb1FbEU"
      }
    },
    {
      "cell_type": "code",
      "source": [
        "df.____"
      ],
      "metadata": {
        "id": "b_ulKwTYCjVX"
      },
      "execution_count": null,
      "outputs": []
    },
    {
      "cell_type": "markdown",
      "source": [
        "# 3. 🌶️ 🐕  \n",
        "Realiza un mapa de correlación de df."
      ],
      "metadata": {
        "id": "wIlYhQScGBYv"
      }
    },
    {
      "cell_type": "code",
      "source": [
        "# "
      ],
      "metadata": {
        "id": "Hcob35EWGHcX"
      },
      "execution_count": null,
      "outputs": []
    },
    {
      "cell_type": "markdown",
      "source": [
        "# 4. 🌶️ 🐕  \n",
        "> ¿Cuantas categorias tiene la variable ```month```?\n",
        "\n",
        "> ¿Es un predictor?\n",
        "\n",
        "> Elimina la columna ```month``` del dataframe ```df```"
      ],
      "metadata": {
        "id": "HftajI9mHZT1"
      }
    },
    {
      "cell_type": "code",
      "source": [
        "# drop\n",
        "df = _____"
      ],
      "metadata": {
        "id": "CIZ0u79PIAOh"
      },
      "execution_count": null,
      "outputs": []
    },
    {
      "cell_type": "markdown",
      "source": [
        "# 5. 🌶️ 🐕  \n",
        "convierte las columnas categoricas en dummies, es decir valores de 1 y 0 para cada categoria y almacenalo en la variable df_dummies.\n",
        "\n",
        "¿Cuantas columnas tienes ahora?"
      ],
      "metadata": {
        "id": "UoSDTfubFmrH"
      }
    },
    {
      "cell_type": "code",
      "source": [
        "df_dummies = ____"
      ],
      "metadata": {
        "id": "5Ok_cs5uEhi-"
      },
      "execution_count": null,
      "outputs": []
    },
    {
      "cell_type": "code",
      "source": [
        "df_dummies.sample(5)"
      ],
      "metadata": {
        "id": "WhQMnaWgHUMW"
      },
      "execution_count": null,
      "outputs": []
    },
    {
      "cell_type": "markdown",
      "source": [
        "# 6. 🌶️ 🐕  \n",
        "> Realiza un mapa de correlación a df_dummies\n",
        "\n",
        "¿Existe alguna correlación entre las variables?"
      ],
      "metadata": {
        "id": "udb8Q8IRG0C2"
      }
    },
    {
      "cell_type": "code",
      "source": [
        "# sns.heatmap"
      ],
      "metadata": {
        "id": "Vvq0QSxTExvn"
      },
      "execution_count": null,
      "outputs": []
    },
    {
      "cell_type": "markdown",
      "source": [
        "# 7. 🌶️ 🐕  \n",
        "Asigna los valores de ```y``` y ```X```\n"
      ],
      "metadata": {
        "id": "jfieQzH5IxAS"
      }
    },
    {
      "cell_type": "code",
      "source": [
        "y = _____\n",
        "X = _____"
      ],
      "metadata": {
        "id": "du3dTAJ2ErA3"
      },
      "execution_count": null,
      "outputs": []
    },
    {
      "cell_type": "markdown",
      "source": [
        "# Dividir el dataframe en data de entrenamiento y data de test\n"
      ],
      "metadata": {
        "id": "cZDK4TBkJL3g"
      }
    },
    {
      "cell_type": "code",
      "source": [
        "# Dividir el dataframe\n",
        "# 70% training and 30% test\n",
        "\n",
        "train_X, val_X, train_y, val_y = train_test_split(X, y, test_size=0.3, random_state=42)\n"
      ],
      "metadata": {
        "id": "aDNm4Ec3EuUn"
      },
      "execution_count": null,
      "outputs": []
    },
    {
      "cell_type": "markdown",
      "source": [
        "## Entrena el modelo con ```train_X```y ```train_y```"
      ],
      "metadata": {
        "id": "U6zza3V9JtSy"
      }
    },
    {
      "cell_type": "code",
      "source": [
        "model = DecisionTreeClassifier(max_depth=3)\n",
        "model = model.fit(train_X,train_y)"
      ],
      "metadata": {
        "id": "6YG-9XwoJ4qS"
      },
      "execution_count": null,
      "outputs": []
    },
    {
      "cell_type": "code",
      "source": [
        "# Dibuja el arbol\n",
        "col_names_list = list(train_X.columns.values)\n",
        "fig = plt.figure(figsize=(20,20))\n",
        "tree.plot_tree(model, filled=True, rounded=True,  feature_names=col_names_list)\n",
        "plt.show()"
      ],
      "metadata": {
        "id": "30hlEyFZKN8Z"
      },
      "execution_count": null,
      "outputs": []
    },
    {
      "cell_type": "markdown",
      "source": [
        "## Predecimos los valores de entrenamiento de X"
      ],
      "metadata": {
        "id": "gl7npn1vKteq"
      }
    },
    {
      "cell_type": "code",
      "source": [
        "#Predict the response for test dataset\n",
        "y_pred = model.predict(val_X)\n",
        "\n",
        "# Model Accuracy, how often is the classifier correct?\n",
        "print(\"Accuracy:\",metrics.accuracy_score(val_y, y_pred))"
      ],
      "metadata": {
        "id": "O9Eqo_agKVP7"
      },
      "execution_count": null,
      "outputs": []
    },
    {
      "cell_type": "markdown",
      "source": [
        "## Hacemos una función que entrene y pruebe el modelo "
      ],
      "metadata": {
        "id": "t-R1g2l2QIBt"
      }
    },
    {
      "cell_type": "code",
      "source": [
        "def tree_hyperparameters_fit(max_leaf_nodes,max_depth):\n",
        "  model = DecisionTreeClassifier( max_leaf_nodes=max_leaf_nodes, max_depth=max_depth)\n",
        "  model = model.fit(train_X, train_y)\n",
        "  y_pred = model.predict(val_X)\n",
        "  print(\"max_leaf_nodes:\", max_leaf_nodes,\"max_depth:\", max_depth, \"Accuracy:\",metrics.accuracy_score(val_y, y_pred))"
      ],
      "metadata": {
        "id": "D5aISsMHK_wT"
      },
      "execution_count": null,
      "outputs": []
    },
    {
      "cell_type": "markdown",
      "source": [
        "## Establecemos una lista de hiperparametros y corremos muchas versiones del modelo"
      ],
      "metadata": {
        "id": "hH8AH2jYQMt8"
      }
    },
    {
      "cell_type": "code",
      "source": [
        "hyperparameters = [\n",
        "    [5,4],\n",
        "    [2,2],\n",
        "    [4,4],\n",
        "    [10,10],\n",
        "    [20,20],\n",
        "    [10000,10000],\n",
        "    [100,100]\n",
        "  ]"
      ],
      "metadata": {
        "id": "Ehpq9FO9MIEd"
      },
      "execution_count": null,
      "outputs": []
    },
    {
      "cell_type": "code",
      "source": [
        "for hp in hyperparameters:\n",
        "  tree_hyperparameters_fit(hp[0],hp[1])"
      ],
      "metadata": {
        "id": "N3MgVL8vNK5O"
      },
      "execution_count": null,
      "outputs": []
    },
    {
      "cell_type": "markdown",
      "source": [
        "# 8.\n",
        "¿Cúal es la mejor combinación de hiperparametros?\n",
        "\n",
        "Invesiga que otros hiperparametros existen de arbol de decisión en SKLEARN"
      ],
      "metadata": {
        "id": "j4Htrs_sPMXb"
      }
    },
    {
      "cell_type": "markdown",
      "source": [
        "# 🌶️ EJERCICIO 9\n"
      ],
      "metadata": {
        "id": "gWZj8u1aHJOt"
      }
    },
    {
      "cell_type": "code",
      "source": [
        "# 🌶️ EJERCICIO 9\n",
        "\n",
        "# 🌶️ Importar matriz de confusión / confusion_matrix and classification_report.\n",
        "____\n",
        "\n",
        "knn = KNeighborsClassifier(n_neighbors=6)\n",
        "\n",
        "# 🌶️ Ajustar el modelo a los datos de entrenamiento / Fit the model.\n",
        "____\n",
        "\n",
        "# 🌶️ Predecir las etiquetas de los datos de prueba: y_pred\n",
        "y_pred = ____\n",
        "\n",
        "# 🌶️ Generar la matriz de confusión y el informe de clasificación / print the confusion matrix and classification report\n",
        "print(____(____, ____))\n",
        "print(____(____, ____))"
      ],
      "metadata": {
        "id": "6zR-U9w0yohR"
      },
      "execution_count": null,
      "outputs": []
    },
    {
      "cell_type": "code",
      "source": [
        "# Generar la matriz de confusión\n",
        "cm = confusion_matrix(y_test, y_pred)\n",
        "\n",
        "# Configurar el tamaño del gráfico\n",
        "fig, ax = plt.subplots(figsize=(8, 8))\n",
        "\n",
        "# Graficar la matriz de confusión\n",
        "sns.heatmap(cm, annot=True, cmap='Blues', fmt='d', xticklabels=['Negativo', 'Positivo'], yticklabels=['Negativo', 'Positivo'])\n",
        "\n",
        "# Configurar las etiquetas del eje x e y\n",
        "ax.set_xlabel('Predicción')\n",
        "ax.set_ylabel('Valor Real')\n",
        "ax.set_title('Matriz de Confusión')\n",
        "\n",
        "# Agregar las etiquetas a los cuadros de la matriz de confusión\n",
        "plt.annotate('TN\\nVerdaderos\\nNegativos', xy=(0.0, 0.0), xytext=(0.5, 0.2), fontsize=12, color='white', horizontalalignment='center', verticalalignment='center', weight='bold', alpha=0.8, bbox=dict(boxstyle='round', facecolor='blue', edgecolor='none'))\n",
        "plt.annotate('FP\\nFalsos\\nPositivos', xy=(1.0, 0.0), xytext=(1.5, 0.2), fontsize=12, color='white', horizontalalignment='center', verticalalignment='center', weight='bold', alpha=0.8, bbox=dict(boxstyle='round', facecolor='red', edgecolor='none'))\n",
        "plt.annotate('FN\\nFalsos\\nNegativos', xy=(0.0, 1.0), xytext=(0.5, 1.2), fontsize=12, color='white', horizontalalignment='center', verticalalignment='center', weight='bold', alpha=0.8, bbox=dict(boxstyle='round', facecolor='red', edgecolor='none'))\n",
        "plt.annotate('TP\\nVerdaderos\\nPositivos', xy=(1.0, 1.0), xytext=(1.5, 1.2), fontsize=12, color='white', horizontalalignment='center', verticalalignment='center', weight='bold', alpha=0.8, bbox=dict(boxstyle='round', facecolor='blue', edgecolor='none'))\n",
        "\n",
        "\n",
        "# Mostrar el gráfico\n",
        "plt.show()"
      ],
      "metadata": {
        "id": "LCVmqqys0kfd",
        "colab": {
          "base_uri": "https://localhost:8080/",
          "height": 705
        },
        "outputId": "6a159e85-c56e-4496-8f0d-bfb011b69e54"
      },
      "execution_count": null,
      "outputs": [
        {
          "output_type": "display_data",
          "data": {
            "text/plain": [
              "<Figure size 800x800 with 2 Axes>"
            ],
            "image/png": "[encoded data removed]"
          },
          "metadata": {
            "image/png": {
              "width": 647,
              "height": 688
            },
            "needs_background": "light"
          }
        }
      ]
    }
  ]
}