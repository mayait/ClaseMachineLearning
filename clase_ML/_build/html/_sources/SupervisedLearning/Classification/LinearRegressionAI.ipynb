{
  "nbformat": 4,
  "nbformat_minor": 0,
  "metadata": {
    "colab": {
      "private_outputs": true,
      "provenance": [],
      "authorship_tag": "ABX9TyNpniCilDq45nDicT9GMqzk",
      "include_colab_link": true
    },
    "kernelspec": {
      "name": "python3",
      "display_name": "Python 3"
    },
    "language_info": {
      "name": "python"
    }
  },
  "cells": [
    {
      "cell_type": "markdown",
      "metadata": {
        "id": "view-in-github",
        "colab_type": "text"
      },
      "source": [
        "<a href=\"https://colab.research.google.com/github/mayait/ClaseMachineLearning/blob/main/SupervisedLearning/Classification/LinearRegressionAI.ipynb\" target=\"_parent\"><img src=\"https://colab.research.google.com/assets/colab-badge.svg\" alt=\"Open In Colab\"/></a>"
      ]
    },
    {
      "cell_type": "markdown",
      "source": [
        "# Regresión lineal\n",
        "\n",
        "En este ejercicio se trabajará con un conjunto de datos llamado \"sales_df\", el cual contiene información sobre el gasto en campañas publicitarias en diferentes tipos de medios y el monto de ventas generadas para cada campaña. El conjunto de datos ya se encuentra cargado.\n",
        "\n",
        "Se utilizará el gasto en publicidad en el medio \"radio\" como característica (feature) para predecir los valores de ventas. Antes de realizar cualquier predicción, es necesario crear los arreglos de características y objetivos, y darles el formato correcto para su uso en scikit-learn.\n",
        "\n",
        "\n",
        "\n",
        "tv | radio | social_media | sales\n",
        "--- | --- | --- | ---\n",
        "1|    13000.0 | 9237.76 | 2409.57 | 46677.90\n",
        "2|    41000.0 | 15886.45 |    2913.41 |          150177.83\n"
      ],
      "metadata": {
        "id": "y4bvJ0IiGxcr"
      }
    },
    {
      "cell_type": "code",
      "source": [
        "import numpy as np\n",
        "import pandas as pd\n",
        "import numpy as np\n",
        "import matplotlib.pyplot as plt"
      ],
      "metadata": {
        "id": "UR-iReQGNA_h"
      },
      "execution_count": null,
      "outputs": []
    },
    {
      "cell_type": "code",
      "source": [
        "!wget https://raw.githubusercontent.com/mayait/ClaseAnalisisDatos/main/machine_learning/datasets/advertising_and_sales_clean.csv"
      ],
      "metadata": {
        "id": "UnQIwxl5Mxz6"
      },
      "execution_count": null,
      "outputs": []
    },
    {
      "cell_type": "code",
      "source": [
        "sales_df = pd.read_csv(\"advertising_and_sales_clean.csv\")\n",
        "sales_df.sample()"
      ],
      "metadata": {
        "id": "StPQKc4IM4zx"
      },
      "execution_count": null,
      "outputs": []
    },
    {
      "cell_type": "code",
      "source": [
        "'''\n",
        "- Create X, an array of the values from the sales_df DataFrame's \"radio\" column.\n",
        "- Create y, an array of the values from the sales_df DataFrame's \"sales\" column.\n",
        "- Reshape X into a two-dimensional NumPy array.\n",
        "- Print the shape of X and y.\n",
        "'''\n",
        "\n",
        "# Create X from the radio column's values\n",
        "X = ____\n",
        "\n",
        "# Create y from the sales column's values\n",
        "y = ____\n",
        "\n",
        "# Reshape X\n",
        "X = ____\n",
        "\n",
        "# Check the shape of the features and targets\n",
        "print(____)"
      ],
      "metadata": {
        "id": "-JbTnUPCHFjA"
      },
      "execution_count": null,
      "outputs": []
    },
    {
      "cell_type": "markdown",
      "source": [
        "*Tenga en cuenta que se utiliza el método reshape para transformar el arreglo unidimensional X en un arreglo bidimensional. El argumento -1, 1 significa que se utilizará solo una columna e inferir automáticamente el número de filas para preservar el número original de elementos en el arreglo.*\n",
        "\n",
        "```\n",
        "X.reshape(-1, 1)\n",
        "```\n",
        "\n"
      ],
      "metadata": {
        "id": "TD9b8UaXOjWk"
      }
    },
    {
      "cell_type": "markdown",
      "source": [
        "**Building a linear regression model**\n",
        "\n",
        "Now you have created your feature and target arrays, you will train a linear regression model on all feature and target values.\n",
        "\n",
        "- LinearRegression is imported from the linear_model module of the scikit-learn library. \n",
        "- The LinearRegression class is then instantiated to create a linear regression model. \n",
        "- The fit method is used to fit the model to the data, which is represented by the arrays X and y. \n",
        "- Finally, the predict method is used to make predictions using the fitted model. \n",
        "- The first five predictions are printed for inspection.\n",
        "\n",
        "```\n",
        "y = sales_df[\"sales\"].values\n",
        "X = sales_df[\"radio\"].values.reshape(-1, 1)\n",
        "``` "
      ],
      "metadata": {
        "id": "a_YcQ_DcNRJU"
      }
    },
    {
      "cell_type": "code",
      "source": [
        "# Import LinearRegression.\n",
        "# Instantiate a linear regression model.\n",
        "# Predict sales values using X, storing as predictions\n",
        "\n",
        "# Import LinearRegression\n",
        "from ____.____ import ____\n",
        "\n",
        "# Create the model\n",
        "reg = ____()\n",
        "\n",
        "# Fit the model to the data\n",
        "____\n",
        "\n",
        "# Make predictions\n",
        "predictions = ____\n",
        "\n",
        "print(predictions[:5])"
      ],
      "metadata": {
        "id": "-MdT577LNKr4"
      },
      "execution_count": null,
      "outputs": []
    },
    {
      "cell_type": "markdown",
      "source": [
        "**Visualizing a linear regression model**"
      ],
      "metadata": {
        "id": "F8Xfta16OrT_"
      }
    },
    {
      "cell_type": "code",
      "source": [
        "'''\n",
        "Import matplotlib.pyplot as plt.\n",
        "Create a scatter plot visualizing y against X, with observations in blue.\n",
        "Draw a red line plot displaying the predictions against X.\n",
        "Display the plot.\n",
        "'''\n",
        "# Import matplotlib.pyplot\n",
        "import ____.____ as ____\n",
        "\n",
        "# Create scatter plot\n",
        "plt.scatter(____, ____, color=\"____\")\n",
        "\n",
        "# Create line plot\n",
        "plt.plot(____, ____, color=\"____\")\n",
        "plt.xlabel(\"Radio Expenditure ($)\")\n",
        "plt.ylabel(\"Sales ($)\")\n",
        "\n",
        "# Display the plot\n",
        "plt.____()"
      ],
      "metadata": {
        "id": "vCQmwawkODW7"
      },
      "execution_count": null,
      "outputs": []
    },
    {
      "cell_type": "code",
      "source": [
        "'''\n",
        "Create X, an array containing values of all features in sales_df, and y, containing all values from the \"sales\" column.\n",
        "Instantiate a linear regression model.\n",
        "Fit the model to the training data.\n",
        "Create y_pred, making predictions for sales using the test features\n",
        "'''\n",
        "from sklearn._______ import train_test_split\n",
        "\n",
        "# Create X and y arrays\n",
        "X = sales_df.____(\"____\", axis=____).____\n",
        "y = sales_df[\"____\"].____\n",
        "\n",
        "X_train, X_test, y_train, y_test = ________\n",
        "\n",
        "# Instantiate the model\n",
        "reg = ____\n",
        "\n",
        "# Fit the model to the data\n",
        "____\n",
        "\n",
        "# Make predictions\n",
        "y_pred = reg.____(____)\n",
        "print(\"Predictions: {}, Actual Values: {}\".format(y_pred[:2], y_test[:2]))"
      ],
      "metadata": {
        "id": "W0luhwj6O_CL"
      },
      "execution_count": null,
      "outputs": []
    },
    {
      "cell_type": "markdown",
      "source": [
        "## Regression performance"
      ],
      "metadata": {
        "id": "12ae1b83UX7N"
      }
    },
    {
      "cell_type": "code",
      "source": [
        "'''\n",
        "Import mean_squared_error.\n",
        "Calculate the model's R-squared score by passing the test feature values and the test target values to an appropriate method.\n",
        "Calculate the model's root mean squared error using y_test and y_pred.\n",
        "Print r_squared and rmse.\n",
        "'''\n",
        "# Import mean_squared_error\n",
        "from ____.____ import ____\n",
        "\n",
        "# Compute R-squared\n",
        "r_squared = reg.____(____, ____)\n",
        "\n",
        "# Compute RMSE\n",
        "rmse = ____(____, ____, squared=____)\n",
        "\n",
        "# Print the metrics\n",
        "print(\"R^2: {}\".format(____))\n",
        "print(\"RMSE: {}\".format(____))"
      ],
      "metadata": {
        "id": "LOdBR3etTsBK"
      },
      "execution_count": null,
      "outputs": []
    },
    {
      "cell_type": "markdown",
      "source": [
        "Wow, the features explain 99.9% of the variance in sales values! Looks like this company's advertising strategy is working well!\n",
        "\n"
      ],
      "metadata": {
        "id": "UTAZjgdZVMw1"
      }
    },
    {
      "cell_type": "markdown",
      "source": [
        "## Sobreajuste\n",
        "\n",
        "El sobreajuste en la regresión lineal ocurre cuando el modelo es demasiado complejo y captura el ruido en los datos de entrenamiento, en lugar de las relaciones subyacentes entre las variables independientes y la variable dependiente. Cuando un modelo de regresión lineal sobreajusta, se ajusta demasiado bien a los datos de entrenamiento y tiene un mal rendimiento en datos nuevos y no vistos. Esto se debe a que el modelo ha aprendido el ruido en los datos de entrenamiento y no puede generalizar a nuevos datos que no tienen el mismo ruido.\n",
        "\n",
        "El sobreajuste puede ocurrir cuando el modelo tiene demasiadas variables, las variables están altamente correlacionadas o el modelo es demasiado flexible (es decir, tiene demasiados grados de libertad). Una forma de prevenir el sobreajuste en la regresión lineal es utilizar técnicas de regularización, como la regresión de Ridge o Lasso. Estas técnicas agregan un término de penalización a la función de pérdida, lo que encoge los coeficientes de las variables independientes hacia cero, reduce la complejidad del modelo y previene el sobreajuste.\n",
        "\n",
        "## Cross Validation o Validación Cruzada\n",
        "\n",
        "La validación cruzada K-Fold es una técnica utilizada para evaluar el rendimiento de un modelo de regresión. En la validación cruzada K-Fold, los datos se dividen en K pliegues o subconjuntos. La validación cruzada implica dividir los datos en conjuntos de entrenamiento y validación, entrenar el modelo en el conjunto de entrenamiento y evaluar su rendimiento en el conjunto de validación. Al repetir este proceso con diferentes divisiones de los datos, podemos obtener una mejor estimación del rendimiento del modelo en datos no vistos y prevenir el sobreajuste.\n",
        "\n",
        "**La razón principal para usar la validación cruzada K-Fold en la regresión es reducir las posibilidades de sobreajuste.** El sobreajuste ocurre cuando un modelo es demasiado complejo para los datos y comienza a capturar el ruido en los datos en lugar de las relaciones subyacentes. Al entrenar el modelo en diferentes pliegues de los datos y evaluar su rendimiento, podemos obtener una mejor estimación de qué tan bien el modelo se generalizará a datos no vistos. Esto nos ayuda a evitar el sobreajuste y mejorar la robustez de nuestro modelo."
      ],
      "metadata": {
        "id": "5z2ls3kbWUrM"
      }
    },
    {
      "cell_type": "code",
      "source": [
        "# Import KFold and cross_val_score.\n",
        "# Create kf by calling KFold(), setting the number of splits to six, shuffle to True, and setting a seed of 5.\n",
        "# Perform cross-validation using reg on X and y, passing kf to cv.\n",
        "# Print the cv_scores.\n",
        "\n",
        "# Import the necessary modules\n",
        "from ____.____ import ____, ____\n",
        "\n",
        "# Create a KFold object\n",
        "kf = ____(n_splits=____, shuffle=____, random_state=____)\n",
        "\n",
        "reg = LinearRegression()\n",
        "\n",
        "# Compute 6-fold cross-validation scores\n",
        "cv_scores = ____(____, ____, ____, cv=____)\n",
        "\n",
        "# Print scores\n",
        "print(____)"
      ],
      "metadata": {
        "id": "Wq8LpRTWVG7A"
      },
      "execution_count": null,
      "outputs": []
    },
    {
      "cell_type": "code",
      "source": [
        "# Calculate and print the mean of the results.\n",
        "# Calculate and print the standard deviation of cv_results.\n",
        "# Display the 95% confidence interval for your results using np.quantile().\n",
        "\n",
        "# Print the mean\n",
        "print(____(____))\n",
        "\n",
        "# Print the standard deviation\n",
        "print(____(____))\n",
        "\n",
        "# Print the 95% confidence interval\n",
        "print(____(____, [____, ____]))"
      ],
      "metadata": {
        "id": "LhD-ywA3ZCoX"
      },
      "execution_count": null,
      "outputs": []
    },
    {
      "cell_type": "markdown",
      "source": [
        "# Regularized regression o regresión regularizada\n",
        "La regresión regularizada es una técnica utilizada para prevenir el sobreajuste en modelos de regresión lineal. En lugar de simplemente minimizar la suma de los errores cuadráticos, la regresión regularizada también penaliza los coeficientes de las características de entrada, lo que limita su magnitud. \n",
        "Esto se hace mediante la adición de un término de penalización a la función de pérdida que se minimiza. La fuerza de la penalización está controlada por un parámetro de regularización, que se ajusta para lograr un buen equilibrio entre ajuste y complejidad del modelo. \n",
        "\n",
        "Hay dos tipos principales de regresión regularizada: la **regresión de Lasso y la regresión de Ridge**. La regresión de Lasso aplica una penalización alpha que conduce a la selección automática de características, mientras que la regresión de Ridge aplica una penalización alpha que reduce los coeficientes pero no los reduce a cero."
      ],
      "metadata": {
        "id": "cvdHKsBlosl3"
      }
    },
    {
      "cell_type": "code",
      "source": [
        "from sklearn.model_selection import train_test_split\n",
        "\n",
        "X = sales_df.drop([\"sales\",\"influencer\"], axis=1).values\n",
        "y = sales_df[\"sales\"].values\n",
        "X_train, X_test, y_train, y_test = train_test_split(X, y, test_size=0.3, random_state=42)"
      ],
      "metadata": {
        "id": "cpW-TPRtsUZU"
      },
      "execution_count": null,
      "outputs": []
    },
    {
      "cell_type": "code",
      "source": [
        "# Import Ridge.\n",
        "# Instantiate Ridge, setting alpha equal to alpha.\n",
        "# Fit the model to the training data.\n",
        "# Calculate the score for each iteration of ridge.\n",
        "\n",
        "# Import Ridge\n",
        "from ____.____ import ____\n",
        "from sklearn.model_selection import train_test_split\n",
        "\n",
        "\n",
        "alphas = [0.1, 1.0, 10.0, 100.0, 1000.0, 10000.0]\n",
        "ridge_scores = []\n",
        "for alpha in alphas:\n",
        "  \n",
        "  # Create a Ridge regression model\n",
        "  ridge = ____\n",
        "  \n",
        "  # Fit the data\n",
        "  ____\n",
        "  \n",
        "  # Obtain R-squared\n",
        "  score = ____\n",
        "  ridge_scores.append(score)\n",
        "print(ridge_scores)"
      ],
      "metadata": {
        "id": "S6KMTgnXa5E3"
      },
      "execution_count": null,
      "outputs": []
    },
    {
      "cell_type": "markdown",
      "source": [
        "# Regresión Lasso para importancia de caracteristicas \n",
        "\n",
        "Para identificar las características importantes en un conjunto de datos, se puede usar la regresión de Lasso. En esta actividad, se ajusta un modelo de regresión de Lasso a los datos de ventas y se trazarán los coeficientes del modelo."
      ],
      "metadata": {
        "id": "M-Mhjva_tw1c"
      }
    },
    {
      "cell_type": "code",
      "source": [
        "# Import Lasso from sklearn.linear_model.\n",
        "# Instantiate a Lasso regressor with an alpha of 0.3.\n",
        "# Fit the model to the data.\n",
        "# Compute the model's coefficients, storing as lasso_coef.\n",
        "\n",
        "# Import Lasso\n",
        "from ____.____ import ____\n",
        "\n",
        "# Instantiate a lasso regression model\n",
        "lasso = ____\n",
        "\n",
        "# Fit the model to the data\n",
        "____\n",
        "\n",
        "# Compute and print the coefficients\n",
        "lasso_coef = ____\n",
        "print(lasso_coef)\n",
        "plt.bar(['tv', 'radio', 'social_media'], lasso_coef)\n",
        "plt.xticks(rotation=45)\n",
        "plt.show()"
      ],
      "metadata": {
        "id": "Qd1u_S5AwJGc"
      },
      "execution_count": null,
      "outputs": []
    },
    {
      "cell_type": "markdown",
      "source": [],
      "metadata": {
        "id": "A1ZB9pj5tPK5"
      }
    }
  ]
}