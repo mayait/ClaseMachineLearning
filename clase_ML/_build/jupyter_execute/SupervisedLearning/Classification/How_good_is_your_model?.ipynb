{
 "cells": [
  {
   "cell_type": "markdown",
   "metadata": {
    "colab_type": "text",
    "id": "view-in-github"
   },
   "source": [
    "<a href=\"https://colab.research.google.com/github/mayait/ClaseMachineLearning/blob/main/SupervisedLearning/Classification/How_good_is_your_model%3F.ipynb\" target=\"_parent\"><img src=\"https://colab.research.google.com/assets/colab-badge.svg\" alt=\"Open In Colab\"/></a>"
   ]
  },
  {
   "cell_type": "markdown",
   "metadata": {
    "id": "WRd2a1dExGPl"
   },
   "source": [
    "**Evaluación de un clasificador de predicción de diabetes**\n",
    "\n",
    "En este capítulo trabajarás con el conjunto de datos diabetes_df presentado anteriormente.\n",
    "\n",
    "El objetivo es predecir si cada individuo es propenso o no a tener diabetes en función de las características del índice de masa corporal (IMC) y la edad (en años). Por lo tanto, se trata de un problema de clasificación binaria. Un valor objetivo de 0 indica que el individuo no tiene diabetes, mientras que un valor de 1 indica que el individuo sí tiene diabetes.\n",
    "\n",
    "Diabetes_df se ha cargado previamente como un objeto pandas DataFrame y se ha dividido en X_train, X_test, y_train e y_test. Además, se ha instanciado y asignado a knn un clasificador KNeighborsClassifier().\n",
    "\n",
    "A continuación, se ajustará el modelo, se realizarán predicciones en el conjunto de prueba, se producirá una matriz de confusión y un informe de clasificación.\n",
    "\n",
    "![Imagen](https://upload.wikimedia.org/wikipedia/commons/thumb/2/26/Precisionrecall.svg/640px-Precisionrecall.svg.png)\n"
   ]
  },
  {
   "cell_type": "code",
   "execution_count": 1,
   "metadata": {
    "id": "iqEC3FlXVzGE"
   },
   "outputs": [],
   "source": [
    "import numpy as np\n",
    "import pandas as pd\n",
    "import matplotlib.pyplot as plt\n",
    "plt.rcParams['figure.dpi'] = 100\n",
    "plt.rcParams['savefig.dpi'] = 100\n",
    "\n",
    "from sklearn import metrics\n",
    "from sklearn.neighbors import KNeighborsClassifier\n",
    "from sklearn.model_selection import train_test_split\n",
    "\n",
    "from matplotlib.colors import ListedColormap\n",
    "import seaborn as sns\n",
    "%config InlineBackend.figure_format = 'retina' # sharper plots\n"
   ]
  },
  {
   "cell_type": "code",
   "execution_count": 2,
   "metadata": {
    "id": "HgYsggQkymfA"
   },
   "outputs": [
    {
     "name": "stdout",
     "output_type": "stream",
     "text": [
      "--2023-03-02 11:56:00--  https://github.com/mayait/ClaseAnalisisDatos/raw/main/machine_learning/datasets/diabetes_clean.csv\r\n",
      "Resolving github.com (github.com)... 140.82.112.4\r\n",
      "Connecting to github.com (github.com)|140.82.112.4|:443... "
     ]
    },
    {
     "name": "stdout",
     "output_type": "stream",
     "text": [
      "connected.\r\n"
     ]
    },
    {
     "name": "stdout",
     "output_type": "stream",
     "text": [
      "HTTP request sent, awaiting response... "
     ]
    },
    {
     "name": "stdout",
     "output_type": "stream",
     "text": [
      "302 Found\r\n",
      "Location: https://raw.githubusercontent.com/mayait/ClaseAnalisisDatos/main/machine_learning/datasets/diabetes_clean.csv [following]\r\n",
      "--2023-03-02 11:56:01--  https://raw.githubusercontent.com/mayait/ClaseAnalisisDatos/main/machine_learning/datasets/diabetes_clean.csv\r\n",
      "Resolving raw.githubusercontent.com (raw.githubusercontent.com)... 185.199.108.133, 185.199.111.133, 185.199.109.133, ...\r\n",
      "Connecting to raw.githubusercontent.com (raw.githubusercontent.com)|185.199.108.133|:443... "
     ]
    },
    {
     "name": "stdout",
     "output_type": "stream",
     "text": [
      "connected.\r\n"
     ]
    },
    {
     "name": "stdout",
     "output_type": "stream",
     "text": [
      "HTTP request sent, awaiting response... "
     ]
    },
    {
     "name": "stdout",
     "output_type": "stream",
     "text": [
      "200 OK\r\n",
      "Length: 23075 (23K) [text/plain]\r\n",
      "Saving to: 'diabetes_clean.csv'\r\n",
      "\r\n",
      "\r",
      "diabetes_clean.csv    0%[                    ]       0  --.-KB/s               \r",
      "diabetes_clean.csv  100%[===================>]  22.53K  --.-KB/s    in 0.01s   \r\n",
      "\r\n",
      "2023-03-02 11:56:01 (1.88 MB/s) - 'diabetes_clean.csv' saved [23075/23075]\r\n",
      "\r\n"
     ]
    }
   ],
   "source": [
    "!wget https://github.com/mayait/ClaseAnalisisDatos/raw/main/machine_learning/datasets/diabetes_clean.csv"
   ]
  },
  {
   "cell_type": "code",
   "execution_count": 3,
   "metadata": {
    "id": "BXsbu6gveF4u"
   },
   "outputs": [],
   "source": [
    "diabetes_df = pd.read_csv('diabetes_clean.csv')"
   ]
  },
  {
   "cell_type": "code",
   "execution_count": 4,
   "metadata": {
    "id": "_mLOr0dsy3MW"
   },
   "outputs": [],
   "source": [
    "X = diabetes_df.drop(\"diabetes\", axis=1).values\n",
    "y = diabetes_df[\"diabetes\"].values\n",
    "\n",
    "# Split into training and test sets\n",
    "X_train, X_test, y_train, y_test = train_test_split(X, y, test_size=0.2, random_state=42, stratify=y)"
   ]
  },
  {
   "cell_type": "code",
   "execution_count": 5,
   "metadata": {
    "id": "6zR-U9w0yohR"
   },
   "outputs": [
    {
     "ename": "NameError",
     "evalue": "name '____' is not defined",
     "output_type": "error",
     "traceback": [
      "\u001b[0;31m---------------------------------------------------------------------------\u001b[0m",
      "\u001b[0;31mNameError\u001b[0m                                 Traceback (most recent call last)",
      "Input \u001b[0;32mIn [5]\u001b[0m, in \u001b[0;36m<cell line: 8>\u001b[0;34m()\u001b[0m\n\u001b[1;32m      1\u001b[0m \u001b[38;5;66;03m# 🌶️ EJERCICIO 1\u001b[39;00m\n\u001b[1;32m      2\u001b[0m \u001b[38;5;66;03m# Importar matriz de confusión / confusion_matrix and classification_report.\u001b[39;00m\n\u001b[1;32m      3\u001b[0m \u001b[38;5;66;03m# Ajustar el modelo a los datos de entrenamiento / Fit the model.\u001b[39;00m\n\u001b[0;32m   (...)\u001b[0m\n\u001b[1;32m      6\u001b[0m \n\u001b[1;32m      7\u001b[0m \u001b[38;5;66;03m# Import confusion matrix\u001b[39;00m\n\u001b[0;32m----> 8\u001b[0m \u001b[43m____\u001b[49m\n\u001b[1;32m     10\u001b[0m knn \u001b[38;5;241m=\u001b[39m KNeighborsClassifier(n_neighbors\u001b[38;5;241m=\u001b[39m\u001b[38;5;241m6\u001b[39m)\n\u001b[1;32m     12\u001b[0m \u001b[38;5;66;03m# Fit the model to the training data\u001b[39;00m\n",
      "\u001b[0;31mNameError\u001b[0m: name '____' is not defined"
     ]
    }
   ],
   "source": [
    "# 🌶️ EJERCICIO 1\n",
    "# Importar matriz de confusión / confusion_matrix and classification_report.\n",
    "# Ajustar el modelo a los datos de entrenamiento / Fit the model.\n",
    "# Predecir las etiquetas de los datos de prueba: y_pred\n",
    "# Generar la matriz de confusión y el informe de clasificación / print the confusion matrix and classification report\n",
    "\n",
    "# Import confusion matrix\n",
    "____\n",
    "\n",
    "knn = KNeighborsClassifier(n_neighbors=6)\n",
    "\n",
    "# Fit the model to the training data\n",
    "____\n",
    "\n",
    "# Predict the labels of the test data: y_pred\n",
    "y_pred = ____\n",
    "\n",
    "# Generate the confusion matrix and classification report\n",
    "print(____(____, ____))\n",
    "print(____(____, ____))"
   ]
  },
  {
   "cell_type": "code",
   "execution_count": null,
   "metadata": {
    "id": "LCVmqqys0kfd"
   },
   "outputs": [],
   "source": [
    "# Generar la matriz de confusión\n",
    "cm = confusion_matrix(y_test, y_pred)\n",
    "\n",
    "# Configurar el tamaño del gráfico\n",
    "fig, ax = plt.subplots(figsize=(8, 8))\n",
    "\n",
    "# Graficar la matriz de confusión\n",
    "sns.heatmap(cm, annot=True, cmap='Blues', fmt='d', xticklabels=['Negativo', 'Positivo'], yticklabels=['Negativo', 'Positivo'])\n",
    "\n",
    "# Configurar las etiquetas del eje x e y\n",
    "ax.set_xlabel('Predicción')\n",
    "ax.set_ylabel('Valor Real')\n",
    "ax.set_title('Matriz de Confusión')\n",
    "\n",
    "# Agregar las etiquetas a los cuadros de la matriz de confusión\n",
    "plt.annotate('TN\\nVerdaderos\\nNegativos', xy=(0.0, 0.0), xytext=(0.5, 0.2), fontsize=12, color='white', horizontalalignment='center', verticalalignment='center', weight='bold', alpha=0.8, bbox=dict(boxstyle='round', facecolor='blue', edgecolor='none'))\n",
    "plt.annotate('FP\\nFalsos\\nPositivos', xy=(1.0, 0.0), xytext=(1.5, 0.2), fontsize=12, color='white', horizontalalignment='center', verticalalignment='center', weight='bold', alpha=0.8, bbox=dict(boxstyle='round', facecolor='red', edgecolor='none'))\n",
    "plt.annotate('FN\\nFalsos\\nNegativos', xy=(0.0, 1.0), xytext=(0.5, 1.2), fontsize=12, color='white', horizontalalignment='center', verticalalignment='center', weight='bold', alpha=0.8, bbox=dict(boxstyle='round', facecolor='red', edgecolor='none'))\n",
    "plt.annotate('TP\\nVerdaderos\\nPositivos', xy=(1.0, 1.0), xytext=(1.5, 1.2), fontsize=12, color='white', horizontalalignment='center', verticalalignment='center', weight='bold', alpha=0.8, bbox=dict(boxstyle='round', facecolor='blue', edgecolor='none'))\n",
    "\n",
    "\n",
    "# Mostrar el gráfico\n",
    "plt.show()"
   ]
  },
  {
   "cell_type": "code",
   "execution_count": null,
   "metadata": {
    "id": "RcjWrAUUfBCk"
   },
   "outputs": [],
   "source": []
  },
  {
   "cell_type": "code",
   "execution_count": null,
   "metadata": {
    "id": "tLpAykenftpS"
   },
   "outputs": [],
   "source": []
  }
 ],
 "metadata": {
  "colab": {
   "authorship_tag": "ABX9TyNlli+QeFCLWFlnQjw45Ede",
   "include_colab_link": true,
   "private_outputs": true,
   "provenance": []
  },
  "kernelspec": {
   "display_name": "Python 3",
   "name": "python3"
  },
  "language_info": {
   "codemirror_mode": {
    "name": "ipython",
    "version": 3
   },
   "file_extension": ".py",
   "mimetype": "text/x-python",
   "name": "python",
   "nbconvert_exporter": "python",
   "pygments_lexer": "ipython3",
   "version": "3.9.13"
  }
 },
 "nbformat": 4,
 "nbformat_minor": 0
}