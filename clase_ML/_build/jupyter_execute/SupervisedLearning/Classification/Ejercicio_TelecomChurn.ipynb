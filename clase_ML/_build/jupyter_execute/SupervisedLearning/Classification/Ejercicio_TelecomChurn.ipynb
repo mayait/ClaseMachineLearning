{
 "cells": [
  {
   "cell_type": "markdown",
   "metadata": {
    "colab_type": "text",
    "id": "view-in-github"
   },
   "source": [
    "<a href=\"https://colab.research.google.com/github/mayait/ClaseMachineLearning/blob/main/SupervisedLearning/Classification/Ejercicio_TelecomChurn.ipynb\" target=\"_parent\"><img src=\"https://colab.research.google.com/assets/colab-badge.svg\" alt=\"Open In Colab\"/></a>"
   ]
  },
  {
   "cell_type": "markdown",
   "metadata": {
    "id": "3tXlm7Y8GD-d"
   },
   "source": [
    "# Supervised Learning\n",
    "## Classification\n"
   ]
  },
  {
   "cell_type": "markdown",
   "metadata": {
    "id": "LYHy37wjGTiI"
   },
   "source": [
    "**Dataset**\n",
    "\n",
    "https://archive.ics.uci.edu/ml/datasets/Iranian+Churn+Dataset\n",
    "\n",
    "https://www.kaggle.com/datasets/royjafari/customer-churn\n",
    "\n",
    "\n",
    "**Data Dictionary**\n",
    "\n",
    "*   Column\tExplanation\n",
    "*   Call Failure\tnumber of call failures\n",
    "*   Complaints\tbinary (0: No complaint, 1: complaint)\n",
    "*   Subscription Length\ttotal months of subscription\n",
    "*   Charge Amount\tordinal attribute (0: lowest amount, 9: highest amount)\n",
    "*   Seconds of Use\ttotal seconds of calls\n",
    "*   Frequency of use\ttotal number of calls\n",
    "*   Frequency of SMS\ttotal number of text messages\n",
    "*   Distinct Called Numbers\ttotal number of distinct phone calls\n",
    "*   Age Group\tordinal attribute (1: younger age, 5: older age)\n",
    "*   Tariff Plan\tbinary (1: Pay as you go, 2: contractual)\n",
    "*   Status\tbinary (1: active, 2: non-active)\n",
    "*   Age\tage of customer\n",
    "*   Customer Value\tthe calculated value of customer\n",
    "*   Churn\tclass label (1: churn, 0: non-churn)\n"
   ]
  },
  {
   "cell_type": "code",
   "execution_count": 1,
   "metadata": {
    "id": "88cKPFA0Fpb7"
   },
   "outputs": [
    {
     "name": "stdout",
     "output_type": "stream",
     "text": [
      "--2023-03-02 11:55:56--  https://raw.githubusercontent.com/mayait/ClaseAnalisisDatos/main/machine_learning/datasets/telecom_churn_clean.csv\r\n",
      "Resolving raw.githubusercontent.com (raw.githubusercontent.com)... 185.199.110.133, 185.199.108.133, 185.199.111.133, ...\r\n",
      "Connecting to raw.githubusercontent.com (raw.githubusercontent.com)|185.199.110.133|:443... "
     ]
    },
    {
     "name": "stdout",
     "output_type": "stream",
     "text": [
      "connected.\r\n"
     ]
    },
    {
     "name": "stdout",
     "output_type": "stream",
     "text": [
      "HTTP request sent, awaiting response... "
     ]
    },
    {
     "name": "stdout",
     "output_type": "stream",
     "text": [
      "200 OK\r\n",
      "Length: 264788 (259K) [text/plain]\r\n",
      "Saving to: 'telecom_churn_clean.csv'\r\n",
      "\r\n",
      "\r",
      "telecom_churn_clean   0%[                    ]       0  --.-KB/s               "
     ]
    },
    {
     "name": "stdout",
     "output_type": "stream",
     "text": [
      "\r",
      "telecom_churn_clean  70%[=============>      ] 183.16K   885KB/s               \r",
      "telecom_churn_clean 100%[===================>] 258.58K  1.17MB/s    in 0.2s    \r\n",
      "\r\n",
      "2023-03-02 11:55:57 (1.17 MB/s) - 'telecom_churn_clean.csv' saved [264788/264788]\r\n",
      "\r\n"
     ]
    }
   ],
   "source": [
    "# Descarga el dataset Telecom Churn\n",
    "!wget https://raw.githubusercontent.com/mayait/ClaseAnalisisDatos/main/machine_learning/datasets/telecom_churn_clean.csv"
   ]
  },
  {
   "cell_type": "code",
   "execution_count": 2,
   "metadata": {
    "id": "5q4BhqwrH6j6"
   },
   "outputs": [
    {
     "ename": "ModuleNotFoundError",
     "evalue": "No module named 'mlxtend'",
     "output_type": "error",
     "traceback": [
      "\u001b[0;31m---------------------------------------------------------------------------\u001b[0m",
      "\u001b[0;31mModuleNotFoundError\u001b[0m                       Traceback (most recent call last)",
      "Input \u001b[0;32mIn [2]\u001b[0m, in \u001b[0;36m<cell line: 11>\u001b[0;34m()\u001b[0m\n\u001b[1;32m      8\u001b[0m \u001b[38;5;28;01mfrom\u001b[39;00m \u001b[38;5;21;01msklearn\u001b[39;00m\u001b[38;5;21;01m.\u001b[39;00m\u001b[38;5;21;01mneighbors\u001b[39;00m \u001b[38;5;28;01mimport\u001b[39;00m KNeighborsClassifier\n\u001b[1;32m      9\u001b[0m \u001b[38;5;28;01mfrom\u001b[39;00m \u001b[38;5;21;01msklearn\u001b[39;00m \u001b[38;5;28;01mimport\u001b[39;00m datasets, neighbors\n\u001b[0;32m---> 11\u001b[0m \u001b[38;5;28;01mfrom\u001b[39;00m \u001b[38;5;21;01mmlxtend\u001b[39;00m\u001b[38;5;21;01m.\u001b[39;00m\u001b[38;5;21;01mplotting\u001b[39;00m \u001b[38;5;28;01mimport\u001b[39;00m plot_decision_regions\n\u001b[1;32m     13\u001b[0m \u001b[38;5;28;01mimport\u001b[39;00m \u001b[38;5;21;01mmatplotlib\u001b[39;00m\u001b[38;5;21;01m.\u001b[39;00m\u001b[38;5;21;01mpyplot\u001b[39;00m \u001b[38;5;28;01mas\u001b[39;00m \u001b[38;5;21;01mplt\u001b[39;00m\n\u001b[1;32m     14\u001b[0m plt\u001b[38;5;241m.\u001b[39mrcParams[\u001b[38;5;124m'\u001b[39m\u001b[38;5;124mfigure.dpi\u001b[39m\u001b[38;5;124m'\u001b[39m] \u001b[38;5;241m=\u001b[39m \u001b[38;5;241m100\u001b[39m\n",
      "\u001b[0;31mModuleNotFoundError\u001b[0m: No module named 'mlxtend'"
     ]
    }
   ],
   "source": [
    "# Imports\n",
    "\n",
    "import numpy as np\n",
    "import pandas as pd\n",
    "\n",
    "\n",
    "from sklearn import metrics\n",
    "from sklearn.neighbors import KNeighborsClassifier\n",
    "from sklearn import datasets, neighbors\n",
    "\n",
    "from mlxtend.plotting import plot_decision_regions\n",
    "\n",
    "import matplotlib.pyplot as plt\n",
    "plt.rcParams['figure.dpi'] = 100\n",
    "plt.rcParams['savefig.dpi'] = 100\n",
    "from matplotlib.colors import ListedColormap\n",
    "import seaborn as sns\n",
    "%config InlineBackend.figure_format = 'retina' # sharper plots"
   ]
  },
  {
   "cell_type": "code",
   "execution_count": null,
   "metadata": {
    "id": "ouBhSEnPIWmU"
   },
   "outputs": [],
   "source": [
    "df = pd.read_csv(\"telecom_churn_clean.csv\")"
   ]
  },
  {
   "cell_type": "code",
   "execution_count": null,
   "metadata": {
    "id": "z7efMrchIs0D"
   },
   "outputs": [],
   "source": [
    "df.sample(10)"
   ]
  },
  {
   "cell_type": "code",
   "execution_count": null,
   "metadata": {
    "id": "br4OV4FvI6sU"
   },
   "outputs": [],
   "source": [
    "sns.pairplot(df, hue='churn')"
   ]
  },
  {
   "cell_type": "code",
   "execution_count": null,
   "metadata": {
    "id": "WtBD4T9EIebu"
   },
   "outputs": [],
   "source": [
    "plt.figure()\n",
    "df.plot.scatter(x='customer_service_calls', y='account_length', c='churn', cmap = plt.get_cmap('jet'))\n",
    "\n",
    "\n",
    "plt.xlabel(\"customer_service_calls\")\n",
    "plt.ylabel(\"account_length\")\n",
    "\n",
    "plt.show()"
   ]
  },
  {
   "cell_type": "code",
   "execution_count": null,
   "metadata": {
    "id": "r-yO7tIuIkM2"
   },
   "outputs": [],
   "source": []
  }
 ],
 "metadata": {
  "colab": {
   "authorship_tag": "ABX9TyPZ8j6PQGR/+11xdLInOPp2",
   "include_colab_link": true,
   "private_outputs": true,
   "provenance": []
  },
  "kernelspec": {
   "display_name": "Python 3",
   "name": "python3"
  },
  "language_info": {
   "codemirror_mode": {
    "name": "ipython",
    "version": 3
   },
   "file_extension": ".py",
   "mimetype": "text/x-python",
   "name": "python",
   "nbconvert_exporter": "python",
   "pygments_lexer": "ipython3",
   "version": "3.9.13"
  }
 },
 "nbformat": 4,
 "nbformat_minor": 0
}