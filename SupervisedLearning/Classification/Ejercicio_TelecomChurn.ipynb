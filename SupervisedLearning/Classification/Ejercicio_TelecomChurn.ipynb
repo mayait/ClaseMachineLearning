{
  "nbformat": 4,
  "nbformat_minor": 0,
  "metadata": {
    "colab": {
      "private_outputs": true,
      "provenance": [],
      "authorship_tag": "ABX9TyMm9Td0F6rWPhLnav6HAKk/",
      "include_colab_link": true
    },
    "kernelspec": {
      "name": "python3",
      "display_name": "Python 3"
    },
    "language_info": {
      "name": "python"
    }
  },
  "cells": [
    {
      "cell_type": "markdown",
      "metadata": {
        "id": "view-in-github",
        "colab_type": "text"
      },
      "source": [
        "<a href=\"https://colab.research.google.com/github/mayait/ClaseMachineLearning/blob/main/SupervisedLearning/Classification/Ejercicio_TelecomChurn.ipynb\" target=\"_parent\"><img src=\"https://colab.research.google.com/assets/colab-badge.svg\" alt=\"Open In Colab\"/></a>"
      ]
    },
    {
      "cell_type": "markdown",
      "source": [
        "# Supervised Learning\n",
        "## Classification\n"
      ],
      "metadata": {
        "id": "3tXlm7Y8GD-d"
      }
    },
    {
      "cell_type": "markdown",
      "source": [
        "### EDA on Iris Dataset\n",
        "\n",
        "We are going to use a very famous dataset called Iris.\n",
        "\n",
        "Attributes:\n",
        "\n",
        "- sepal length in cm\n",
        "- sepal width in cm\n",
        "- petal length in cm\n",
        "- petal width in cm\n",
        "\n",
        "We will just use two features for easier visualization, sepal length and width.\n",
        "\n",
        "Class:\n",
        "\n",
        "- Iris Setosa\n",
        "- Iris Versicolour\n",
        "- Iris Virginica\n"
      ],
      "metadata": {
        "id": "L0a9RPkQG8kQ"
      }
    },
    {
      "cell_type": "markdown",
      "source": [
        "**Dataset**\n",
        "\n",
        "https://archive.ics.uci.edu/ml/datasets/Iranian+Churn+Dataset\n",
        "\n",
        "https://www.kaggle.com/datasets/royjafari/customer-churn\n",
        "\n",
        "\n",
        "**Data Dictionary**\n",
        "\n",
        "*   Column\tExplanation\n",
        "*   Call Failure\tnumber of call failures\n",
        "*   Complaints\tbinary (0: No complaint, 1: complaint)\n",
        "*   Subscription Length\ttotal months of subscription\n",
        "*   Charge Amount\tordinal attribute (0: lowest amount, 9: highest amount)\n",
        "*   Seconds of Use\ttotal seconds of calls\n",
        "*   Frequency of use\ttotal number of calls\n",
        "*   Frequency of SMS\ttotal number of text messages\n",
        "*   Distinct Called Numbers\ttotal number of distinct phone calls\n",
        "*   Age Group\tordinal attribute (1: younger age, 5: older age)\n",
        "*   Tariff Plan\tbinary (1: Pay as you go, 2: contractual)\n",
        "*   Status\tbinary (1: active, 2: non-active)\n",
        "*   Age\tage of customer\n",
        "*   Customer Value\tthe calculated value of customer\n",
        "*   Churn\tclass label (1: churn, 0: non-churn)\n"
      ],
      "metadata": {
        "id": "LYHy37wjGTiI"
      }
    },
    {
      "cell_type": "code",
      "execution_count": null,
      "metadata": {
        "id": "88cKPFA0Fpb7"
      },
      "outputs": [],
      "source": [
        "# Descarga el dataset Telecom Churn\n",
        "!wget https://raw.githubusercontent.com/mayait/ClaseAnalisisDatos/main/machine_learning/datasets/telecom_churn_clean.csv"
      ]
    }
  ]
}