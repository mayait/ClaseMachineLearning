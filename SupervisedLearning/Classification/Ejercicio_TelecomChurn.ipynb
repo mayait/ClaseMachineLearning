{
  "nbformat": 4,
  "nbformat_minor": 0,
  "metadata": {
    "colab": {
      "private_outputs": true,
      "provenance": [],
      "authorship_tag": "ABX9TyOsQjoM2EVR9WHomwe6dalB",
      "include_colab_link": true
    },
    "kernelspec": {
      "name": "python3",
      "display_name": "Python 3"
    },
    "language_info": {
      "name": "python"
    }
  },
  "cells": [
    {
      "cell_type": "markdown",
      "metadata": {
        "id": "view-in-github",
        "colab_type": "text"
      },
      "source": [
        "<a href=\"https://colab.research.google.com/github/mayait/ClaseMachineLearning/blob/main/SupervisedLearning/Classification/Ejercicio_TelecomChurn.ipynb\" target=\"_parent\"><img src=\"https://colab.research.google.com/assets/colab-badge.svg\" alt=\"Open In Colab\"/></a>"
      ]
    },
    {
      "cell_type": "markdown",
      "source": [
        "# Supervised Learning\n",
        "## Classification\n"
      ],
      "metadata": {
        "id": "3tXlm7Y8GD-d"
      }
    },
    {
      "cell_type": "markdown",
      "source": [
        "**Dataset**\n",
        "\n",
        "https://archive.ics.uci.edu/ml/datasets/Iranian+Churn+Dataset\n",
        "\n",
        "https://www.kaggle.com/datasets/royjafari/customer-churn\n",
        "\n",
        "\n",
        "**Data Dictionary**\n",
        "\n",
        "*   Column\tExplanation\n",
        "*   Call Failure\tnumber of call failures\n",
        "*   Complaints\tbinary (0: No complaint, 1: complaint)\n",
        "*   Subscription Length\ttotal months of subscription\n",
        "*   Charge Amount\tordinal attribute (0: lowest amount, 9: highest amount)\n",
        "*   Seconds of Use\ttotal seconds of calls\n",
        "*   Frequency of use\ttotal number of calls\n",
        "*   Frequency of SMS\ttotal number of text messages\n",
        "*   Distinct Called Numbers\ttotal number of distinct phone calls\n",
        "*   Age Group\tordinal attribute (1: younger age, 5: older age)\n",
        "*   Tariff Plan\tbinary (1: Pay as you go, 2: contractual)\n",
        "*   Status\tbinary (1: active, 2: non-active)\n",
        "*   Age\tage of customer\n",
        "*   Customer Value\tthe calculated value of customer\n",
        "*   Churn\tclass label (1: churn, 0: non-churn)\n"
      ],
      "metadata": {
        "id": "LYHy37wjGTiI"
      }
    },
    {
      "cell_type": "code",
      "execution_count": null,
      "metadata": {
        "id": "88cKPFA0Fpb7"
      },
      "outputs": [],
      "source": [
        "# Descarga el dataset Telecom Churn\n",
        "!wget https://raw.githubusercontent.com/mayait/ClaseAnalisisDatos/main/machine_learning/datasets/telecom_churn_clean.csv"
      ]
    },
    {
      "cell_type": "code",
      "source": [
        "# Imports\n",
        "\n",
        "import numpy as np\n",
        "import pandas as pd\n",
        "\n",
        "\n",
        "from sklearn import metrics\n",
        "from sklearn.neighbors import KNeighborsClassifier\n",
        "from sklearn import datasets, neighbors\n",
        "\n",
        "from mlxtend.plotting import plot_decision_regions\n",
        "\n",
        "import matplotlib.pyplot as plt\n",
        "plt.rcParams['figure.dpi'] = 100\n",
        "plt.rcParams['savefig.dpi'] = 100\n",
        "from matplotlib.colors import ListedColormap\n",
        "import seaborn as sns\n",
        "# %config InlineBackend.figure_format = 'retina' # sharper plots"
      ],
      "metadata": {
        "id": "5q4BhqwrH6j6"
      },
      "execution_count": null,
      "outputs": []
    },
    {
      "cell_type": "code",
      "source": [
        "df = pd.read_csv(\"telecom_churn_clean.csv\")"
      ],
      "metadata": {
        "id": "ouBhSEnPIWmU"
      },
      "execution_count": null,
      "outputs": []
    },
    {
      "cell_type": "code",
      "source": [
        "df.sample(10)"
      ],
      "metadata": {
        "id": "z7efMrchIs0D"
      },
      "execution_count": null,
      "outputs": []
    },
    {
      "cell_type": "code",
      "source": [
        "sns.scatterplot(data=df, x=\"customer_service_calls\", y=\"account_length\", hue=\"churn\")"
      ],
      "metadata": {
        "id": "r-yO7tIuIkM2"
      },
      "execution_count": null,
      "outputs": []
    },
    {
      "cell_type": "code",
      "source": [
        "sns.pairplot(df[[\"account_length\", \"customer_service_calls\",'churn']], hue='churn')"
      ],
      "metadata": {
        "id": "br4OV4FvI6sU"
      },
      "execution_count": null,
      "outputs": []
    },
    {
      "cell_type": "code",
      "source": [
        "# Esta función la vamos a utilizar más adelante\n",
        "def knn_comparison(data, k):\n",
        "  y = churn_df[\"churn\"].values\n",
        "  x = churn_df[[\"account_length\", \"customer_service_calls\"]].values\n",
        "\n",
        "\n",
        "  clf = neighbors.KNeighborsClassifier(n_neighbors=k)\n",
        "  clf.fit(x, y)\n",
        "  # Plotting decision region\n",
        "  plot_decision_regions(x, y, clf=clf, legend=2)\n",
        "  # Adding axes annotations\n",
        "  plt.xlabel('account_length')\n",
        "  plt.ylabel('customer_service_calls')\n",
        "  plt.title('Knn with K='+ str(k))\n",
        "  plt.show()\n",
        "\n",
        "knn_comparison(churn_df, 5)"
      ],
      "metadata": {
        "id": "ZbkSJZl0O6fe"
      },
      "execution_count": null,
      "outputs": []
    },
    {
      "cell_type": "markdown",
      "source": [
        "**k-Nearest Neighbors**\n",
        "The idea of k-Nearest Neighbors, or KNN, is to predict the label of any data point by looking at the k, for example, three, closest labeled data points and getting them to vote on what label the unlabeled observation should have. KNN uses majority voting, which makes predictions based on what label the majority of nearest neighbors have.\n",
        "\n",
        "**k-Nearest Neighbors: Fit**\n",
        "\n",
        "In this exercise, you will build your first classification model using the churn_df dataset, which has been preloaded for the remainder of the chapter.\n",
        "\n",
        "The features to use will be \"account_length\" and \"customer_service_calls\". The target, \"churn\", needs to be a single column with the same number of observations as the feature data.\n",
        "\n",
        "You will convert the features and the target variable into NumPy arrays, create an instance of a KNN classifier, and then fit it to the data.\n",
        "\n",
        "numpy has also been preloaded for you as np."
      ],
      "metadata": {
        "id": "THF4AV1WPcrp"
      }
    },
    {
      "cell_type": "markdown",
      "source": [
        "# 🌶️ Import KNeighborsClassifier"
      ],
      "metadata": {
        "id": "jGy4BnlD9Ncr"
      }
    },
    {
      "cell_type": "markdown",
      "source": [
        "**Instructions**\n",
        "* Import KNeighborsClassifier from sklearn.neighbors.\n",
        "* Create an array called X containing values from the \"account_length\" and \"customer_service_calls\" columns, and an array called y for the values of the \"churn\" column.\n",
        "* Instantiate a KNeighborsClassifier called knn with 6 neighbors.\n",
        "Fit the classifier to the data using the .fit() method."
      ],
      "metadata": {
        "id": "gvfUdAfyyMSm"
      }
    },
    {
      "cell_type": "code",
      "source": [
        "# Import KNeighborsClassifier\n",
        "from ____.____ import ____ "
      ],
      "metadata": {
        "id": "z__zUqtEPesS"
      },
      "execution_count": null,
      "outputs": []
    },
    {
      "cell_type": "code",
      "source": [
        "# Create arrays for the features and the target variable\n",
        "y = ____[\"____\"].values\n",
        "X = ____[[\"____\", \"____\"]].values"
      ],
      "metadata": {
        "id": "XG5ReZb0Q0Ue"
      },
      "execution_count": null,
      "outputs": []
    },
    {
      "cell_type": "code",
      "source": [
        "# Create a KNN classifier with 6 neighbors\n",
        "knn = ____"
      ],
      "metadata": {
        "id": "KgvifJaXQ1h0"
      },
      "execution_count": null,
      "outputs": []
    },
    {
      "cell_type": "code",
      "source": [
        "# Fit the classifier to the data\n",
        "knn.____(____, ____)"
      ],
      "metadata": {
        "id": "n2WIpEDzQ2nF"
      },
      "execution_count": null,
      "outputs": []
    },
    {
      "cell_type": "code",
      "source": [
        "# SOLUCIÓN\n",
        "# Import KNeighborsClassifier\n",
        "import numpy as np\n",
        "from sklearn.neighbors import KNeighborsClassifier \n",
        "\n",
        "# Create arrays for the features and the target variable\n",
        "y = df[\"churn\"].values\n",
        "X = df[[\"account_length\", \"customer_service_calls\"]].values\n",
        "\n",
        "# Create a KNN classifier with 6 neighbors\n",
        "knn = KNeighborsClassifier(n_neighbors = 6)\n",
        "\n",
        "# Fit the classifier to the data\n",
        "knn.fit(X,y)"
      ],
      "metadata": {
        "id": "ZJMxSvEgPi_O"
      },
      "execution_count": null,
      "outputs": []
    },
    {
      "cell_type": "markdown",
      "source": [
        "## **k-Nearest Neighbors: Predict**\n",
        "Now you have fit a KNN classifier, you can use it to predict the label of new data points. All available data was used for training, however, fortunately, there are new observations available as X_new\n",
        "\n",
        "The model knn, which you created and fit the data in the last exercise, has been preloaded for you. You will use your classifier to predict the labels of a set of new data points:\n",
        "\n",
        "```\n",
        "X_new = np.array([[30.0, 17.5],\n",
        "                  [107.0, 24.1],\n",
        "                  [213.0, 10.9]])\n",
        "```"
      ],
      "metadata": {
        "id": "zuASBx0rQ-yM"
      }
    },
    {
      "cell_type": "code",
      "source": [
        "X_new = np.array([[30.0, 17.5],\n",
        "                  [107.0, 24.1],\n",
        "                  [213.0, 10.9]])"
      ],
      "metadata": {
        "id": "g6KN3schQ_Yw"
      },
      "execution_count": null,
      "outputs": []
    },
    {
      "cell_type": "markdown",
      "source": [
        "🌶️ Predict the labels for the X_new"
      ],
      "metadata": {
        "id": "yuDJIsyp9D50"
      }
    },
    {
      "cell_type": "code",
      "source": [
        "# Predict the labels for the X_new\n",
        "y_pred = ____\n",
        "\n",
        "# Print the predictions for X_new\n",
        "print(\"Predictions: {}\".format(____)) "
      ],
      "metadata": {
        "id": "uMWkin8W8zaE"
      },
      "execution_count": null,
      "outputs": []
    },
    {
      "cell_type": "code",
      "source": [
        "# SOLUCION\n",
        "# Predict the labels for the X_new\n",
        "y_pred = knn.predict(X_new)\n",
        "\n",
        "# Print the predictions for X_new\n",
        "print(\"Predictions: {}\".format(y_pred)) "
      ],
      "metadata": {
        "id": "q2lgf1_X868t"
      },
      "execution_count": null,
      "outputs": []
    },
    {
      "cell_type": "code",
      "source": [
        "The model has predicted the first and third customers will not churn in the new array. But how do we know how accurate these predictions are?"
      ],
      "metadata": {
        "id": "xcGncMfnRpzq"
      },
      "execution_count": null,
      "outputs": []
    }
  ]
}