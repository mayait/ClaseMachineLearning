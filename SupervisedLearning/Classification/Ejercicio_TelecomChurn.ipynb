{
  "nbformat": 4,
  "nbformat_minor": 0,
  "metadata": {
    "colab": {
      "private_outputs": true,
      "provenance": [],
      "authorship_tag": "ABX9TyPtBCEEmWZ/KM4Gk8g4PpMq",
      "include_colab_link": true
    },
    "kernelspec": {
      "name": "python3",
      "display_name": "Python 3"
    },
    "language_info": {
      "name": "python"
    }
  },
  "cells": [
    {
      "cell_type": "markdown",
      "metadata": {
        "id": "view-in-github",
        "colab_type": "text"
      },
      "source": [
        "<a href=\"https://colab.research.google.com/github/mayait/ClaseMachineLearning/blob/main/SupervisedLearning/Classification/Ejercicio_TelecomChurn.ipynb\" target=\"_parent\"><img src=\"https://colab.research.google.com/assets/colab-badge.svg\" alt=\"Open In Colab\"/></a>"
      ]
    },
    {
      "cell_type": "markdown",
      "source": [
        "# Supervised Learning\n",
        "## Classification\n"
      ],
      "metadata": {
        "id": "3tXlm7Y8GD-d"
      }
    },
    {
      "cell_type": "markdown",
      "source": [
        "**Dataset**\n",
        "\n",
        "https://archive.ics.uci.edu/ml/datasets/Iranian+Churn+Dataset\n",
        "\n",
        "https://www.kaggle.com/datasets/royjafari/customer-churn\n",
        "\n",
        "\n",
        "**Data Dictionary**\n",
        "\n",
        "*   Column\tExplanation\n",
        "*   Call Failure\tnumber of call failures\n",
        "*   Complaints\tbinary (0: No complaint, 1: complaint)\n",
        "*   Subscription Length\ttotal months of subscription\n",
        "*   Charge Amount\tordinal attribute (0: lowest amount, 9: highest amount)\n",
        "*   Seconds of Use\ttotal seconds of calls\n",
        "*   Frequency of use\ttotal number of calls\n",
        "*   Frequency of SMS\ttotal number of text messages\n",
        "*   Distinct Called Numbers\ttotal number of distinct phone calls\n",
        "*   Age Group\tordinal attribute (1: younger age, 5: older age)\n",
        "*   Tariff Plan\tbinary (1: Pay as you go, 2: contractual)\n",
        "*   Status\tbinary (1: active, 2: non-active)\n",
        "*   Age\tage of customer\n",
        "*   Customer Value\tthe calculated value of customer\n",
        "*   Churn\tclass label (1: churn, 0: non-churn)\n"
      ],
      "metadata": {
        "id": "LYHy37wjGTiI"
      }
    },
    {
      "cell_type": "code",
      "execution_count": null,
      "metadata": {
        "id": "88cKPFA0Fpb7"
      },
      "outputs": [],
      "source": [
        "# Descarga el dataset Telecom Churn\n",
        "!wget https://raw.githubusercontent.com/mayait/ClaseAnalisisDatos/main/machine_learning/datasets/telecom_churn_clean.csv"
      ]
    },
    {
      "cell_type": "code",
      "source": [
        "# Imports\n",
        "\n",
        "import numpy as np\n",
        "import pandas as pd\n",
        "\n",
        "\n",
        "from sklearn import metrics\n",
        "from sklearn.neighbors import KNeighborsClassifier\n",
        "from sklearn import datasets, neighbors\n",
        "\n",
        "from mlxtend.plotting import plot_decision_regions\n",
        "\n",
        "import matplotlib.pyplot as plt\n",
        "plt.rcParams['figure.dpi'] = 100\n",
        "plt.rcParams['savefig.dpi'] = 100\n",
        "from matplotlib.colors import ListedColormap\n",
        "import seaborn as sns\n",
        "# %config InlineBackend.figure_format = 'retina' # sharper plots"
      ],
      "metadata": {
        "id": "5q4BhqwrH6j6"
      },
      "execution_count": null,
      "outputs": []
    },
    {
      "cell_type": "code",
      "source": [
        "df = pd.read_csv(\"telecom_churn_clean.csv\")"
      ],
      "metadata": {
        "id": "ouBhSEnPIWmU"
      },
      "execution_count": null,
      "outputs": []
    },
    {
      "cell_type": "code",
      "source": [
        "df.sample(10)"
      ],
      "metadata": {
        "id": "z7efMrchIs0D"
      },
      "execution_count": null,
      "outputs": []
    },
    {
      "cell_type": "code",
      "source": [
        "sns.scatterplot(data=df, x=\"customer_service_calls\", y=\"account_length\", hue=\"churn\")"
      ],
      "metadata": {
        "id": "r-yO7tIuIkM2"
      },
      "execution_count": null,
      "outputs": []
    },
    {
      "cell_type": "code",
      "source": [
        "sns.pairplot(df[[\"account_length\", \"customer_service_calls\",'churn']], hue='churn')"
      ],
      "metadata": {
        "id": "br4OV4FvI6sU"
      },
      "execution_count": null,
      "outputs": []
    },
    {
      "cell_type": "code",
      "source": [
        "# Esta función la vamos a utilizar más adelante\n",
        "def knn_comparison(data, k):\n",
        "  y = df[\"churn\"].values\n",
        "  x = df[[\"account_length\", \"customer_service_calls\"]].values\n",
        "\n",
        "\n",
        "  clf = neighbors.KNeighborsClassifier(n_neighbors=k)\n",
        "  clf.fit(x, y)\n",
        "  # Plotting decision region\n",
        "  plot_decision_regions(x, y, clf=clf, legend=2)\n",
        "  # Adding axes annotations\n",
        "  plt.xlabel('account_length')\n",
        "  plt.ylabel('customer_service_calls')\n",
        "  plt.title('Knn with K='+ str(k))\n",
        "  plt.show()\n",
        "\n",
        "knn_comparison(df, 5)"
      ],
      "metadata": {
        "id": "ZbkSJZl0O6fe"
      },
      "execution_count": null,
      "outputs": []
    },
    {
      "cell_type": "markdown",
      "source": [
        "**k-Nearest Neighbors**\n",
        "The idea of k-Nearest Neighbors, or KNN, is to predict the label of any data point by looking at the k, for example, three, closest labeled data points and getting them to vote on what label the unlabeled observation should have. KNN uses majority voting, which makes predictions based on what label the majority of nearest neighbors have.\n",
        "\n",
        "**k-Nearest Neighbors: Fit**\n",
        "\n",
        "In this exercise, you will build your first classification model using the df dataset, which has been preloaded for the remainder of the chapter.\n",
        "\n",
        "The features to use will be \"account_length\" and \"customer_service_calls\". The target, \"churn\", needs to be a single column with the same number of observations as the feature data.\n",
        "\n",
        "You will convert the features and the target variable into NumPy arrays, create an instance of a KNN classifier, and then fit it to the data.\n",
        "\n",
        "numpy has also been preloaded for you as np."
      ],
      "metadata": {
        "id": "THF4AV1WPcrp"
      }
    },
    {
      "cell_type": "markdown",
      "source": [
        "# 🌶️ Import KNeighborsClassifier"
      ],
      "metadata": {
        "id": "jGy4BnlD9Ncr"
      }
    },
    {
      "cell_type": "markdown",
      "source": [
        "**Instructions**\n",
        "* Import KNeighborsClassifier from sklearn.neighbors.\n",
        "* Create an array called X containing values from the \"account_length\" and \"customer_service_calls\" columns, and an array called y for the values of the \"churn\" column.\n",
        "* Instantiate a KNeighborsClassifier called knn with 6 neighbors.\n",
        "Fit the classifier to the data using the .fit() method."
      ],
      "metadata": {
        "id": "gvfUdAfyyMSm"
      }
    },
    {
      "cell_type": "code",
      "source": [
        "# Import KNeighborsClassifier\n",
        "from ____.____ import ____ "
      ],
      "metadata": {
        "id": "z__zUqtEPesS"
      },
      "execution_count": null,
      "outputs": []
    },
    {
      "cell_type": "code",
      "source": [
        "# Create arrays for the features and the target variable\n",
        "y = ____[\"____\"].values\n",
        "X = ____[[\"____\", \"____\"]].values"
      ],
      "metadata": {
        "id": "XG5ReZb0Q0Ue"
      },
      "execution_count": null,
      "outputs": []
    },
    {
      "cell_type": "code",
      "source": [
        "# Create a KNN classifier with 6 neighbors\n",
        "knn = ____"
      ],
      "metadata": {
        "id": "KgvifJaXQ1h0"
      },
      "execution_count": null,
      "outputs": []
    },
    {
      "cell_type": "code",
      "source": [
        "# Fit the classifier to the data\n",
        "knn.____(____, ____)"
      ],
      "metadata": {
        "id": "n2WIpEDzQ2nF"
      },
      "execution_count": null,
      "outputs": []
    },
    {
      "cell_type": "markdown",
      "source": [
        "## **k-Nearest Neighbors: Predict**\n",
        "Now you have fit a KNN classifier, you can use it to predict the label of new data points. All available data was used for training, however, fortunately, there are new observations available as X_new\n",
        "\n",
        "The model knn, which you created and fit the data in the last exercise, has been preloaded for you. You will use your classifier to predict the labels of a set of new data points:\n",
        "\n",
        "```\n",
        "X_new = np.array([[30.0, 17.5],\n",
        "                  [107.0, 24.1],\n",
        "                  [213.0, 10.9]])\n",
        "```"
      ],
      "metadata": {
        "id": "zuASBx0rQ-yM"
      }
    },
    {
      "cell_type": "code",
      "source": [
        "X_new = np.array([[30.0, 17.5],\n",
        "                  [107.0, 24.1],\n",
        "                  [213.0, 10.9]])"
      ],
      "metadata": {
        "id": "g6KN3schQ_Yw"
      },
      "execution_count": null,
      "outputs": []
    },
    {
      "cell_type": "markdown",
      "source": [
        "# 🌶️ Predict the labels for the X_new"
      ],
      "metadata": {
        "id": "yuDJIsyp9D50"
      }
    },
    {
      "cell_type": "code",
      "source": [
        "# Predict the labels for the X_new\n",
        "y_pred = ____\n",
        "\n",
        "# Print the predictions for X_new\n",
        "print(y_pred) "
      ],
      "metadata": {
        "id": "uMWkin8W8zaE"
      },
      "execution_count": null,
      "outputs": []
    },
    {
      "cell_type": "markdown",
      "source": [
        "The model has predicted the first and third customers will not churn in the new array. But how do we know how accurate these predictions are?"
      ],
      "metadata": {
        "id": "piY0U6jjR7Yi"
      }
    },
    {
      "cell_type": "markdown",
      "source": [
        "# Measuring model performance\n",
        "\n",
        "Now we can make predictions using a classifier, but how do we know if the model is making correct predictions? We can evaluate its performance!\n",
        "\n",
        "**Accuracy** is the number of correct predictions divided by the total number of observations.\n",
        "\n",
        "We could compute accuracy on the data used to fit the classifier. However, as this data was used to train the model, performance will not be indicative of how well it can generalize to unseen data, which is what we are interested in!\n",
        "\n"
      ],
      "metadata": {
        "id": "AzkYLkb-R-R-"
      }
    },
    {
      "cell_type": "markdown",
      "source": [
        "\\begin{align}\n",
        "        Accuracy = \\frac{Correct Predictions}{Total Observations}\n",
        "    \\end{align}\n",
        "\n",
        "-\n",
        "\n",
        "\\begin{align}\n",
        "        Precisión = \\frac{Predicciones Correctas}{Total Observaciones}\n",
        "    \\end{align}\n",
        "\n",
        "[Aprende más en Google Machine Learning](https://developers.google.com/machine-learning/crash-course/training-and-test-sets/splitting-data?hl=en)\n",
        "\n"
      ],
      "metadata": {
        "id": "FdOZi0eu_Urs"
      }
    },
    {
      "cell_type": "markdown",
      "source": [
        "It is common to split data into a training set and a test set.\n",
        "\n",
        "*   We fit the classifier using the training set,\n",
        "*   then we calculate the model's accuracy against the test set's labels.\n",
        "\n",
        "![img](https://developers.google.com/static/machine-learning/crash-course/images/PartitionTwoSets.svg)\n",
        "\n",
        "![img](https://developers.google.com/static/machine-learning/crash-course/images/TrainingDataVsTestData.svg)\n",
        "\n",
        "Validating the trained model against test data.\n",
        "\n",
        "Never train on test data. If you are seeing surprisingly good results on your evaluation metrics, it might be a sign that you are accidentally training on the test set. For example, high accuracy might indicate that test data has leaked into the training set."
      ],
      "metadata": {
        "id": "kUH27BY4TGzq"
      }
    },
    {
      "cell_type": "markdown",
      "source": [],
      "metadata": {
        "id": "uMO10khRUsQx"
      }
    },
    {
      "cell_type": "markdown",
      "source": [
        "# 🌶️  **Train/test split + computing accuracy**\n",
        "\n",
        "You have NumPy arrays containing the features as X and the target variable as y. You will split them into training and test sets, fit a KNN classifier to the training data, and then compute its accuracy on the test data using the .score() method.\n",
        "\n",
        "**Instructions**\n",
        "* Import train_test_split from sklearn.model_selection.\n",
        "* Split X and y into training and test sets, setting test_size equal to 20%, random_state to 42, and ensuring the target label proportions reflect that of the original dataset.\n",
        "* Fit the knn model to the training data.\n",
        "* Compute and print the model's accuracy for the test data.\n",
        "\n"
      ],
      "metadata": {
        "id": "1uiwcZziHPDF"
      }
    },
    {
      "cell_type": "code",
      "source": [
        "# Import the module\n",
        "____\n",
        "\n",
        "X = df.drop(\"churn\", axis=1).values\n",
        "y = df[\"churn\"].values"
      ],
      "metadata": {
        "id": "ntaN1krV_UVG"
      },
      "execution_count": null,
      "outputs": []
    },
    {
      "cell_type": "code",
      "source": [
        "# Split into training and test sets\n",
        "X_train, X_test, y_train, y_test = ____(____, ____, test_size=____, random_state=____, stratify=____)\n",
        "knn = KNeighborsClassifier(n_neighbors=5)"
      ],
      "metadata": {
        "id": "Lgxp_kW1VvIb"
      },
      "execution_count": null,
      "outputs": []
    },
    {
      "cell_type": "code",
      "source": [
        "# Fit the classifier to the training data\n",
        "____\n",
        "\n",
        "# Print the accuracy\n",
        "print(knn.score(____, ____))"
      ],
      "metadata": {
        "id": "8Vy-3H7UV12f"
      },
      "execution_count": null,
      "outputs": []
    },
    {
      "cell_type": "code",
      "source": [
        "## Solución\n",
        "# Import the module\n",
        "from sklearn.model_selection import train_test_split\n",
        "\n",
        "X = df.drop(\"churn\", axis=1).values\n",
        "y = df[\"churn\"].values\n",
        "\n",
        "# Split into training and test sets\n",
        "X_train, X_test, y_train, y_test = train_test_split(X, y, test_size=0.2, random_state=42, stratify=y)\n",
        "knn = KNeighborsClassifier(n_neighbors=1)\n",
        "\n",
        "# Fit the classifier to the training data\n",
        "knn.fit(X_train,y_train)\n",
        "\n",
        "# Print the accuracy\n",
        "print(knn.score(X_test, y_test))"
      ],
      "metadata": {
        "id": "Xen0iRlM9wGW"
      },
      "execution_count": null,
      "outputs": []
    },
    {
      "cell_type": "markdown",
      "source": [
        "# 🌶️  **Overfitting and underfitting**\n",
        "\n",
        "Interpreting model complexity is a great way to evaluate performance when utilizing supervised learning. Your aim is to produce a model that can interpret the relationship between features and the target variable, as well as generalize well when exposed to new observations.\n",
        "\n",
        "You will generate accuracy scores for the training and test sets using a KNN classifier with different n_neighbor values, which you will plot in the next exercise.\n",
        "\n",
        "The training and test sets have been created from the df dataset and preloaded as X_train, X_test, y_train, and y_test.\n",
        "\n",
        "**Instructions**\n",
        "* Create neighbors as a numpy array of values from 1 up to and including 12.\n",
        "* Instantiate a KNN classifier, with the number of neighbors equal to the neighbor iterator.\n",
        "* Fit the model to the training data.\n",
        "* Calculate accuracy scores for the training set and test set separately using the .score() method, and assign the results to the index of the train_accuracies and test_accuracies dictionaries, respectively."
      ],
      "metadata": {
        "id": "KOpcCKQGIfUU"
      }
    },
    {
      "cell_type": "code",
      "source": [
        "# Create neighbors\n",
        "neighbors = np.arange(____, ____)\n",
        "train_accuracies = {}\n",
        "test_accuracies = {}\n",
        "\n",
        "for neighbor in neighbors:\n",
        "  \n",
        "\t# Set up a KNN Classifier\n",
        "\tknn = ____(____=____)\n",
        "  \n",
        "\t# Fit the model\n",
        "\tknn.____(____, ____)\n",
        "  \n",
        "\t# Compute accuracy\n",
        "\ttrain_accuracies[____] = knn.____(____, ____)\n",
        "\ttest_accuracies[____] = knn.____(____, ____)\n",
        "print(neighbors, '\\n', train_accuracies, '\\n', test_accuracies)"
      ],
      "metadata": {
        "id": "znAq-JYYI-Rp"
      },
      "execution_count": null,
      "outputs": []
    },
    {
      "cell_type": "code",
      "source": [
        "# Solución\n",
        "# Create neighbors\n",
        "neighbors = np.arange(1, 13)\n",
        "train_accuracies = {}\n",
        "test_accuracies = {}\n",
        "\n",
        "for neighbor in neighbors:\n",
        "  \n",
        "\t# Set up a KNN Classifier\n",
        "\tknn = KNeighborsClassifier(n_neighbors=neighbor)\n",
        "  \n",
        "\t# Fit the model\n",
        "\tknn.fit(X_train,y_train)\n",
        "  \n",
        "\t# Compute accuracy\n",
        "\ttrain_accuracies[neighbor] = knn.score(X_train, y_train)\n",
        "\ttest_accuracies[neighbor] = knn.score(X_test, y_test)\n",
        "\tprint('neighbor', neighbor, 'train_accuracies', round(train_accuracies[neighbor],3), 'test_accuracies', round(test_accuracies[neighbor],3),'\\n')"
      ],
      "metadata": {
        "id": "R222rL2xI-l6"
      },
      "execution_count": null,
      "outputs": []
    },
    {
      "cell_type": "code",
      "source": [
        "# Visualizing model complexity\n",
        "\n",
        "\n",
        "# Add a title\n",
        "plt.title(\"KNN: Varying Number of Neighbors\")\n",
        "\n",
        "# Plot training accuracies\n",
        "plt.plot(neighbors, list(train_accuracies.values()),  label=\"Training Accuracy\")\n",
        "\n",
        "# Plot test accuracies\n",
        "plt.plot(neighbors, list(test_accuracies.values()),  label=\"Testing Accuracy\")\n",
        "\n",
        "plt.legend()\n",
        "plt.xlabel(\"Number of Neighbors\")\n",
        "plt.ylabel(\"Accuracy\")\n",
        "\n",
        "# Display the plot\n",
        "plt.show()"
      ],
      "metadata": {
        "id": "qNmou9PXWuOg"
      },
      "execution_count": null,
      "outputs": []
    },
    {
      "cell_type": "code",
      "source": [],
      "metadata": {
        "id": "SXP6iGOIXVGs"
      },
      "execution_count": null,
      "outputs": []
    }
  ]
}