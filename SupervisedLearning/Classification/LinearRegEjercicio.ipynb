{
  "cells": [
    {
      "cell_type": "markdown",
      "metadata": {
        "id": "view-in-github",
        "colab_type": "text"
      },
      "source": [
        "<a href=\"https://colab.research.google.com/github/mayait/ClaseMachineLearning/blob/main/SupervisedLearning/Classification/LinearRegEjercicio.ipynb\" target=\"_parent\"><img src=\"https://colab.research.google.com/assets/colab-badge.svg\" alt=\"Open In Colab\"/></a>"
      ]
    },
    {
      "cell_type": "markdown",
      "metadata": {
        "id": "-ORMB4S-ThUb"
      },
      "source": [
        "# Regresión lineal"
      ]
    },
    {
      "cell_type": "markdown",
      "metadata": {
        "id": "UX_PfnT9ThUb"
      },
      "source": [
        "## Objetivo\n",
        "\n",
        "*   Usar scikit-learn para implementar un modelo de Linear Regression\n",
        "*   Crear un modelo, entrenarlo, evaluarlo y utilizarlo\n",
        "*   Optimizar el modelo con regularizaciones"
      ]
    },
    {
      "cell_type": "code",
      "execution_count": 1,
      "metadata": {
        "id": "pnb9c2LTThUb"
      },
      "outputs": [],
      "source": [
        "import matplotlib.pyplot as plt\n",
        "import pandas as pd\n",
        "import pylab as pl\n",
        "import numpy as np\n",
        "%matplotlib inline"
      ]
    },
    {
      "cell_type": "code",
      "execution_count": 2,
      "metadata": {
        "colab": {
          "base_uri": "https://localhost:8080/"
        },
        "id": "Gk-arZKfThUc",
        "outputId": "0bfbdcca-f4df-4972-964a-6852b182090f"
      },
      "outputs": [
        {
          "output_type": "stream",
          "name": "stdout",
          "text": [
            "wget: missing URL\n",
            "Usage: wget [OPTION]... [URL]...\n",
            "\n",
            "Try `wget --help' for more options.\n",
            "--2023-02-25 02:02:05--  https://cf-courses-data.s3.us.cloud-object-storage.appdomain.cloud/IBMDeveloperSkillsNetwork-ML0101EN-SkillsNetwork/labs/Module%202/data/FuelConsumptionCo2.csv\n",
            "Resolving cf-courses-data.s3.us.cloud-object-storage.appdomain.cloud (cf-courses-data.s3.us.cloud-object-storage.appdomain.cloud)... 198.23.119.245\n",
            "Connecting to cf-courses-data.s3.us.cloud-object-storage.appdomain.cloud (cf-courses-data.s3.us.cloud-object-storage.appdomain.cloud)|198.23.119.245|:443... connected.\n",
            "HTTP request sent, awaiting response... 200 OK\n",
            "Length: 72629 (71K) [text/csv]\n",
            "Saving to: ‘FuelConsumption.csv’\n",
            "\n",
            "FuelConsumption.csv 100%[===================>]  70.93K  --.-KB/s    in 0.1s    \n",
            "\n",
            "2023-02-25 02:02:05 (482 KB/s) - ‘FuelConsumption.csv’ saved [72629/72629]\n",
            "\n",
            "wget: missing URL\n",
            "Usage: wget [OPTION]... [URL]...\n",
            "\n",
            "Try `wget --help' for more options.\n"
          ]
        }
      ],
      "source": [
        "!wget -O https://raw.githubusercontent.com/mayait/ClaseAnalisisDatos/main/machine_learning/datasets/advertising_and_sales_clean.csv\n",
        "!wget -O FuelConsumption.csv https://cf-courses-data.s3.us.cloud-object-storage.appdomain.cloud/IBMDeveloperSkillsNetwork-ML0101EN-SkillsNetwork/labs/Module%202/data/FuelConsumptionCo2.csv\n",
        "!wget -O https://github.com/mayait/ClaseAnalisisDatos/raw/main/machine_learning/datasets/crime.xlsx"
      ]
    },
    {
      "cell_type": "markdown",
      "metadata": {
        "id": "40Av1Ly3ThUc"
      },
      "source": [
        "### `FuelConsumption.csv`:\n",
        "\n",
        "Fuel consumption dataset, **`FuelConsumption.csv`**, Contiene las calificaciones de consumo de combustible específicas del modelo y las emisiones estimadas de dióxido de carbono para vehículos ligeros nuevos para la venta al por menor en Canadá. [Dataset source](http://open.canada.ca/data/en/dataset/98f1a129-f628-4ce4-b24d-6f16bf24dd64)\n",
        "\n",
        "*   **MODELYEAR** e.g. 2014\n",
        "*   **MAKE** e.g. Acura\n",
        "*   **MODEL** e.g. ILX\n",
        "*   **VEHICLE CLASS** e.g. SUV\n",
        "*   **ENGINE SIZE** e.g. 4.7\n",
        "*   **CYLINDERS** e.g 6\n",
        "*   **TRANSMISSION** e.g. A6\n",
        "*   **FUELTYPE** e.g. z\n",
        "*   **FUEL CONSUMPTION in CITY(L/100 km)** e.g. 9.9\n",
        "*   **FUEL CONSUMPTION in HWY (L/100 km)** e.g. 8.9\n",
        "*   **FUEL CONSUMPTION COMB (L/100 km)** e.g. 9.2\n",
        "*   **CO2 EMISSIONS (g/km)** e.g. 182   --> low --> 0"
      ]
    },
    {
      "cell_type": "code",
      "execution_count": 3,
      "metadata": {
        "colab": {
          "base_uri": "https://localhost:8080/",
          "height": 514
        },
        "id": "LVKZy7NAThUc",
        "outputId": "6d778baa-b3f7-4b18-e977-a41ab0d5d01f"
      },
      "outputs": [
        {
          "output_type": "execute_result",
          "data": {
            "text/plain": [
              "     MODELYEAR           MAKE              MODEL VEHICLECLASS  ENGINESIZE  \\\n",
              "499       2014          HONDA              PILOT  SUV - SMALL         3.5   \n",
              "849       2014         NISSAN         MURANO AWD  SUV - SMALL         3.5   \n",
              "408       2014           FORD      FOCUS SFE FFV      COMPACT         2.0   \n",
              "803       2014           MINI  COOPER S ROADSTER   TWO-SEATER         1.6   \n",
              "544       2014       INFINITI           QX70 AWD  SUV - SMALL         3.7   \n",
              "281       2014       CHRYSLER      200 SEDAN FFV     MID-SIZE         3.6   \n",
              "740       2014  MERCEDES-BENZ       E 300 4MATIC     MID-SIZE         3.5   \n",
              "46        2014           AUDI                 R8   TWO-SEATER         5.2   \n",
              "275       2014       CHRYSLER    200 CONVERTIBLE      COMPACT         2.4   \n",
              "126       2014            BMW       X1 xDRIVE28i  SUV - SMALL         2.0   \n",
              "\n",
              "     CYLINDERS TRANSMISSION FUELTYPE  FUELCONSUMPTION_CITY  \\\n",
              "499          6           A5        X                  13.3   \n",
              "849          6           AV        X                  13.2   \n",
              "408          4           A6        E                  11.6   \n",
              "803          4           M6        Z                   9.1   \n",
              "544          6          AS7        Z                  14.5   \n",
              "281          6           A6        X                  12.5   \n",
              "740          6          AS7        Z                  11.8   \n",
              "46          10           A7        Z                  18.8   \n",
              "275          4           A4        X                  11.7   \n",
              "126          4           A8        Z                  10.6   \n",
              "\n",
              "     FUELCONSUMPTION_HWY  FUELCONSUMPTION_COMB  FUELCONSUMPTION_COMB_MPG  \\\n",
              "499                  9.3                  11.5                        25   \n",
              "849                 10.1                  11.8                        24   \n",
              "408                  8.3                  10.1                        28   \n",
              "803                  6.7                   8.0                        35   \n",
              "544                 10.7                  12.8                        22   \n",
              "281                  8.1                  10.5                        27   \n",
              "740                  8.2                  10.2                        28   \n",
              "46                  11.3                  15.4                        18   \n",
              "275                  8.2                  10.1                        28   \n",
              "126                  7.2                   9.1                        31   \n",
              "\n",
              "     CO2EMISSIONS  \n",
              "499           265  \n",
              "849           271  \n",
              "408           162  \n",
              "803           184  \n",
              "544           294  \n",
              "281           242  \n",
              "740           235  \n",
              "46            354  \n",
              "275           232  \n",
              "126           209  "
            ],
            "text/html": [
              "\n",
              "  <div id=\"df-441517c4-70f9-4f61-be38-59722bececba\">\n",
              "    <div class=\"colab-df-container\">\n",
              "      <div>\n",
              "<style scoped>\n",
              "    .dataframe tbody tr th:only-of-type {\n",
              "        vertical-align: middle;\n",
              "    }\n",
              "\n",
              "    .dataframe tbody tr th {\n",
              "        vertical-align: top;\n",
              "    }\n",
              "\n",
              "    .dataframe thead th {\n",
              "        text-align: right;\n",
              "    }\n",
              "</style>\n",
              "<table border=\"1\" class=\"dataframe\">\n",
              "  <thead>\n",
              "    <tr style=\"text-align: right;\">\n",
              "      <th></th>\n",
              "      <th>MODELYEAR</th>\n",
              "      <th>MAKE</th>\n",
              "      <th>MODEL</th>\n",
              "      <th>VEHICLECLASS</th>\n",
              "      <th>ENGINESIZE</th>\n",
              "      <th>CYLINDERS</th>\n",
              "      <th>TRANSMISSION</th>\n",
              "      <th>FUELTYPE</th>\n",
              "      <th>FUELCONSUMPTION_CITY</th>\n",
              "      <th>FUELCONSUMPTION_HWY</th>\n",
              "      <th>FUELCONSUMPTION_COMB</th>\n",
              "      <th>FUELCONSUMPTION_COMB_MPG</th>\n",
              "      <th>CO2EMISSIONS</th>\n",
              "    </tr>\n",
              "  </thead>\n",
              "  <tbody>\n",
              "    <tr>\n",
              "      <th>499</th>\n",
              "      <td>2014</td>\n",
              "      <td>HONDA</td>\n",
              "      <td>PILOT</td>\n",
              "      <td>SUV - SMALL</td>\n",
              "      <td>3.5</td>\n",
              "      <td>6</td>\n",
              "      <td>A5</td>\n",
              "      <td>X</td>\n",
              "      <td>13.3</td>\n",
              "      <td>9.3</td>\n",
              "      <td>11.5</td>\n",
              "      <td>25</td>\n",
              "      <td>265</td>\n",
              "    </tr>\n",
              "    <tr>\n",
              "      <th>849</th>\n",
              "      <td>2014</td>\n",
              "      <td>NISSAN</td>\n",
              "      <td>MURANO AWD</td>\n",
              "      <td>SUV - SMALL</td>\n",
              "      <td>3.5</td>\n",
              "      <td>6</td>\n",
              "      <td>AV</td>\n",
              "      <td>X</td>\n",
              "      <td>13.2</td>\n",
              "      <td>10.1</td>\n",
              "      <td>11.8</td>\n",
              "      <td>24</td>\n",
              "      <td>271</td>\n",
              "    </tr>\n",
              "    <tr>\n",
              "      <th>408</th>\n",
              "      <td>2014</td>\n",
              "      <td>FORD</td>\n",
              "      <td>FOCUS SFE FFV</td>\n",
              "      <td>COMPACT</td>\n",
              "      <td>2.0</td>\n",
              "      <td>4</td>\n",
              "      <td>A6</td>\n",
              "      <td>E</td>\n",
              "      <td>11.6</td>\n",
              "      <td>8.3</td>\n",
              "      <td>10.1</td>\n",
              "      <td>28</td>\n",
              "      <td>162</td>\n",
              "    </tr>\n",
              "    <tr>\n",
              "      <th>803</th>\n",
              "      <td>2014</td>\n",
              "      <td>MINI</td>\n",
              "      <td>COOPER S ROADSTER</td>\n",
              "      <td>TWO-SEATER</td>\n",
              "      <td>1.6</td>\n",
              "      <td>4</td>\n",
              "      <td>M6</td>\n",
              "      <td>Z</td>\n",
              "      <td>9.1</td>\n",
              "      <td>6.7</td>\n",
              "      <td>8.0</td>\n",
              "      <td>35</td>\n",
              "      <td>184</td>\n",
              "    </tr>\n",
              "    <tr>\n",
              "      <th>544</th>\n",
              "      <td>2014</td>\n",
              "      <td>INFINITI</td>\n",
              "      <td>QX70 AWD</td>\n",
              "      <td>SUV - SMALL</td>\n",
              "      <td>3.7</td>\n",
              "      <td>6</td>\n",
              "      <td>AS7</td>\n",
              "      <td>Z</td>\n",
              "      <td>14.5</td>\n",
              "      <td>10.7</td>\n",
              "      <td>12.8</td>\n",
              "      <td>22</td>\n",
              "      <td>294</td>\n",
              "    </tr>\n",
              "    <tr>\n",
              "      <th>281</th>\n",
              "      <td>2014</td>\n",
              "      <td>CHRYSLER</td>\n",
              "      <td>200 SEDAN FFV</td>\n",
              "      <td>MID-SIZE</td>\n",
              "      <td>3.6</td>\n",
              "      <td>6</td>\n",
              "      <td>A6</td>\n",
              "      <td>X</td>\n",
              "      <td>12.5</td>\n",
              "      <td>8.1</td>\n",
              "      <td>10.5</td>\n",
              "      <td>27</td>\n",
              "      <td>242</td>\n",
              "    </tr>\n",
              "    <tr>\n",
              "      <th>740</th>\n",
              "      <td>2014</td>\n",
              "      <td>MERCEDES-BENZ</td>\n",
              "      <td>E 300 4MATIC</td>\n",
              "      <td>MID-SIZE</td>\n",
              "      <td>3.5</td>\n",
              "      <td>6</td>\n",
              "      <td>AS7</td>\n",
              "      <td>Z</td>\n",
              "      <td>11.8</td>\n",
              "      <td>8.2</td>\n",
              "      <td>10.2</td>\n",
              "      <td>28</td>\n",
              "      <td>235</td>\n",
              "    </tr>\n",
              "    <tr>\n",
              "      <th>46</th>\n",
              "      <td>2014</td>\n",
              "      <td>AUDI</td>\n",
              "      <td>R8</td>\n",
              "      <td>TWO-SEATER</td>\n",
              "      <td>5.2</td>\n",
              "      <td>10</td>\n",
              "      <td>A7</td>\n",
              "      <td>Z</td>\n",
              "      <td>18.8</td>\n",
              "      <td>11.3</td>\n",
              "      <td>15.4</td>\n",
              "      <td>18</td>\n",
              "      <td>354</td>\n",
              "    </tr>\n",
              "    <tr>\n",
              "      <th>275</th>\n",
              "      <td>2014</td>\n",
              "      <td>CHRYSLER</td>\n",
              "      <td>200 CONVERTIBLE</td>\n",
              "      <td>COMPACT</td>\n",
              "      <td>2.4</td>\n",
              "      <td>4</td>\n",
              "      <td>A4</td>\n",
              "      <td>X</td>\n",
              "      <td>11.7</td>\n",
              "      <td>8.2</td>\n",
              "      <td>10.1</td>\n",
              "      <td>28</td>\n",
              "      <td>232</td>\n",
              "    </tr>\n",
              "    <tr>\n",
              "      <th>126</th>\n",
              "      <td>2014</td>\n",
              "      <td>BMW</td>\n",
              "      <td>X1 xDRIVE28i</td>\n",
              "      <td>SUV - SMALL</td>\n",
              "      <td>2.0</td>\n",
              "      <td>4</td>\n",
              "      <td>A8</td>\n",
              "      <td>Z</td>\n",
              "      <td>10.6</td>\n",
              "      <td>7.2</td>\n",
              "      <td>9.1</td>\n",
              "      <td>31</td>\n",
              "      <td>209</td>\n",
              "    </tr>\n",
              "  </tbody>\n",
              "</table>\n",
              "</div>\n",
              "      <button class=\"colab-df-convert\" onclick=\"convertToInteractive('df-441517c4-70f9-4f61-be38-59722bececba')\"\n",
              "              title=\"Convert this dataframe to an interactive table.\"\n",
              "              style=\"display:none;\">\n",
              "        \n",
              "  <svg xmlns=\"http://www.w3.org/2000/svg\" height=\"24px\"viewBox=\"0 0 24 24\"\n",
              "       width=\"24px\">\n",
              "    <path d=\"M0 0h24v24H0V0z\" fill=\"none\"/>\n",
              "    <path d=\"M18.56 5.44l.94 2.06.94-2.06 2.06-.94-2.06-.94-.94-2.06-.94 2.06-2.06.94zm-11 1L8.5 8.5l.94-2.06 2.06-.94-2.06-.94L8.5 2.5l-.94 2.06-2.06.94zm10 10l.94 2.06.94-2.06 2.06-.94-2.06-.94-.94-2.06-.94 2.06-2.06.94z\"/><path d=\"M17.41 7.96l-1.37-1.37c-.4-.4-.92-.59-1.43-.59-.52 0-1.04.2-1.43.59L10.3 9.45l-7.72 7.72c-.78.78-.78 2.05 0 2.83L4 21.41c.39.39.9.59 1.41.59.51 0 1.02-.2 1.41-.59l7.78-7.78 2.81-2.81c.8-.78.8-2.07 0-2.86zM5.41 20L4 18.59l7.72-7.72 1.47 1.35L5.41 20z\"/>\n",
              "  </svg>\n",
              "      </button>\n",
              "      \n",
              "  <style>\n",
              "    .colab-df-container {\n",
              "      display:flex;\n",
              "      flex-wrap:wrap;\n",
              "      gap: 12px;\n",
              "    }\n",
              "\n",
              "    .colab-df-convert {\n",
              "      background-color: #E8F0FE;\n",
              "      border: none;\n",
              "      border-radius: 50%;\n",
              "      cursor: pointer;\n",
              "      display: none;\n",
              "      fill: #1967D2;\n",
              "      height: 32px;\n",
              "      padding: 0 0 0 0;\n",
              "      width: 32px;\n",
              "    }\n",
              "\n",
              "    .colab-df-convert:hover {\n",
              "      background-color: #E2EBFA;\n",
              "      box-shadow: 0px 1px 2px rgba(60, 64, 67, 0.3), 0px 1px 3px 1px rgba(60, 64, 67, 0.15);\n",
              "      fill: #174EA6;\n",
              "    }\n",
              "\n",
              "    [theme=dark] .colab-df-convert {\n",
              "      background-color: #3B4455;\n",
              "      fill: #D2E3FC;\n",
              "    }\n",
              "\n",
              "    [theme=dark] .colab-df-convert:hover {\n",
              "      background-color: #434B5C;\n",
              "      box-shadow: 0px 1px 3px 1px rgba(0, 0, 0, 0.15);\n",
              "      filter: drop-shadow(0px 1px 2px rgba(0, 0, 0, 0.3));\n",
              "      fill: #FFFFFF;\n",
              "    }\n",
              "  </style>\n",
              "\n",
              "      <script>\n",
              "        const buttonEl =\n",
              "          document.querySelector('#df-441517c4-70f9-4f61-be38-59722bececba button.colab-df-convert');\n",
              "        buttonEl.style.display =\n",
              "          google.colab.kernel.accessAllowed ? 'block' : 'none';\n",
              "\n",
              "        async function convertToInteractive(key) {\n",
              "          const element = document.querySelector('#df-441517c4-70f9-4f61-be38-59722bececba');\n",
              "          const dataTable =\n",
              "            await google.colab.kernel.invokeFunction('convertToInteractive',\n",
              "                                                     [key], {});\n",
              "          if (!dataTable) return;\n",
              "\n",
              "          const docLinkHtml = 'Like what you see? Visit the ' +\n",
              "            '<a target=\"_blank\" href=https://colab.research.google.com/notebooks/data_table.ipynb>data table notebook</a>'\n",
              "            + ' to learn more about interactive tables.';\n",
              "          element.innerHTML = '';\n",
              "          dataTable['output_type'] = 'display_data';\n",
              "          await google.colab.output.renderOutput(dataTable, element);\n",
              "          const docLink = document.createElement('div');\n",
              "          docLink.innerHTML = docLinkHtml;\n",
              "          element.appendChild(docLink);\n",
              "        }\n",
              "      </script>\n",
              "    </div>\n",
              "  </div>\n",
              "  "
            ]
          },
          "metadata": {},
          "execution_count": 3
        }
      ],
      "source": [
        "df = pd.read_csv(\"FuelConsumption.csv\")\n",
        "df.sample(10)"
      ]
    },
    {
      "cell_type": "code",
      "execution_count": null,
      "metadata": {
        "id": "0N_ekfxVThUc",
        "outputId": "952434ac-32d9-4fa5-f749-b30e79d346fb"
      },
      "outputs": [
        {
          "data": {
            "text/html": [
              "<style>#sk-container-id-1 {color: black;background-color: white;}#sk-container-id-1 pre{padding: 0;}#sk-container-id-1 div.sk-toggleable {background-color: white;}#sk-container-id-1 label.sk-toggleable__label {cursor: pointer;display: block;width: 100%;margin-bottom: 0;padding: 0.3em;box-sizing: border-box;text-align: center;}#sk-container-id-1 label.sk-toggleable__label-arrow:before {content: \"▸\";float: left;margin-right: 0.25em;color: #696969;}#sk-container-id-1 label.sk-toggleable__label-arrow:hover:before {color: black;}#sk-container-id-1 div.sk-estimator:hover label.sk-toggleable__label-arrow:before {color: black;}#sk-container-id-1 div.sk-toggleable__content {max-height: 0;max-width: 0;overflow: hidden;text-align: left;background-color: #f0f8ff;}#sk-container-id-1 div.sk-toggleable__content pre {margin: 0.2em;color: black;border-radius: 0.25em;background-color: #f0f8ff;}#sk-container-id-1 input.sk-toggleable__control:checked~div.sk-toggleable__content {max-height: 200px;max-width: 100%;overflow: auto;}#sk-container-id-1 input.sk-toggleable__control:checked~label.sk-toggleable__label-arrow:before {content: \"▾\";}#sk-container-id-1 div.sk-estimator input.sk-toggleable__control:checked~label.sk-toggleable__label {background-color: #d4ebff;}#sk-container-id-1 div.sk-label input.sk-toggleable__control:checked~label.sk-toggleable__label {background-color: #d4ebff;}#sk-container-id-1 input.sk-hidden--visually {border: 0;clip: rect(1px 1px 1px 1px);clip: rect(1px, 1px, 1px, 1px);height: 1px;margin: -1px;overflow: hidden;padding: 0;position: absolute;width: 1px;}#sk-container-id-1 div.sk-estimator {font-family: monospace;background-color: #f0f8ff;border: 1px dotted black;border-radius: 0.25em;box-sizing: border-box;margin-bottom: 0.5em;}#sk-container-id-1 div.sk-estimator:hover {background-color: #d4ebff;}#sk-container-id-1 div.sk-parallel-item::after {content: \"\";width: 100%;border-bottom: 1px solid gray;flex-grow: 1;}#sk-container-id-1 div.sk-label:hover label.sk-toggleable__label {background-color: #d4ebff;}#sk-container-id-1 div.sk-serial::before {content: \"\";position: absolute;border-left: 1px solid gray;box-sizing: border-box;top: 0;bottom: 0;left: 50%;z-index: 0;}#sk-container-id-1 div.sk-serial {display: flex;flex-direction: column;align-items: center;background-color: white;padding-right: 0.2em;padding-left: 0.2em;position: relative;}#sk-container-id-1 div.sk-item {position: relative;z-index: 1;}#sk-container-id-1 div.sk-parallel {display: flex;align-items: stretch;justify-content: center;background-color: white;position: relative;}#sk-container-id-1 div.sk-item::before, #sk-container-id-1 div.sk-parallel-item::before {content: \"\";position: absolute;border-left: 1px solid gray;box-sizing: border-box;top: 0;bottom: 0;left: 50%;z-index: -1;}#sk-container-id-1 div.sk-parallel-item {display: flex;flex-direction: column;z-index: 1;position: relative;background-color: white;}#sk-container-id-1 div.sk-parallel-item:first-child::after {align-self: flex-end;width: 50%;}#sk-container-id-1 div.sk-parallel-item:last-child::after {align-self: flex-start;width: 50%;}#sk-container-id-1 div.sk-parallel-item:only-child::after {width: 0;}#sk-container-id-1 div.sk-dashed-wrapped {border: 1px dashed gray;margin: 0 0.4em 0.5em 0.4em;box-sizing: border-box;padding-bottom: 0.4em;background-color: white;}#sk-container-id-1 div.sk-label label {font-family: monospace;font-weight: bold;display: inline-block;line-height: 1.2em;}#sk-container-id-1 div.sk-label-container {text-align: center;}#sk-container-id-1 div.sk-container {/* jupyter's `normalize.less` sets `[hidden] { display: none; }` but bootstrap.min.css set `[hidden] { display: none !important; }` so we also need the `!important` here to be able to override the default hidden behavior on the sphinx rendered scikit-learn.org. See: https://github.com/scikit-learn/scikit-learn/issues/21755 */display: inline-block !important;position: relative;}#sk-container-id-1 div.sk-text-repr-fallback {display: none;}</style><div id=\"sk-container-id-1\" class=\"sk-top-container\"><div class=\"sk-text-repr-fallback\"><pre>LinearRegression()</pre><b>In a Jupyter environment, please rerun this cell to show the HTML representation or trust the notebook. <br />On GitHub, the HTML representation is unable to render, please try loading this page with nbviewer.org.</b></div><div class=\"sk-container\" hidden><div class=\"sk-item\"><div class=\"sk-estimator sk-toggleable\"><input class=\"sk-toggleable__control sk-hidden--visually\" id=\"sk-estimator-id-1\" type=\"checkbox\" checked><label for=\"sk-estimator-id-1\" class=\"sk-toggleable__label sk-toggleable__label-arrow\">LinearRegression</label><div class=\"sk-toggleable__content\"><pre>LinearRegression()</pre></div></div></div></div></div>"
            ],
            "text/plain": [
              "LinearRegression()"
            ]
          },
          "execution_count": 3,
          "metadata": {},
          "output_type": "execute_result"
        }
      ],
      "source": [
        "from sklearn.model_selection import train_test_split    \n",
        "from sklearn.linear_model import LinearRegression\n",
        "from sklearn.metrics import r2_score\n",
        "\n",
        "# importa en df crime.xlsx\n",
        "df = pd.read_excel(\"crime.xlsx\")\n",
        "df.sample(10)\n",
        "\n",
        "# Seleccionamos las caracteristicas que vamos a utilizar que son todas menos ViolentCrimesPerPop\n",
        "X = df.drop(['ViolentCrimesPerPop'], axis=1)\n",
        "\n",
        "# Seleccionamos la variable a predecir\n",
        "Y = df['ViolentCrimesPerPop']\n",
        "\n",
        "# Divide la data en train y test\n",
        "X_train, X_test, Y_train, Y_test = train_test_split(X, Y, test_size=0.3, random_state=42)\n",
        "\n",
        "# Instanciamos el modelo\n",
        "regr = LinearRegression()\n",
        "\n",
        "# Entrenamos el modelo\n",
        "regr.fit(X_train, Y_train)"
      ]
    },
    {
      "cell_type": "code",
      "execution_count": 4,
      "metadata": {
        "colab": {
          "base_uri": "https://localhost:8080/"
        },
        "id": "Y9sNbtX3ThUd",
        "outputId": "e9a99526-29e9-4420-81e3-9142ccfb8894"
      },
      "outputs": [
        {
          "output_type": "execute_result",
          "data": {
            "text/plain": [
              "LinearRegression()"
            ]
          },
          "metadata": {},
          "execution_count": 4
        }
      ],
      "source": [
        "# Vamos a utilizar solo las siguientes caracteristicas para este ejercicio\n",
        "# Para X serán: 'ENGINESIZE','CYLINDERS','FUELCONSUMPTION_CITY','FUELCONSUMPTION_HWY','FUELCONSUMPTION_COMB'\n",
        "# Para Y será: 'CO2EMISSIONS'\n",
        "# Divide la data en train y test con un 70% para train y 30% para test\n",
        "\n",
        "from sklearn.model_selection import train_test_split    \n",
        "from sklearn.linear_model import LinearRegression\n",
        "from sklearn.metrics import r2_score\n",
        "\n",
        "# Seleccionamos las caracteristicas que vamos a utilizar\n",
        "X = df[['ENGINESIZE','CYLINDERS','FUELCONSUMPTION_CITY','FUELCONSUMPTION_HWY','FUELCONSUMPTION_COMB']]\n",
        "\n",
        "# Seleccionamos la variable a predecir\n",
        "Y = df['CO2EMISSIONS']\n",
        "\n",
        "# Divide la data en train y test\n",
        "X_train, X_test, Y_train, Y_test = train_test_split(X, Y, test_size=0.3, random_state=42)\n",
        "\n",
        "# Instanciamos el modelo\n",
        "regr = LinearRegression()\n",
        "\n",
        "# Entrenamos el modelo\n",
        "regr.fit(X_train, Y_train)\n"
      ]
    },
    {
      "cell_type": "code",
      "execution_count": 5,
      "metadata": {
        "colab": {
          "base_uri": "https://localhost:8080/"
        },
        "id": "cLtjNFMdThUd",
        "outputId": "a10e017a-bd33-4ef5-9b34-2c3ef7751ba9"
      },
      "outputs": [
        {
          "output_type": "stream",
          "name": "stdout",
          "text": [
            "MSE train: 563.97\n",
            "MSE test: 502.45\n",
            "R2 train: 0.86\n",
            "R2 test: 0.88\n",
            "El modelo está subajustado\n"
          ]
        },
        {
          "output_type": "execute_result",
          "data": {
            "text/plain": [
              "(563.9675185805852, 502.4460931860747, 0.8590623862972946, 0.8754316437513163)"
            ]
          },
          "metadata": {},
          "execution_count": 5
        }
      ],
      "source": [
        "# Haz una función que entrene un modelo re regresión lineal recibiendo X_train, X_test, Y_train, Y_test\n",
        "# La funcion devuelve el error cuadrático medio (MSE) y el coeficiente de determinación (R2) para train y test\n",
        "# Calcula si el modelo está sobreajustado, subajustado o tiene un buen ajuste\n",
        "\n",
        "from sklearn.metrics import mean_squared_error, r2_score\n",
        "\n",
        "def entrenar_modelo(X_train, X_test, Y_train, Y_test):\n",
        "    # Instanciamos el modelo\n",
        "    regr = LinearRegression()\n",
        "    \n",
        "    # Entrenamos el modelo\n",
        "    regr.fit(X_train, Y_train)\n",
        "    \n",
        "    # Hacemos las predicciones\n",
        "    Y_pred_train = regr.predict(X_train)\n",
        "    Y_pred_test = regr.predict(X_test)\n",
        "    \n",
        "    # Calculamos el MSE\n",
        "    mse_train = mean_squared_error(Y_train, Y_pred_train)\n",
        "    mse_test = mean_squared_error(Y_test, Y_pred_test)\n",
        "    \n",
        "    # Calculamos el R2\n",
        "    r2_train = r2_score(Y_train, Y_pred_train)\n",
        "    r2_test = r2_score(Y_test, Y_pred_test)\n",
        "\n",
        "    # Imprime los resultados\n",
        "    print(\"MSE train: %.2f\" % mse_train)\n",
        "    print(\"MSE test: %.2f\" % mse_test)\n",
        "    print(\"R2 train: %.2f\" % r2_train)\n",
        "    print(\"R2 test: %.2f\" % r2_test)\n",
        "\n",
        "    # calcula si el modelo está sobreajustado, subajustado o tiene un buen ajuste\n",
        "    if r2_train > r2_test:  \n",
        "        print(\"El modelo está sobreajustado\")\n",
        "    elif r2_train < r2_test:\n",
        "        print(\"El modelo está subajustado\")\n",
        "    else:\n",
        "        print(\"El modelo tiene un buen ajuste\")\n",
        "        \n",
        "    return mse_train, mse_test, r2_train, r2_test\n",
        "\n",
        "entrenar_modelo(X_train, X_test, Y_train, Y_test)"
      ]
    },
    {
      "cell_type": "markdown",
      "metadata": {
        "id": "qPDWfbgtThUd"
      },
      "source": [
        "# Ridge"
      ]
    },
    {
      "cell_type": "code",
      "execution_count": 6,
      "metadata": {
        "colab": {
          "base_uri": "https://localhost:8080/"
        },
        "id": "wu0pZZ4lThUd",
        "outputId": "8e7cbcc5-519c-4d9f-84db-35ef74d51f8a"
      },
      "outputs": [
        {
          "output_type": "stream",
          "name": "stdout",
          "text": [
            "     Alpha   MSE_train    MSE_test  R2_train   R2_test\n",
            "0     0.01  563.967776  502.439779  0.859062  0.875433\n",
            "0     0.10  563.984754  502.411339  0.859058  0.875440\n",
            "0     1.00  564.184921  502.503813  0.859008  0.875417\n",
            "0    10.00  564.395773  502.803279  0.858955  0.875343\n",
            "0   100.00  566.180055  506.472236  0.858509  0.874433\n",
            "0  1000.00  600.649998  556.252220  0.849895  0.862092\n",
            "   Alpha   MSE_train    MSE_test  R2_train  R2_test\n",
            "0    0.1  563.984754  502.411339  0.859058  0.87544\n"
          ]
        },
        {
          "output_type": "execute_result",
          "data": {
            "text/plain": [
              "(600.649997953542, 556.2522202760108, 0.8498952961064709, 0.8620918230250779)"
            ]
          },
          "metadata": {},
          "execution_count": 6
        }
      ],
      "source": [
        "# Importa ridge de sklearn.linear_model\n",
        "# Crea una funcion que ajuste un modelo de regresion ridge con diferentes valores de alpha\n",
        "# La funcion debe devolver el MSE y el R2 para train y test\n",
        "\n",
        "from sklearn.linear_model import Ridge\n",
        "\n",
        "def entrenar_modelo_ridge(X_train, X_test, Y_train, Y_test):\n",
        "\n",
        "    # alphas\n",
        "    alphas = [0.01, 0.1, 1.0, 10.0, 100.0, 1000.0]\n",
        "\n",
        "\n",
        "    # Crea una tabla vacia para almacenar los resultados de Alpha, MSE y R2 para train y test\n",
        "    df_ridge = pd.DataFrame(columns=['Alpha', 'MSE_train', 'MSE_test', 'R2_train', 'R2_test'])\n",
        "\n",
        "    # Itera sobre los diferentes valores de alpha\n",
        "    for alpha in alphas:\n",
        "        # Instanciamos el modelo\n",
        "        ridge = Ridge(alpha=alpha)\n",
        "    \n",
        "        # Entrenamos el modelo\n",
        "        ridge.fit(X_train, Y_train)\n",
        "    \n",
        "        # Hacemos las predicciones\n",
        "        Y_pred_train = ridge.predict(X_train)\n",
        "        Y_pred_test = ridge.predict(X_test)\n",
        "    \n",
        "        # Calculamos el MSE\n",
        "        mse_train = mean_squared_error(Y_train, Y_pred_train)\n",
        "        mse_test = mean_squared_error(Y_test, Y_pred_test)\n",
        "        \n",
        "        # Calculamos el R2\n",
        "        r2_train = r2_score(Y_train, Y_pred_train)\n",
        "        r2_test = r2_score(Y_test, Y_pred_test)\n",
        "\n",
        "        # Guarda los resultados en la tabla df_ridge con pandas.concat\n",
        "        df_ridge = pd.concat([df_ridge, pd.DataFrame([[alpha, mse_train, mse_test, r2_train, r2_test]], columns=['Alpha', 'MSE_train', 'MSE_test', 'R2_train', 'R2_test'])])\n",
        "\n",
        "    # Imprime la tabla df_ridge\n",
        "    print(df_ridge)\n",
        "\n",
        "\n",
        "    # ¿Que valor de alpha tiene el mejor R2, imprime todos los valores para ese alpha?\n",
        "    print(df_ridge[df_ridge['R2_test'] == df_ridge['R2_test'].max()])\n",
        "        \n",
        "    return mse_train, mse_test, r2_train, r2_test\n",
        "entrenar_modelo_ridge(X_train, X_test, Y_train, Y_test)"
      ]
    },
    {
      "cell_type": "markdown",
      "metadata": {
        "id": "Zkgat_i8ThUe"
      },
      "source": [
        "# Lasso"
      ]
    },
    {
      "cell_type": "code",
      "execution_count": 7,
      "metadata": {
        "colab": {
          "base_uri": "https://localhost:8080/"
        },
        "id": "17YJeHmiThUe",
        "outputId": "7d2dc232-6f49-4ec0-acfc-8361792f595e"
      },
      "outputs": [
        {
          "output_type": "stream",
          "name": "stdout",
          "text": [
            "    Alpha    MSE_train     MSE_test  R2_train   R2_test\n",
            "0     0.1   564.237008   502.547691  0.858995  0.875406\n",
            "0     1.0   565.659826   504.236856  0.858639  0.874988\n",
            "0     2.0   569.854160   509.378207  0.857591  0.873713\n",
            "0    10.0   638.831620   598.389179  0.840354  0.851645\n",
            "0   100.0  1378.052135  1380.533319  0.655620  0.657733\n",
            "0  1000.0  4001.540141  4038.873834  0.000000 -0.001333\n",
            "El mejor valor de alpha es: \n",
            "   Alpha   MSE_train    MSE_test  R2_train   R2_test\n",
            "0    0.1  564.237008  502.547691  0.858995  0.875406\n"
          ]
        },
        {
          "output_type": "execute_result",
          "data": {
            "text/plain": [
              "(4001.5401408045773, 4038.873834457047, 0.0, -0.0013330414489061138)"
            ]
          },
          "metadata": {},
          "execution_count": 7
        }
      ],
      "source": [
        "# Importa lasso de sklearn.linear_model\n",
        "# Crea una funcion que ajuste un modelo de regresion lasso con diferentes valores de alpha\n",
        "# La funcion debe devolver el MSE y el R2 para train y test\n",
        "\n",
        "\n",
        "from sklearn.linear_model import Lasso\n",
        "\n",
        "def entrenar_modelo_lasso(X_train, X_test, Y_train, Y_test):\n",
        "\n",
        "    # alphas\n",
        "    alphas = [0.1, 1.0, 2, 10.0, 100.0, 1000.0]\n",
        "\n",
        "\n",
        "    # Crea una tabla vacia para almacenar los resultados de Alpha, MSE y R2 para train y test\n",
        "    df_lasso = pd.DataFrame(columns=['Alpha', 'MSE_train', 'MSE_test', 'R2_train', 'R2_test'])\n",
        "\n",
        "    # Itera sobre los diferentes valores de alpha\n",
        "    for alpha in alphas:\n",
        "        # Instanciamos el modelo\n",
        "        lasso = Lasso(alpha=alpha, max_iter = 10000)\n",
        "    \n",
        "        # Entrenamos el modelo\n",
        "        lasso.fit(X_train, Y_train)\n",
        "    \n",
        "        # Hacemos las predicciones\n",
        "        Y_pred_train = lasso.predict(X_train)\n",
        "        Y_pred_test = lasso.predict(X_test)\n",
        "    \n",
        "        # Calculamos el MSE\n",
        "        mse_train = mean_squared_error(Y_train, Y_pred_train)\n",
        "        mse_test = mean_squared_error(Y_test, Y_pred_test)\n",
        "        \n",
        "        # Calculamos el R2\n",
        "        r2_train = r2_score(Y_train, Y_pred_train)\n",
        "        r2_test = r2_score(Y_test, Y_pred_test)\n",
        "        \n",
        "\n",
        "        # Guarda los resultados en la tabla df_ridge con pandas.concat\n",
        "        df_lasso = pd.concat([df_lasso, pd.DataFrame([[alpha, mse_train, mse_test, r2_train, r2_test]], columns=['Alpha', 'MSE_train', 'MSE_test', 'R2_train', 'R2_test'])])\n",
        "\n",
        "    # Imprime la tabla df_ridge\n",
        "    print(df_lasso)\n",
        "\n",
        "\n",
        "    # ¿Que valor de alpha tiene el mejor R2, imprime todos los valores para ese alpha?\n",
        "    print('El mejor valor de alpha es: ')\n",
        "    print(df_lasso[df_lasso['R2_test'] == df_lasso['R2_test'].max()])\n",
        "        \n",
        "    return mse_train, mse_test, r2_train, r2_test\n",
        "entrenar_modelo_lasso(X_train, X_test, Y_train, Y_test)"
      ]
    },
    {
      "cell_type": "markdown",
      "metadata": {
        "id": "ta10_Jh7ThUe"
      },
      "source": [
        "# Polynomial"
      ]
    },
    {
      "cell_type": "code",
      "source": [
        "#@title Ajuste Polinómico en Regresión Lineal\n",
        "\n",
        "import numpy as np\n",
        "import matplotlib.pyplot as plt\n",
        "from sklearn.metrics import mean_squared_error, r2_score\n",
        "\n",
        "# Generar puntos de datos\n",
        "x = np.linspace(1, 7, num=20)\n",
        "y = x ** 2 + np.random.normal(scale=2, size=20)\n",
        "\n",
        "# Crear una figura con dos subplots\n",
        "fig, (ax1, ax2) = plt.subplots(1, 2, figsize=(18, 9))\n",
        "\n",
        "# Graficar el primer gráfico (regresión lineal sin ajuste)\n",
        "ax1.scatter(x, y, color='blue')\n",
        "ax1.set_title('Regresión Lineal Sin Ajuste')\n",
        "ax1.set_xlabel('X')\n",
        "ax1.set_ylabel('Y')\n",
        "\n",
        "# Ajustar una función lineal (grado=1) sin ajuste\n",
        "pendiente, intercep = np.polyfit(x, y, 1)\n",
        "funcion_lineal = np.poly1d((pendiente, intercep))\n",
        "x_vals = np.linspace(x[0], x[-1], 100)\n",
        "y_vals = funcion_lineal(x_vals)\n",
        "ax1.plot(x_vals, y_vals, color='red')\n",
        "\n",
        "# Calcular RMSE y R^2\n",
        "y_pred = funcion_lineal(x)\n",
        "rmse = np.sqrt(mean_squared_error(y, y_pred))\n",
        "r2 = r2_score(y, y_pred)\n",
        "ax1.text(0.05, 0.9, 'RMSE: {:.2f}\\nR$^2$: {:.2f}'.format(rmse, r2),\n",
        "         transform=ax1.transAxes, bbox=dict(facecolor='white', edgecolor='black', pad=10))\n",
        "\n",
        "# Graficar el segundo gráfico (regresión lineal con ajuste polinómico)\n",
        "ax2.scatter(x, y, color='blue')\n",
        "ax2.set_title('Regresión Lineal con Ajuste Polinómico')\n",
        "ax2.set_xlabel('X')\n",
        "ax2.set_ylabel('Y')\n",
        "\n",
        "# Ajustar una función polinómica (grado=2) con ajuste\n",
        "grado = 2\n",
        "coeficientes = np.polyfit(x, y, grado)\n",
        "polinomio = np.poly1d(coeficientes)\n",
        "x_vals = np.linspace(x[0], x[-1], 100)\n",
        "y_vals = polinomio(x_vals)\n",
        "ax2.plot(x_vals, y_vals, color='green')\n",
        "\n",
        "# Calcular RMSE y R^2\n",
        "y_pred = polinomio(x)\n",
        "rmse = np.sqrt(mean_squared_error(y, y_pred))\n",
        "r2 = r2_score(y, y_pred)\n",
        "ax2.text(0.05, 0.9, 'RMSE: {:.2f}\\nR$^2$: {:.2f}'.format(rmse, r2),\n",
        "         transform=ax2.transAxes, bbox=dict(facecolor='white', edgecolor='black', pad=10))\n",
        "\n",
        "# Agregar un título a la figura\n",
        "fig.suptitle('Ajuste Polinómico en Regresión Lineal', fontsize=24)\n",
        "\n",
        "# Ajustar el diseño y mostrar la figura\n",
        "fig.tight_layout()\n",
        "plt.show()"
      ],
      "metadata": {
        "cellView": "form",
        "colab": {
          "base_uri": "https://localhost:8080/",
          "height": 655
        },
        "id": "RArEo2o1QjCV",
        "outputId": "d04cab6f-417f-4ed9-9ddf-2bd81f1f2c5d"
      },
      "execution_count": 5,
      "outputs": [
        {
          "output_type": "display_data",
          "data": {
            "text/plain": [
              "<Figure size 1296x648 with 2 Axes>"
            ],
            "image/png": "[encoded data removed]"
          },
          "metadata": {
            "needs_background": "light"
          }
        }
      ]
    },
    {
      "cell_type": "code",
      "execution_count": 10,
      "metadata": {
        "colab": {
          "base_uri": "https://localhost:8080/"
        },
        "id": "Ds7y9Lp_ThUe",
        "outputId": "cfd0d44d-bef2-4b03-ebdc-775caad386ca"
      },
      "outputs": [
        {
          "output_type": "stream",
          "name": "stdout",
          "text": [
            "Grado:  2\n",
            "Entrenando modelo con Least Squares\n",
            "MSE train: 380.98\n",
            "MSE test: 337.70\n",
            "R2 train: 0.90\n",
            "R2 test: 0.92\n",
            "El modelo está subajustado\n",
            "Entrenando modelo con Ridge\n",
            "     Alpha   MSE_train    MSE_test  R2_train   R2_test\n",
            "0     0.01  382.740983  332.022191  0.904352  0.917684\n",
            "0     0.10  383.732715  331.095538  0.904104  0.917914\n",
            "0     1.00  385.653483  329.002347  0.903624  0.918432\n",
            "0    10.00  387.962734  323.984160  0.903047  0.919677\n",
            "0   100.00  405.256524  325.410634  0.898725  0.919323\n",
            "0  1000.00  485.673015  401.377532  0.878628  0.900489\n",
            "   Alpha   MSE_train   MSE_test  R2_train   R2_test\n",
            "0   10.0  387.962734  323.98416  0.903047  0.919677\n",
            "Entrenando modelo con Lasso\n"
          ]
        },
        {
          "output_type": "stream",
          "name": "stderr",
          "text": [
            "/usr/local/lib/python3.8/dist-packages/sklearn/linear_model/_coordinate_descent.py:647: ConvergenceWarning: Objective did not converge. You might want to increase the number of iterations, check the scale of the features or consider increasing regularisation. Duality gap: 1.066e+05, tolerance: 2.985e+02\n",
            "  model = cd_fast.enet_coordinate_descent(\n"
          ]
        },
        {
          "output_type": "stream",
          "name": "stdout",
          "text": [
            "    Alpha    MSE_train     MSE_test  R2_train   R2_test\n",
            "0     0.1   390.127310   320.093506  0.902506  0.920641\n",
            "0     1.0   416.336475   338.824020  0.895956  0.915997\n",
            "0     2.0   433.714552   358.377102  0.891613  0.911150\n",
            "0    10.0   649.279080   604.713386  0.837743  0.850077\n",
            "0   100.0   752.131795   718.795137  0.812039  0.821794\n",
            "0  1000.0  1234.862667  1270.038721  0.691403  0.685127\n",
            "El mejor valor de alpha es: \n",
            "   Alpha  MSE_train    MSE_test  R2_train   R2_test\n",
            "0    0.1  390.12731  320.093506  0.902506  0.920641\n",
            "Grado:  3\n",
            "Entrenando modelo con Least Squares\n",
            "MSE train: 415.79\n",
            "MSE test: 497.16\n",
            "R2 train: 0.90\n",
            "R2 test: 0.88\n",
            "El modelo está sobreajustado\n",
            "Entrenando modelo con Ridge\n",
            "     Alpha   MSE_train    MSE_test  R2_train   R2_test\n",
            "0     0.01  258.008025  284.139367  0.935523  0.929555\n",
            "0     0.10  260.580562  282.467337  0.934880  0.929970\n",
            "0     1.00  264.045350  277.086679  0.934014  0.931304\n",
            "0    10.00  274.040649  280.337659  0.931516  0.930498\n",
            "0   100.00  316.579666  325.463595  0.920886  0.919310\n",
            "0  1000.00  357.380398  350.956271  0.910689  0.912990\n",
            "   Alpha  MSE_train    MSE_test  R2_train   R2_test\n",
            "0    1.0  264.04535  277.086679  0.934014  0.931304\n",
            "Entrenando modelo con Lasso\n"
          ]
        },
        {
          "output_type": "stream",
          "name": "stderr",
          "text": [
            "/usr/local/lib/python3.8/dist-packages/sklearn/linear_model/_coordinate_descent.py:647: ConvergenceWarning: Objective did not converge. You might want to increase the number of iterations, check the scale of the features or consider increasing regularisation. Duality gap: 1.235e+05, tolerance: 2.985e+02\n",
            "  model = cd_fast.enet_coordinate_descent(\n",
            "/usr/local/lib/python3.8/dist-packages/sklearn/linear_model/_coordinate_descent.py:647: ConvergenceWarning: Objective did not converge. You might want to increase the number of iterations, check the scale of the features or consider increasing regularisation. Duality gap: 1.404e+05, tolerance: 2.985e+02\n",
            "  model = cd_fast.enet_coordinate_descent(\n",
            "/usr/local/lib/python3.8/dist-packages/sklearn/linear_model/_coordinate_descent.py:647: ConvergenceWarning: Objective did not converge. You might want to increase the number of iterations, check the scale of the features or consider increasing regularisation. Duality gap: 1.377e+05, tolerance: 2.985e+02\n",
            "  model = cd_fast.enet_coordinate_descent(\n",
            "/usr/local/lib/python3.8/dist-packages/sklearn/linear_model/_coordinate_descent.py:647: ConvergenceWarning: Objective did not converge. You might want to increase the number of iterations, check the scale of the features or consider increasing regularisation. Duality gap: 5.847e+04, tolerance: 2.985e+02\n",
            "  model = cd_fast.enet_coordinate_descent(\n"
          ]
        },
        {
          "output_type": "stream",
          "name": "stdout",
          "text": [
            "    Alpha   MSE_train    MSE_test  R2_train   R2_test\n",
            "0     0.1  313.311141  272.643257  0.921702  0.932405\n",
            "0     1.0  352.011790  298.307796  0.912031  0.926042\n",
            "0     2.0  426.529953  378.007037  0.893409  0.906283\n",
            "0    10.0  456.196223  411.377966  0.885995  0.898010\n",
            "0   100.0  523.441667  479.808531  0.869190  0.881044\n",
            "0  1000.0  919.923240  924.283855  0.770108  0.770848\n",
            "El mejor valor de alpha es: \n",
            "   Alpha   MSE_train    MSE_test  R2_train   R2_test\n",
            "0    0.1  313.311141  272.643257  0.921702  0.932405\n"
          ]
        }
      ],
      "source": [
        "# Crea una función que ajuste un modelo de regresión polinomial con diferentes grados\n",
        "# Importa PolynomialFeatures    \n",
        "# Crea objeto PolynomialFeatures con el grado deseado\n",
        "# La funcion debe devolver el MSE y el R2 para train y test\n",
        "\n",
        "from sklearn.preprocessing import PolynomialFeatures\n",
        "\n",
        "def entrenar_modelo_polinomial(X_train, X_test, Y_train, Y_test):\n",
        "    \n",
        "        # grados\n",
        "        grados = [2, 3]\n",
        "    \n",
        "        # Crea una tabla vacia para almacenar los resultados de grado, MSE y R2 para train y test\n",
        "        df_polinomial = pd.DataFrame(columns=['Grado', 'MSE_train', 'MSE_test', 'R2_train', 'R2_test', 'Modelo'])\n",
        "    \n",
        "        # Itera sobre los diferentes grados\n",
        "        for grado in grados:\n",
        "            \n",
        "            # Instanciamos el objeto transformador PolynomialFeatures\n",
        "            poly = PolynomialFeatures(degree=grado)\n",
        "            \n",
        "            # Transforma los datos de entrenamiento y prueba en un conjunto de características polinómicas\n",
        "            X_train_poly = poly.fit_transform(X_train)\n",
        "            X_test_poly = poly.transform(X_test)\n",
        "\n",
        "            print('Grado: ', grado)\n",
        "            \n",
        "             # Entrenamos el modelo con Least Squares\n",
        "            print('Entrenando modelo con Least Squares')\n",
        "            mse_train, mse_test, r2_train, r2_test = entrenar_modelo(X_train_poly, X_test_poly, Y_train, Y_test)\n",
        "\n",
        "            # Añadimos los resultados a la tabla df_polinomial\n",
        "            df_polinomial = pd.concat([df_polinomial, pd.DataFrame([[grado, mse_train, mse_test, r2_train, r2_test, 'Least Squares']], columns=['Grado', 'MSE_train', 'MSE_test', 'R2_train', 'R2_test', 'Modelo'])])\n",
        "\n",
        "            # Entrenamos el modelo con Ridge\n",
        "            print('Entrenando modelo con Ridge')\n",
        "            entrenar_modelo_ridge(X_train_poly, X_test_poly, Y_train, Y_test)\n",
        "\n",
        "            # Entrenamos el modelo con Lasso\n",
        "            print('Entrenando modelo con Lasso')\n",
        "            entrenar_modelo_lasso(X_train_poly, X_test_poly, Y_train, Y_test)\n",
        "            \n",
        "        return None\n",
        "\n",
        "entrenar_modelo_polinomial(X_train, X_test, Y_train, Y_test)"
      ]
    },
    {
      "cell_type": "markdown",
      "source": [
        "# Normalización Min-Max"
      ],
      "metadata": {
        "id": "hxItYtXaSy3j"
      }
    },
    {
      "cell_type": "code",
      "source": [
        "#@title Min Max Norm\n",
        "\n",
        "import numpy as np\n",
        "import matplotlib.pyplot as plt\n",
        "from sklearn.preprocessing import MinMaxScaler\n",
        "\n",
        "# Generar puntos de datos\n",
        "x = np.linspace(-30, 500, num=100)\n",
        "y = 2 * x + np.random.normal(scale=10, size=100)\n",
        "\n",
        "# Normalizar los datos utilizando la normalización min-max\n",
        "scaler = MinMaxScaler()\n",
        "x_norm = scaler.fit_transform(x.reshape(-1, 1)).ravel()\n",
        "y_norm = y.reshape(-1, 1).ravel()\n",
        "\n",
        "# Crear una figura con dos subplots\n",
        "fig, (ax1, ax2) = plt.subplots(1, 2, figsize=(18, 9))\n",
        "\n",
        "# Graficar el primer gráfico (datos originales)\n",
        "ax1.scatter(x, y, color='blue')\n",
        "ax1.set_title('Datos Originales')\n",
        "ax1.set_xlabel('X')\n",
        "ax1.set_ylabel('Y')\n",
        "\n",
        "# Graficar el segundo gráfico (datos normalizados)\n",
        "ax2.scatter(x_norm, y_norm, color='red')\n",
        "ax2.set_title('Datos Normalizados')\n",
        "ax2.set_xlabel('X (Normalizado)')\n",
        "ax2.set_ylabel('Y (Normalizado)')\n",
        "\n",
        "# Agregar un título a la figura\n",
        "fig.suptitle('Normalización Min-Max', fontsize=24)\n",
        "\n",
        "# Ajustar el diseño y mostrar la figura\n",
        "fig.tight_layout()\n",
        "plt.show()\n",
        "\n"
      ],
      "metadata": {
        "cellView": "form",
        "colab": {
          "base_uri": "https://localhost:8080/",
          "height": 655
        },
        "id": "qkf0HpbQS3B0",
        "outputId": "78196744-bb52-4bb4-ed27-6c84df422b09"
      },
      "execution_count": 6,
      "outputs": [
        {
          "output_type": "display_data",
          "data": {
            "text/plain": [
              "<Figure size 1296x648 with 2 Axes>"
            ],
            "image/png": "[encoded data removed]"
          },
          "metadata": {
            "needs_background": "light"
          }
        }
      ]
    },
    {
      "cell_type": "code",
      "execution_count": null,
      "metadata": {
        "id": "alVbL84WThUe",
        "outputId": "816f48dd-d420-4279-dffa-b8ec577cca05"
      },
      "outputs": [
        {
          "ename": "NameError",
          "evalue": "name 'X_train' is not defined",
          "output_type": "error",
          "traceback": [
            "\u001b[0;31m---------------------------------------------------------------------------\u001b[0m",
            "\u001b[0;31mNameError\u001b[0m                                 Traceback (most recent call last)",
            "\u001b[1;32m/Users/julianmaya/dev/ClaseMachineLearning/SupervisedLearning/Classification/LinearRegEjercicio.ipynb Celda 14\u001b[0m in \u001b[0;36m<cell line: 40>\u001b[0;34m()\u001b[0m\n\u001b[1;32m     <a href='vscode-notebook-cell:/Users/julianmaya/dev/ClaseMachineLearning/SupervisedLearning/Classification/LinearRegEjercicio.ipynb#X30sZmlsZQ%3D%3D?line=35'>36</a>\u001b[0m         \u001b[39mprint\u001b[39m(\u001b[39m'\u001b[39m\u001b[39mEntrenando modelo con Lasso\u001b[39m\u001b[39m'\u001b[39m)\n\u001b[1;32m     <a href='vscode-notebook-cell:/Users/julianmaya/dev/ClaseMachineLearning/SupervisedLearning/Classification/LinearRegEjercicio.ipynb#X30sZmlsZQ%3D%3D?line=36'>37</a>\u001b[0m         entrenar_modelo_lasso(X_train_scaled, X_test_scaled, Y_train, Y_test)\n\u001b[0;32m---> <a href='vscode-notebook-cell:/Users/julianmaya/dev/ClaseMachineLearning/SupervisedLearning/Classification/LinearRegEjercicio.ipynb#X30sZmlsZQ%3D%3D?line=39'>40</a>\u001b[0m entrenar_modelo_normalizado(X_train, X_test, Y_train, Y_test)\n",
            "\u001b[0;31mNameError\u001b[0m: name 'X_train' is not defined"
          ]
        }
      ],
      "source": [
        "# Crea una función que normalice los datos de train y test utilizando MinMaxScaler\n",
        "# Importa MinMaxScaler de sklearn.preprocessing\n",
        "# Crea objeto MinMaxScaler los datos de train y test\n",
        "# Ajustar el escalador a los datos de entrenamiento y transformar los datos\n",
        "# Crear un objeto LinearRegression y ajustar el modelo a los datos de entrenamiento escalados\n",
        "# Transformar los datos de prueba utilizando el mismo objeto escalador\n",
        "# Realizar predicciones sobre los datos de prueba escalados utilizando el modelo entrenado\n",
        "# Evaluar el rendimiento del modelo\n",
        "\n",
        "\n",
        "from sklearn.preprocessing import MinMaxScaler\n",
        "\n",
        "def entrenar_modelo_normalizado(X_train, X_test, Y_train, Y_test):\n",
        "    \n",
        "        # Instancia MinMaxScaler\n",
        "        scaler = MinMaxScaler()\n",
        "    \n",
        "        # Ajusta el escalador a los datos de entrenamiento\n",
        "        scaler.fit_transform(X_train)\n",
        "    \n",
        "        # Transforma los datos de entrenamiento\n",
        "        X_train_scaled = scaler.transform(X_train)\n",
        "    \n",
        "        # Transforma los datos de prueba\n",
        "        X_test_scaled = scaler.transform(X_test)\n",
        "\n",
        "        # Entrenamos el modelo con Least Squares\n",
        "        print('Entrenando modelo con Least Squares')\n",
        "        entrenar_modelo(X_train_scaled, X_test_scaled, Y_train, Y_test)\n",
        "\n",
        "        # Entrenamos el modelo con Ridge\n",
        "        print('Entrenando modelo con Ridge')\n",
        "        entrenar_modelo_ridge(X_train_scaled, X_test_scaled, Y_train, Y_test)\n",
        "\n",
        "        # Entrenamos el modelo con Lasso\n",
        "        print('Entrenando modelo con Lasso')\n",
        "        entrenar_modelo_lasso(X_train_scaled, X_test_scaled, Y_train, Y_test)\n",
        "\n",
        "\n",
        "entrenar_modelo_normalizado(X_train, X_test, Y_train, Y_test)"
      ]
    },
    {
      "cell_type": "code",
      "execution_count": null,
      "metadata": {
        "id": "tam3W-ZvThUf",
        "outputId": "a6d95afe-5324-4b34-88a3-542bde5fcc9b"
      },
      "outputs": [
        {
          "name": "stderr",
          "output_type": "stream",
          "text": [
            "/Users/julianmaya/opt/anaconda3/lib/python3.9/site-packages/sklearn/linear_model/_ridge.py:212: LinAlgWarning: Ill-conditioned matrix (rcond=5.89638e-17): result may not be accurate.\n",
            "  return linalg.solve(A, Xy, sym_pos=True, overwrite_a=True).T\n"
          ]
        },
        {
          "name": "stdout",
          "output_type": "stream",
          "text": [
            "     Alpha      MSE_train       MSE_test  R2_train   R2_test\n",
            "0     0.01  126485.659256  136488.021736  0.679168  0.597819\n",
            "0     0.10  126489.212877  136432.800581  0.679159  0.597982\n",
            "0     1.00  126592.977465  136188.777925  0.678895  0.598701\n",
            "0    10.00  127269.849475  136274.239301  0.677178  0.598449\n",
            "0   100.00  127941.644070  136316.739051  0.675474  0.598324\n",
            "0  1000.00  130038.697393  137499.471957  0.670155  0.594839\n",
            "   Alpha      MSE_train       MSE_test  R2_train   R2_test\n",
            "0    1.0  126592.977465  136188.777925  0.678895  0.598701\n"
          ]
        },
        {
          "data": {
            "text/plain": [
              "(130038.69739325832,\n",
              " 137499.47195725673,\n",
              " 0.6701552327178322,\n",
              " 0.5948390564598236)"
            ]
          },
          "metadata": {},
          "output_type": "display_data"
        }
      ],
      "source": [
        "# Importa ridge de sklearn.linear_model\n",
        "# Crea una funcion que ajuste un modelo de regresion ridge con diferentes valores de alpha\n",
        "# La funcion debe devolver el MSE y el R2 para train y test\n",
        "\n",
        "from sklearn.linear_model import Ridge\n",
        "\n",
        "def entrenar_modelo_ridge(X_train, X_test, Y_train, Y_test):\n",
        "\n",
        "    # alphas\n",
        "    alphas = [0.01, 0.1, 1.0, 10.0, 100.0, 1000.0]\n",
        "\n",
        "\n",
        "    # Crea una tabla vacia para almacenar los resultados de Alpha, MSE y R2 para train y test\n",
        "    df_ridge = pd.DataFrame(columns=['Alpha', 'MSE_train', 'MSE_test', 'R2_train', 'R2_test'])\n",
        "\n",
        "    # Itera sobre los diferentes valores de alpha\n",
        "    for alpha in alphas:\n",
        "        # Instanciamos el modelo\n",
        "        ridge = Ridge(alpha=alpha)\n",
        "    \n",
        "        # Entrenamos el modelo\n",
        "        ridge.fit(X_train, Y_train)\n",
        "    \n",
        "        # Hacemos las predicciones\n",
        "        Y_pred_train = ridge.predict(X_train)\n",
        "        Y_pred_test = ridge.predict(X_test)\n",
        "    \n",
        "        # Calculamos el MSE\n",
        "        mse_train = mean_squared_error(Y_train, Y_pred_train)\n",
        "        mse_test = mean_squared_error(Y_test, Y_pred_test)\n",
        "        \n",
        "        # Calculamos el R2\n",
        "        r2_train = r2_score(Y_train, Y_pred_train)\n",
        "        r2_test = r2_score(Y_test, Y_pred_test)\n",
        "\n",
        "        # Guarda los resultados en la tabla df_ridge con pandas.concat\n",
        "        df_ridge = pd.concat([df_ridge, pd.DataFrame([[alpha, mse_train, mse_test, r2_train, r2_test]], columns=['Alpha', 'MSE_train', 'MSE_test', 'R2_train', 'R2_test'])])\n",
        "\n",
        "    # Imprime la tabla df_ridge\n",
        "    print(df_ridge)\n",
        "\n",
        "\n",
        "    # ¿Que valor de alpha tiene el mejor R2, imprime todos los valores para ese alpha?\n",
        "    print(df_ridge[df_ridge['R2_test'] == df_ridge['R2_test'].max()])\n",
        "        \n",
        "    return mse_train, mse_test, r2_train, r2_test\n",
        "entrenar_modelo_ridge(X_train, X_test, Y_train, Y_test)"
      ]
    },
    {
      "cell_type": "code",
      "execution_count": null,
      "metadata": {
        "id": "QsUC0wZUThUf"
      },
      "outputs": [],
      "source": []
    },
    {
      "cell_type": "code",
      "execution_count": null,
      "metadata": {
        "id": "Ad2R86FEThUf"
      },
      "outputs": [],
      "source": []
    },
    {
      "cell_type": "code",
      "execution_count": null,
      "metadata": {
        "id": "UNryZO5pThUf"
      },
      "outputs": [],
      "source": []
    },
    {
      "cell_type": "code",
      "execution_count": null,
      "metadata": {
        "id": "6OU5U1MGThUf"
      },
      "outputs": [],
      "source": []
    },
    {
      "cell_type": "code",
      "execution_count": null,
      "metadata": {
        "id": "7j5t2ZhtThUf"
      },
      "outputs": [],
      "source": []
    }
  ],
  "metadata": {
    "kernelspec": {
      "display_name": "Python 3",
      "language": "python",
      "name": "python3"
    },
    "language_info": {
      "codemirror_mode": {
        "name": "ipython",
        "version": 3
      },
      "file_extension": ".py",
      "mimetype": "text/x-python",
      "name": "python",
      "nbconvert_exporter": "python",
      "pygments_lexer": "ipython3",
      "version": "3.10.9"
    },
    "orig_nbformat": 4,
    "vscode": {
      "interpreter": {
        "hash": "b0fa6594d8f4cbf19f97940f81e996739fb7646882a419484c72d19e05852a7e"
      }
    },
    "colab": {
      "provenance": [],
      "include_colab_link": true
    }
  },
  "nbformat": 4,
  "nbformat_minor": 0
}