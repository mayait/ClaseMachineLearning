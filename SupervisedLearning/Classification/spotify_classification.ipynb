{
  "nbformat": 4,
  "nbformat_minor": 0,
  "metadata": {
    "colab": {
      "name": "spotify_2021.ipynb",
      "provenance": [],
      "include_colab_link": true
    },
    "kernelspec": {
      "name": "python3",
      "display_name": "Python 3"
    }
  },
  "cells": [
    {
      "cell_type": "markdown",
      "metadata": {
        "id": "view-in-github",
        "colab_type": "text"
      },
      "source": [
        "<a href=\"https://colab.research.google.com/github/mayait/ClaseAnalisisDatos/blob/main/python101/spotify_parte2.ipynb\" target=\"_parent\"><img src=\"https://colab.research.google.com/assets/colab-badge.svg\" alt=\"Open In Colab\"/></a>"
      ]
    },
    {
      "cell_type": "markdown",
      "metadata": {
        "id": "WRu0frwDSYq_"
      },
      "source": [
        "\n",
        "Vamos a conectarnos a un API externo para procesar datos en vivo de Spotify, usaremos *pandas* para serializar los datos y luego vamos a exportarlos a Excel\n",
        "\n"
      ]
    },
    {
      "cell_type": "markdown",
      "metadata": {
        "id": "MWAfJjdNC5mr"
      },
      "source": [
        "**Crea tu API**\n",
        "1. Registrate en Spotify para obtener tus credenciales de API \n",
        "https://developer.spotify.com/dashboard/\n",
        "2. Create an APP y asignale un nombre\n",
        "3. Copia tus credenciales de spotify el client_ID y el SECRET\n",
        "\n",
        "\n",
        "\n"
      ]
    },
    {
      "cell_type": "code",
      "metadata": {
        "id": "kf5o8TAEDz7J",
        "cellView": "form"
      },
      "source": [
        "#@title Tus credenciales de spotify\n",
        "\n",
        "client_id = \"\" #@param {type:\"string\"}\n",
        "client_secret = \"\" #@param {type:\"string\"}"
      ],
      "execution_count": 8,
      "outputs": []
    },
    {
      "cell_type": "markdown",
      "source": [
        "\n",
        "**Ahora ve a Spotify y averigua cual es tu usuario**\n",
        "https://www.spotify.com/us/account/overview/\n",
        "\n",
        "*PRO TIP: Prueba el usuario \"spotify\" tiene listas increibles!!*\n"
      ],
      "metadata": {
        "id": "1l5pssZayez8"
      }
    },
    {
      "cell_type": "code",
      "metadata": {
        "id": "-c40ilxvMKag",
        "cellView": "form"
      },
      "source": [
        "#@title Ingresa tu usuario de Spotify\n",
        "mi_username = \"spotify\" #@param {type:\"string\"}"
      ],
      "execution_count": 2,
      "outputs": []
    },
    {
      "cell_type": "code",
      "metadata": {
        "id": "WGQqkJPEDkkM",
        "cellView": "form",
        "colab": {
          "base_uri": "https://localhost:8080/"
        },
        "outputId": "ea1c1544-a7ec-425d-f2fe-0d4b9c68bb56"
      },
      "source": [
        "#@title Ejecuta el setup\n",
        "\n",
        "\n",
        "# Instala SPOTIPY\n",
        "# pip es una herramienta que importa librerias externas que no tengas instaladas\n",
        "! pip install spotipy\n",
        "\n",
        "# Vamos a utilizar todas estas librerias\n",
        "import spotipy\n",
        "spotify = spotipy.Spotify()\n",
        "import sys\n",
        "import pandas as pd\n",
        "from spotipy.oauth2 import SpotifyClientCredentials\n",
        "from bs4 import BeautifulSoup\n",
        "import requests\n",
        "import lxml\n",
        "import json\n",
        "\n",
        "# Librerías para visualización\n",
        "import seaborn as sns\n",
        "\n",
        "import matplotlib\n",
        "import matplotlib.pyplot as plt\n",
        "\n",
        "# Hay diferentes temas de graficos https://matplotlib.org/3.5.1/gallery/style_sheets/style_sheets_reference.html\n",
        "matplotlib.style.use('fast') "
      ],
      "execution_count": 3,
      "outputs": [
        {
          "output_type": "stream",
          "name": "stdout",
          "text": [
            "Looking in indexes: https://pypi.org/simple, https://us-python.pkg.dev/colab-wheels/public/simple/\n",
            "Collecting spotipy\n",
            "  Downloading spotipy-2.21.0-py3-none-any.whl (28 kB)\n",
            "Collecting urllib3>=1.26.0\n",
            "  Downloading urllib3-1.26.12-py2.py3-none-any.whl (140 kB)\n",
            "\u001b[K     |████████████████████████████████| 140 kB 12.7 MB/s \n",
            "\u001b[?25hRequirement already satisfied: six>=1.15.0 in /usr/local/lib/python3.7/dist-packages (from spotipy) (1.15.0)\n",
            "Collecting redis>=3.5.3\n",
            "  Downloading redis-4.3.5-py3-none-any.whl (248 kB)\n",
            "\u001b[K     |████████████████████████████████| 248 kB 40.4 MB/s \n",
            "\u001b[?25hCollecting requests>=2.25.0\n",
            "  Downloading requests-2.28.1-py3-none-any.whl (62 kB)\n",
            "\u001b[K     |████████████████████████████████| 62 kB 977 kB/s \n",
            "\u001b[?25hRequirement already satisfied: typing-extensions in /usr/local/lib/python3.7/dist-packages (from redis>=3.5.3->spotipy) (4.1.1)\n",
            "Requirement already satisfied: packaging>=20.4 in /usr/local/lib/python3.7/dist-packages (from redis>=3.5.3->spotipy) (21.3)\n",
            "Requirement already satisfied: async-timeout>=4.0.2 in /usr/local/lib/python3.7/dist-packages (from redis>=3.5.3->spotipy) (4.0.2)\n",
            "Requirement already satisfied: importlib-metadata>=1.0 in /usr/local/lib/python3.7/dist-packages (from redis>=3.5.3->spotipy) (4.13.0)\n",
            "Requirement already satisfied: zipp>=0.5 in /usr/local/lib/python3.7/dist-packages (from importlib-metadata>=1.0->redis>=3.5.3->spotipy) (3.10.0)\n",
            "Requirement already satisfied: pyparsing!=3.0.5,>=2.0.2 in /usr/local/lib/python3.7/dist-packages (from packaging>=20.4->redis>=3.5.3->spotipy) (3.0.9)\n",
            "Requirement already satisfied: charset-normalizer<3,>=2 in /usr/local/lib/python3.7/dist-packages (from requests>=2.25.0->spotipy) (2.1.1)\n",
            "Requirement already satisfied: idna<4,>=2.5 in /usr/local/lib/python3.7/dist-packages (from requests>=2.25.0->spotipy) (2.10)\n",
            "Requirement already satisfied: certifi>=2017.4.17 in /usr/local/lib/python3.7/dist-packages (from requests>=2.25.0->spotipy) (2022.9.24)\n",
            "Installing collected packages: urllib3, requests, redis, spotipy\n",
            "  Attempting uninstall: urllib3\n",
            "    Found existing installation: urllib3 1.24.3\n",
            "    Uninstalling urllib3-1.24.3:\n",
            "      Successfully uninstalled urllib3-1.24.3\n",
            "  Attempting uninstall: requests\n",
            "    Found existing installation: requests 2.23.0\n",
            "    Uninstalling requests-2.23.0:\n",
            "      Successfully uninstalled requests-2.23.0\n",
            "Successfully installed redis-4.3.5 requests-2.28.1 spotipy-2.21.0 urllib3-1.26.12\n"
          ]
        }
      ]
    },
    {
      "cell_type": "code",
      "metadata": {
        "id": "PmPhDGstEtgv",
        "cellView": "form"
      },
      "source": [
        "#@title Funciones para conectarse a Spotify\n",
        "\n",
        "def get_spotify_credentials():\n",
        "    # Esta funcion conecta spotify con tus credenciales\n",
        "    client_credentials_manager = SpotifyClientCredentials(client_id=client_id, client_secret=client_secret)\n",
        "    sp = spotipy.Spotify(client_credentials_manager=client_credentials_manager)\n",
        "    sp.trace = True\n",
        "    return sp\n",
        "\n",
        "def get_spotify_data(artist_name):\n",
        "\n",
        "    # obtner la autorizaciones con espotify\n",
        "    sp = get_spotify_credentials()\n",
        "\n",
        "    # Busquemos el artista\n",
        "    results = sp.search(q='artist:' + artist_name, type='artist')\n",
        "    items = results['artists']['items']\n",
        "    if len(items) > 0:\n",
        "        artist = items[0]\n",
        "\n",
        "    uri = artist['uri']\n",
        "\n",
        "    # Obtengamos los albums\n",
        "    results = sp.artist_albums(uri, album_type='album')\n",
        "    albums = results['items']\n",
        "\n",
        "    while results['next']:\n",
        "        results = sp.next(results)\n",
        "        albums.extend(results['items'])\n",
        "\n",
        "    uris = []\n",
        "    track_names = []\n",
        "    album_names = []\n",
        "\n",
        "    # Saquemos info de los tracks de los albums\n",
        "    for album in albums:\n",
        "        for t in sp.album(album['uri'])['tracks']['items']:\n",
        "            uris.append(t['uri'])\n",
        "            track_names.append(t['name'])\n",
        "            album_names.append(album['name'])\n",
        "    features = []\n",
        "    for i in range(len(uris)// 100 + 1):\n",
        "        fs = sp.audio_features(uris[i*100:min((i+1)*100, len(uris))])\n",
        "        if fs[0] is not None:\n",
        "            features.extend(fs)\n",
        "    print(features)\n",
        "\n",
        "    # Convirtamos esto a un DataFrame de Pandas!\n",
        "    dat = pd.DataFrame(features)\n",
        "    dat['track_name'] = track_names\n",
        "    dat['album'] = album_names\n",
        "    dat['artists'] = artist_name\n",
        "\n",
        "\n",
        "    dat.set_index('track_name', inplace=True)\n",
        "    dat.drop_duplicates(inplace=True)\n",
        "    dat = dat[~dat.index.duplicated(keep='first')]\n",
        "\n",
        "    return dat"
      ],
      "execution_count": 4,
      "outputs": []
    },
    {
      "cell_type": "code",
      "source": [
        "#@title Función obtener playlists\n",
        "\n",
        "def get_user_playlist(username=mi_username, sp=get_spotify_credentials()):\n",
        "    playlists = sp.user_playlists(username) # Obtener todos los playlist\n",
        "    while playlists['next']:\n",
        "        for playlist in playlists['items']:\n",
        "            print(\"ID: {} \\t Canciones {}\\t  Nombre: {} \".\n",
        "                  format(playlist['id'], playlist['tracks']['total'], playlist['name']))\n",
        "        playlists = sp.next(playlists)\n",
        "\n",
        "# También podemos definir una función que obtenga los datos de la lista de reproducción de un usuario.\n",
        "def get_spotify_playlist_data(username, playlist_id):\n",
        "\n",
        "    track_number_limit = 1000     # Pongamos un limite de tracks a Analizar\n",
        "\n",
        "    # De nuevo hagamos login en spotify\n",
        "    # Ven lo util de hacer funciones, no tengo que volverlo a escribir todo!!!!\n",
        "    sp = get_spotify_credentials()\n",
        "\n",
        "    results = sp.user_playlist(username, playlist_id, fields=\"tracks,next\")['tracks']\n",
        "    \n",
        "    # Mira los resultados que vienen del API\n",
        "    # print(json.dumps(results, indent=4)) # Comenta esta linea despues\n",
        "\n",
        "    tracks = results['items']\n",
        "    while results['next'] and len(tracks) < track_number_limit:\n",
        "        results = sp.next(results)\n",
        "        if results['items'][0] is not None:\n",
        "            tracks.extend(results['items'])\n",
        "\n",
        "    ts = []\n",
        "    track_names = []\n",
        "\n",
        "    for t in tracks:\n",
        "        track = t['track']\n",
        "        track['album'] = track['album']['name']\n",
        "        track_names.append(t['track']['name'])\n",
        "        artists = []\n",
        "        for a in track['artists']:\n",
        "            artists.append(a['name'])\n",
        "        track['artists'] = ', '.join(artists)\n",
        "        ts.append(track)\n",
        "\n",
        "    uris = []\n",
        "    dat = pd.DataFrame(ts)\n",
        "\n",
        "    dat.drop(['available_markets', 'disc_number', 'external_ids', 'external_urls'], axis=1, inplace=True)\n",
        "\n",
        "    features = []\n",
        "\n",
        "    for i in range(len(dat)// 100 + 1):\n",
        "        fs = sp.audio_features(dat.uri.iloc[i*100:min((i+1)*100, len(dat))])\n",
        "        if fs[0] is not None:\n",
        "            features.extend(fs)\n",
        "\n",
        "    fs = pd.DataFrame(features)\n",
        "\n",
        "    dat = pd.concat([dat, fs], axis=1)\n",
        "    dat['track_name'] = track_names\n",
        "\n",
        "\n",
        "    dat.set_index('track_name', inplace=True)\n",
        "    dat = dat[~dat.index.duplicated(keep='first')]\n",
        "    dat = dat.T[~dat.T.index.duplicated(keep='first')].T\n",
        "\n",
        "    return dat"
      ],
      "metadata": {
        "id": "x4VXHzwhBwvi",
        "cellView": "form"
      },
      "execution_count": 5,
      "outputs": []
    },
    {
      "cell_type": "code",
      "metadata": {
        "id": "ewVqsdFlEu5i"
      },
      "source": [
        "# Busquemos canciones de algun artista y guardemoslo en una variable\n",
        "canciones_de_artista = get_spotify_data('Queen')"
      ],
      "execution_count": null,
      "outputs": []
    },
    {
      "cell_type": "code",
      "metadata": {
        "id": "euvshrEeFWYp"
      },
      "source": [
        "# Veamos las columnas que tenemos!\n",
        "print(canciones_de_artista.shape[0], \"canciones\")\n",
        "print(canciones_de_artista.columns)"
      ],
      "execution_count": null,
      "outputs": []
    },
    {
      "cell_type": "code",
      "metadata": {
        "id": "symw34LcFVf9"
      },
      "source": [
        "canciones_de_artista.sample(3)"
      ],
      "execution_count": null,
      "outputs": []
    },
    {
      "cell_type": "code",
      "metadata": {
        "id": "GhYUeyDPfRny"
      },
      "source": [
        "# Exportemos el dataframe a Excel\n",
        "canciones_de_artista.to_excel(r'canciones.xlsx', sheet_name='canciones', index = False)"
      ],
      "execution_count": null,
      "outputs": []
    },
    {
      "cell_type": "markdown",
      "metadata": {
        "id": "meXo_dXBMlHg"
      },
      "source": [
        "# Canciones en una playlist\n",
        "\n",
        "**Awsome!!!**\n",
        "\n",
        "Como era de esperar, podemos ver que para cada pista hemos obtenido las propiedades acústicas deseadas (junto con alguna información sobre su ubicación en la base de datos de Spotify). \n",
        "\n"
      ]
    },
    {
      "cell_type": "markdown",
      "source": [
        "**Encuentra el ID del playlist que quieres analizar entre todos tus playlists**\n",
        "La siguiente función imprime tus playlists y los id de cada lista, copia en el portapapeles el ID de la playlist que quieres analizar"
      ],
      "metadata": {
        "id": "jwgqw42HBOq9"
      }
    },
    {
      "cell_type": "code",
      "metadata": {
        "id": "_LWd55UgPe6i",
        "colab": {
          "base_uri": "https://localhost:8080/",
          "height": 1000
        },
        "outputId": "733f27fc-605a-4a87-a26f-4a5e08a13104"
      },
      "source": [
        "# Esta función suele obtener tus playlists\n",
        "get_user_playlist()"
      ],
      "execution_count": null,
      "outputs": [
        {
          "output_type": "stream",
          "name": "stdout",
          "text": [
            "ID: 37i9dQZF1DXcBWIGoYBM5M \t Canciones 50\t  Nombre: Today's Top Hits \n",
            "ID: 37i9dQZF1DX0XUsuxWHRQd \t Canciones 50\t  Nombre: RapCaviar \n",
            "ID: 37i9dQZF1DX1lVhptIYRda \t Canciones 52\t  Nombre: Hot Country \n",
            "ID: 37i9dQZF1DX10zKzsJ2jva \t Canciones 50\t  Nombre: Viva Latino \n",
            "ID: 37i9dQZF1DX4JAvHpjipBk \t Canciones 104\t  Nombre: New Music Friday \n",
            "ID: 37i9dQZF1DX4sWSpwq3LiO \t Canciones 297\t  Nombre: Peaceful Piano \n",
            "ID: 37i9dQZF1DX4SBhb3fqCJd \t Canciones 50\t  Nombre: Are & Be \n",
            "ID: 37i9dQZF1DWXRqgorJj26U \t Canciones 165\t  Nombre: Rock Classics \n",
            "ID: 37i9dQZF1DX4dyzvuaRJ0n \t Canciones 88\t  Nombre: mint \n",
            "ID: 37i9dQZF1DXcF6B6QPhFDv \t Canciones 51\t  Nombre: Rock This \n",
            "ID: 37i9dQZF1DWXJfnUiYjUKT \t Canciones 96\t  Nombre: New Music Friday \n",
            "ID: 37i9dQZF1DXcRXFNfZr7Tp \t Canciones 100\t  Nombre: just hits \n",
            "ID: 37i9dQZF1DX4o1oenSJRJd \t Canciones 150\t  Nombre: All Out 2000s \n",
            "ID: 37i9dQZF1DXbTxeAdrVG2l \t Canciones 150\t  Nombre: All Out 90s \n",
            "ID: 37i9dQZF1DX4UtSsGT1Sbe \t Canciones 150\t  Nombre: All Out 80s \n",
            "ID: 37i9dQZF1DWTJ7xPn4vNaz \t Canciones 150\t  Nombre: All Out 70s \n",
            "ID: 37i9dQZF1DXaKIA8E7WcJj \t Canciones 150\t  Nombre: All Out 60s \n",
            "ID: 37i9dQZF1DWSV3Tk4GO2fq \t Canciones 150\t  Nombre: All Out 50s \n",
            "ID: 37i9dQZF1DWTwnEm1IYyoj \t Canciones 100\t  Nombre: Soft Pop Hits \n",
            "ID: 37i9dQZF1DX2A29LI7xHn1 \t Canciones 100\t  Nombre: Signed XOXO \n",
            "ID: 37i9dQZF1DX2RxBh64BHjQ \t Canciones 100\t  Nombre: Most Necessary \n",
            "ID: 37i9dQZF1DWVA1Gq4XHa6U \t Canciones 47\t  Nombre: Gold School \n",
            "ID: 37i9dQZF1DWY4xHQp97fN6 \t Canciones 100\t  Nombre: Get Turnt \n",
            "ID: 37i9dQZF1DWX3387IZmjNa \t Canciones 53\t  Nombre: B.A.E. \n",
            "ID: 37i9dQZF1DWYkaDif7Ztbp \t Canciones 72\t  Nombre: African Heat \n",
            "ID: 37i9dQZF1DX5hR0J49CmXC \t Canciones 50\t  Nombre: Mind Right \n",
            "ID: 37i9dQZF1DXan38dNVDdl4 \t Canciones 52\t  Nombre: Dancehall Official \n",
            "ID: 37i9dQZF1DWSvKsRPPnv5o \t Canciones 52\t  Nombre: Westside Story \n",
            "ID: 37i9dQZF1DWUVpAXiEPK8P \t Canciones 50\t  Nombre: Power Workout \n",
            "ID: 37i9dQZF1DX0Tkc6ltcBfU \t Canciones 50\t  Nombre: No Cap \n",
            "ID: 37i9dQZF1DX1YPTAhwehsC \t Canciones 99\t  Nombre: State of Mind \n",
            "ID: 37i9dQZF1DWTggY0yqBxES \t Canciones 50\t  Nombre: Alternative Hip-Hop \n",
            "ID: 37i9dQZF1DX0HRj9P7NxeE \t Canciones 50\t  Nombre: Workout Twerkout \n",
            "ID: 37i9dQZF1DWT6SJaitNDax \t Canciones 100\t  Nombre: We Everywhere \n",
            "ID: 37i9dQZF1DX2r0FByV5U4C \t Canciones 26\t  Nombre: Black History Salute \n",
            "ID: 37i9dQZF1DWT2jS7NwYPVI \t Canciones 126\t  Nombre: New Noise \n",
            "ID: 37i9dQZF1DX82GYcclJ3Ug \t Canciones 126\t  Nombre: The New Alt \n",
            "ID: 37i9dQZF1DX49jUV2NfGku \t Canciones 75\t  Nombre: Rock Solid \n",
            "ID: 37i9dQZF1DX1Jg9KZ76Rr9 \t Canciones 100\t  Nombre: Rock This: Best of 2017 \n",
            "ID: 37i9dQZF1DX8FwnYE6PRvL \t Canciones 80\t  Nombre: Rock Party \n",
            "ID: 37i9dQZF1DX6mvEU1S6INL \t Canciones 100\t  Nombre: You & Me \n",
            "ID: 37i9dQZF1DX2SK4ytI2KAZ \t Canciones 150\t  Nombre: It's ALT Good! \n",
            "ID: 37i9dQZF1DWZkHEX2YHpDV \t Canciones 150\t  Nombre: The Scene \n",
            "ID: 37i9dQZF1DWWJOmJ7nRx0C \t Canciones 150\t  Nombre: Rock Hard \n",
            "ID: 37i9dQZF1DZ06evO1nTCV2 \t Canciones 50\t  Nombre: This Is Ryan Adams \n",
            "ID: 37i9dQZF1DZ06evO4m87u0 \t Canciones 50\t  Nombre: This Is The Black Keys \n",
            "ID: 37i9dQZF1DZ06evO2CLCA8 \t Canciones 50\t  Nombre: This Is Tom Petty and the Heartbreakers \n",
            "ID: 37i9dQZF1DZ06evO3M0Fbi \t Canciones 39\t  Nombre: This Is Nirvana \n",
            "ID: 37i9dQZF1DZ06evO0EhHXi \t Canciones 50\t  Nombre: This Is Ramones \n",
            "ID: 37i9dQZF1DZ06evO4nBpII \t Canciones 50\t  Nombre: This Is Green Day \n",
            "ID: 37i9dQZF1DZ06evNZXcOE4 \t Canciones 39\t  Nombre: This Is Jane's Addiction \n",
            "ID: 37i9dQZF1DZ06evO1vHAZO \t Canciones 47\t  Nombre: This Is Oasis \n",
            "ID: 37i9dQZF1DZ06evO00jzcA \t Canciones 50\t  Nombre: This Is KISS \n",
            "ID: 37i9dQZF1DWY6vTWIdZ54A \t Canciones 145\t  Nombre: Dirty Rock \n",
            "ID: 37i9dQZF1DX1rVvRgjX59F \t Canciones 150\t  Nombre: 90s Rock Anthems \n",
            "ID: 37i9dQZF1DX6ALfRKlHn1t \t Canciones 100\t  Nombre: Soak Up the Sun \n",
            "ID: 37i9dQZF1DXa9xHlDa5fc6 \t Canciones 125\t  Nombre: License To Chill \n",
            "ID: 37i9dQZF1DX2aneNMeYHQ8 \t Canciones 100\t  Nombre: Rockin' Vibes \n",
            "ID: 37i9dQZF1DWXs1L3AC0Xio \t Canciones 100\t  Nombre: Rock Ballads \n",
            "ID: 37i9dQZF1DXa6YOhGMjjgx \t Canciones 100\t  Nombre: New Alt-Rock Mixtape \n",
            "ID: 37i9dQZF1DXcfZ6moR6J0G \t Canciones 80\t  Nombre: Nu Metal Era \n",
            "ID: 37i9dQZF1DWXMg4uP5o3dm \t Canciones 100\t  Nombre: Alternative Beats \n",
            "ID: 37i9dQZF1DX2S9rTKTX6JP \t Canciones 125\t  Nombre: Rock Covers \n",
            "ID: 37i9dQZF1DX6ujZpAN0v9r \t Canciones 175\t  Nombre: Shoegaze Classics \n",
            "ID: 37i9dQZF1DX0wiundViT27 \t Canciones 75\t  Nombre: Rock Me Up \n",
            "ID: 37i9dQZF1DWYwMzXER4RFF \t Canciones 55\t  Nombre: Post Punk \n",
            "ID: 37i9dQZF1DX9wa6XirBPv8 \t Canciones 75\t  Nombre: Emo Forever \n",
            "ID: 37i9dQZF1DXaGNG7NmtmZv \t Canciones 50\t  Nombre: Classic Hardcore \n",
            "ID: 37i9dQZF1DWZjmJmeiazwd \t Canciones 100\t  Nombre: Ultimate Rock Gaming \n",
            "ID: 37i9dQZF1DX8S0uQvJ4gaa \t Canciones 67\t  Nombre: New Boots \n",
            "ID: 37i9dQZF1DX5mB2C8gBeUM \t Canciones 86\t  Nombre: Wild Country \n",
            "ID: 37i9dQZF1DWYnwbYQ5HnZU \t Canciones 95\t  Nombre: Country Gold \n",
            "ID: 37i9dQZF1DX3Ee0ngF5ZVQ \t Canciones 100\t  Nombre: Texas Country Now \n",
            "ID: 37i9dQZF1DWYiR2Uqcon0X \t Canciones 75\t  Nombre: Country Coffeehouse \n",
            "ID: 37i9dQZF1DWW7RgkOJG32Y \t Canciones 66\t  Nombre: Breakout Country \n",
            "ID: 37i9dQZF1DX8WMG8VPSOJC \t Canciones 85\t  Nombre: Country Kind of Love \n",
            "ID: 37i9dQZF1DWXi7h4mmmkzD \t Canciones 100\t  Nombre: Country Nights \n",
            "ID: 37i9dQZF1DWTkxQvqMy4WW \t Canciones 80\t  Nombre: Chillin' on a Dirt Road \n",
            "ID: 37i9dQZF1DWU2LcZVHsTdv \t Canciones 79\t  Nombre: Country by the Grace of God \n",
            "ID: 37i9dQZF1DWVpjAJGB70vU \t Canciones 150\t  Nombre: 90s Country \n",
            "ID: 37i9dQZF1DX24Kh15JFQJ0 \t Canciones 92\t  Nombre: New Traditions Country Heroes \n",
            "ID: 37i9dQZF1DXbDjX0hus3Iu \t Canciones 106\t  Nombre: Southern Rock 101 \n",
            "ID: 37i9dQZF1DXc0fQ4sGOnVJ \t Canciones 54\t  Nombre: Field Party \n",
            "ID: 0NfjMqrzcGKVsbYZmhf4Md \t Canciones 50\t  Nombre: Classic Honky Tonk \n",
            "ID: 37i9dQZF1DWWH0izG4erma \t Canciones 100\t  Nombre: Country Rocks \n",
            "ID: 37i9dQZF1DWUzFXarNiofw \t Canciones 105\t  Nombre: New Jams \n",
            "ID: 37i9dQZF1DX4y8h9WqDPAE \t Canciones 95\t  Nombre: Channel-X \n",
            "ID: 37i9dQZF1DWXnexX7CktaI \t Canciones 50\t  Nombre: Gold Edition \n",
            "ID: 37i9dQZF1DWSfMe9z89s9B \t Canciones 100\t  Nombre: Alternative R&B \n",
            "ID: 37i9dQZF1DX2UgsUIg75Vg \t Canciones 115\t  Nombre: Chilled R&B \n",
            "ID: 37i9dQZF1DX2Ma8k80RiMN \t Canciones 40\t  Nombre: The Sweet Suite \n",
            "ID: 37i9dQZF1DWY12BqhkMFW2 \t Canciones 35\t  Nombre: Soul Revived \n",
            "ID: 37i9dQZF1DX62Nfha2yFhL \t Canciones 61\t  Nombre: Soul Lounge \n",
            "ID: 37i9dQZF1DWVEvzGeX3eRs \t Canciones 47\t  Nombre: '90s Baby Makers \n",
            "ID: 37i9dQZF1DWTJNOeepZTGy \t Canciones 50\t  Nombre: Wine & Dine \n",
            "ID: 37i9dQZF1DX7OIddoQVdRt \t Canciones 40\t  Nombre: Spread the Gospel \n",
            "ID: 37i9dQZF1DX70TzPK5buVf \t Canciones 80\t  Nombre: Funk Outta Here \n",
            "ID: 37i9dQZF1DX6VDO8a6cQME \t Canciones 75\t  Nombre: I Love My '90s R&B \n",
            "ID: 37i9dQZF1DX0H8hDpv38Ju \t Canciones 40\t  Nombre: ’80s Jam Session \n",
            "ID: 37i9dQZF1DWYmmr74INQlb \t Canciones 100\t  Nombre: I Love My '00s R&B \n",
            "ID: 37i9dQZF1DWSIO2QWRavWZ \t Canciones 50\t  Nombre: Queen \n",
            "ID: 37i9dQZF1DWSRMdeGCgprt \t Canciones 23\t  Nombre: The Rhythm \n",
            "ID: 37i9dQZF1DX8tZsk68tuDw \t Canciones 100\t  Nombre: Dance Rising \n",
            "ID: 37i9dQZF1DXcZDD7cfEKhW \t Canciones 100\t  Nombre: Pop Remix \n",
            "ID: 37i9dQZF1DX0BcQWzuB7ZO \t Canciones 73\t  Nombre: Dance Hits \n",
            "ID: 37i9dQZF1DXa8NOEUWPn9W \t Canciones 100\t  Nombre: Housewerk \n",
            "ID: 37i9dQZF1DXa41CMuUARjl \t Canciones 101\t  Nombre: New Music Friday Dance \n",
            "ID: 37i9dQZF1DX0hvSv9Rf41p \t Canciones 150\t  Nombre: Bass Arcade \n",
            "ID: 37i9dQZF1DWXLeA8Omikj7 \t Canciones 100\t  Nombre: Brain Food \n",
            "ID: 37i9dQZF1DX0r3x8OtiwEM \t Canciones 60\t  Nombre: Lowkey Tech \n",
            "ID: 37i9dQZF1DX6VdMW310YC7 \t Canciones 200\t  Nombre: Chill Tracks \n",
            "ID: 37i9dQZF1DX8a1tdzq5tbM \t Canciones 120\t  Nombre: Dance Classics \n",
            "ID: 37i9dQZF1DX5GiUwx1edLZ \t Canciones 100\t  Nombre: mint Acoustic \n",
            "ID: 37i9dQZF1DXdgz8ZB7c2CP \t Canciones 125\t  Nombre: creamy \n",
            "ID: 37i9dQZF1DXaXB8fQg7xif \t Canciones 150\t  Nombre: Dance Party \n",
            "ID: 37i9dQZF1DX2TRYkJECvfC \t Canciones 200\t  Nombre: Deep House Relax \n",
            "ID: 37i9dQZF1DX32NsLKyzScr \t Canciones 100\t  Nombre: Power Hour \n",
            "ID: 37i9dQZF1DWTfrr8pte1rT \t Canciones 125\t  Nombre: Rocktronic \n",
            "ID: 37i9dQZF1DX0pH2SQMRXnC \t Canciones 200\t  Nombre: Hardstyle Bangers \n",
            "ID: 37i9dQZF1DWSf2RDTDayIx \t Canciones 150\t  Nombre: Happy Beats \n",
            "ID: 37i9dQZF1DX4eRPd9frC1m \t Canciones 75\t  Nombre: Hype \n",
            "ID: 37i9dQZF1DX8CopunbDxgW \t Canciones 100\t  Nombre: metropolis \n",
            "ID: 37i9dQZF1DWVY4eLfA3XFQ \t Canciones 100\t  Nombre: Operator \n",
            "ID: 37i9dQZF1DX6GJXiuZRisr \t Canciones 100\t  Nombre: Night Rider \n",
            "ID: 37i9dQZF1DX2pprEpa9URZ \t Canciones 60\t  Nombre: Orgánica \n",
            "ID: 37i9dQZF1DX2VvACCrgjrt \t Canciones 125\t  Nombre: Nasty Bits \n",
            "ID: 37i9dQZF1DX1tW4VlEfDSS \t Canciones 60\t  Nombre: Groove Theory \n",
            "ID: 37i9dQZF1DWUq3wF0JVtEy \t Canciones 100\t  Nombre: Shuffle Syndrome \n",
            "ID: 37i9dQZF1DWYzMfRQj22Nd \t Canciones 80\t  Nombre: Stepping Out \n",
            "ID: 37i9dQZF1DX91oIci4su1D \t Canciones 200\t  Nombre: Trance Mission \n",
            "ID: 37i9dQZF1DX1OIMC8iDi74 \t Canciones 100\t  Nombre: Trap Mojito \n",
            "ID: 37i9dQZF1DWSrVdvTl1tVY \t Canciones 80\t  Nombre: UK House Music \n",
            "ID: 37i9dQZF1DWSRc3WJklgBs \t Canciones 230\t  Nombre: Heart Beats \n",
            "ID: 37i9dQZF1DX5Q27plkaOQ3 \t Canciones 125\t  Nombre: Dubstep Don \n",
            "ID: 37i9dQZF1DX3FNkD0kDpDV \t Canciones 39\t  Nombre: ADE 2022 Guest List \n",
            "ID: 37i9dQZF1DX3XjJqhm9fqD \t Canciones 100\t  Nombre: Haitian Heat \n",
            "ID: 37i9dQZF1DX7nGw3hwYw03 \t Canciones 41\t  Nombre: This Is Alesso \n",
            "ID: 37i9dQZF1DWZUWZIwpqsT3 \t Canciones 89\t  Nombre: This Is Alok \n",
            "ID: 37i9dQZF1DWW3gTjSx5Dc7 \t Canciones 22\t  Nombre: This Is Axwell Λ Ingrosso \n",
            "ID: 37i9dQZF1DWY1XXKzcWtF3 \t Canciones 205\t  Nombre: This Is David Mancuso \n",
            "ID: 37i9dQZF1DX94qaYRnkufr \t Canciones 89\t  Nombre: This Is Martin Garrix \n",
            "ID: 37i9dQZF1DZ06evO3j5vfW \t Canciones 50\t  Nombre: This Is Nicky Romero \n",
            "ID: 37i9dQZF1DX2kvBlhyEkb6 \t Canciones 63\t  Nombre: This Is Tchaikovsky \n",
            "ID: 37i9dQZF1DX37CqNpZIOOZ \t Canciones 58\t  Nombre: This Is Richard Strauss \n",
            "ID: 37i9dQZF1DX5ZPNS2aXuN4 \t Canciones 60\t  Nombre: This Is Bartók \n",
            "ID: 37i9dQZF1DX1tT8vLysk8r \t Canciones 61\t  Nombre: This Is Prokofiev \n",
            "ID: 37i9dQZF1DX5M3XSYkKZCl \t Canciones 50\t  Nombre: This Is: Pavarotti \n",
            "ID: 37i9dQZF1DXaQQM8OxjxoC \t Canciones 59\t  Nombre: This Is Brahms \n",
            "ID: 37i9dQZF1DX6Hln2awUHXX \t Canciones 61\t  Nombre: This Is Wagner \n",
            "ID: 37i9dQZF1DWVTUSNpU0pKJ \t Canciones 60\t  Nombre: This Is Satie \n",
            "ID: 37i9dQZF1DWZhMbcax6CUd \t Canciones 69\t  Nombre: This Is Ravel \n",
            "ID: 37i9dQZF1DX30FdZ6jR5Gl \t Canciones 47\t  Nombre: This Is Philip Glass \n",
            "ID: 37i9dQZF1DWTBNkoD4HmYd \t Canciones 66\t  Nombre: This Is Vivaldi \n",
            "ID: 37i9dQZF1DX93wmY669mVj \t Canciones 62\t  Nombre: This Is Liszt \n",
            "ID: 37i9dQZF1DWXnRw5VvmZDb \t Canciones 59\t  Nombre: This Is Debussy \n",
            "ID: 37i9dQZF1DWY3VlkBR4Jhb \t Canciones 66\t  Nombre: This Is Schubert \n",
            "ID: 37i9dQZF1DX16wERbfwQvR \t Canciones 62\t  Nombre: This Is Haydn \n",
            "ID: 37i9dQZF1DX12YIlzNkccL \t Canciones 86\t  Nombre: This Is Beethoven \n",
            "ID: 37i9dQZF1DX8qqIDAkKiQg \t Canciones 69\t  Nombre: This Is Mozart \n",
            "ID: 37i9dQZF1DX9ZP5oobcNgA \t Canciones 61\t  Nombre: This Is Handel \n",
            "ID: 37i9dQZF1DWZnzwzLBft6A \t Canciones 73\t  Nombre: This Is Bach \n",
            "ID: 37i9dQZF1DX0FIO61wizta \t Canciones 60\t  Nombre: This Is Verdi \n",
            "ID: 37i9dQZF1DWXN6CDDJDZSt \t Canciones 68\t  Nombre: This Is Puccini \n",
            "ID: 37i9dQZF1DX0VplLa7NC0a \t Canciones 60\t  Nombre: This Is Rossini \n",
            "ID: 37i9dQZF1DWV0gynK7G6pD \t Canciones 70\t  Nombre: Classical New Releases \n",
            "ID: 37i9dQZF1DXafCT9DHTijq \t Canciones 49\t  Nombre: Classical Halloween \n",
            "ID: 37i9dQZF1DXcj60FvXn3Et \t Canciones 51\t  Nombre: Women of Soundtracks \n",
            "ID: 37i9dQZF1DXajUXy2f1Dsi \t Canciones 100\t  Nombre: Top Latin Classical \n",
            "ID: 37i9dQZF1DXbIeCFU20wRm \t Canciones 42\t  Nombre: Atmospheric Sci-fi Soundtracks \n",
            "ID: 37i9dQZF1DWVfS4Cdd3PNf \t Canciones 61\t  Nombre: Opera Classics \n",
            "ID: 37i9dQZF1DX7cBprxbt1Fn \t Canciones 67\t  Nombre: Gentle Classical \n",
            "ID: 37i9dQZF1DWZtZ8vUCzche \t Canciones 150\t  Nombre: Songs To Test Headphones With \n",
            "ID: 37i9dQZF1DX1W7If2h64K3 \t Canciones 60\t  Nombre: This Is Schumann \n",
            "ID: 37i9dQZF1DWWYlokKRoQoC \t Canciones 94\t  Nombre: This Is John Prine \n",
            "ID: 1scnlLVq91NGtsA9sh0hfw \t Canciones 53\t  Nombre: Nicholas Sparks | Songs from the Soundtracks \n",
            "ID: 37i9dQZF1DX3LyU0mhfqgP \t Canciones 75\t  Nombre: Out Now \n",
            "ID: 37i9dQZF1DX59HcpGmPXYR \t Canciones 60\t  Nombre: Pride Party \n",
            "ID: 37i9dQZF1DWTMR78LDoAZC \t Canciones 75\t  Nombre: Alternative Pride \n",
            "ID: 37i9dQZF1DWX82ahbDuQIz \t Canciones 90\t  Nombre: Best of Broadway \n",
            "ID: 37i9dQZF1DXbmCTvLQy5AO \t Canciones 51\t  Nombre: Work It, Own It \n",
            "ID: 37i9dQZF1DWZZCoBbLu26P \t Canciones 61\t  Nombre: Fierce \n",
            "ID: 37i9dQZF1DX5TMFhaZc9ov \t Canciones 80\t  Nombre: Queer As Folk \n",
            "ID: 37i9dQZF1DWTLrNDPW5co2 \t Canciones 60\t  Nombre: Club Resistance \n",
            "ID: 37i9dQZF1DX2GKumqRIZ7g \t Canciones 50\t  Nombre: Disco Fever \n",
            "ID: 37i9dQZF1DWZTHlwqNeZ4l \t Canciones 27\t  Nombre: Tegan and Sara: Pride \n",
            "ID: 37i9dQZF1DX6WKkjNUHy2F \t Canciones 26\t  Nombre: Adam Lambert: Pride \n",
            "ID: 37i9dQZF1DXajWk2WkW4sa \t Canciones 23\t  Nombre: Kathy Griffin #PressPlayForPride \n",
            "ID: 37i9dQZF1DX7wHseZmxqFF \t Canciones 27\t  Nombre: Little Mix: Pride \n",
            "ID: 37i9dQZF1DWTWaD7ByJaBc \t Canciones 23\t  Nombre: MNEK: Pride \n",
            "ID: 37i9dQZF1DX4yLn8TpmS3h \t Canciones 26\t  Nombre: Years & Years: Pride \n",
            "ID: 37i9dQZF1DX8SiEKUUEVVi \t Canciones 29\t  Nombre: Conchita: Pride \n",
            "ID: 37i9dQZF1DWYHkSks5rujC \t Canciones 49\t  Nombre: The Long and Winding Road \n",
            "ID: 37i9dQZF1DX5k1GSjYBi0z \t Canciones 50\t  Nombre: All You Need Is Love \n",
            "ID: 37i9dQZF1DWZreqadA03A8 \t Canciones 51\t  Nombre: Lucy In The Sky With Diamonds \n",
            "ID: 37i9dQZF1DXdwF9DytRe8w \t Canciones 50\t  Nombre: Here Comes The Sun \n",
            "ID: 37i9dQZF1DXcHV6YH5zTsV \t Canciones 50\t  Nombre: Twist and Shout \n",
            "ID: 37i9dQZF1DWVDVRzaLYm4M \t Canciones 50\t  Nombre: This Is George Harrison \n",
            "ID: 37i9dQZF1DX5CrSNP0mzoZ \t Canciones 57\t  Nombre: This is: Sir George Martin \n",
            "ID: 37i9dQZF1DWVs8I62NcHks \t Canciones 82\t  Nombre: Disney Favorites \n",
            "ID: 37i9dQZF1DZ06evO19UBIk \t Canciones 48\t  Nombre: This Is The Doors \n",
            "ID: 37i9dQZF1DZ06evO49hLQA \t Canciones 50\t  Nombre: This Is AC/DC \n",
            "ID: 37i9dQZF1DWZUozJiHy44Y \t Canciones 27\t  Nombre: This Is Adele \n",
            "ID: 37i9dQZF1DZ06evO3WooFO \t Canciones 51\t  Nombre: This Is blink-182 \n",
            "ID: 37i9dQZF1DX177vQ7mVRmP \t Canciones 50\t  Nombre: This Is Bruno Mars \n",
            "ID: 37i9dQZF1DWWxPM4nWdhyI \t Canciones 43\t  Nombre: This Is Ed Sheeran \n",
            "ID: 37i9dQZF1DWVstK6FYh8Nw \t Canciones 50\t  Nombre: This Is Future \n",
            "ID: 37i9dQZF1DX3Csy1LFxjkI \t Canciones 40\t  Nombre: This Is James Arthur \n",
            "ID: 37i9dQZF1DWYrlaUEYy4Vg \t Canciones 60\t  Nombre: This Is John Mayer \n",
            "ID: 37i9dQZF1DXc2aPBXGmXrt \t Canciones 62\t  Nombre: This Is Justin Bieber \n",
            "ID: 37i9dQZF1DXc7FZ2VBjaeT \t Canciones 50\t  Nombre: This Is Lady Gaga \n",
            "ID: 37i9dQZF1DZ06evO0yp56w \t Canciones 50\t  Nombre: This Is Muse \n",
            "ID: 37i9dQZF1DX8OYzU0lx5hL \t Canciones 50\t  Nombre: This Is Nina Simone \n",
            "ID: 37i9dQZF1DWThFkopzOaNW \t Canciones 46\t  Nombre: This Is New Edition \n",
            "ID: 37i9dQZF1DX6p4TJxzMRDe \t Canciones 50\t  Nombre: This Is One Direction \n",
            "ID: 37i9dQZF1DXbZBKpgxsyXU \t Canciones 45\t  Nombre: This Is OneRepublic \n",
            "ID: 37i9dQZF1DX6JzJ8vAK836 \t Canciones 80\t  Nombre: This Is Prince \n",
            "ID: 37i9dQZF1DZ06evO19s0CZ \t Canciones 50\t  Nombre: This Is The Rolling Stones \n",
            "ID: 37i9dQZF1DX6bnzK9KPvrz \t Canciones 65\t  Nombre: This Is The Weeknd \n",
            "ID: 37i9dQZF1DZ06evO02Y0rS \t Canciones 47\t  Nombre: This Is Bonobo \n",
            "ID: 37i9dQZF1DZ06evO1S7maQ \t Canciones 51\t  Nombre: This Is Bruce Springsteen \n",
            "ID: 37i9dQZF1DWZAkrucRF6Gq \t Canciones 43\t  Nombre: This Is Daft Punk \n",
            "ID: 37i9dQZF1DX7VulteLVOkq \t Canciones 48\t  Nombre: This Is Elton John \n",
            "ID: 37i9dQZF1DX7QOv5kjbU68 \t Canciones 117\t  Nombre: This Is Drake \n",
            "ID: 37i9dQZF1DWY24WaVcCqqH \t Canciones 61\t  Nombre: This Is Little Mix \n",
            "ID: 37i9dQZF1DWXDAhqlN7e6W \t Canciones 100\t  Nombre: This Is: Max Martin \n",
            "ID: 37i9dQZF1DWYEHBVWXZn8H \t Canciones 65\t  Nombre: This Is Nick Cave \n",
            "ID: 37i9dQZF1DWWhBhYl3ZMvY \t Canciones 50\t  Nombre: This Is Rihanna \n",
            "ID: 37i9dQZF1DX8IAL5KfmFJA \t Canciones 52\t  Nombre: This Is Roxette \n",
            "ID: 37i9dQZF1DX5WbJFtYTzv7 \t Canciones 62\t  Nombre: This Is: Skepta \n",
            "ID: 37i9dQZF1DWWUJdr9ahsbf \t Canciones 42\t  Nombre: This Is Spice Girls \n",
            "ID: 37i9dQZF1DX9AFOBBZSMWw \t Canciones 69\t  Nombre: This Is Stormzy \n",
            "ID: 37i9dQZF1DX4c84KflUhSt \t Canciones 50\t  Nombre: This Is Tony Bennett \n",
            "ID: 37i9dQZF1DX4s3V2rTswzO \t Canciones 44\t  Nombre: Classical Romance \n",
            "ID: 37i9dQZF1DWXjj6kdiviS0 \t Canciones 37\t  Nombre: Baroque Classics \n",
            "ID: 37i9dQZF1DWVx3vT1QCKCV \t Canciones 52\t  Nombre: This Is John Coltrane \n",
            "ID: 2NFOUmp2wyR5CrXtKDkUkB \t Canciones 67\t  Nombre: 1960s Nostalgia \n",
            "ID: 1o2bTwofazfzElA5mXGf2t \t Canciones 44\t  Nombre: Breakup Blues \n",
            "ID: 6cdV0hVW2suJaMOxzwE46S \t Canciones 38\t  Nombre: I Hate My Job. \n",
            "ID: 2uhsnHgI4F2eFyvoMHY0GR \t Canciones 42\t  Nombre: Instrumental Rock \n",
            "ID: 2uVP1agvV5rba3MqLQ0pzy \t Canciones 45\t  Nombre: Avant Folk \n",
            "ID: 37i9dQZF1DX3BqHI5fuXWV \t Canciones 75\t  Nombre: This Is Miles Davis \n",
            "ID: 0BbcjurkvWrkWxKKLzcqIP \t Canciones 70\t  Nombre: The Perfect Crafternoon \n",
            "ID: 37i9dQZF1DX2mmt7R81K2b \t Canciones 48\t  Nombre: Jazz Meets Classical \n",
            "ID: 44XJR1i3Vl2B3acOEYwinE \t Canciones 79\t  Nombre: Power Ballads \n",
            "ID: 37i9dQZF1DWVV27DiNWxkR \t Canciones 91\t  Nombre: Sad Indie \n",
            "ID: 2YeGkAUQhmO8TCjSMbFYWf \t Canciones 22\t  Nombre: Energy + Positivity \n",
            "ID: 37i9dQZF1DWTwzVdyRpXm1 \t Canciones 68\t  Nombre: Desi Hits \n",
            "ID: 0op6xwVK9pVhcxozSQPEsJ \t Canciones 93\t  Nombre: Namaste \n",
            "ID: 2Ph68VcwRfqRdnrKhY3oPS \t Canciones 63\t  Nombre: Rustic Romance Wedding \n",
            "ID: 2VxQy0Q22k1gP542tzaMCN \t Canciones 58\t  Nombre: Word of Mouth \n",
            "ID: 37i9dQZF1DXcDxnC0UqHJa \t Canciones 115\t  Nombre: Folksy Covers \n",
            "ID: 0sDO43KAaJUWIYassTKWYf \t Canciones 39\t  Nombre: Indie Strings \n",
            "ID: 2B64RN7KJte5x6iXgg02tv \t Canciones 20\t  Nombre: Vinyasa Flow \n",
            "ID: 3OUguxmuL5x24sMAw4qPku \t Canciones 57\t  Nombre: Acoustic Commute \n",
            "ID: 37i9dQZF1DWXJyjYpHunCf \t Canciones 100\t  Nombre: Folk Pop \n",
            "ID: 37i9dQZF1DX0IyMQV27EGn \t Canciones 70\t  Nombre: Femme Fatale \n",
            "ID: 37i9dQZF1DX79Y9Kr2M2tM \t Canciones 100\t  Nombre: Chill + Atmospheric \n",
            "ID: 37i9dQZF1DWU6Vfrf87eTG \t Canciones 115\t  Nombre: Indie Folk for Focus \n",
            "ID: 5v2J2noHVxPWgSrOw6lZsp \t Canciones 157\t  Nombre: Summertime Vibes \n",
            "ID: 37i9dQZF1DWTVIaV4KJYuq \t Canciones 110\t  Nombre: Classic Covers \n",
            "ID: 1W2XJETQjFYdzT4GuhBHmS \t Canciones 37\t  Nombre: More Banjo! \n",
            "ID: 37i9dQZF1DX8gLrc0tlHvS \t Canciones 71\t  Nombre: Stomp & Holler \n",
            "ID: 37i9dQZF1DX0611i4oGheJ \t Canciones 125\t  Nombre: Soft + Slow \n",
            "ID: 37i9dQZF1DX7Y2xcY13mN1 \t Canciones 50\t  Nombre: 50 Irish Folk Songs \n",
            "ID: 37i9dQZF1DX56crgoe4TG3 \t Canciones 113\t  Nombre: Bluegrass Covers \n",
            "ID: 37i9dQZF1DX0RwLEp3x6W4 \t Canciones 56\t  Nombre: Bluegrass Origins \n",
            "ID: 43rSnXFDoctqiZxvEqH14P \t Canciones 56\t  Nombre: Chill as Folk \n",
            "ID: 37i9dQZF1DWSNmwgf7Nv11 \t Canciones 160\t  Nombre: Boho + Chill \n",
            "ID: 37i9dQZF1DX6dvuioZhoLo \t Canciones 100\t  Nombre: Vintage Vibes \n",
            "ID: 37i9dQZF1DX0yL7UvjSKZT \t Canciones 132\t  Nombre: Indie Bluegrass \n",
            "ID: 37i9dQZF1DXaUDcU6KDCj4 \t Canciones 161\t  Nombre: Fresh Folk \n",
            "ID: 1IKDP8o4UvpfLh0SJX2e1b \t Canciones 81\t  Nombre: The New Bohemian \n",
            "ID: 37i9dQZF1DX9HwI3Crikcm \t Canciones 86\t  Nombre: Irish Folk \n",
            "ID: 37i9dQZF1DXcFk5r8uS3l2 \t Canciones 75\t  Nombre: Blues Roots \n",
            "ID: 44Ht3IACEyKqiLBZupIhIk \t Canciones 29\t  Nombre: Sweetgrass \n",
            "ID: 37i9dQZF1DWV5vqkTng2MA \t Canciones 90\t  Nombre: the new retro \n",
            "ID: 37i9dQZF1DWXnscMH24yOc \t Canciones 100\t  Nombre: Chill Covers \n",
            "ID: 37i9dQZF1DWVvXA824aCbn \t Canciones 150\t  Nombre: The Piano Bar \n",
            "ID: 37i9dQZF1DWVFJtzvDHN4L \t Canciones 61\t  Nombre: Cinematic Chillout \n",
            "ID: 37i9dQZF1DXe5Q8muTQked \t Canciones 250\t  Nombre: Ultimate Covers \n",
            "ID: 37i9dQZF1DX9G9wwzwWL2k \t Canciones 43\t  Nombre: Epic Classical \n",
            "ID: 37i9dQZF1DX504r1DvyvxG \t Canciones 100\t  Nombre: Classic Acoustic \n",
            "ID: 37i9dQZF1DXbvE0SE0Cczh \t Canciones 60\t  Nombre: Jukebox Joint \n",
            "ID: 37i9dQZF1DX28npkgy2RE4 \t Canciones 150\t  Nombre: Modern Eclectic \n",
            "ID: 37i9dQZF1DX58NJL8iVBGW \t Canciones 100\t  Nombre: Southern Gothic \n",
            "ID: 37i9dQZF1DX9pryhDLql25 \t Canciones 75\t  Nombre: Boozy Brunch \n",
            "ID: 37i9dQZF1DX3Fzl4v4w9Zp \t Canciones 115\t  Nombre: The Pulse of Americana \n",
            "ID: 37i9dQZF1DWZ0OzPeadl0h \t Canciones 105\t  Nombre: Lush + Ethereal \n",
            "ID: 37i9dQZF1DX8NTLI2TtZa6 \t Canciones 208\t  Nombre: Intense Studying \n",
            "ID: 37i9dQZF1DX6z20IXmBjWI \t Canciones 160\t  Nombre: Infinite Acoustic \n",
            "ID: 37i9dQZF1DWSlwBojgQEcN \t Canciones 100\t  Nombre: Acoustic Love \n",
            "ID: 37i9dQZF1DXcWBRiUaG3o5 \t Canciones 100\t  Nombre: Evening Acoustic \n",
            "ID: 37i9dQZF1DWWwaxRea1LWS \t Canciones 50\t  Nombre: Throwback Thursday \n",
            "ID: 37i9dQZF1DWSkMjlBZAZ07 \t Canciones 100\t  Nombre: Happy Folk \n",
            "ID: 37i9dQZF1DX35oM5SPECmN \t Canciones 75\t  Nombre: Run Wild \n",
            "ID: 37i9dQZF1DWUNIrSzKgQbP \t Canciones 75\t  Nombre: Autumn Acoustic \n",
            "ID: 62Tpw0jhT8kxF3KPbGciTk \t Canciones 104\t  Nombre: Sweet Winter Songs \n",
            "ID: 37i9dQZF1DWWEJlAGA9gs0 \t Canciones 150\t  Nombre: Classical Essentials \n",
            "ID: 37i9dQZF1DX2taNm7KfjOX \t Canciones 150\t  Nombre: Infinite Indie Folk \n",
            "ID: 37i9dQZF1DWTtTyjgd08yp \t Canciones 105\t  Nombre: Deep Dark Indie \n",
            "ID: 37i9dQZF1DX56qfiUZBncF \t Canciones 100\t  Nombre: Creativity Boost \n",
            "ID: 37i9dQZF1DXb9LIXaj5WhL \t Canciones 75\t  Nombre: 90s Acoustic \n",
            "ID: 37i9dQZF1DXdd3gw5QVjt9 \t Canciones 75\t  Nombre: Morning Acoustic \n",
            "ID: 37i9dQZF1DWXmlLSKkfdAk \t Canciones 201\t  Nombre: Acoustic Covers \n",
            "ID: 37i9dQZF1DX571ttkrxAeN \t Canciones 78\t  Nombre: Acoustic Cafe International \n",
            "ID: 0pHFNRP8qkYhal0q0Irp6D \t Canciones 53\t  Nombre: Disco Beats \n",
            "ID: 7pD7pMFxcq8agMXqLQCggM \t Canciones 55\t  Nombre: Rock & Roots \n",
            "ID: 0XDRWlx2B1C1OXlaLlld8t \t Canciones 26\t  Nombre: Interstate Drive Songs \n",
            "ID: 67uEKAhAdvMJvumeC8ZgjB \t Canciones 26\t  Nombre: Low Key Revelry \n",
            "ID: 37i9dQZF1DWWoCDtOBjhpE \t Canciones 20\t  Nombre: Top Female Artists of 2016 - USA \n",
            "ID: 37i9dQZF1DWZqyWCBK6QTt \t Canciones 150\t  Nombre: Spotify Singles: Covers \n",
            "ID: 0fmNiEOXSfBfurQwf4gG5L \t Canciones 94\t  Nombre: Best of 2016: Folk & Americana \n",
            "ID: 7g3zHOim2XylTlM7Oittr8 \t Canciones 50\t  Nombre: Best of 2016:  Hot Country \n",
            "ID: 2O0Nf9Mi5tM17PM7Ns6Fgu \t Canciones 38\t  Nombre: Guest List: Orb \n",
            "ID: 37i9dQZF1DXboQCHLEaHcr \t Canciones 20\t  Nombre: Fangirls Run the World \n",
            "ID: 37i9dQZF1DWWAqc46ZJdZf \t Canciones 60\t  Nombre: Black Lives Matter \n",
            "ID: 37i9dQZF1DWY7uXxMycXfq \t Canciones 71\t  Nombre: Women of Experimental \n",
            "ID: 37i9dQZF1DXbWHkfjljXoE \t Canciones 41\t  Nombre: Power To The People \n",
            "ID: 1HdxEroWca3L8JR3lvnolH \t Canciones 16\t  Nombre: Artists Den + Spotify \n",
            "ID: 1zriHsmiRJmTThtQk8UWPk \t Canciones 142\t  Nombre: Women in Music | Stories & Songs \n",
            "ID: 57clV3IPw1TXSWdzzDVDwp \t Canciones 18\t  Nombre: BRILLIANTMINDS2016 \n",
            "ID: 37i9dQZF1DWSKpvyAAcaNZ \t Canciones 151\t  Nombre: Blues & Roots Rock \n",
            "ID: 37i9dQZF1DX2ULa1Ss8vbo \t Canciones 50\t  Nombre: Irish Folk - Ballads \n",
            "ID: 37i9dQZF1DX4nYqGKSH0ld \t Canciones 75\t  Nombre: 4th of July Party \n",
            "ID: 79sVcfxVNazjyK2iBY9l3q \t Canciones 17\t  Nombre: Incoming \n",
            "ID: 37i9dQZF1DX17dmzi8A5FV \t Canciones 50\t  Nombre: 90s Boy Bands \n",
            "ID: 37i9dQZF1DX4WYpdgoIcn6 \t Canciones 130\t  Nombre: Chill Hits \n",
            "ID: 37i9dQZF1DX6xOPeSOGone \t Canciones 150\t  Nombre: Soft Rock \n",
            "ID: 37i9dQZF1DWSiyIBdVQrkk \t Canciones 110\t  Nombre: One Love \n",
            "ID: 3QAT1vJA7CAIHIRP9Gkyqj \t Canciones 53\t  Nombre: AMY \n",
            "ID: 2wqwH7uKckoLe7UVTx1RfO \t Canciones 78\t  Nombre: Follow Your Bliss \n",
            "ID: 37i9dQZF1DXd4hrw8K7Pxm \t Canciones 54\t  Nombre: Ballads Forever \n",
            "ID: 37i9dQZF1DXaImRpG7HXqp \t Canciones 192\t  Nombre: Calming Acoustic \n",
            "ID: 37i9dQZF1DX0JKUIfwQSJh \t Canciones 60\t  Nombre: 70s & 80s Acoustic \n",
            "ID: 1uIp2WHCf6ODHxHRPmjWG5 \t Canciones 36\t  Nombre: Rest & Relaxation \n",
            "ID: 6jUFiT3D8f4Rt9n6UnC1aB \t Canciones 79\t  Nombre: One Perfect Day \n",
            "ID: 37i9dQZF1DXdNHhNNm0G0B \t Canciones 50\t  Nombre: Backporch Blues \n",
            "ID: 37i9dQZF1DXdbkmlag2h7b \t Canciones 100\t  Nombre: DayDreamer \n",
            "ID: 37i9dQZF1DX5Q5wA1hY6bS \t Canciones 100\t  Nombre: Wild + Free \n",
            "ID: 37i9dQZF1DXb6LkIGouseT \t Canciones 70\t  Nombre: Dreamcatcher \n",
            "ID: 37i9dQZF1DXaw68inx4UiN \t Canciones 79\t  Nombre: Sounds of the Rain Forest \n",
            "ID: 37i9dQZF1DX4aYNO8X5RpR \t Canciones 200\t  Nombre: Nightstorms \n",
            "ID: 37i9dQZF1DX2mFmJUZg4Mp \t Canciones 209\t  Nombre: Gentle Rains \n",
            "ID: 4Buj61XKuhfVLsW8rPX8YQ \t Canciones 105\t  Nombre: Get Happy! \n",
            "ID: 6QAwHYtCdTdrgX6wh1iE9H \t Canciones 39\t  Nombre: Lazy Afternoon \n",
            "ID: 37i9dQZF1DX4VvfRBFClxm \t Canciones 125\t  Nombre: Acoustic Hits \n",
            "ID: 4qq3MCSLrDgYx7RfJBDvij \t Canciones 28\t  Nombre: The Bridge \n",
            "ID: 6YMK6nqc1jS11fGraCU1o2 \t Canciones 21\t  Nombre: Spring Garden \n",
            "ID: 37i9dQZF1DWTRnup1IgL4a \t Canciones 126\t  Nombre: Guitar for Sleep \n",
            "ID: 4MLFX9OXy9ncfBlTfei9Ok \t Canciones 34\t  Nombre: Nightly Meditations \n",
            "ID: 71WgbCkbVXGzAltJTAT6lD \t Canciones 23\t  Nombre: (Descent) A Beginning \n",
            "ID: 37i9dQZF1DX1s9knjP51Oa \t Canciones 322\t  Nombre: Calm Vibes \n",
            "ID: 37i9dQZF1DWZhzMp90Opmn \t Canciones 232\t  Nombre: Pink Noise \n",
            "ID: 37i9dQZF1DX9if5QDLdzCa \t Canciones 203\t  Nombre: Ocean Escapes \n",
            "ID: 37i9dQZF1DWSW4ppn40bal \t Canciones 309\t  Nombre: Sleep Noise \n",
            "ID: 37i9dQZF1DWVEt8B7a1H1M \t Canciones 44\t  Nombre: Birds in the Forest \n",
            "ID: 0jJQDST7bzwAYlN19tFLXw \t Canciones 21\t  Nombre: Covered in Country \n",
            "ID: 37i9dQZF1DX5FuBDzVtEFX \t Canciones 60\t  Nombre: Hawaiian Dreams \n",
            "ID: 0mY9BQvlpraYLzg9BfKuVa \t Canciones 72\t  Nombre: Traffic Jams \n",
            "ID: 2nb7lCySvvf7PNxHUD5oun \t Canciones 40\t  Nombre: #JazzAppreciationMonth \n",
            "ID: 2f4rXblveCedKdU2adFgC8 \t Canciones 46\t  Nombre: Motivation Montage \n",
            "ID: 7MsOqrEv1TxiHPDiYlWVLx \t Canciones 24\t  Nombre: Sugar & Spice \n",
            "ID: 3TymQFosH9UgfP5jV5mPEe \t Canciones 21\t  Nombre: Soul Soothers \n",
            "ID: 1JuraqRjLX4CmhyvvuXiPF \t Canciones 25\t  Nombre: Winding Roads \n",
            "ID: 0NaXa68Xyo4wmMiun5Lqgm \t Canciones 0\t  Nombre: Carpool Karaoke \n",
            "ID: 5JXV7ioEqB9ZA1b1RjSLVg \t Canciones 25\t  Nombre: Songbirds \n",
            "ID: 3fqSEmStIKS8s3mCCRQFid \t Canciones 22\t  Nombre: Into the Woods \n",
            "ID: 37i9dQZF1DWXRvPx3nttRN \t Canciones 300\t  Nombre: Feel Good Acoustic \n",
            "ID: 37i9dQZF1DX5l9rcXWdrth \t Canciones 50\t  Nombre: Women of Hip-Hop \n",
            "ID: 37i9dQZF1DX5OepaGriAIm \t Canciones 123\t  Nombre: EQUAL: Jazz \n",
            "ID: 37i9dQZF1DX91UQmVbQYyN \t Canciones 100\t  Nombre: EQUAL Indie \n",
            "ID: 37i9dQZF1DX49poIUZYXp7 \t Canciones 100\t  Nombre: Women of Country \n",
            "ID: 37i9dQZF1DWSIcimvN18p3 \t Canciones 150\t  Nombre: Women of Folk \n",
            "ID: 37i9dQZF1DX1wNY9tfWQsS \t Canciones 50\t  Nombre: Women of R&B \n",
            "ID: 37i9dQZF1DX5AVYhCeISA6 \t Canciones 100\t  Nombre: Inspiring Latinas \n",
            "ID: 37i9dQZF1DXd0ZFXhY0CRF \t Canciones 90\t  Nombre: Women of Rock \n",
            "ID: 37i9dQZF1DWVUSF6gmaR8i \t Canciones 40\t  Nombre: The Piano Lounge \n",
            "ID: 2EjRsHG8m4bGCrhCoJ1ykn \t Canciones 19\t  Nombre: Bluegrass Byways \n",
            "ID: 6pn7MZpvAxlKPzspzMR6T6 \t Canciones 28\t  Nombre: The Scenic Route \n",
            "ID: 37i9dQZF1DXat5j4Lk8UEj \t Canciones 100\t  Nombre: Folk Rock Favorites \n",
            "ID: 37i9dQZF1DWVIzZt2GAU4X \t Canciones 75\t  Nombre: Piano Ballads \n",
            "ID: 37i9dQZF1DWZyQUsU1vj4x \t Canciones 96\t  Nombre: Cinematic Indie Folk \n",
            "ID: 37i9dQZF1DXafb0IuPwJyF \t Canciones 50\t  Nombre: Tokyo Super Hits! \n",
            "ID: 37i9dQZF1DX654l3fFiq56 \t Canciones 20\t  Nombre: 群星報喜：屬雞歌手 \n",
            "ID: 37i9dQZF1DX5JcPJgYjGcf \t Canciones 96\t  Nombre: This Is: EXO \n",
            "ID: 37i9dQZF1DWTQllLRMgY9S \t Canciones 59\t  Nombre: This Is Madonna \n",
            "ID: 37i9dQZF1DX7KWRIlkUpsl \t Canciones 50\t  Nombre: This Is Maroon 5 \n",
            "ID: 37i9dQZF1DX6QDedCAYqRI \t Canciones 70\t  Nombre: Haunting Vocals \n",
            "ID: 37i9dQZF1DWYD2pxgooM7y \t Canciones 60\t  Nombre: Sun Kissed \n",
            "ID: 37i9dQZF1DWVbu3wLXA48X \t Canciones 75\t  Nombre: Indie Shuffle \n",
            "ID: 37i9dQZF1DX9tPFwDMOaN1 \t Canciones 50\t  Nombre: K-Pop ON! (온) \n",
            "ID: 37i9dQZF1DX2ohL85TE8TI \t Canciones 100\t  Nombre: Korean OSTs \n",
            "ID: 37i9dQZF1DWW46Vfs1oltB \t Canciones 104\t  Nombre: KrOWN \n",
            "ID: 37i9dQZF1DX5LEXW9eXA0n \t Canciones 100\t  Nombre: 발라드, 려요 (K-Pop Ballad Hits) \n",
            "ID: 37i9dQZF1DX1wdZM1FEz79 \t Canciones 52\t  Nombre: K-Pop Acoustic \n",
            "ID: 37i9dQZF1DX3ZeFHRhhi7Y \t Canciones 100\t  Nombre: WOR K  OUT \n",
            "ID: 37i9dQZF1DX1uG5byNIgDA \t Canciones 50\t  Nombre: Morning K-Pop! \n",
            "ID: 37i9dQZF1DXdTb8AG95jne \t Canciones 50\t  Nombre: In The K-Indie \n",
            "ID: 37i9dQZF1DX1gjl24GAQC0 \t Canciones 50\t  Nombre: Hallyu Boy Bands \n",
            "ID: 37i9dQZF1DX3sCx6B9EAOr \t Canciones 150\t  Nombre: 드라이빙 댄스+ (K-Pop Driving) \n",
            "ID: 37i9dQZF1DX6Cy4Vr7Hu2y \t Canciones 64\t  Nombre: EQUAL K-Pop \n",
            "ID: 37i9dQZF1DX4OyEPaWHBdk \t Canciones 20\t  Nombre: 2022 MAMA AWARDS Worldwide Fans' Choice Category \n",
            "ID: 37i9dQZF1DX5eq3AONkaho \t Canciones 200\t  Nombre: Workday K-Pop \n",
            "ID: 37i9dQZF1DXdR77H5Z8MIM \t Canciones 70\t  Nombre: Nolja! \n",
            "ID: 37i9dQZF1DX8eqay1FtdMm \t Canciones 100\t  Nombre: v o K a l : Lim Jae Beum Takeover \n",
            "ID: 37i9dQZF1DWXaehqeJpkro \t Canciones 150\t  Nombre: Sing Along K-Pop (노래방 인기가요) \n",
            "ID: 37i9dQZF1DWTTHy0vndijk \t Canciones 57\t  Nombre: Satang Mix (사탕 믹스) \n",
            "ID: 37i9dQZF1DX1lU51fgoMhF \t Canciones 100\t  Nombre: Summer K-Pop Hits (썸머 히트) \n",
            "ID: 37i9dQZF1DX4IDaXtVjL83 \t Canciones 50\t  Nombre: K-Pop X-Overs \n",
            "ID: 37i9dQZF1DWWjGdmeTyeJ6 \t Canciones 62\t  Nombre: Fresh Finds \n",
            "ID: 37i9dQZF1DX6bBjHfdRnza \t Canciones 125\t  Nombre: Fresh Finds Dance \n",
            "ID: 37i9dQZF1DX8C585qnMYHP \t Canciones 50\t  Nombre: Fresh Finds Experimental \n",
            "ID: 37i9dQZF1DX3u9TSHqpdJC \t Canciones 153\t  Nombre: Fresh Finds Pop \n",
            "ID: 37i9dQZF1DWW4igXXl2Qkp \t Canciones 58\t  Nombre: Fresh Finds Hip-Hop \n",
            "ID: 37i9dQZF1DX78toxP7mOaJ \t Canciones 135\t  Nombre: Fresh Finds Rock \n",
            "ID: 37i9dQZF1DXao0JEaClQq9 \t Canciones 75\t  Nombre: Ethereal \n",
            "ID: 37i9dQZF1DXc8kgYqQLMfH \t Canciones 430\t  Nombre: lush lofi \n",
            "ID: 37i9dQZF1DX0SM0LYsmbMT \t Canciones 300\t  Nombre: Jazz Vibes \n",
            "ID: 37i9dQZF1DXbXD9pMSZomS \t Canciones 60\t  Nombre: Lo-Fi House \n",
            "ID: 37i9dQZF1DWUraJYejk11q \t Canciones 50\t  Nombre: Genre Glitch \n",
            "ID: 37i9dQZF1DX2I7Ykltk83m \t Canciones 125\t  Nombre: badass \n",
            "ID: 37i9dQZF1DX5YyEO1dtgbR \t Canciones 75\t  Nombre: Halo \n",
            "ID: 37i9dQZF1DX3nNRJvSufrk \t Canciones 80\t  Nombre: Footwork/Juke \n",
            "ID: 37i9dQZF1DWVGy1YP1ojM5 \t Canciones 50\t  Nombre: Silk Sheets \n",
            "ID: 37i9dQZF1DX0dU0Z2LOkZN \t Canciones 195\t  Nombre: Gold Instrumental Beats \n",
            "ID: 37i9dQZF1DWYoYGBbGKurt \t Canciones 500\t  Nombre: lofi + chill \n",
            "ID: 37i9dQZF1DWZqUHC2tviPw \t Canciones 89\t  Nombre: Trap Workout Beats \n",
            "ID: 3g2dsbLbtpOz0Gpo4W50QK \t Canciones 23\t  Nombre: We Dem Girlz \n",
            "ID: 2PE0DbAlT8ZFiiYaCsCm4Q \t Canciones 50\t  Nombre: 1960 \n",
            "ID: 7EhO7YjjFdrNRtTHcRrnnQ \t Canciones 50\t  Nombre: 1961 \n",
            "ID: 7GSt7smvMMAiOFmPJ17jEf \t Canciones 50\t  Nombre: 1962 \n",
            "ID: 6c1DPPuq4eNKcS2usgij9m \t Canciones 50\t  Nombre: 1963 \n",
            "ID: 2XFhZrcFAFFvBLjRQrw9wI \t Canciones 50\t  Nombre: 1964 \n",
            "ID: 48GGszBLm7kS5D1xJuMnxD \t Canciones 50\t  Nombre: 1965 \n",
            "ID: 41YL3HcXd3zTXa1rMZY5uR \t Canciones 50\t  Nombre: 1966 \n",
            "ID: 3nT5EK7WTRbRZ5vtWg5irD \t Canciones 50\t  Nombre: 1967 \n",
            "ID: 0sbkEFgqbA3Jjot2lbqsyx \t Canciones 50\t  Nombre: 1968 \n",
            "ID: 1xZ87c95aRIeyvqVoKCtdM \t Canciones 50\t  Nombre: 1969 \n",
            "ID: 09D0CKBRWkBBoPn46V6YTO \t Canciones 50\t  Nombre: 1970 \n",
            "ID: 5xAfItDaeAViBRNdSuQ7ZG \t Canciones 50\t  Nombre: 1971 \n",
            "ID: 1DcArrb34m9SS3o8O2dATX \t Canciones 49\t  Nombre: 1972 \n",
            "ID: 5WUFWhGRVpi4ED9QpK2hOF \t Canciones 50\t  Nombre: 1973 \n",
            "ID: 78UTV8Gw5bHpyWc65qR4Px \t Canciones 50\t  Nombre: 1974 \n",
            "ID: 67FrRIrS2v0WAs8yE2JTUM \t Canciones 50\t  Nombre: 1975 \n",
            "ID: 3axv4DMbWHWf7uxOPB1I7K \t Canciones 50\t  Nombre: 1976 \n",
            "ID: 2cIkPMesqdx5VV6IAvX9bE \t Canciones 50\t  Nombre: 1977 \n",
            "ID: 05dTMGk8MjnpQg3bKuoXcc \t Canciones 51\t  Nombre: 1978 \n",
            "ID: 2xtEcvpPTus59Ppa0fv3xP \t Canciones 50\t  Nombre: 1979 \n",
            "ID: 4j0G7LOHRpKYDDXa8lxUik \t Canciones 50\t  Nombre: 1980 \n",
            "ID: 5Co3nToduGTXXF1ra9gXB3 \t Canciones 50\t  Nombre: 1981 \n",
            "ID: 722UH6DU3oigTYKBnfBZSy \t Canciones 50\t  Nombre: 1982 \n",
            "ID: 2wHQqJDXcWgQ4GLdVCfb8G \t Canciones 50\t  Nombre: 1983 \n",
            "ID: 0FXAO6yBxrfz5PTOEuvq67 \t Canciones 50\t  Nombre: 1984 \n",
            "ID: 5p5jgESe4r75R70Rzvqpcy \t Canciones 50\t  Nombre: 1985 \n",
            "ID: 3GM3OMvut5VuRht0dr8GJX \t Canciones 50\t  Nombre: 1986 \n",
            "ID: 6sKz6mI28U6Dcj7a8WpRnQ \t Canciones 50\t  Nombre: 1987 \n",
            "ID: 1ASJaLRG6NhOpwc8vGYceZ \t Canciones 50\t  Nombre: 1989 \n",
            "ID: 0COE1X7FirWRdfOgls1JJV \t Canciones 50\t  Nombre: 1990 \n",
            "ID: 6ATJMRUakF2bhZcPBYjnD5 \t Canciones 50\t  Nombre: 1991 \n",
            "ID: 62NfPhRvacdmSAsNghaRs5 \t Canciones 50\t  Nombre: 1992 \n",
            "ID: 33sPgLhtkMgQLWMgdHRQma \t Canciones 50\t  Nombre: 1993 \n",
            "ID: 27hnSuEcFg6wr5C5t3J5eL \t Canciones 50\t  Nombre: 1994 \n",
            "ID: 1FDK3hDHMSyzjC1IpdIOU3 \t Canciones 50\t  Nombre: 1996 \n",
            "ID: 4nftZhTZDARHbC2oX5l2Vw \t Canciones 50\t  Nombre: 1997 \n",
            "ID: 1WkrD0MvdN3BcLa4DXBRCQ \t Canciones 50\t  Nombre: 1999 \n",
            "ID: 0JvFNpF6sn3LeV5LXbbSxv \t Canciones 50\t  Nombre: 2000 \n",
            "ID: 5TUU1rXz87AipJYg92AXFg \t Canciones 50\t  Nombre: 2001 \n",
            "ID: 665gwFk3RaSHbgiimtgok0 \t Canciones 50\t  Nombre: 2002 \n",
            "ID: 2I7h7Mj5bGlqhI4PyupTPF \t Canciones 50\t  Nombre: 2003 \n",
            "ID: 1XbPuTCA2KsqAOn9PJploZ \t Canciones 50\t  Nombre: 2004 \n",
            "ID: 1Gn0PYtF7VmfuZD0Gb91fN \t Canciones 50\t  Nombre: 2006 \n",
            "ID: 0KIKHBXChX4m2MVm8qQk6N \t Canciones 50\t  Nombre: 2007 \n",
            "ID: 3jibtPWLDXBK0OCJN6Ztsf \t Canciones 50\t  Nombre: 2008 \n",
            "ID: 1fLy5EE5473UueC82LvQub \t Canciones 50\t  Nombre: 2009 \n",
            "ID: 2eCpwX876ZuWtIsZweYMnr \t Canciones 50\t  Nombre: 2010 \n",
            "ID: 0BXZJ6BiA151CzaMcTKPMN \t Canciones 50\t  Nombre: 2011 \n",
            "ID: 7z2Wo5a21ENb24YGcEdoTE \t Canciones 50\t  Nombre: 2012 \n",
            "ID: 3D8eZBmcXjAjFzUjYtrl6f \t Canciones 29\t  Nombre: Dear Mama \n",
            "ID: 23sHdrU9wnUTqYjHZQ101O \t Canciones 100\t  Nombre: Top 100 tracks of 2014 - Sweden \n",
            "ID: 2rdMSQHM9YryNLPnEbQ7g6 \t Canciones 47\t  Nombre: Joe Cocker \n",
            "ID: 37i9dQZF1DXcecv7ESbOPu \t Canciones 104\t  Nombre: New Music Friday Sweden \n",
            "ID: 7qLIVhpCFAiX1Teqf3L6Y4 \t Canciones 30\t  Nombre: Happy Birthday Cheryl! \n",
            "ID: 5PzDJIsyNnFxgu0t6Lf41G \t Canciones 40\t  Nombre: June 2 \n",
            "ID: 7IwNlM5pdX8XWPyhMRhq64 \t Canciones 56\t  Nombre: May 20 \n",
            "ID: 2UwTnYkh7zZjMY6NEQdP95 \t Canciones 40\t  Nombre: Grazia Daily: Summer 2013 \n",
            "ID: 6cSrBkF4TPHetlU033IopA \t Canciones 197\t  Nombre: LSP \n",
            "ID: 61T3llVc7dJDCZf1SR72c0 \t Canciones 28\t  Nombre: Vogue Travel: The Sound of the Upper East Side \n",
            "ID: 1OhJNFdK6FhLToiHmx7abI \t Canciones 42\t  Nombre: POST \n",
            "ID: 1npVCZGxmhbfhAyeDEqhwA \t Canciones 22\t  Nombre: Disclosure's Spotify Playlist \n",
            "ID: 78Afk1ZdGIAwEG8s3hq49D \t Canciones 28\t  Nombre: The Roots of... Mumford & Sons \n",
            "ID: 1pARmsw0z4yebhBtZKxAU0 \t Canciones 71\t  Nombre: June 10 \n",
            "ID: 5hINCaYWvVwzzLmhh4y11x \t Canciones 7\t  Nombre: HAIM \n",
            "ID: 6llXb59kkj2STIMBcDobJT \t Canciones 37\t  Nombre: 101_FTB \n",
            "ID: 2ns4wV7T6X3vlCnzxYwagu \t Canciones 15\t  Nombre: Grazia Daily: The Best of Primavera \n",
            "ID: 4fFfXVLYv59XIfPdUvMqKC \t Canciones 27\t  Nombre: braids \n",
            "ID: 31agQ1yW51tGsDIFZbAZMl \t Canciones 7\t  Nombre: XFM JUNE 26 \n",
            "ID: 1omLAKnMAhhkMSe2IGisUZ \t Canciones 10\t  Nombre: The Beach Boys: The Real Best Of... \n",
            "ID: 0kfqBZx9obUKiLVDwTqGly \t Canciones 58\t  Nombre: boys cast \n",
            "ID: 2G5Wlqt6clkHH2KFK2LS5Q \t Canciones 24\t  Nombre: Happy Birthday George! \n",
            "ID: 6vpXSVefNo73POjhwyiWmu \t Canciones 42\t  Nombre: Remembering 2Pac \n"
          ]
        },
        {
          "output_type": "stream",
          "name": "stderr",
          "text": [
            "ERROR:spotipy.client:Max Retries reached\n"
          ]
        },
        {
          "output_type": "error",
          "ename": "SpotifyException",
          "evalue": "ignored",
          "traceback": [
            "\u001b[0;31m---------------------------------------------------------------------------\u001b[0m",
            "\u001b[0;31mMaxRetryError\u001b[0m                             Traceback (most recent call last)",
            "\u001b[0;32m/usr/local/lib/python3.7/dist-packages/requests/adapters.py\u001b[0m in \u001b[0;36msend\u001b[0;34m(self, request, stream, timeout, verify, cert, proxies)\u001b[0m\n\u001b[1;32m    498\u001b[0m                     \u001b[0mretries\u001b[0m\u001b[0;34m=\u001b[0m\u001b[0mself\u001b[0m\u001b[0;34m.\u001b[0m\u001b[0mmax_retries\u001b[0m\u001b[0;34m,\u001b[0m\u001b[0;34m\u001b[0m\u001b[0;34m\u001b[0m\u001b[0m\n\u001b[0;32m--> 499\u001b[0;31m                     \u001b[0mtimeout\u001b[0m\u001b[0;34m=\u001b[0m\u001b[0mtimeout\u001b[0m\u001b[0;34m,\u001b[0m\u001b[0;34m\u001b[0m\u001b[0;34m\u001b[0m\u001b[0m\n\u001b[0m\u001b[1;32m    500\u001b[0m                 )\n",
            "\u001b[0;32m/usr/local/lib/python3.7/dist-packages/urllib3/connectionpool.py\u001b[0m in \u001b[0;36murlopen\u001b[0;34m(self, method, url, body, headers, retries, redirect, assert_same_host, timeout, pool_timeout, release_conn, chunked, body_pos, **response_kw)\u001b[0m\n\u001b[1;32m    890\u001b[0m                 \u001b[0mbody_pos\u001b[0m\u001b[0;34m=\u001b[0m\u001b[0mbody_pos\u001b[0m\u001b[0;34m,\u001b[0m\u001b[0;34m\u001b[0m\u001b[0;34m\u001b[0m\u001b[0m\n\u001b[0;32m--> 891\u001b[0;31m                 \u001b[0;34m**\u001b[0m\u001b[0mresponse_kw\u001b[0m\u001b[0;34m\u001b[0m\u001b[0;34m\u001b[0m\u001b[0m\n\u001b[0m\u001b[1;32m    892\u001b[0m             )\n",
            "\u001b[0;32m/usr/local/lib/python3.7/dist-packages/urllib3/connectionpool.py\u001b[0m in \u001b[0;36murlopen\u001b[0;34m(self, method, url, body, headers, retries, redirect, assert_same_host, timeout, pool_timeout, release_conn, chunked, body_pos, **response_kw)\u001b[0m\n\u001b[1;32m    890\u001b[0m                 \u001b[0mbody_pos\u001b[0m\u001b[0;34m=\u001b[0m\u001b[0mbody_pos\u001b[0m\u001b[0;34m,\u001b[0m\u001b[0;34m\u001b[0m\u001b[0;34m\u001b[0m\u001b[0m\n\u001b[0;32m--> 891\u001b[0;31m                 \u001b[0;34m**\u001b[0m\u001b[0mresponse_kw\u001b[0m\u001b[0;34m\u001b[0m\u001b[0;34m\u001b[0m\u001b[0m\n\u001b[0m\u001b[1;32m    892\u001b[0m             )\n",
            "\u001b[0;32m/usr/local/lib/python3.7/dist-packages/urllib3/connectionpool.py\u001b[0m in \u001b[0;36murlopen\u001b[0;34m(self, method, url, body, headers, retries, redirect, assert_same_host, timeout, pool_timeout, release_conn, chunked, body_pos, **response_kw)\u001b[0m\n\u001b[1;32m    890\u001b[0m                 \u001b[0mbody_pos\u001b[0m\u001b[0;34m=\u001b[0m\u001b[0mbody_pos\u001b[0m\u001b[0;34m,\u001b[0m\u001b[0;34m\u001b[0m\u001b[0;34m\u001b[0m\u001b[0m\n\u001b[0;32m--> 891\u001b[0;31m                 \u001b[0;34m**\u001b[0m\u001b[0mresponse_kw\u001b[0m\u001b[0;34m\u001b[0m\u001b[0;34m\u001b[0m\u001b[0m\n\u001b[0m\u001b[1;32m    892\u001b[0m             )\n",
            "\u001b[0;32m/usr/local/lib/python3.7/dist-packages/urllib3/connectionpool.py\u001b[0m in \u001b[0;36murlopen\u001b[0;34m(self, method, url, body, headers, retries, redirect, assert_same_host, timeout, pool_timeout, release_conn, chunked, body_pos, **response_kw)\u001b[0m\n\u001b[1;32m    867\u001b[0m             \u001b[0;32mtry\u001b[0m\u001b[0;34m:\u001b[0m\u001b[0;34m\u001b[0m\u001b[0;34m\u001b[0m\u001b[0m\n\u001b[0;32m--> 868\u001b[0;31m                 \u001b[0mretries\u001b[0m \u001b[0;34m=\u001b[0m \u001b[0mretries\u001b[0m\u001b[0;34m.\u001b[0m\u001b[0mincrement\u001b[0m\u001b[0;34m(\u001b[0m\u001b[0mmethod\u001b[0m\u001b[0;34m,\u001b[0m \u001b[0murl\u001b[0m\u001b[0;34m,\u001b[0m \u001b[0mresponse\u001b[0m\u001b[0;34m=\u001b[0m\u001b[0mresponse\u001b[0m\u001b[0;34m,\u001b[0m \u001b[0m_pool\u001b[0m\u001b[0;34m=\u001b[0m\u001b[0mself\u001b[0m\u001b[0;34m)\u001b[0m\u001b[0;34m\u001b[0m\u001b[0;34m\u001b[0m\u001b[0m\n\u001b[0m\u001b[1;32m    869\u001b[0m             \u001b[0;32mexcept\u001b[0m \u001b[0mMaxRetryError\u001b[0m\u001b[0;34m:\u001b[0m\u001b[0;34m\u001b[0m\u001b[0;34m\u001b[0m\u001b[0m\n",
            "\u001b[0;32m/usr/local/lib/python3.7/dist-packages/urllib3/util/retry.py\u001b[0m in \u001b[0;36mincrement\u001b[0;34m(self, method, url, response, error, _pool, _stacktrace)\u001b[0m\n\u001b[1;32m    591\u001b[0m         \u001b[0;32mif\u001b[0m \u001b[0mnew_retry\u001b[0m\u001b[0;34m.\u001b[0m\u001b[0mis_exhausted\u001b[0m\u001b[0;34m(\u001b[0m\u001b[0;34m)\u001b[0m\u001b[0;34m:\u001b[0m\u001b[0;34m\u001b[0m\u001b[0;34m\u001b[0m\u001b[0m\n\u001b[0;32m--> 592\u001b[0;31m             \u001b[0;32mraise\u001b[0m \u001b[0mMaxRetryError\u001b[0m\u001b[0;34m(\u001b[0m\u001b[0m_pool\u001b[0m\u001b[0;34m,\u001b[0m \u001b[0murl\u001b[0m\u001b[0;34m,\u001b[0m \u001b[0merror\u001b[0m \u001b[0;32mor\u001b[0m \u001b[0mResponseError\u001b[0m\u001b[0;34m(\u001b[0m\u001b[0mcause\u001b[0m\u001b[0;34m)\u001b[0m\u001b[0;34m)\u001b[0m\u001b[0;34m\u001b[0m\u001b[0;34m\u001b[0m\u001b[0m\n\u001b[0m\u001b[1;32m    593\u001b[0m \u001b[0;34m\u001b[0m\u001b[0m\n",
            "\u001b[0;31mMaxRetryError\u001b[0m: HTTPSConnectionPool(host='api.spotify.com', port=443): Max retries exceeded with url: /v1/users/spotify/playlists?offset=500&limit=50 (Caused by ResponseError('too many 500 error responses'))",
            "\nDuring handling of the above exception, another exception occurred:\n",
            "\u001b[0;31mRetryError\u001b[0m                                Traceback (most recent call last)",
            "\u001b[0;32m/usr/local/lib/python3.7/dist-packages/spotipy/client.py\u001b[0m in \u001b[0;36m_internal_call\u001b[0;34m(self, method, url, payload, params)\u001b[0m\n\u001b[1;32m    241\u001b[0m                 \u001b[0mmethod\u001b[0m\u001b[0;34m,\u001b[0m \u001b[0murl\u001b[0m\u001b[0;34m,\u001b[0m \u001b[0mheaders\u001b[0m\u001b[0;34m=\u001b[0m\u001b[0mheaders\u001b[0m\u001b[0;34m,\u001b[0m \u001b[0mproxies\u001b[0m\u001b[0;34m=\u001b[0m\u001b[0mself\u001b[0m\u001b[0;34m.\u001b[0m\u001b[0mproxies\u001b[0m\u001b[0;34m,\u001b[0m\u001b[0;34m\u001b[0m\u001b[0;34m\u001b[0m\u001b[0m\n\u001b[0;32m--> 242\u001b[0;31m                 \u001b[0mtimeout\u001b[0m\u001b[0;34m=\u001b[0m\u001b[0mself\u001b[0m\u001b[0;34m.\u001b[0m\u001b[0mrequests_timeout\u001b[0m\u001b[0;34m,\u001b[0m \u001b[0;34m**\u001b[0m\u001b[0margs\u001b[0m\u001b[0;34m\u001b[0m\u001b[0;34m\u001b[0m\u001b[0m\n\u001b[0m\u001b[1;32m    243\u001b[0m             )\n",
            "\u001b[0;32m/usr/local/lib/python3.7/dist-packages/requests/sessions.py\u001b[0m in \u001b[0;36mrequest\u001b[0;34m(self, method, url, params, data, headers, cookies, files, auth, timeout, allow_redirects, proxies, hooks, stream, verify, cert, json)\u001b[0m\n\u001b[1;32m    586\u001b[0m         \u001b[0msend_kwargs\u001b[0m\u001b[0;34m.\u001b[0m\u001b[0mupdate\u001b[0m\u001b[0;34m(\u001b[0m\u001b[0msettings\u001b[0m\u001b[0;34m)\u001b[0m\u001b[0;34m\u001b[0m\u001b[0;34m\u001b[0m\u001b[0m\n\u001b[0;32m--> 587\u001b[0;31m         \u001b[0mresp\u001b[0m \u001b[0;34m=\u001b[0m \u001b[0mself\u001b[0m\u001b[0;34m.\u001b[0m\u001b[0msend\u001b[0m\u001b[0;34m(\u001b[0m\u001b[0mprep\u001b[0m\u001b[0;34m,\u001b[0m \u001b[0;34m**\u001b[0m\u001b[0msend_kwargs\u001b[0m\u001b[0;34m)\u001b[0m\u001b[0;34m\u001b[0m\u001b[0;34m\u001b[0m\u001b[0m\n\u001b[0m\u001b[1;32m    588\u001b[0m \u001b[0;34m\u001b[0m\u001b[0m\n",
            "\u001b[0;32m/usr/local/lib/python3.7/dist-packages/requests/sessions.py\u001b[0m in \u001b[0;36msend\u001b[0;34m(self, request, **kwargs)\u001b[0m\n\u001b[1;32m    700\u001b[0m         \u001b[0;31m# Send the request\u001b[0m\u001b[0;34m\u001b[0m\u001b[0;34m\u001b[0m\u001b[0;34m\u001b[0m\u001b[0m\n\u001b[0;32m--> 701\u001b[0;31m         \u001b[0mr\u001b[0m \u001b[0;34m=\u001b[0m \u001b[0madapter\u001b[0m\u001b[0;34m.\u001b[0m\u001b[0msend\u001b[0m\u001b[0;34m(\u001b[0m\u001b[0mrequest\u001b[0m\u001b[0;34m,\u001b[0m \u001b[0;34m**\u001b[0m\u001b[0mkwargs\u001b[0m\u001b[0;34m)\u001b[0m\u001b[0;34m\u001b[0m\u001b[0;34m\u001b[0m\u001b[0m\n\u001b[0m\u001b[1;32m    702\u001b[0m \u001b[0;34m\u001b[0m\u001b[0m\n",
            "\u001b[0;32m/usr/local/lib/python3.7/dist-packages/requests/adapters.py\u001b[0m in \u001b[0;36msend\u001b[0;34m(self, request, stream, timeout, verify, cert, proxies)\u001b[0m\n\u001b[1;32m    555\u001b[0m             \u001b[0;32mif\u001b[0m \u001b[0misinstance\u001b[0m\u001b[0;34m(\u001b[0m\u001b[0me\u001b[0m\u001b[0;34m.\u001b[0m\u001b[0mreason\u001b[0m\u001b[0;34m,\u001b[0m \u001b[0mResponseError\u001b[0m\u001b[0;34m)\u001b[0m\u001b[0;34m:\u001b[0m\u001b[0;34m\u001b[0m\u001b[0;34m\u001b[0m\u001b[0m\n\u001b[0;32m--> 556\u001b[0;31m                 \u001b[0;32mraise\u001b[0m \u001b[0mRetryError\u001b[0m\u001b[0;34m(\u001b[0m\u001b[0me\u001b[0m\u001b[0;34m,\u001b[0m \u001b[0mrequest\u001b[0m\u001b[0;34m=\u001b[0m\u001b[0mrequest\u001b[0m\u001b[0;34m)\u001b[0m\u001b[0;34m\u001b[0m\u001b[0;34m\u001b[0m\u001b[0m\n\u001b[0m\u001b[1;32m    557\u001b[0m \u001b[0;34m\u001b[0m\u001b[0m\n",
            "\u001b[0;31mRetryError\u001b[0m: HTTPSConnectionPool(host='api.spotify.com', port=443): Max retries exceeded with url: /v1/users/spotify/playlists?offset=500&limit=50 (Caused by ResponseError('too many 500 error responses'))",
            "\nDuring handling of the above exception, another exception occurred:\n",
            "\u001b[0;31mSpotifyException\u001b[0m                          Traceback (most recent call last)",
            "\u001b[0;32m<ipython-input-16-04ead4e88c78>\u001b[0m in \u001b[0;36m<module>\u001b[0;34m\u001b[0m\n\u001b[1;32m      1\u001b[0m \u001b[0;31m# Esta función suele obtener tus playlists\u001b[0m\u001b[0;34m\u001b[0m\u001b[0;34m\u001b[0m\u001b[0;34m\u001b[0m\u001b[0m\n\u001b[0;32m----> 2\u001b[0;31m \u001b[0mget_user_playlist\u001b[0m\u001b[0;34m(\u001b[0m\u001b[0;34m)\u001b[0m\u001b[0;34m\u001b[0m\u001b[0;34m\u001b[0m\u001b[0m\n\u001b[0m",
            "\u001b[0;32m<ipython-input-9-899a75d28858>\u001b[0m in \u001b[0;36mget_user_playlist\u001b[0;34m(username, sp)\u001b[0m\n\u001b[1;32m      7\u001b[0m             print(\"ID: {} \\t Canciones {}\\t  Nombre: {} \".\n\u001b[1;32m      8\u001b[0m                   format(playlist['id'], playlist['tracks']['total'], playlist['name']))\n\u001b[0;32m----> 9\u001b[0;31m         \u001b[0mplaylists\u001b[0m \u001b[0;34m=\u001b[0m \u001b[0msp\u001b[0m\u001b[0;34m.\u001b[0m\u001b[0mnext\u001b[0m\u001b[0;34m(\u001b[0m\u001b[0mplaylists\u001b[0m\u001b[0;34m)\u001b[0m\u001b[0;34m\u001b[0m\u001b[0;34m\u001b[0m\u001b[0m\n\u001b[0m\u001b[1;32m     10\u001b[0m \u001b[0;34m\u001b[0m\u001b[0m\n\u001b[1;32m     11\u001b[0m \u001b[0;31m# También podemos definir una función que obtenga los datos de la lista de reproducción de un usuario.\u001b[0m\u001b[0;34m\u001b[0m\u001b[0;34m\u001b[0m\u001b[0;34m\u001b[0m\u001b[0m\n",
            "\u001b[0;32m/usr/local/lib/python3.7/dist-packages/spotipy/client.py\u001b[0m in \u001b[0;36mnext\u001b[0;34m(self, result)\u001b[0m\n\u001b[1;32m    319\u001b[0m         \"\"\"\n\u001b[1;32m    320\u001b[0m         \u001b[0;32mif\u001b[0m \u001b[0mresult\u001b[0m\u001b[0;34m[\u001b[0m\u001b[0;34m\"next\"\u001b[0m\u001b[0;34m]\u001b[0m\u001b[0;34m:\u001b[0m\u001b[0;34m\u001b[0m\u001b[0;34m\u001b[0m\u001b[0m\n\u001b[0;32m--> 321\u001b[0;31m             \u001b[0;32mreturn\u001b[0m \u001b[0mself\u001b[0m\u001b[0;34m.\u001b[0m\u001b[0m_get\u001b[0m\u001b[0;34m(\u001b[0m\u001b[0mresult\u001b[0m\u001b[0;34m[\u001b[0m\u001b[0;34m\"next\"\u001b[0m\u001b[0;34m]\u001b[0m\u001b[0;34m)\u001b[0m\u001b[0;34m\u001b[0m\u001b[0;34m\u001b[0m\u001b[0m\n\u001b[0m\u001b[1;32m    322\u001b[0m         \u001b[0;32melse\u001b[0m\u001b[0;34m:\u001b[0m\u001b[0;34m\u001b[0m\u001b[0;34m\u001b[0m\u001b[0m\n\u001b[1;32m    323\u001b[0m             \u001b[0;32mreturn\u001b[0m \u001b[0;32mNone\u001b[0m\u001b[0;34m\u001b[0m\u001b[0;34m\u001b[0m\u001b[0m\n",
            "\u001b[0;32m/usr/local/lib/python3.7/dist-packages/spotipy/client.py\u001b[0m in \u001b[0;36m_get\u001b[0;34m(self, url, args, payload, **kwargs)\u001b[0m\n\u001b[1;32m    295\u001b[0m             \u001b[0mkwargs\u001b[0m\u001b[0;34m.\u001b[0m\u001b[0mupdate\u001b[0m\u001b[0;34m(\u001b[0m\u001b[0margs\u001b[0m\u001b[0;34m)\u001b[0m\u001b[0;34m\u001b[0m\u001b[0;34m\u001b[0m\u001b[0m\n\u001b[1;32m    296\u001b[0m \u001b[0;34m\u001b[0m\u001b[0m\n\u001b[0;32m--> 297\u001b[0;31m         \u001b[0;32mreturn\u001b[0m \u001b[0mself\u001b[0m\u001b[0;34m.\u001b[0m\u001b[0m_internal_call\u001b[0m\u001b[0;34m(\u001b[0m\u001b[0;34m\"GET\"\u001b[0m\u001b[0;34m,\u001b[0m \u001b[0murl\u001b[0m\u001b[0;34m,\u001b[0m \u001b[0mpayload\u001b[0m\u001b[0;34m,\u001b[0m \u001b[0mkwargs\u001b[0m\u001b[0;34m)\u001b[0m\u001b[0;34m\u001b[0m\u001b[0;34m\u001b[0m\u001b[0m\n\u001b[0m\u001b[1;32m    298\u001b[0m \u001b[0;34m\u001b[0m\u001b[0m\n\u001b[1;32m    299\u001b[0m     \u001b[0;32mdef\u001b[0m \u001b[0m_post\u001b[0m\u001b[0;34m(\u001b[0m\u001b[0mself\u001b[0m\u001b[0;34m,\u001b[0m \u001b[0murl\u001b[0m\u001b[0;34m,\u001b[0m \u001b[0margs\u001b[0m\u001b[0;34m=\u001b[0m\u001b[0;32mNone\u001b[0m\u001b[0;34m,\u001b[0m \u001b[0mpayload\u001b[0m\u001b[0;34m=\u001b[0m\u001b[0;32mNone\u001b[0m\u001b[0;34m,\u001b[0m \u001b[0;34m**\u001b[0m\u001b[0mkwargs\u001b[0m\u001b[0;34m)\u001b[0m\u001b[0;34m:\u001b[0m\u001b[0;34m\u001b[0m\u001b[0;34m\u001b[0m\u001b[0m\n",
            "\u001b[0;32m/usr/local/lib/python3.7/dist-packages/spotipy/client.py\u001b[0m in \u001b[0;36m_internal_call\u001b[0;34m(self, method, url, payload, params)\u001b[0m\n\u001b[1;32m    283\u001b[0m                 \u001b[0;34m-\u001b[0m\u001b[0;36m1\u001b[0m\u001b[0;34m,\u001b[0m\u001b[0;34m\u001b[0m\u001b[0;34m\u001b[0m\u001b[0m\n\u001b[1;32m    284\u001b[0m                 \u001b[0;34m\"%s:\\n %s\"\u001b[0m \u001b[0;34m%\u001b[0m \u001b[0;34m(\u001b[0m\u001b[0mrequest\u001b[0m\u001b[0;34m.\u001b[0m\u001b[0mpath_url\u001b[0m\u001b[0;34m,\u001b[0m \u001b[0;34m\"Max Retries\"\u001b[0m\u001b[0;34m)\u001b[0m\u001b[0;34m,\u001b[0m\u001b[0;34m\u001b[0m\u001b[0;34m\u001b[0m\u001b[0m\n\u001b[0;32m--> 285\u001b[0;31m                 \u001b[0mreason\u001b[0m\u001b[0;34m=\u001b[0m\u001b[0mreason\u001b[0m\u001b[0;34m\u001b[0m\u001b[0;34m\u001b[0m\u001b[0m\n\u001b[0m\u001b[1;32m    286\u001b[0m             )\n\u001b[1;32m    287\u001b[0m         \u001b[0;32mexcept\u001b[0m \u001b[0mValueError\u001b[0m\u001b[0;34m:\u001b[0m\u001b[0;34m\u001b[0m\u001b[0;34m\u001b[0m\u001b[0m\n",
            "\u001b[0;31mSpotifyException\u001b[0m: http status: 429, code:-1 - /v1/users/spotify/playlists?offset=500&limit=50:\n Max Retries, reason: too many 500 error responses"
          ]
        }
      ]
    },
    {
      "cell_type": "markdown",
      "source": [
        "Voy a utilizar el playlist \"This is Debussy\"\n",
        "37i9dQZF1DWXnRw5VvmZDb\n",
        "\n",
        "Puedes ver un playlist en spotify usando el ID de la siguiente forma:\n",
        "**https://open.spotify.com/playlist/37i9dQZF1DWXnRw5VvmZDb**"
      ],
      "metadata": {
        "id": "sS2PSuIM0C_z"
      }
    },
    {
      "cell_type": "code",
      "metadata": {
        "id": "Kui03_bvPzfP"
      },
      "source": [
        "#@title Selecciona tu playlist\n",
        "playlist_A_id = \"37i9dQZF1DWXnRw5VvmZDb\" #@param {type:\"string\"}\n",
        "playlist_A_shortname = \"debussy\" #@param {type:\"string\"}\n",
        "playlist_B_id = \"37i9dQZF1DZ06evO4m87u0\" #@param {type:\"string\"}\n",
        "playlist_B_shortname = \"TheBlackKeys\" #@param {type:\"string\"}\n"
      ],
      "execution_count": 6,
      "outputs": []
    },
    {
      "cell_type": "code",
      "source": [
        "playlist_A = get_spotify_playlist_data(username=mi_username, playlist_id=playlist_A_id)\n",
        "playlist_B = get_spotify_playlist_data(username=mi_username, playlist_id=playlist_B_id)\n",
        "\n",
        "# Mira el formato en que viene la información del API, esto es un formato JSON, es una estructura pareccida a un diccionario."
      ],
      "metadata": {
        "id": "t_39Vd9U0qho"
      },
      "execution_count": 9,
      "outputs": []
    },
    {
      "cell_type": "code",
      "metadata": {
        "id": "-4pMCm0dd97R",
        "colab": {
          "base_uri": "https://localhost:8080/"
        },
        "outputId": "fdeb0135-d860-4e97-8055-6d3f103cbbb8"
      },
      "source": [
        "playlist_A.shape"
      ],
      "execution_count": 11,
      "outputs": [
        {
          "output_type": "execute_result",
          "data": {
            "text/plain": [
              "(59, 29)"
            ]
          },
          "metadata": {},
          "execution_count": 11
        }
      ]
    },
    {
      "cell_type": "code",
      "source": [
        "playlist_B.shape"
      ],
      "metadata": {
        "colab": {
          "base_uri": "https://localhost:8080/"
        },
        "id": "zpCooO5Q9P3R",
        "outputId": "cc34e1ad-e9c0-4444-eadb-dc84f2b15260"
      },
      "execution_count": 13,
      "outputs": [
        {
          "output_type": "execute_result",
          "data": {
            "text/plain": [
              "(50, 29)"
            ]
          },
          "metadata": {},
          "execution_count": 13
        }
      ]
    },
    {
      "cell_type": "code",
      "metadata": {
        "id": "xWEIDrWVeMt4",
        "colab": {
          "base_uri": "https://localhost:8080/"
        },
        "outputId": "bbe28718-6971-49f3-cbc8-a0c8dc50d613"
      },
      "source": [
        "print(playlist_A.columns)"
      ],
      "execution_count": 14,
      "outputs": [
        {
          "output_type": "stream",
          "name": "stdout",
          "text": [
            "Index(['album', 'artists', 'duration_ms', 'episode', 'explicit', 'href', 'id',\n",
            "       'is_local', 'name', 'popularity', 'preview_url', 'track',\n",
            "       'track_number', 'type', 'uri', 'danceability', 'energy', 'key',\n",
            "       'loudness', 'mode', 'speechiness', 'acousticness', 'instrumentalness',\n",
            "       'liveness', 'valence', 'tempo', 'track_href', 'analysis_url',\n",
            "       'time_signature'],\n",
            "      dtype='object')\n"
          ]
        }
      ]
    },
    {
      "cell_type": "markdown",
      "metadata": {
        "id": "lgbtVewJR4Vi"
      },
      "source": [
        "**Pasemos esto a Excel y luego a Tableau y hagamos hagamos un Dashboard de nuestro Playlist**"
      ]
    },
    {
      "cell_type": "code",
      "metadata": {
        "id": "O-xHyh_HQwMe"
      },
      "source": [
        "playlist_A.to_excel(playlist_A_shortname + '.xlsx', sheet_name='playlist_A', index = False)\n",
        "playlist_B.to_excel(playlist_B_shortname + '.xlsx', sheet_name='playlist_B', index = False)"
      ],
      "execution_count": 15,
      "outputs": []
    },
    {
      "cell_type": "markdown",
      "source": [
        "You can find below the explanation of each feature ( past/copy from the Spotify website).\n",
        "\n",
        "**Acousticness:** A confidence measure from 0.0 to 1.0 of whether the track is \n",
        "acoustic. 1.0 represents high confidence the track is acoustic.\n",
        "Danceability: Danceability describes how suitable a track is for dancing based on a combination of musical elements including tempo, rhythm stability, beat strength, and overall regularity. A value of 0.0 is least danceable and 1.0 is most danceable.\n",
        "\n",
        "**Energy:** Energy is a measure from 0.0 to 1.0 and represents a perceptual measure of intensity and activity. Typically, energetic tracks feel fast, loud, and noisy. For example, death metal has high energy, while a Bach prelude scores low on the scale. Perceptual features contributing to this attribute include dynamic range, perceived loudness, timbre, onset rate, and general entropy.\n",
        "\n",
        "**Instrumentalness:** Predicts whether a track contains no vocals. “Ooh” and “aah” sounds are treated as instrumental in this context. Rap or spoken word tracks are clearly “vocal”. The closer the instrumentalness value is to 1.0, the greater likelihood the track contains no vocal content. Values above 0.5 are intended to represent instrumental tracks, but confidence is higher as the value approaches 1.0.\n",
        "\n",
        "**Liveness:** Detects the presence of an audience in the recording. Higher liveness values represent an increased probability that the track was performed live. A value above 0.8 provides a strong likelihood that the track is live.\n",
        "Loudness: the overall loudness of a track in decibels (dB). Loudness values are averaged across the entire track and are useful for comparing relative loudness of tracks. Loudness is the quality of a sound that is the primary psychological correlate of physical strength (amplitude). Values typical range between -60 and 0 db.\n",
        "\n",
        "**Speechiness:** Speechiness detects the presence of spoken words in a track. The more exclusively speech-like the recording (e.g. talk show, audiobook, poetry), the closer to 1.0 the attribute value. Values above 0.66 describe tracks that are probably made entirely of spoken words. Values between 0.33 and 0.66 describe tracks that may contain both music and speech, either in sections or layered, including such cases as rap music. Values below 0.33 most likely represent music and other non-speech-like tracks.\n",
        "\n",
        "**Valence:** A measure from 0.0 to 1.0 describing the musical positiveness conveyed by a track. Tracks with high valence sound more positive (e.g. happy, cheerful, euphoric), while tracks with low valence sound more negative (e.g. sad, depressed, angry).\n",
        "\n",
        "**Tempo:** The overall estimated tempo of a track in beats per minute (BPM). In musical terminology, tempo is the speed or pace of a given piece and derives directly from the average beat duration."
      ],
      "metadata": {
        "id": "hDL2OmpGrA7I"
      }
    },
    {
      "cell_type": "code",
      "source": [
        "# Revisemos los tipos de datos que tenemos\n",
        "playlist_A.dtypes"
      ],
      "metadata": {
        "id": "ZArZ7rd1rt5G",
        "colab": {
          "base_uri": "https://localhost:8080/"
        },
        "outputId": "adabb161-ccaa-48ea-ccae-b4985763b7eb"
      },
      "execution_count": 17,
      "outputs": [
        {
          "output_type": "execute_result",
          "data": {
            "text/plain": [
              "album               object\n",
              "artists             object\n",
              "duration_ms         object\n",
              "episode             object\n",
              "explicit            object\n",
              "href                object\n",
              "id                  object\n",
              "is_local            object\n",
              "name                object\n",
              "popularity          object\n",
              "preview_url         object\n",
              "track               object\n",
              "track_number        object\n",
              "type                object\n",
              "uri                 object\n",
              "danceability        object\n",
              "energy              object\n",
              "key                 object\n",
              "loudness            object\n",
              "mode                object\n",
              "speechiness         object\n",
              "acousticness        object\n",
              "instrumentalness    object\n",
              "liveness            object\n",
              "valence             object\n",
              "tempo               object\n",
              "track_href          object\n",
              "analysis_url        object\n",
              "time_signature      object\n",
              "dtype: object"
            ]
          },
          "metadata": {},
          "execution_count": 17
        }
      ]
    },
    {
      "cell_type": "markdown",
      "source": [
        "**Convierte en decimal las columnas que vamos a procesar**"
      ],
      "metadata": {
        "id": "KsF_k3Ig6t8m"
      }
    },
    {
      "cell_type": "code",
      "source": [
        "# Convierte en decimal las columnas que vamos a procesar\n",
        "playlist_A['duration_ms'] = playlist_A['duration_ms'].astype(float)\n",
        "playlist_A['popularity'] = playlist_A['popularity'].astype(float)\n",
        "playlist_A['danceability'] = playlist_A['danceability'].astype(float)\n",
        "playlist_A['energy'] = playlist_A['energy'].astype(float)\n",
        "playlist_A['loudness'] = playlist_A['loudness'].astype(float)\n",
        "playlist_A['mode'] = playlist_A['mode'].astype(float)\n",
        "playlist_A['speechiness'] = playlist_A['speechiness'].astype(float)\n",
        "playlist_A['acousticness'] = playlist_A['acousticness'].astype(float)\n",
        "playlist_A['instrumentalness'] = playlist_A['instrumentalness'].astype(float)\n",
        "playlist_A['valence'] = playlist_A['valence'].astype(float)\n",
        "playlist_A['tempo'] = playlist_A['tempo'].astype(float)\n",
        "\n",
        "# Convierte en decimal las columnas que vamos a procesar\n",
        "playlist_B['duration_ms'] = playlist_B['duration_ms'].astype(float)\n",
        "playlist_B['popularity'] = playlist_B['popularity'].astype(float)\n",
        "playlist_B['danceability'] = playlist_B['danceability'].astype(float)\n",
        "playlist_B['energy'] = playlist_B['energy'].astype(float)\n",
        "playlist_B['loudness'] = playlist_B['loudness'].astype(float)\n",
        "playlist_B['mode'] = playlist_B['mode'].astype(float)\n",
        "playlist_B['speechiness'] = playlist_B['speechiness'].astype(float)\n",
        "playlist_B['acousticness'] = playlist_B['acousticness'].astype(float)\n",
        "playlist_B['instrumentalness'] = playlist_B['instrumentalness'].astype(float)\n",
        "playlist_B['valence'] = playlist_B['valence'].astype(float)\n",
        "playlist_B['tempo'] = playlist_B['tempo'].astype(float)\n",
        "\n"
      ],
      "metadata": {
        "id": "cme40xEjfu7l"
      },
      "execution_count": 18,
      "outputs": []
    },
    {
      "cell_type": "markdown",
      "source": [
        "**Juntemos todas las playlist en una sola base**"
      ],
      "metadata": {
        "id": "-2NKp3QGFNf0"
      }
    },
    {
      "cell_type": "code",
      "source": [
        "playlist_A['playlist'] = playlist_A_shortname\n",
        "playlist_B['playlist'] = playlist_B_shortname\n",
        "\n",
        "playlist_juntas = pd.concat([playlist_A, playlist_B])"
      ],
      "metadata": {
        "id": "TOXkofTV1Oj4"
      },
      "execution_count": 19,
      "outputs": []
    },
    {
      "cell_type": "code",
      "source": [
        "playlist_juntas.sample(6)"
      ],
      "metadata": {
        "id": "T4NG0YQaE-F9",
        "outputId": "9d407fd5-bfef-447e-ed96-6e5a3ee654d2",
        "colab": {
          "base_uri": "https://localhost:8080/",
          "height": 657
        }
      },
      "execution_count": 20,
      "outputs": [
        {
          "output_type": "execute_result",
          "data": {
            "text/plain": [
              "                                                                                                album  \\\n",
              "track_name                                                                                              \n",
              "Oceans & Streams                                                                     Attack & Release   \n",
              "Didn't I Love You                                                                      Dropout Boogie   \n",
              "Preludes, Book 1: No. 10: La cathedrale engloutie   Debussy: Piano Music, Vol. 4 - Preludes, Books...   \n",
              "I Got Mine                                                                           Attack & Release   \n",
              "Preludes, L. 123, Book II: II. Feuilles mortes                                      Debussy: Préludes   \n",
              "Images, Book 1: No. 1. Reflets dans l'eau (Refl...                       Debussy: Piano Works, Vol. 3   \n",
              "\n",
              "                                                                                    artists  \\\n",
              "track_name                                                                                    \n",
              "Oceans & Streams                                                             The Black Keys   \n",
              "Didn't I Love You                                                            The Black Keys   \n",
              "Preludes, Book 1: No. 10: La cathedrale engloutie   Claude Debussy, François-Joël Thiollier   \n",
              "I Got Mine                                                                   The Black Keys   \n",
              "Preludes, L. 123, Book II: II. Feuilles mortes         Claude Debussy, Francesco Piemontesi   \n",
              "Images, Book 1: No. 1. Reflets dans l'eau (Refl...  Claude Debussy, François-Joël Thiollier   \n",
              "\n",
              "                                                    duration_ms episode  \\\n",
              "track_name                                                                \n",
              "Oceans & Streams                                       205600.0   False   \n",
              "Didn't I Love You                                      241960.0   False   \n",
              "Preludes, Book 1: No. 10: La cathedrale engloutie      352026.0   False   \n",
              "I Got Mine                                             239146.0   False   \n",
              "Preludes, L. 123, Book II: II. Feuilles mortes         189893.0   False   \n",
              "Images, Book 1: No. 1. Reflets dans l'eau (Refl...     320293.0   False   \n",
              "\n",
              "                                                   explicit  \\\n",
              "track_name                                                    \n",
              "Oceans & Streams                                      False   \n",
              "Didn't I Love You                                     False   \n",
              "Preludes, Book 1: No. 10: La cathedrale engloutie     False   \n",
              "I Got Mine                                            False   \n",
              "Preludes, L. 123, Book II: II. Feuilles mortes        False   \n",
              "Images, Book 1: No. 1. Reflets dans l'eau (Refl...    False   \n",
              "\n",
              "                                                                                                 href  \\\n",
              "track_name                                                                                              \n",
              "Oceans & Streams                                    https://api.spotify.com/v1/tracks/0RRS27vZj5U0...   \n",
              "Didn't I Love You                                   https://api.spotify.com/v1/tracks/3ODV8hlwa7eL...   \n",
              "Preludes, Book 1: No. 10: La cathedrale engloutie   https://api.spotify.com/v1/tracks/5UV0qwd8kE1M...   \n",
              "I Got Mine                                          https://api.spotify.com/v1/tracks/319zpJMCzpz5...   \n",
              "Preludes, L. 123, Book II: II. Feuilles mortes      https://api.spotify.com/v1/tracks/33L1CeBG99GE...   \n",
              "Images, Book 1: No. 1. Reflets dans l'eau (Refl...  https://api.spotify.com/v1/tracks/7bUIMBHbFjZ9...   \n",
              "\n",
              "                                                                        id  \\\n",
              "track_name                                                                   \n",
              "Oceans & Streams                                    0RRS27vZj5U0N2eIBctL4K   \n",
              "Didn't I Love You                                   3ODV8hlwa7eLVuPMskWnQi   \n",
              "Preludes, Book 1: No. 10: La cathedrale engloutie   5UV0qwd8kE1Mnq6OKK2mue   \n",
              "I Got Mine                                          319zpJMCzpz50Uz0PsjlJN   \n",
              "Preludes, L. 123, Book II: II. Feuilles mortes      33L1CeBG99GEw08R1Rxsmr   \n",
              "Images, Book 1: No. 1. Reflets dans l'eau (Refl...  7bUIMBHbFjZ9ZcEWcMalzh   \n",
              "\n",
              "                                                   is_local  \\\n",
              "track_name                                                    \n",
              "Oceans & Streams                                      False   \n",
              "Didn't I Love You                                     False   \n",
              "Preludes, Book 1: No. 10: La cathedrale engloutie     False   \n",
              "I Got Mine                                            False   \n",
              "Preludes, L. 123, Book II: II. Feuilles mortes        False   \n",
              "Images, Book 1: No. 1. Reflets dans l'eau (Refl...    False   \n",
              "\n",
              "                                                                                                 name  \\\n",
              "track_name                                                                                              \n",
              "Oceans & Streams                                                                     Oceans & Streams   \n",
              "Didn't I Love You                                                                   Didn't I Love You   \n",
              "Preludes, Book 1: No. 10: La cathedrale engloutie   Preludes, Book 1: No. 10: La cathedrale engloutie   \n",
              "I Got Mine                                                                                 I Got Mine   \n",
              "Preludes, L. 123, Book II: II. Feuilles mortes         Preludes, L. 123, Book II: II. Feuilles mortes   \n",
              "Images, Book 1: No. 1. Reflets dans l'eau (Refl...  Images, Book 1: No. 1. Reflets dans l'eau (Ref...   \n",
              "\n",
              "                                                    popularity  ...  \\\n",
              "track_name                                                      ...   \n",
              "Oceans & Streams                                          42.0  ...   \n",
              "Didn't I Love You                                         48.0  ...   \n",
              "Preludes, Book 1: No. 10: La cathedrale engloutie         32.0  ...   \n",
              "I Got Mine                                                54.0  ...   \n",
              "Preludes, L. 123, Book II: II. Feuilles mortes            31.0  ...   \n",
              "Images, Book 1: No. 1. Reflets dans l'eau (Refl...        40.0  ...   \n",
              "\n",
              "                                                   speechiness acousticness  \\\n",
              "track_name                                                                    \n",
              "Oceans & Streams                                        0.0464      0.08170   \n",
              "Didn't I Love You                                       0.0258      0.00213   \n",
              "Preludes, Book 1: No. 10: La cathedrale engloutie       0.0541      0.99100   \n",
              "I Got Mine                                              0.0406      0.02920   \n",
              "Preludes, L. 123, Book II: II. Feuilles mortes          0.0550      0.99100   \n",
              "Images, Book 1: No. 1. Reflets dans l'eau (Refl...      0.0442      0.99400   \n",
              "\n",
              "                                                   instrumentalness liveness  \\\n",
              "track_name                                                                     \n",
              "Oceans & Streams                                           0.000056    0.122   \n",
              "Didn't I Love You                                          0.013500    0.176   \n",
              "Preludes, Book 1: No. 10: La cathedrale engloutie          0.910000   0.0813   \n",
              "I Got Mine                                                 0.508000    0.173   \n",
              "Preludes, L. 123, Book II: II. Feuilles mortes             0.911000   0.0749   \n",
              "Images, Book 1: No. 1. Reflets dans l'eau (Refl...         0.944000    0.106   \n",
              "\n",
              "                                                   valence    tempo  \\\n",
              "track_name                                                            \n",
              "Oceans & Streams                                    0.5330   96.493   \n",
              "Didn't I Love You                                   0.3920  107.813   \n",
              "Preludes, Book 1: No. 10: La cathedrale engloutie   0.0366   65.177   \n",
              "I Got Mine                                          0.4750  157.725   \n",
              "Preludes, L. 123, Book II: II. Feuilles mortes      0.0387   67.949   \n",
              "Images, Book 1: No. 1. Reflets dans l'eau (Refl...  0.0316   65.602   \n",
              "\n",
              "                                                                                           track_href  \\\n",
              "track_name                                                                                              \n",
              "Oceans & Streams                                    https://api.spotify.com/v1/tracks/0RRS27vZj5U0...   \n",
              "Didn't I Love You                                   https://api.spotify.com/v1/tracks/3ODV8hlwa7eL...   \n",
              "Preludes, Book 1: No. 10: La cathedrale engloutie   https://api.spotify.com/v1/tracks/5UV0qwd8kE1M...   \n",
              "I Got Mine                                          https://api.spotify.com/v1/tracks/319zpJMCzpz5...   \n",
              "Preludes, L. 123, Book II: II. Feuilles mortes      https://api.spotify.com/v1/tracks/33L1CeBG99GE...   \n",
              "Images, Book 1: No. 1. Reflets dans l'eau (Refl...  https://api.spotify.com/v1/tracks/7bUIMBHbFjZ9...   \n",
              "\n",
              "                                                                                         analysis_url  \\\n",
              "track_name                                                                                              \n",
              "Oceans & Streams                                    https://api.spotify.com/v1/audio-analysis/0RRS...   \n",
              "Didn't I Love You                                   https://api.spotify.com/v1/audio-analysis/3ODV...   \n",
              "Preludes, Book 1: No. 10: La cathedrale engloutie   https://api.spotify.com/v1/audio-analysis/5UV0...   \n",
              "I Got Mine                                          https://api.spotify.com/v1/audio-analysis/319z...   \n",
              "Preludes, L. 123, Book II: II. Feuilles mortes      https://api.spotify.com/v1/audio-analysis/33L1...   \n",
              "Images, Book 1: No. 1. Reflets dans l'eau (Refl...  https://api.spotify.com/v1/audio-analysis/7bUI...   \n",
              "\n",
              "                                                    time_signature  \\\n",
              "track_name                                                           \n",
              "Oceans & Streams                                                 4   \n",
              "Didn't I Love You                                                4   \n",
              "Preludes, Book 1: No. 10: La cathedrale engloutie                4   \n",
              "I Got Mine                                                       4   \n",
              "Preludes, L. 123, Book II: II. Feuilles mortes                   4   \n",
              "Images, Book 1: No. 1. Reflets dans l'eau (Refl...               3   \n",
              "\n",
              "                                                        playlist  \n",
              "track_name                                                        \n",
              "Oceans & Streams                                    TheBlackKeys  \n",
              "Didn't I Love You                                   TheBlackKeys  \n",
              "Preludes, Book 1: No. 10: La cathedrale engloutie        debussy  \n",
              "I Got Mine                                          TheBlackKeys  \n",
              "Preludes, L. 123, Book II: II. Feuilles mortes           debussy  \n",
              "Images, Book 1: No. 1. Reflets dans l'eau (Refl...       debussy  \n",
              "\n",
              "[6 rows x 30 columns]"
            ],
            "text/html": [
              "\n",
              "  <div id=\"df-ddf4ba55-3bd1-43ca-9b55-2b5c9d3556a5\">\n",
              "    <div class=\"colab-df-container\">\n",
              "      <div>\n",
              "<style scoped>\n",
              "    .dataframe tbody tr th:only-of-type {\n",
              "        vertical-align: middle;\n",
              "    }\n",
              "\n",
              "    .dataframe tbody tr th {\n",
              "        vertical-align: top;\n",
              "    }\n",
              "\n",
              "    .dataframe thead th {\n",
              "        text-align: right;\n",
              "    }\n",
              "</style>\n",
              "<table border=\"1\" class=\"dataframe\">\n",
              "  <thead>\n",
              "    <tr style=\"text-align: right;\">\n",
              "      <th></th>\n",
              "      <th>album</th>\n",
              "      <th>artists</th>\n",
              "      <th>duration_ms</th>\n",
              "      <th>episode</th>\n",
              "      <th>explicit</th>\n",
              "      <th>href</th>\n",
              "      <th>id</th>\n",
              "      <th>is_local</th>\n",
              "      <th>name</th>\n",
              "      <th>popularity</th>\n",
              "      <th>...</th>\n",
              "      <th>speechiness</th>\n",
              "      <th>acousticness</th>\n",
              "      <th>instrumentalness</th>\n",
              "      <th>liveness</th>\n",
              "      <th>valence</th>\n",
              "      <th>tempo</th>\n",
              "      <th>track_href</th>\n",
              "      <th>analysis_url</th>\n",
              "      <th>time_signature</th>\n",
              "      <th>playlist</th>\n",
              "    </tr>\n",
              "    <tr>\n",
              "      <th>track_name</th>\n",
              "      <th></th>\n",
              "      <th></th>\n",
              "      <th></th>\n",
              "      <th></th>\n",
              "      <th></th>\n",
              "      <th></th>\n",
              "      <th></th>\n",
              "      <th></th>\n",
              "      <th></th>\n",
              "      <th></th>\n",
              "      <th></th>\n",
              "      <th></th>\n",
              "      <th></th>\n",
              "      <th></th>\n",
              "      <th></th>\n",
              "      <th></th>\n",
              "      <th></th>\n",
              "      <th></th>\n",
              "      <th></th>\n",
              "      <th></th>\n",
              "      <th></th>\n",
              "    </tr>\n",
              "  </thead>\n",
              "  <tbody>\n",
              "    <tr>\n",
              "      <th>Oceans &amp; Streams</th>\n",
              "      <td>Attack &amp; Release</td>\n",
              "      <td>The Black Keys</td>\n",
              "      <td>205600.0</td>\n",
              "      <td>False</td>\n",
              "      <td>False</td>\n",
              "      <td>https://api.spotify.com/v1/tracks/0RRS27vZj5U0...</td>\n",
              "      <td>0RRS27vZj5U0N2eIBctL4K</td>\n",
              "      <td>False</td>\n",
              "      <td>Oceans &amp; Streams</td>\n",
              "      <td>42.0</td>\n",
              "      <td>...</td>\n",
              "      <td>0.0464</td>\n",
              "      <td>0.08170</td>\n",
              "      <td>0.000056</td>\n",
              "      <td>0.122</td>\n",
              "      <td>0.5330</td>\n",
              "      <td>96.493</td>\n",
              "      <td>https://api.spotify.com/v1/tracks/0RRS27vZj5U0...</td>\n",
              "      <td>https://api.spotify.com/v1/audio-analysis/0RRS...</td>\n",
              "      <td>4</td>\n",
              "      <td>TheBlackKeys</td>\n",
              "    </tr>\n",
              "    <tr>\n",
              "      <th>Didn't I Love You</th>\n",
              "      <td>Dropout Boogie</td>\n",
              "      <td>The Black Keys</td>\n",
              "      <td>241960.0</td>\n",
              "      <td>False</td>\n",
              "      <td>False</td>\n",
              "      <td>https://api.spotify.com/v1/tracks/3ODV8hlwa7eL...</td>\n",
              "      <td>3ODV8hlwa7eLVuPMskWnQi</td>\n",
              "      <td>False</td>\n",
              "      <td>Didn't I Love You</td>\n",
              "      <td>48.0</td>\n",
              "      <td>...</td>\n",
              "      <td>0.0258</td>\n",
              "      <td>0.00213</td>\n",
              "      <td>0.013500</td>\n",
              "      <td>0.176</td>\n",
              "      <td>0.3920</td>\n",
              "      <td>107.813</td>\n",
              "      <td>https://api.spotify.com/v1/tracks/3ODV8hlwa7eL...</td>\n",
              "      <td>https://api.spotify.com/v1/audio-analysis/3ODV...</td>\n",
              "      <td>4</td>\n",
              "      <td>TheBlackKeys</td>\n",
              "    </tr>\n",
              "    <tr>\n",
              "      <th>Preludes, Book 1: No. 10: La cathedrale engloutie</th>\n",
              "      <td>Debussy: Piano Music, Vol. 4 - Preludes, Books...</td>\n",
              "      <td>Claude Debussy, François-Joël Thiollier</td>\n",
              "      <td>352026.0</td>\n",
              "      <td>False</td>\n",
              "      <td>False</td>\n",
              "      <td>https://api.spotify.com/v1/tracks/5UV0qwd8kE1M...</td>\n",
              "      <td>5UV0qwd8kE1Mnq6OKK2mue</td>\n",
              "      <td>False</td>\n",
              "      <td>Preludes, Book 1: No. 10: La cathedrale engloutie</td>\n",
              "      <td>32.0</td>\n",
              "      <td>...</td>\n",
              "      <td>0.0541</td>\n",
              "      <td>0.99100</td>\n",
              "      <td>0.910000</td>\n",
              "      <td>0.0813</td>\n",
              "      <td>0.0366</td>\n",
              "      <td>65.177</td>\n",
              "      <td>https://api.spotify.com/v1/tracks/5UV0qwd8kE1M...</td>\n",
              "      <td>https://api.spotify.com/v1/audio-analysis/5UV0...</td>\n",
              "      <td>4</td>\n",
              "      <td>debussy</td>\n",
              "    </tr>\n",
              "    <tr>\n",
              "      <th>I Got Mine</th>\n",
              "      <td>Attack &amp; Release</td>\n",
              "      <td>The Black Keys</td>\n",
              "      <td>239146.0</td>\n",
              "      <td>False</td>\n",
              "      <td>False</td>\n",
              "      <td>https://api.spotify.com/v1/tracks/319zpJMCzpz5...</td>\n",
              "      <td>319zpJMCzpz50Uz0PsjlJN</td>\n",
              "      <td>False</td>\n",
              "      <td>I Got Mine</td>\n",
              "      <td>54.0</td>\n",
              "      <td>...</td>\n",
              "      <td>0.0406</td>\n",
              "      <td>0.02920</td>\n",
              "      <td>0.508000</td>\n",
              "      <td>0.173</td>\n",
              "      <td>0.4750</td>\n",
              "      <td>157.725</td>\n",
              "      <td>https://api.spotify.com/v1/tracks/319zpJMCzpz5...</td>\n",
              "      <td>https://api.spotify.com/v1/audio-analysis/319z...</td>\n",
              "      <td>4</td>\n",
              "      <td>TheBlackKeys</td>\n",
              "    </tr>\n",
              "    <tr>\n",
              "      <th>Preludes, L. 123, Book II: II. Feuilles mortes</th>\n",
              "      <td>Debussy: Préludes</td>\n",
              "      <td>Claude Debussy, Francesco Piemontesi</td>\n",
              "      <td>189893.0</td>\n",
              "      <td>False</td>\n",
              "      <td>False</td>\n",
              "      <td>https://api.spotify.com/v1/tracks/33L1CeBG99GE...</td>\n",
              "      <td>33L1CeBG99GEw08R1Rxsmr</td>\n",
              "      <td>False</td>\n",
              "      <td>Preludes, L. 123, Book II: II. Feuilles mortes</td>\n",
              "      <td>31.0</td>\n",
              "      <td>...</td>\n",
              "      <td>0.0550</td>\n",
              "      <td>0.99100</td>\n",
              "      <td>0.911000</td>\n",
              "      <td>0.0749</td>\n",
              "      <td>0.0387</td>\n",
              "      <td>67.949</td>\n",
              "      <td>https://api.spotify.com/v1/tracks/33L1CeBG99GE...</td>\n",
              "      <td>https://api.spotify.com/v1/audio-analysis/33L1...</td>\n",
              "      <td>4</td>\n",
              "      <td>debussy</td>\n",
              "    </tr>\n",
              "    <tr>\n",
              "      <th>Images, Book 1: No. 1. Reflets dans l'eau (Reflections in the water)</th>\n",
              "      <td>Debussy: Piano Works, Vol. 3</td>\n",
              "      <td>Claude Debussy, François-Joël Thiollier</td>\n",
              "      <td>320293.0</td>\n",
              "      <td>False</td>\n",
              "      <td>False</td>\n",
              "      <td>https://api.spotify.com/v1/tracks/7bUIMBHbFjZ9...</td>\n",
              "      <td>7bUIMBHbFjZ9ZcEWcMalzh</td>\n",
              "      <td>False</td>\n",
              "      <td>Images, Book 1: No. 1. Reflets dans l'eau (Ref...</td>\n",
              "      <td>40.0</td>\n",
              "      <td>...</td>\n",
              "      <td>0.0442</td>\n",
              "      <td>0.99400</td>\n",
              "      <td>0.944000</td>\n",
              "      <td>0.106</td>\n",
              "      <td>0.0316</td>\n",
              "      <td>65.602</td>\n",
              "      <td>https://api.spotify.com/v1/tracks/7bUIMBHbFjZ9...</td>\n",
              "      <td>https://api.spotify.com/v1/audio-analysis/7bUI...</td>\n",
              "      <td>3</td>\n",
              "      <td>debussy</td>\n",
              "    </tr>\n",
              "  </tbody>\n",
              "</table>\n",
              "<p>6 rows × 30 columns</p>\n",
              "</div>\n",
              "      <button class=\"colab-df-convert\" onclick=\"convertToInteractive('df-ddf4ba55-3bd1-43ca-9b55-2b5c9d3556a5')\"\n",
              "              title=\"Convert this dataframe to an interactive table.\"\n",
              "              style=\"display:none;\">\n",
              "        \n",
              "  <svg xmlns=\"http://www.w3.org/2000/svg\" height=\"24px\"viewBox=\"0 0 24 24\"\n",
              "       width=\"24px\">\n",
              "    <path d=\"M0 0h24v24H0V0z\" fill=\"none\"/>\n",
              "    <path d=\"M18.56 5.44l.94 2.06.94-2.06 2.06-.94-2.06-.94-.94-2.06-.94 2.06-2.06.94zm-11 1L8.5 8.5l.94-2.06 2.06-.94-2.06-.94L8.5 2.5l-.94 2.06-2.06.94zm10 10l.94 2.06.94-2.06 2.06-.94-2.06-.94-.94-2.06-.94 2.06-2.06.94z\"/><path d=\"M17.41 7.96l-1.37-1.37c-.4-.4-.92-.59-1.43-.59-.52 0-1.04.2-1.43.59L10.3 9.45l-7.72 7.72c-.78.78-.78 2.05 0 2.83L4 21.41c.39.39.9.59 1.41.59.51 0 1.02-.2 1.41-.59l7.78-7.78 2.81-2.81c.8-.78.8-2.07 0-2.86zM5.41 20L4 18.59l7.72-7.72 1.47 1.35L5.41 20z\"/>\n",
              "  </svg>\n",
              "      </button>\n",
              "      \n",
              "  <style>\n",
              "    .colab-df-container {\n",
              "      display:flex;\n",
              "      flex-wrap:wrap;\n",
              "      gap: 12px;\n",
              "    }\n",
              "\n",
              "    .colab-df-convert {\n",
              "      background-color: #E8F0FE;\n",
              "      border: none;\n",
              "      border-radius: 50%;\n",
              "      cursor: pointer;\n",
              "      display: none;\n",
              "      fill: #1967D2;\n",
              "      height: 32px;\n",
              "      padding: 0 0 0 0;\n",
              "      width: 32px;\n",
              "    }\n",
              "\n",
              "    .colab-df-convert:hover {\n",
              "      background-color: #E2EBFA;\n",
              "      box-shadow: 0px 1px 2px rgba(60, 64, 67, 0.3), 0px 1px 3px 1px rgba(60, 64, 67, 0.15);\n",
              "      fill: #174EA6;\n",
              "    }\n",
              "\n",
              "    [theme=dark] .colab-df-convert {\n",
              "      background-color: #3B4455;\n",
              "      fill: #D2E3FC;\n",
              "    }\n",
              "\n",
              "    [theme=dark] .colab-df-convert:hover {\n",
              "      background-color: #434B5C;\n",
              "      box-shadow: 0px 1px 3px 1px rgba(0, 0, 0, 0.15);\n",
              "      filter: drop-shadow(0px 1px 2px rgba(0, 0, 0, 0.3));\n",
              "      fill: #FFFFFF;\n",
              "    }\n",
              "  </style>\n",
              "\n",
              "      <script>\n",
              "        const buttonEl =\n",
              "          document.querySelector('#df-ddf4ba55-3bd1-43ca-9b55-2b5c9d3556a5 button.colab-df-convert');\n",
              "        buttonEl.style.display =\n",
              "          google.colab.kernel.accessAllowed ? 'block' : 'none';\n",
              "\n",
              "        async function convertToInteractive(key) {\n",
              "          const element = document.querySelector('#df-ddf4ba55-3bd1-43ca-9b55-2b5c9d3556a5');\n",
              "          const dataTable =\n",
              "            await google.colab.kernel.invokeFunction('convertToInteractive',\n",
              "                                                     [key], {});\n",
              "          if (!dataTable) return;\n",
              "\n",
              "          const docLinkHtml = 'Like what you see? Visit the ' +\n",
              "            '<a target=\"_blank\" href=https://colab.research.google.com/notebooks/data_table.ipynb>data table notebook</a>'\n",
              "            + ' to learn more about interactive tables.';\n",
              "          element.innerHTML = '';\n",
              "          dataTable['output_type'] = 'display_data';\n",
              "          await google.colab.output.renderOutput(dataTable, element);\n",
              "          const docLink = document.createElement('div');\n",
              "          docLink.innerHTML = docLinkHtml;\n",
              "          element.appendChild(docLink);\n",
              "        }\n",
              "      </script>\n",
              "    </div>\n",
              "  </div>\n",
              "  "
            ]
          },
          "metadata": {},
          "execution_count": 20
        }
      ]
    },
    {
      "cell_type": "code",
      "metadata": {
        "id": "3z0Wxfa0T2WV",
        "colab": {
          "base_uri": "https://localhost:8080/",
          "height": 517
        },
        "outputId": "d9a6b7c9-e3bf-4d00-c886-7ba9648b22fa"
      },
      "source": [
        "# Veamos el histograma de dos valores\n",
        "playlist_A.hist(column='danceability', bins=12, grid=True, figsize=(10,8), color='#1DB954', zorder=2, rwidth=0.9)\n",
        "plt.title(\"Bailabilidad de \" + playlist_A_shortname)"
      ],
      "execution_count": null,
      "outputs": [
        {
          "output_type": "execute_result",
          "data": {
            "text/plain": [
              "Text(0.5, 1.0, 'Bailabilidad de debussy')"
            ]
          },
          "metadata": {},
          "execution_count": 121
        },
        {
          "output_type": "display_data",
          "data": {
            "text/plain": [
              "<Figure size 720x576 with 1 Axes>"
            ],
            "image/png": "[encoded data removed]"
          },
          "metadata": {
            "needs_background": "light"
          }
        }
      ]
    },
    {
      "cell_type": "code",
      "source": [
        "playlist_B.hist(column='danceability', bins=12, grid=True, figsize=(10,8), color='red', zorder=2, rwidth=0.9)\n",
        "plt.title(\"Bailabilidad de \" + playlist_B_shortname)\n",
        "\n"
      ],
      "metadata": {
        "colab": {
          "base_uri": "https://localhost:8080/",
          "height": 517
        },
        "id": "tj8OIdRyAMHg",
        "outputId": "c68a5094-7392-41c7-eb84-2d1167476f31"
      },
      "execution_count": null,
      "outputs": [
        {
          "output_type": "execute_result",
          "data": {
            "text/plain": [
              "Text(0.5, 1.0, 'Bailabilidad de jazzvibes')"
            ]
          },
          "metadata": {},
          "execution_count": 120
        },
        {
          "output_type": "display_data",
          "data": {
            "text/plain": [
              "<Figure size 720x576 with 1 Axes>"
            ],
            "image/png": "[encoded data removed]"
          },
          "metadata": {
            "needs_background": "light"
          }
        }
      ]
    },
    {
      "cell_type": "code",
      "source": [
        "# Usemos seaborn para combinar varios histogramas\n",
        "\n",
        "sns.distplot(playlist_A['valence'],  kde=True, label=playlist_A_shortname)\n",
        "sns.distplot(playlist_B['valence'], kde=True, label=playlist_B_shortname)\n",
        "\n",
        "plt.title(\"Comparación de la valencia musical\")\n",
        "\n",
        "plt.ylabel(\"Frecuencia Relativa\")\n",
        "plt.legend()\n",
        "\n",
        "\n",
        "plt.show()"
      ],
      "metadata": {
        "id": "ipI0PZq9hzKk",
        "colab": {
          "base_uri": "https://localhost:8080/",
          "height": 386
        },
        "outputId": "c05a559f-4cf7-4693-fa74-be16a4c00738"
      },
      "execution_count": null,
      "outputs": [
        {
          "output_type": "stream",
          "name": "stderr",
          "text": [
            "/usr/local/lib/python3.7/dist-packages/seaborn/distributions.py:2619: FutureWarning: `distplot` is a deprecated function and will be removed in a future version. Please adapt your code to use either `displot` (a figure-level function with similar flexibility) or `histplot` (an axes-level function for histograms).\n",
            "  warnings.warn(msg, FutureWarning)\n",
            "/usr/local/lib/python3.7/dist-packages/seaborn/distributions.py:2619: FutureWarning: `distplot` is a deprecated function and will be removed in a future version. Please adapt your code to use either `displot` (a figure-level function with similar flexibility) or `histplot` (an axes-level function for histograms).\n",
            "  warnings.warn(msg, FutureWarning)\n"
          ]
        },
        {
          "output_type": "display_data",
          "data": {
            "text/plain": [
              "<Figure size 432x288 with 1 Axes>"
            ],
            "image/png": "[encoded data removed]"
          },
          "metadata": {
            "needs_background": "light"
          }
        }
      ]
    },
    {
      "cell_type": "code",
      "source": [
        "g = sns.FacetGrid(playlist_juntas, height=6, aspect=1)\n",
        "g.map_dataframe(sns.scatterplot, x=\"valence\", y=\"energy\", hue=\"playlist\")\n",
        "g.add_legend()"
      ],
      "metadata": {
        "id": "PphmcaHMFprX",
        "outputId": "cc8a7f7b-572b-4f3c-9ccf-f62dc101c7d6",
        "colab": {
          "base_uri": "https://localhost:8080/",
          "height": 459
        }
      },
      "execution_count": null,
      "outputs": [
        {
          "output_type": "execute_result",
          "data": {
            "text/plain": [
              "<seaborn.axisgrid.FacetGrid at 0x7f622327f2d0>"
            ]
          },
          "metadata": {},
          "execution_count": 164
        },
        {
          "output_type": "display_data",
          "data": {
            "text/plain": [
              "<Figure size 513.625x432 with 1 Axes>"
            ],
            "image/png": "[encoded data removed]"
          },
          "metadata": {
            "needs_background": "light"
          }
        }
      ]
    },
    {
      "cell_type": "code",
      "source": [
        "g = sns.FacetGrid(playlist_juntas,hue='playlist',palette='coolwarm',size=4,aspect=1)\n",
        "\n",
        "g.map(plt.hist,'valence',bins=20,alpha=0.7,)"
      ],
      "metadata": {
        "id": "KDfAiVQZLuI5",
        "outputId": "878f0356-3da3-42bc-d420-f3dacb7c6b4e",
        "colab": {
          "base_uri": "https://localhost:8080/",
          "height": 350
        }
      },
      "execution_count": null,
      "outputs": [
        {
          "output_type": "stream",
          "name": "stderr",
          "text": [
            "/usr/local/lib/python3.7/dist-packages/seaborn/axisgrid.py:337: UserWarning: The `size` parameter has been renamed to `height`; please update your code.\n",
            "  warnings.warn(msg, UserWarning)\n"
          ]
        },
        {
          "output_type": "execute_result",
          "data": {
            "text/plain": [
              "<seaborn.axisgrid.FacetGrid at 0x7f62236b7f90>"
            ]
          },
          "metadata": {},
          "execution_count": 171
        },
        {
          "output_type": "display_data",
          "data": {
            "text/plain": [
              "<Figure size 288x288 with 1 Axes>"
            ],
            "image/png": "[encoded data removed]"
          },
          "metadata": {
            "needs_background": "light"
          }
        }
      ]
    },
    {
      "cell_type": "code",
      "source": [
        "playlist_A.boxplot(column=['valence', 'danceability', 'energy', 'speechiness', 'acousticness', ],figsize=(15,3));"
      ],
      "metadata": {
        "id": "Piu1yQrnLdvB",
        "outputId": "b8f9ca66-8cbb-4490-f849-f12cfc777a6c",
        "colab": {
          "base_uri": "https://localhost:8080/",
          "height": 211
        }
      },
      "execution_count": null,
      "outputs": [
        {
          "output_type": "display_data",
          "data": {
            "text/plain": [
              "<Figure size 1080x216 with 1 Axes>"
            ],
            "image/png": "[encoded data removed]"
          },
          "metadata": {
            "needs_background": "light"
          }
        }
      ]
    },
    {
      "cell_type": "code",
      "source": [
        "playlist_A.boxplot(column=['valence', 'danceability', 'energy', 'speechiness', 'acousticness', ],figsize=(15,3));"
      ],
      "metadata": {
        "id": "BC3Zf9l5oFlc",
        "colab": {
          "base_uri": "https://localhost:8080/",
          "height": 211
        },
        "outputId": "3ea778e1-0412-4339-ee41-2a603e090a8e"
      },
      "execution_count": null,
      "outputs": [
        {
          "output_type": "display_data",
          "data": {
            "text/plain": [
              "<Figure size 1080x216 with 1 Axes>"
            ],
            "image/png": "[encoded data removed]"
          },
          "metadata": {
            "needs_background": "light"
          }
        }
      ]
    },
    {
      "cell_type": "code",
      "source": [
        "playlist_B.boxplot(column=['valence', 'danceability', 'energy', 'speechiness', 'acousticness', ],figsize=(15,3));"
      ],
      "metadata": {
        "colab": {
          "base_uri": "https://localhost:8080/",
          "height": 211
        },
        "id": "ABD-bdoEB2od",
        "outputId": "bb7989da-7ffb-4978-edf1-012ff32c7f0e"
      },
      "execution_count": null,
      "outputs": [
        {
          "output_type": "display_data",
          "data": {
            "text/plain": [
              "<Figure size 1080x216 with 1 Axes>"
            ],
            "image/png": "[encoded data removed]"
          },
          "metadata": {
            "needs_background": "light"
          }
        }
      ]
    },
    {
      "cell_type": "markdown",
      "source": [
        "**Exploremos las medias de cada caracteristica**"
      ],
      "metadata": {
        "id": "Oeog3B1nCT19"
      }
    },
    {
      "cell_type": "code",
      "source": [
        "plt.title(\"Media de las caracteristicas musicales de \" + playlist_A_shortname)\n",
        "playlist_A[columnas].mean().plot(kind='bar')"
      ],
      "metadata": {
        "id": "9kItCYJQKU6D",
        "colab": {
          "base_uri": "https://localhost:8080/",
          "height": 376
        },
        "outputId": "8015982d-993e-4a90-9fda-16e97d4755ff"
      },
      "execution_count": null,
      "outputs": [
        {
          "output_type": "execute_result",
          "data": {
            "text/plain": [
              "<matplotlib.axes._subplots.AxesSubplot at 0x7f6222ee5850>"
            ]
          },
          "metadata": {},
          "execution_count": 101
        },
        {
          "output_type": "display_data",
          "data": {
            "text/plain": [
              "<Figure size 432x288 with 1 Axes>"
            ],
            "image/png": "[encoded data removed]"
          },
          "metadata": {
            "needs_background": "light"
          }
        }
      ]
    },
    {
      "cell_type": "code",
      "source": [
        "plt.title(\"Media de las caracteristicas musicales de \" + playlist_B_shortname)\n",
        "playlist_B[columnas].mean().plot(kind='bar')"
      ],
      "metadata": {
        "colab": {
          "base_uri": "https://localhost:8080/",
          "height": 376
        },
        "id": "NsnpQzOv-6Ux",
        "outputId": "21cb0b26-9433-4c3a-995e-885e41b9b4c7"
      },
      "execution_count": null,
      "outputs": [
        {
          "output_type": "execute_result",
          "data": {
            "text/plain": [
              "<matplotlib.axes._subplots.AxesSubplot at 0x7f6222f15dd0>"
            ]
          },
          "metadata": {},
          "execution_count": 102
        },
        {
          "output_type": "display_data",
          "data": {
            "text/plain": [
              "<Figure size 432x288 with 1 Axes>"
            ],
            "image/png": "[encoded data removed]"
          },
          "metadata": {
            "needs_background": "light"
          }
        }
      ]
    },
    {
      "cell_type": "markdown",
      "source": [
        "**¿Puedo hacer un resumen de la media de cada una de las caracteristicas de los playlist?**"
      ],
      "metadata": {
        "id": "IyMg2LKn_mO_"
      }
    },
    {
      "cell_type": "code",
      "source": [
        "# Función para calcular la media de todas las casracteristicas de la playlist\n",
        "\n",
        "def playlist_features_to_mean(playlist, playlist_name):\n",
        "  # Podemos hacer una lista de todas las columnas que queremos obtener sumatorias\n",
        "  columnas = ['valence', 'speechiness', 'instrumentalness', 'energy', 'danceability', 'acousticness']\n",
        "  # Calculamos las medianas de todas las columnas\n",
        "  # Transponemos los valores, columnas en filas\n",
        "  mean_dataframe = playlist[columnas].mean().to_frame().transpose()\n",
        "  # Añadimos la columna playlist para poder comparar\n",
        "  mean_dataframe['playlist'] = playlist_name\n",
        "\n",
        "  return mean_dataframe"
      ],
      "metadata": {
        "id": "7t9O5d3NJk2m"
      },
      "execution_count": 21,
      "outputs": []
    },
    {
      "cell_type": "code",
      "source": [
        "playlist_A_means = playlist_features_to_mean(playlist_A, playlist_A_shortname)"
      ],
      "metadata": {
        "id": "QpnEMmXvMYcn"
      },
      "execution_count": 22,
      "outputs": []
    },
    {
      "cell_type": "code",
      "source": [
        "playlist_B_means = playlist_features_to_mean(playlist_B, playlist_B_shortname)"
      ],
      "metadata": {
        "id": "t7FWPV0E9xY5"
      },
      "execution_count": 23,
      "outputs": []
    },
    {
      "cell_type": "code",
      "source": [
        "playlist_A_means"
      ],
      "metadata": {
        "colab": {
          "base_uri": "https://localhost:8080/",
          "height": 81
        },
        "id": "OIb2VXUn9_AE",
        "outputId": "947a67b1-9043-4a1a-af01-544e5d7f684b"
      },
      "execution_count": 24,
      "outputs": [
        {
          "output_type": "execute_result",
          "data": {
            "text/plain": [
              "    valence  speechiness  instrumentalness    energy  danceability  \\\n",
              "0  0.097461     0.044571          0.799778  0.051533      0.275873   \n",
              "\n",
              "   acousticness playlist  \n",
              "0      0.974678  debussy  "
            ],
            "text/html": [
              "\n",
              "  <div id=\"df-8043a1b4-3ea9-48a3-988e-d68b32e2e9e7\">\n",
              "    <div class=\"colab-df-container\">\n",
              "      <div>\n",
              "<style scoped>\n",
              "    .dataframe tbody tr th:only-of-type {\n",
              "        vertical-align: middle;\n",
              "    }\n",
              "\n",
              "    .dataframe tbody tr th {\n",
              "        vertical-align: top;\n",
              "    }\n",
              "\n",
              "    .dataframe thead th {\n",
              "        text-align: right;\n",
              "    }\n",
              "</style>\n",
              "<table border=\"1\" class=\"dataframe\">\n",
              "  <thead>\n",
              "    <tr style=\"text-align: right;\">\n",
              "      <th></th>\n",
              "      <th>valence</th>\n",
              "      <th>speechiness</th>\n",
              "      <th>instrumentalness</th>\n",
              "      <th>energy</th>\n",
              "      <th>danceability</th>\n",
              "      <th>acousticness</th>\n",
              "      <th>playlist</th>\n",
              "    </tr>\n",
              "  </thead>\n",
              "  <tbody>\n",
              "    <tr>\n",
              "      <th>0</th>\n",
              "      <td>0.097461</td>\n",
              "      <td>0.044571</td>\n",
              "      <td>0.799778</td>\n",
              "      <td>0.051533</td>\n",
              "      <td>0.275873</td>\n",
              "      <td>0.974678</td>\n",
              "      <td>debussy</td>\n",
              "    </tr>\n",
              "  </tbody>\n",
              "</table>\n",
              "</div>\n",
              "      <button class=\"colab-df-convert\" onclick=\"convertToInteractive('df-8043a1b4-3ea9-48a3-988e-d68b32e2e9e7')\"\n",
              "              title=\"Convert this dataframe to an interactive table.\"\n",
              "              style=\"display:none;\">\n",
              "        \n",
              "  <svg xmlns=\"http://www.w3.org/2000/svg\" height=\"24px\"viewBox=\"0 0 24 24\"\n",
              "       width=\"24px\">\n",
              "    <path d=\"M0 0h24v24H0V0z\" fill=\"none\"/>\n",
              "    <path d=\"M18.56 5.44l.94 2.06.94-2.06 2.06-.94-2.06-.94-.94-2.06-.94 2.06-2.06.94zm-11 1L8.5 8.5l.94-2.06 2.06-.94-2.06-.94L8.5 2.5l-.94 2.06-2.06.94zm10 10l.94 2.06.94-2.06 2.06-.94-2.06-.94-.94-2.06-.94 2.06-2.06.94z\"/><path d=\"M17.41 7.96l-1.37-1.37c-.4-.4-.92-.59-1.43-.59-.52 0-1.04.2-1.43.59L10.3 9.45l-7.72 7.72c-.78.78-.78 2.05 0 2.83L4 21.41c.39.39.9.59 1.41.59.51 0 1.02-.2 1.41-.59l7.78-7.78 2.81-2.81c.8-.78.8-2.07 0-2.86zM5.41 20L4 18.59l7.72-7.72 1.47 1.35L5.41 20z\"/>\n",
              "  </svg>\n",
              "      </button>\n",
              "      \n",
              "  <style>\n",
              "    .colab-df-container {\n",
              "      display:flex;\n",
              "      flex-wrap:wrap;\n",
              "      gap: 12px;\n",
              "    }\n",
              "\n",
              "    .colab-df-convert {\n",
              "      background-color: #E8F0FE;\n",
              "      border: none;\n",
              "      border-radius: 50%;\n",
              "      cursor: pointer;\n",
              "      display: none;\n",
              "      fill: #1967D2;\n",
              "      height: 32px;\n",
              "      padding: 0 0 0 0;\n",
              "      width: 32px;\n",
              "    }\n",
              "\n",
              "    .colab-df-convert:hover {\n",
              "      background-color: #E2EBFA;\n",
              "      box-shadow: 0px 1px 2px rgba(60, 64, 67, 0.3), 0px 1px 3px 1px rgba(60, 64, 67, 0.15);\n",
              "      fill: #174EA6;\n",
              "    }\n",
              "\n",
              "    [theme=dark] .colab-df-convert {\n",
              "      background-color: #3B4455;\n",
              "      fill: #D2E3FC;\n",
              "    }\n",
              "\n",
              "    [theme=dark] .colab-df-convert:hover {\n",
              "      background-color: #434B5C;\n",
              "      box-shadow: 0px 1px 3px 1px rgba(0, 0, 0, 0.15);\n",
              "      filter: drop-shadow(0px 1px 2px rgba(0, 0, 0, 0.3));\n",
              "      fill: #FFFFFF;\n",
              "    }\n",
              "  </style>\n",
              "\n",
              "      <script>\n",
              "        const buttonEl =\n",
              "          document.querySelector('#df-8043a1b4-3ea9-48a3-988e-d68b32e2e9e7 button.colab-df-convert');\n",
              "        buttonEl.style.display =\n",
              "          google.colab.kernel.accessAllowed ? 'block' : 'none';\n",
              "\n",
              "        async function convertToInteractive(key) {\n",
              "          const element = document.querySelector('#df-8043a1b4-3ea9-48a3-988e-d68b32e2e9e7');\n",
              "          const dataTable =\n",
              "            await google.colab.kernel.invokeFunction('convertToInteractive',\n",
              "                                                     [key], {});\n",
              "          if (!dataTable) return;\n",
              "\n",
              "          const docLinkHtml = 'Like what you see? Visit the ' +\n",
              "            '<a target=\"_blank\" href=https://colab.research.google.com/notebooks/data_table.ipynb>data table notebook</a>'\n",
              "            + ' to learn more about interactive tables.';\n",
              "          element.innerHTML = '';\n",
              "          dataTable['output_type'] = 'display_data';\n",
              "          await google.colab.output.renderOutput(dataTable, element);\n",
              "          const docLink = document.createElement('div');\n",
              "          docLink.innerHTML = docLinkHtml;\n",
              "          element.appendChild(docLink);\n",
              "        }\n",
              "      </script>\n",
              "    </div>\n",
              "  </div>\n",
              "  "
            ]
          },
          "metadata": {},
          "execution_count": 24
        }
      ]
    },
    {
      "cell_type": "code",
      "source": [
        "playlist_B_means"
      ],
      "metadata": {
        "colab": {
          "base_uri": "https://localhost:8080/",
          "height": 81
        },
        "id": "sZu-xt6k-Ayo",
        "outputId": "e5e2e019-cb87-4868-dd89-0baa78807bca"
      },
      "execution_count": 25,
      "outputs": [
        {
          "output_type": "execute_result",
          "data": {
            "text/plain": [
              "   valence  speechiness  instrumentalness   energy  danceability  \\\n",
              "0  0.58022     0.049204          0.133775  0.71126        0.5216   \n",
              "\n",
              "   acousticness      playlist  \n",
              "0      0.180825  TheBlackKeys  "
            ],
            "text/html": [
              "\n",
              "  <div id=\"df-da69cb5e-584e-4539-a175-91d1ab394ec0\">\n",
              "    <div class=\"colab-df-container\">\n",
              "      <div>\n",
              "<style scoped>\n",
              "    .dataframe tbody tr th:only-of-type {\n",
              "        vertical-align: middle;\n",
              "    }\n",
              "\n",
              "    .dataframe tbody tr th {\n",
              "        vertical-align: top;\n",
              "    }\n",
              "\n",
              "    .dataframe thead th {\n",
              "        text-align: right;\n",
              "    }\n",
              "</style>\n",
              "<table border=\"1\" class=\"dataframe\">\n",
              "  <thead>\n",
              "    <tr style=\"text-align: right;\">\n",
              "      <th></th>\n",
              "      <th>valence</th>\n",
              "      <th>speechiness</th>\n",
              "      <th>instrumentalness</th>\n",
              "      <th>energy</th>\n",
              "      <th>danceability</th>\n",
              "      <th>acousticness</th>\n",
              "      <th>playlist</th>\n",
              "    </tr>\n",
              "  </thead>\n",
              "  <tbody>\n",
              "    <tr>\n",
              "      <th>0</th>\n",
              "      <td>0.58022</td>\n",
              "      <td>0.049204</td>\n",
              "      <td>0.133775</td>\n",
              "      <td>0.71126</td>\n",
              "      <td>0.5216</td>\n",
              "      <td>0.180825</td>\n",
              "      <td>TheBlackKeys</td>\n",
              "    </tr>\n",
              "  </tbody>\n",
              "</table>\n",
              "</div>\n",
              "      <button class=\"colab-df-convert\" onclick=\"convertToInteractive('df-da69cb5e-584e-4539-a175-91d1ab394ec0')\"\n",
              "              title=\"Convert this dataframe to an interactive table.\"\n",
              "              style=\"display:none;\">\n",
              "        \n",
              "  <svg xmlns=\"http://www.w3.org/2000/svg\" height=\"24px\"viewBox=\"0 0 24 24\"\n",
              "       width=\"24px\">\n",
              "    <path d=\"M0 0h24v24H0V0z\" fill=\"none\"/>\n",
              "    <path d=\"M18.56 5.44l.94 2.06.94-2.06 2.06-.94-2.06-.94-.94-2.06-.94 2.06-2.06.94zm-11 1L8.5 8.5l.94-2.06 2.06-.94-2.06-.94L8.5 2.5l-.94 2.06-2.06.94zm10 10l.94 2.06.94-2.06 2.06-.94-2.06-.94-.94-2.06-.94 2.06-2.06.94z\"/><path d=\"M17.41 7.96l-1.37-1.37c-.4-.4-.92-.59-1.43-.59-.52 0-1.04.2-1.43.59L10.3 9.45l-7.72 7.72c-.78.78-.78 2.05 0 2.83L4 21.41c.39.39.9.59 1.41.59.51 0 1.02-.2 1.41-.59l7.78-7.78 2.81-2.81c.8-.78.8-2.07 0-2.86zM5.41 20L4 18.59l7.72-7.72 1.47 1.35L5.41 20z\"/>\n",
              "  </svg>\n",
              "      </button>\n",
              "      \n",
              "  <style>\n",
              "    .colab-df-container {\n",
              "      display:flex;\n",
              "      flex-wrap:wrap;\n",
              "      gap: 12px;\n",
              "    }\n",
              "\n",
              "    .colab-df-convert {\n",
              "      background-color: #E8F0FE;\n",
              "      border: none;\n",
              "      border-radius: 50%;\n",
              "      cursor: pointer;\n",
              "      display: none;\n",
              "      fill: #1967D2;\n",
              "      height: 32px;\n",
              "      padding: 0 0 0 0;\n",
              "      width: 32px;\n",
              "    }\n",
              "\n",
              "    .colab-df-convert:hover {\n",
              "      background-color: #E2EBFA;\n",
              "      box-shadow: 0px 1px 2px rgba(60, 64, 67, 0.3), 0px 1px 3px 1px rgba(60, 64, 67, 0.15);\n",
              "      fill: #174EA6;\n",
              "    }\n",
              "\n",
              "    [theme=dark] .colab-df-convert {\n",
              "      background-color: #3B4455;\n",
              "      fill: #D2E3FC;\n",
              "    }\n",
              "\n",
              "    [theme=dark] .colab-df-convert:hover {\n",
              "      background-color: #434B5C;\n",
              "      box-shadow: 0px 1px 3px 1px rgba(0, 0, 0, 0.15);\n",
              "      filter: drop-shadow(0px 1px 2px rgba(0, 0, 0, 0.3));\n",
              "      fill: #FFFFFF;\n",
              "    }\n",
              "  </style>\n",
              "\n",
              "      <script>\n",
              "        const buttonEl =\n",
              "          document.querySelector('#df-da69cb5e-584e-4539-a175-91d1ab394ec0 button.colab-df-convert');\n",
              "        buttonEl.style.display =\n",
              "          google.colab.kernel.accessAllowed ? 'block' : 'none';\n",
              "\n",
              "        async function convertToInteractive(key) {\n",
              "          const element = document.querySelector('#df-da69cb5e-584e-4539-a175-91d1ab394ec0');\n",
              "          const dataTable =\n",
              "            await google.colab.kernel.invokeFunction('convertToInteractive',\n",
              "                                                     [key], {});\n",
              "          if (!dataTable) return;\n",
              "\n",
              "          const docLinkHtml = 'Like what you see? Visit the ' +\n",
              "            '<a target=\"_blank\" href=https://colab.research.google.com/notebooks/data_table.ipynb>data table notebook</a>'\n",
              "            + ' to learn more about interactive tables.';\n",
              "          element.innerHTML = '';\n",
              "          dataTable['output_type'] = 'display_data';\n",
              "          await google.colab.output.renderOutput(dataTable, element);\n",
              "          const docLink = document.createElement('div');\n",
              "          docLink.innerHTML = docLinkHtml;\n",
              "          element.appendChild(docLink);\n",
              "        }\n",
              "      </script>\n",
              "    </div>\n",
              "  </div>\n",
              "  "
            ]
          },
          "metadata": {},
          "execution_count": 25
        }
      ]
    },
    {
      "cell_type": "markdown",
      "source": [
        "**¿Puedo juntar las dos dataframes?**"
      ],
      "metadata": {
        "id": "9UB2_t81Cgqa"
      }
    },
    {
      "cell_type": "code",
      "source": [
        "# Podemos juntar las dos medidas en un mismo dataframe\n",
        "all_means = pd.concat([playlist_A_means,playlist_B_means])\n",
        "all_means"
      ],
      "metadata": {
        "id": "nMKxlKI1SQG_",
        "colab": {
          "base_uri": "https://localhost:8080/",
          "height": 112
        },
        "outputId": "31659908-740f-4f6b-b3d5-2498d3eea245"
      },
      "execution_count": 26,
      "outputs": [
        {
          "output_type": "execute_result",
          "data": {
            "text/plain": [
              "    valence  speechiness  instrumentalness    energy  danceability  \\\n",
              "0  0.097461     0.044571          0.799778  0.051533      0.275873   \n",
              "0  0.580220     0.049204          0.133775  0.711260      0.521600   \n",
              "\n",
              "   acousticness      playlist  \n",
              "0      0.974678       debussy  \n",
              "0      0.180825  TheBlackKeys  "
            ],
            "text/html": [
              "\n",
              "  <div id=\"df-e40a29c5-dd62-48d6-bb81-e1a835aca84a\">\n",
              "    <div class=\"colab-df-container\">\n",
              "      <div>\n",
              "<style scoped>\n",
              "    .dataframe tbody tr th:only-of-type {\n",
              "        vertical-align: middle;\n",
              "    }\n",
              "\n",
              "    .dataframe tbody tr th {\n",
              "        vertical-align: top;\n",
              "    }\n",
              "\n",
              "    .dataframe thead th {\n",
              "        text-align: right;\n",
              "    }\n",
              "</style>\n",
              "<table border=\"1\" class=\"dataframe\">\n",
              "  <thead>\n",
              "    <tr style=\"text-align: right;\">\n",
              "      <th></th>\n",
              "      <th>valence</th>\n",
              "      <th>speechiness</th>\n",
              "      <th>instrumentalness</th>\n",
              "      <th>energy</th>\n",
              "      <th>danceability</th>\n",
              "      <th>acousticness</th>\n",
              "      <th>playlist</th>\n",
              "    </tr>\n",
              "  </thead>\n",
              "  <tbody>\n",
              "    <tr>\n",
              "      <th>0</th>\n",
              "      <td>0.097461</td>\n",
              "      <td>0.044571</td>\n",
              "      <td>0.799778</td>\n",
              "      <td>0.051533</td>\n",
              "      <td>0.275873</td>\n",
              "      <td>0.974678</td>\n",
              "      <td>debussy</td>\n",
              "    </tr>\n",
              "    <tr>\n",
              "      <th>0</th>\n",
              "      <td>0.580220</td>\n",
              "      <td>0.049204</td>\n",
              "      <td>0.133775</td>\n",
              "      <td>0.711260</td>\n",
              "      <td>0.521600</td>\n",
              "      <td>0.180825</td>\n",
              "      <td>TheBlackKeys</td>\n",
              "    </tr>\n",
              "  </tbody>\n",
              "</table>\n",
              "</div>\n",
              "      <button class=\"colab-df-convert\" onclick=\"convertToInteractive('df-e40a29c5-dd62-48d6-bb81-e1a835aca84a')\"\n",
              "              title=\"Convert this dataframe to an interactive table.\"\n",
              "              style=\"display:none;\">\n",
              "        \n",
              "  <svg xmlns=\"http://www.w3.org/2000/svg\" height=\"24px\"viewBox=\"0 0 24 24\"\n",
              "       width=\"24px\">\n",
              "    <path d=\"M0 0h24v24H0V0z\" fill=\"none\"/>\n",
              "    <path d=\"M18.56 5.44l.94 2.06.94-2.06 2.06-.94-2.06-.94-.94-2.06-.94 2.06-2.06.94zm-11 1L8.5 8.5l.94-2.06 2.06-.94-2.06-.94L8.5 2.5l-.94 2.06-2.06.94zm10 10l.94 2.06.94-2.06 2.06-.94-2.06-.94-.94-2.06-.94 2.06-2.06.94z\"/><path d=\"M17.41 7.96l-1.37-1.37c-.4-.4-.92-.59-1.43-.59-.52 0-1.04.2-1.43.59L10.3 9.45l-7.72 7.72c-.78.78-.78 2.05 0 2.83L4 21.41c.39.39.9.59 1.41.59.51 0 1.02-.2 1.41-.59l7.78-7.78 2.81-2.81c.8-.78.8-2.07 0-2.86zM5.41 20L4 18.59l7.72-7.72 1.47 1.35L5.41 20z\"/>\n",
              "  </svg>\n",
              "      </button>\n",
              "      \n",
              "  <style>\n",
              "    .colab-df-container {\n",
              "      display:flex;\n",
              "      flex-wrap:wrap;\n",
              "      gap: 12px;\n",
              "    }\n",
              "\n",
              "    .colab-df-convert {\n",
              "      background-color: #E8F0FE;\n",
              "      border: none;\n",
              "      border-radius: 50%;\n",
              "      cursor: pointer;\n",
              "      display: none;\n",
              "      fill: #1967D2;\n",
              "      height: 32px;\n",
              "      padding: 0 0 0 0;\n",
              "      width: 32px;\n",
              "    }\n",
              "\n",
              "    .colab-df-convert:hover {\n",
              "      background-color: #E2EBFA;\n",
              "      box-shadow: 0px 1px 2px rgba(60, 64, 67, 0.3), 0px 1px 3px 1px rgba(60, 64, 67, 0.15);\n",
              "      fill: #174EA6;\n",
              "    }\n",
              "\n",
              "    [theme=dark] .colab-df-convert {\n",
              "      background-color: #3B4455;\n",
              "      fill: #D2E3FC;\n",
              "    }\n",
              "\n",
              "    [theme=dark] .colab-df-convert:hover {\n",
              "      background-color: #434B5C;\n",
              "      box-shadow: 0px 1px 3px 1px rgba(0, 0, 0, 0.15);\n",
              "      filter: drop-shadow(0px 1px 2px rgba(0, 0, 0, 0.3));\n",
              "      fill: #FFFFFF;\n",
              "    }\n",
              "  </style>\n",
              "\n",
              "      <script>\n",
              "        const buttonEl =\n",
              "          document.querySelector('#df-e40a29c5-dd62-48d6-bb81-e1a835aca84a button.colab-df-convert');\n",
              "        buttonEl.style.display =\n",
              "          google.colab.kernel.accessAllowed ? 'block' : 'none';\n",
              "\n",
              "        async function convertToInteractive(key) {\n",
              "          const element = document.querySelector('#df-e40a29c5-dd62-48d6-bb81-e1a835aca84a');\n",
              "          const dataTable =\n",
              "            await google.colab.kernel.invokeFunction('convertToInteractive',\n",
              "                                                     [key], {});\n",
              "          if (!dataTable) return;\n",
              "\n",
              "          const docLinkHtml = 'Like what you see? Visit the ' +\n",
              "            '<a target=\"_blank\" href=https://colab.research.google.com/notebooks/data_table.ipynb>data table notebook</a>'\n",
              "            + ' to learn more about interactive tables.';\n",
              "          element.innerHTML = '';\n",
              "          dataTable['output_type'] = 'display_data';\n",
              "          await google.colab.output.renderOutput(dataTable, element);\n",
              "          const docLink = document.createElement('div');\n",
              "          docLink.innerHTML = docLinkHtml;\n",
              "          element.appendChild(docLink);\n",
              "        }\n",
              "      </script>\n",
              "    </div>\n",
              "  </div>\n",
              "  "
            ]
          },
          "metadata": {},
          "execution_count": 26
        }
      ]
    },
    {
      "cell_type": "code",
      "source": [
        "# el indice de las filas deberia ser el playlist\n",
        "all_means = all_means.set_index('playlist')"
      ],
      "metadata": {
        "id": "jSOj6vnZTpFh"
      },
      "execution_count": 27,
      "outputs": []
    },
    {
      "cell_type": "code",
      "source": [
        "all_means.plot(kind='bar', figsize=(10,8))\n",
        "plt.legend(loc='upper left', ncol=1, title=\"Caracteristica\", bbox_to_anchor=(1.0, 0.5))\n",
        "plt.title(\"Medias de las caracteristicas musicales\")\n",
        "plt.xlabel(\"Playlist\")\n",
        "plt.ylabel(\"Media\")\n",
        "plt.plot()"
      ],
      "metadata": {
        "id": "nCjNyxa2SuyM",
        "colab": {
          "base_uri": "https://localhost:8080/",
          "height": 589
        },
        "outputId": "b45bea6c-621f-4ad1-a08c-104cec46552e"
      },
      "execution_count": 28,
      "outputs": [
        {
          "output_type": "execute_result",
          "data": {
            "text/plain": [
              "[]"
            ]
          },
          "metadata": {},
          "execution_count": 28
        },
        {
          "output_type": "display_data",
          "data": {
            "text/plain": [
              "<Figure size 720x576 with 1 Axes>"
            ],
            "image/png": "[encoded data removed]"
          },
          "metadata": {
            "needs_background": "light"
          }
        }
      ]
    },
    {
      "cell_type": "markdown",
      "source": [
        "**Podemos usar transpose para cambiar los ejes de la tabla y del chart**"
      ],
      "metadata": {
        "id": "byzsQzzCDBr9"
      }
    },
    {
      "cell_type": "code",
      "source": [
        "all_means.transpose()"
      ],
      "metadata": {
        "id": "TlS15QVqv7k_",
        "colab": {
          "base_uri": "https://localhost:8080/",
          "height": 237
        },
        "outputId": "e387cff1-4899-4692-b625-6e7f10ae23b0"
      },
      "execution_count": 33,
      "outputs": [
        {
          "output_type": "execute_result",
          "data": {
            "text/plain": [
              "playlist           debussy  TheBlackKeys\n",
              "valence           0.097461      0.580220\n",
              "speechiness       0.044571      0.049204\n",
              "instrumentalness  0.799778      0.133775\n",
              "energy            0.051533      0.711260\n",
              "danceability      0.275873      0.521600\n",
              "acousticness      0.974678      0.180825"
            ],
            "text/html": [
              "\n",
              "  <div id=\"df-0204cbfe-e1f4-4ce9-9a94-f3a07273b0de\">\n",
              "    <div class=\"colab-df-container\">\n",
              "      <div>\n",
              "<style scoped>\n",
              "    .dataframe tbody tr th:only-of-type {\n",
              "        vertical-align: middle;\n",
              "    }\n",
              "\n",
              "    .dataframe tbody tr th {\n",
              "        vertical-align: top;\n",
              "    }\n",
              "\n",
              "    .dataframe thead th {\n",
              "        text-align: right;\n",
              "    }\n",
              "</style>\n",
              "<table border=\"1\" class=\"dataframe\">\n",
              "  <thead>\n",
              "    <tr style=\"text-align: right;\">\n",
              "      <th>playlist</th>\n",
              "      <th>debussy</th>\n",
              "      <th>TheBlackKeys</th>\n",
              "    </tr>\n",
              "  </thead>\n",
              "  <tbody>\n",
              "    <tr>\n",
              "      <th>valence</th>\n",
              "      <td>0.097461</td>\n",
              "      <td>0.580220</td>\n",
              "    </tr>\n",
              "    <tr>\n",
              "      <th>speechiness</th>\n",
              "      <td>0.044571</td>\n",
              "      <td>0.049204</td>\n",
              "    </tr>\n",
              "    <tr>\n",
              "      <th>instrumentalness</th>\n",
              "      <td>0.799778</td>\n",
              "      <td>0.133775</td>\n",
              "    </tr>\n",
              "    <tr>\n",
              "      <th>energy</th>\n",
              "      <td>0.051533</td>\n",
              "      <td>0.711260</td>\n",
              "    </tr>\n",
              "    <tr>\n",
              "      <th>danceability</th>\n",
              "      <td>0.275873</td>\n",
              "      <td>0.521600</td>\n",
              "    </tr>\n",
              "    <tr>\n",
              "      <th>acousticness</th>\n",
              "      <td>0.974678</td>\n",
              "      <td>0.180825</td>\n",
              "    </tr>\n",
              "  </tbody>\n",
              "</table>\n",
              "</div>\n",
              "      <button class=\"colab-df-convert\" onclick=\"convertToInteractive('df-0204cbfe-e1f4-4ce9-9a94-f3a07273b0de')\"\n",
              "              title=\"Convert this dataframe to an interactive table.\"\n",
              "              style=\"display:none;\">\n",
              "        \n",
              "  <svg xmlns=\"http://www.w3.org/2000/svg\" height=\"24px\"viewBox=\"0 0 24 24\"\n",
              "       width=\"24px\">\n",
              "    <path d=\"M0 0h24v24H0V0z\" fill=\"none\"/>\n",
              "    <path d=\"M18.56 5.44l.94 2.06.94-2.06 2.06-.94-2.06-.94-.94-2.06-.94 2.06-2.06.94zm-11 1L8.5 8.5l.94-2.06 2.06-.94-2.06-.94L8.5 2.5l-.94 2.06-2.06.94zm10 10l.94 2.06.94-2.06 2.06-.94-2.06-.94-.94-2.06-.94 2.06-2.06.94z\"/><path d=\"M17.41 7.96l-1.37-1.37c-.4-.4-.92-.59-1.43-.59-.52 0-1.04.2-1.43.59L10.3 9.45l-7.72 7.72c-.78.78-.78 2.05 0 2.83L4 21.41c.39.39.9.59 1.41.59.51 0 1.02-.2 1.41-.59l7.78-7.78 2.81-2.81c.8-.78.8-2.07 0-2.86zM5.41 20L4 18.59l7.72-7.72 1.47 1.35L5.41 20z\"/>\n",
              "  </svg>\n",
              "      </button>\n",
              "      \n",
              "  <style>\n",
              "    .colab-df-container {\n",
              "      display:flex;\n",
              "      flex-wrap:wrap;\n",
              "      gap: 12px;\n",
              "    }\n",
              "\n",
              "    .colab-df-convert {\n",
              "      background-color: #E8F0FE;\n",
              "      border: none;\n",
              "      border-radius: 50%;\n",
              "      cursor: pointer;\n",
              "      display: none;\n",
              "      fill: #1967D2;\n",
              "      height: 32px;\n",
              "      padding: 0 0 0 0;\n",
              "      width: 32px;\n",
              "    }\n",
              "\n",
              "    .colab-df-convert:hover {\n",
              "      background-color: #E2EBFA;\n",
              "      box-shadow: 0px 1px 2px rgba(60, 64, 67, 0.3), 0px 1px 3px 1px rgba(60, 64, 67, 0.15);\n",
              "      fill: #174EA6;\n",
              "    }\n",
              "\n",
              "    [theme=dark] .colab-df-convert {\n",
              "      background-color: #3B4455;\n",
              "      fill: #D2E3FC;\n",
              "    }\n",
              "\n",
              "    [theme=dark] .colab-df-convert:hover {\n",
              "      background-color: #434B5C;\n",
              "      box-shadow: 0px 1px 3px 1px rgba(0, 0, 0, 0.15);\n",
              "      filter: drop-shadow(0px 1px 2px rgba(0, 0, 0, 0.3));\n",
              "      fill: #FFFFFF;\n",
              "    }\n",
              "  </style>\n",
              "\n",
              "      <script>\n",
              "        const buttonEl =\n",
              "          document.querySelector('#df-0204cbfe-e1f4-4ce9-9a94-f3a07273b0de button.colab-df-convert');\n",
              "        buttonEl.style.display =\n",
              "          google.colab.kernel.accessAllowed ? 'block' : 'none';\n",
              "\n",
              "        async function convertToInteractive(key) {\n",
              "          const element = document.querySelector('#df-0204cbfe-e1f4-4ce9-9a94-f3a07273b0de');\n",
              "          const dataTable =\n",
              "            await google.colab.kernel.invokeFunction('convertToInteractive',\n",
              "                                                     [key], {});\n",
              "          if (!dataTable) return;\n",
              "\n",
              "          const docLinkHtml = 'Like what you see? Visit the ' +\n",
              "            '<a target=\"_blank\" href=https://colab.research.google.com/notebooks/data_table.ipynb>data table notebook</a>'\n",
              "            + ' to learn more about interactive tables.';\n",
              "          element.innerHTML = '';\n",
              "          dataTable['output_type'] = 'display_data';\n",
              "          await google.colab.output.renderOutput(dataTable, element);\n",
              "          const docLink = document.createElement('div');\n",
              "          docLink.innerHTML = docLinkHtml;\n",
              "          element.appendChild(docLink);\n",
              "        }\n",
              "      </script>\n",
              "    </div>\n",
              "  </div>\n",
              "  "
            ]
          },
          "metadata": {},
          "execution_count": 33
        }
      ]
    },
    {
      "cell_type": "code",
      "source": [
        "all_means.transpose().plot(kind='bar')\n",
        "plt.legend(loc='upper left', ncol=1, title=\"Caracteristica\", bbox_to_anchor=(1.0, 0.5))\n",
        "plt.plot()"
      ],
      "metadata": {
        "id": "awgG0T_kUskS",
        "colab": {
          "base_uri": "https://localhost:8080/",
          "height": 360
        },
        "outputId": "53cd49f0-0324-4fa7-eaa6-a4376652330c"
      },
      "execution_count": null,
      "outputs": [
        {
          "output_type": "execute_result",
          "data": {
            "text/plain": [
              "[]"
            ]
          },
          "metadata": {},
          "execution_count": 135
        },
        {
          "output_type": "display_data",
          "data": {
            "text/plain": [
              "<Figure size 432x288 with 1 Axes>"
            ],
            "image/png": "[encoded data removed]"
          },
          "metadata": {
            "needs_background": "light"
          }
        }
      ]
    },
    {
      "cell_type": "markdown",
      "source": [
        "# Ejercicio\n",
        "Unifica todos los **playlists** en un unico playlit llamado **allplaylist** con una nueva columna que tenga el nombre del playlist"
      ],
      "metadata": {
        "id": "9SjdTpP8EPfv"
      }
    },
    {
      "cell_type": "code",
      "source": [
        "allplaylist ="
      ],
      "metadata": {
        "id": "p5bYiSCA7_Kz"
      },
      "execution_count": null,
      "outputs": []
    },
    {
      "cell_type": "code",
      "source": [
        "\n",
        "sns.boxplot(y=allplaylist['valence'], x=allplaylist['playlist']) \n",
        "\n",
        "plt.show()"
      ],
      "metadata": {
        "id": "_DWzAnU0-i7r"
      },
      "execution_count": null,
      "outputs": []
    },
    {
      "cell_type": "code",
      "source": [
        "ax = sns.boxplot(data=allplaylist, x=allplaylist['popularity'], orient=\"h\", y=\"playlist\")"
      ],
      "metadata": {
        "id": "9GbWeMvHXaD-"
      },
      "execution_count": null,
      "outputs": []
    },
    {
      "cell_type": "code",
      "source": [
        "allplaylist.boxplot(column=['popularity', ], by='playlist', figsize=(10,6),  fontsize=12);\n",
        "plt.show()"
      ],
      "metadata": {
        "id": "MWccC4Ol_BTw"
      },
      "execution_count": null,
      "outputs": []
    },
    {
      "cell_type": "code",
      "source": [
        "\n",
        "allplaylist.boxplot(column=['energy', 'acousticness','valence', 'danceability' ], by='playlist', figsize=(30,9) );\n",
        "plt.show()"
      ],
      "metadata": {
        "id": "mQZbhSwMXdOC"
      },
      "execution_count": null,
      "outputs": []
    },
    {
      "cell_type": "code",
      "source": [
        "# Un scatter puede tener una tercera variable\n",
        "plt.figure(figsize=(10,10), dpi=120)\n",
        "\n",
        "allplaylist.plot.scatter(  x='valence',\n",
        "                          y='danceability',\n",
        "                         c='popularity',\n",
        "                         by='playlist',\n",
        "                                colormap='viridis',\n",
        "                        \n",
        "                              )"
      ],
      "metadata": {
        "id": "Lx9_yxItALLO"
      },
      "execution_count": null,
      "outputs": []
    },
    {
      "cell_type": "code",
      "source": [
        "plt.figure(figsize=(10,10), dpi=120)\n",
        "\n",
        "sns.scatterplot(x=\"energy\", y=\"popularity\", data=allplaylist, hue=\"playlist\", style=\"playlist\")\n"
      ],
      "metadata": {
        "id": "wboPwK0nAqIv"
      },
      "execution_count": null,
      "outputs": []
    },
    {
      "cell_type": "code",
      "source": [],
      "metadata": {
        "colab": {
          "base_uri": "https://localhost:8080/",
          "height": 478
        },
        "id": "8GVQbffk3rMJ",
        "outputId": "1013e8f3-583f-43a8-d66e-8c4193666fc4"
      },
      "execution_count": null,
      "outputs": [
        {
          "output_type": "stream",
          "name": "stderr",
          "text": [
            "ERROR:spotipy.client:HTTP Error for GET to https://api.spotify.com/v1/tracks/-f with Params: {'market': None} returned 400 due to invalid id\n"
          ]
        },
        {
          "output_type": "error",
          "ename": "SpotifyException",
          "evalue": "ignored",
          "traceback": [
            "\u001b[0;31m---------------------------------------------------------------------------\u001b[0m",
            "\u001b[0;31mHTTPError\u001b[0m                                 Traceback (most recent call last)",
            "\u001b[0;32m/usr/local/lib/python3.7/dist-packages/spotipy/client.py\u001b[0m in \u001b[0;36m_internal_call\u001b[0;34m(self, method, url, payload, params)\u001b[0m\n\u001b[1;32m    244\u001b[0m \u001b[0;34m\u001b[0m\u001b[0m\n\u001b[0;32m--> 245\u001b[0;31m             \u001b[0mresponse\u001b[0m\u001b[0;34m.\u001b[0m\u001b[0mraise_for_status\u001b[0m\u001b[0;34m(\u001b[0m\u001b[0;34m)\u001b[0m\u001b[0;34m\u001b[0m\u001b[0;34m\u001b[0m\u001b[0m\n\u001b[0m\u001b[1;32m    246\u001b[0m             \u001b[0mresults\u001b[0m \u001b[0;34m=\u001b[0m \u001b[0mresponse\u001b[0m\u001b[0;34m.\u001b[0m\u001b[0mjson\u001b[0m\u001b[0;34m(\u001b[0m\u001b[0;34m)\u001b[0m\u001b[0;34m\u001b[0m\u001b[0;34m\u001b[0m\u001b[0m\n",
            "\u001b[0;32m/usr/local/lib/python3.7/dist-packages/requests/models.py\u001b[0m in \u001b[0;36mraise_for_status\u001b[0;34m(self)\u001b[0m\n\u001b[1;32m   1020\u001b[0m         \u001b[0;32mif\u001b[0m \u001b[0mhttp_error_msg\u001b[0m\u001b[0;34m:\u001b[0m\u001b[0;34m\u001b[0m\u001b[0;34m\u001b[0m\u001b[0m\n\u001b[0;32m-> 1021\u001b[0;31m             \u001b[0;32mraise\u001b[0m \u001b[0mHTTPError\u001b[0m\u001b[0;34m(\u001b[0m\u001b[0mhttp_error_msg\u001b[0m\u001b[0;34m,\u001b[0m \u001b[0mresponse\u001b[0m\u001b[0;34m=\u001b[0m\u001b[0mself\u001b[0m\u001b[0;34m)\u001b[0m\u001b[0;34m\u001b[0m\u001b[0;34m\u001b[0m\u001b[0m\n\u001b[0m\u001b[1;32m   1022\u001b[0m \u001b[0;34m\u001b[0m\u001b[0m\n",
            "\u001b[0;31mHTTPError\u001b[0m: 400 Client Error: Bad Request for url: https://api.spotify.com/v1/tracks/-f",
            "\nDuring handling of the above exception, another exception occurred:\n",
            "\u001b[0;31mSpotifyException\u001b[0m                          Traceback (most recent call last)",
            "\u001b[0;32m<ipython-input-52-a1c6b159119e>\u001b[0m in \u001b[0;36m<module>\u001b[0;34m\u001b[0m\n\u001b[1;32m      9\u001b[0m \u001b[0msp\u001b[0m \u001b[0;34m=\u001b[0m \u001b[0mget_spotify_credentials\u001b[0m\u001b[0;34m(\u001b[0m\u001b[0;34m)\u001b[0m\u001b[0;34m\u001b[0m\u001b[0;34m\u001b[0m\u001b[0m\n\u001b[1;32m     10\u001b[0m \u001b[0;34m\u001b[0m\u001b[0m\n\u001b[0;32m---> 11\u001b[0;31m \u001b[0mtrack\u001b[0m \u001b[0;34m=\u001b[0m \u001b[0msp\u001b[0m\u001b[0;34m.\u001b[0m\u001b[0mtrack\u001b[0m\u001b[0;34m(\u001b[0m\u001b[0murn\u001b[0m\u001b[0;34m)\u001b[0m\u001b[0;34m\u001b[0m\u001b[0;34m\u001b[0m\u001b[0m\n\u001b[0m\u001b[1;32m     12\u001b[0m \u001b[0mpprint\u001b[0m\u001b[0;34m(\u001b[0m\u001b[0mtrack\u001b[0m\u001b[0;34m)\u001b[0m\u001b[0;34m\u001b[0m\u001b[0;34m\u001b[0m\u001b[0m\n",
            "\u001b[0;32m/usr/local/lib/python3.7/dist-packages/spotipy/client.py\u001b[0m in \u001b[0;36mtrack\u001b[0;34m(self, track_id, market)\u001b[0m\n\u001b[1;32m    343\u001b[0m \u001b[0;34m\u001b[0m\u001b[0m\n\u001b[1;32m    344\u001b[0m         \u001b[0mtrid\u001b[0m \u001b[0;34m=\u001b[0m \u001b[0mself\u001b[0m\u001b[0;34m.\u001b[0m\u001b[0m_get_id\u001b[0m\u001b[0;34m(\u001b[0m\u001b[0;34m\"track\"\u001b[0m\u001b[0;34m,\u001b[0m \u001b[0mtrack_id\u001b[0m\u001b[0;34m)\u001b[0m\u001b[0;34m\u001b[0m\u001b[0;34m\u001b[0m\u001b[0m\n\u001b[0;32m--> 345\u001b[0;31m         \u001b[0;32mreturn\u001b[0m \u001b[0mself\u001b[0m\u001b[0;34m.\u001b[0m\u001b[0m_get\u001b[0m\u001b[0;34m(\u001b[0m\u001b[0;34m\"tracks/\"\u001b[0m \u001b[0;34m+\u001b[0m \u001b[0mtrid\u001b[0m\u001b[0;34m,\u001b[0m \u001b[0mmarket\u001b[0m\u001b[0;34m=\u001b[0m\u001b[0mmarket\u001b[0m\u001b[0;34m)\u001b[0m\u001b[0;34m\u001b[0m\u001b[0;34m\u001b[0m\u001b[0m\n\u001b[0m\u001b[1;32m    346\u001b[0m \u001b[0;34m\u001b[0m\u001b[0m\n\u001b[1;32m    347\u001b[0m     \u001b[0;32mdef\u001b[0m \u001b[0mtracks\u001b[0m\u001b[0;34m(\u001b[0m\u001b[0mself\u001b[0m\u001b[0;34m,\u001b[0m \u001b[0mtracks\u001b[0m\u001b[0;34m,\u001b[0m \u001b[0mmarket\u001b[0m\u001b[0;34m=\u001b[0m\u001b[0;32mNone\u001b[0m\u001b[0;34m)\u001b[0m\u001b[0;34m:\u001b[0m\u001b[0;34m\u001b[0m\u001b[0;34m\u001b[0m\u001b[0m\n",
            "\u001b[0;32m/usr/local/lib/python3.7/dist-packages/spotipy/client.py\u001b[0m in \u001b[0;36m_get\u001b[0;34m(self, url, args, payload, **kwargs)\u001b[0m\n\u001b[1;32m    295\u001b[0m             \u001b[0mkwargs\u001b[0m\u001b[0;34m.\u001b[0m\u001b[0mupdate\u001b[0m\u001b[0;34m(\u001b[0m\u001b[0margs\u001b[0m\u001b[0;34m)\u001b[0m\u001b[0;34m\u001b[0m\u001b[0;34m\u001b[0m\u001b[0m\n\u001b[1;32m    296\u001b[0m \u001b[0;34m\u001b[0m\u001b[0m\n\u001b[0;32m--> 297\u001b[0;31m         \u001b[0;32mreturn\u001b[0m \u001b[0mself\u001b[0m\u001b[0;34m.\u001b[0m\u001b[0m_internal_call\u001b[0m\u001b[0;34m(\u001b[0m\u001b[0;34m\"GET\"\u001b[0m\u001b[0;34m,\u001b[0m \u001b[0murl\u001b[0m\u001b[0;34m,\u001b[0m \u001b[0mpayload\u001b[0m\u001b[0;34m,\u001b[0m \u001b[0mkwargs\u001b[0m\u001b[0;34m)\u001b[0m\u001b[0;34m\u001b[0m\u001b[0;34m\u001b[0m\u001b[0m\n\u001b[0m\u001b[1;32m    298\u001b[0m \u001b[0;34m\u001b[0m\u001b[0m\n\u001b[1;32m    299\u001b[0m     \u001b[0;32mdef\u001b[0m \u001b[0m_post\u001b[0m\u001b[0;34m(\u001b[0m\u001b[0mself\u001b[0m\u001b[0;34m,\u001b[0m \u001b[0murl\u001b[0m\u001b[0;34m,\u001b[0m \u001b[0margs\u001b[0m\u001b[0;34m=\u001b[0m\u001b[0;32mNone\u001b[0m\u001b[0;34m,\u001b[0m \u001b[0mpayload\u001b[0m\u001b[0;34m=\u001b[0m\u001b[0;32mNone\u001b[0m\u001b[0;34m,\u001b[0m \u001b[0;34m**\u001b[0m\u001b[0mkwargs\u001b[0m\u001b[0;34m)\u001b[0m\u001b[0;34m:\u001b[0m\u001b[0;34m\u001b[0m\u001b[0;34m\u001b[0m\u001b[0m\n",
            "\u001b[0;32m/usr/local/lib/python3.7/dist-packages/spotipy/client.py\u001b[0m in \u001b[0;36m_internal_call\u001b[0;34m(self, method, url, payload, params)\u001b[0m\n\u001b[1;32m    270\u001b[0m                 \u001b[0;34m\"%s:\\n %s\"\u001b[0m \u001b[0;34m%\u001b[0m \u001b[0;34m(\u001b[0m\u001b[0mresponse\u001b[0m\u001b[0;34m.\u001b[0m\u001b[0murl\u001b[0m\u001b[0;34m,\u001b[0m \u001b[0mmsg\u001b[0m\u001b[0;34m)\u001b[0m\u001b[0;34m,\u001b[0m\u001b[0;34m\u001b[0m\u001b[0;34m\u001b[0m\u001b[0m\n\u001b[1;32m    271\u001b[0m                 \u001b[0mreason\u001b[0m\u001b[0;34m=\u001b[0m\u001b[0mreason\u001b[0m\u001b[0;34m,\u001b[0m\u001b[0;34m\u001b[0m\u001b[0;34m\u001b[0m\u001b[0m\n\u001b[0;32m--> 272\u001b[0;31m                 \u001b[0mheaders\u001b[0m\u001b[0;34m=\u001b[0m\u001b[0mresponse\u001b[0m\u001b[0;34m.\u001b[0m\u001b[0mheaders\u001b[0m\u001b[0;34m,\u001b[0m\u001b[0;34m\u001b[0m\u001b[0;34m\u001b[0m\u001b[0m\n\u001b[0m\u001b[1;32m    273\u001b[0m             )\n\u001b[1;32m    274\u001b[0m         \u001b[0;32mexcept\u001b[0m \u001b[0mrequests\u001b[0m\u001b[0;34m.\u001b[0m\u001b[0mexceptions\u001b[0m\u001b[0;34m.\u001b[0m\u001b[0mRetryError\u001b[0m \u001b[0;32mas\u001b[0m \u001b[0mretry_error\u001b[0m\u001b[0;34m:\u001b[0m\u001b[0;34m\u001b[0m\u001b[0;34m\u001b[0m\u001b[0m\n",
            "\u001b[0;31mSpotifyException\u001b[0m: http status: 400, code:-1 - https://api.spotify.com/v1/tracks/-f:\n invalid id, reason: None"
          ]
        }
      ]
    },
    {
      "cell_type": "code",
      "source": [],
      "metadata": {
        "id": "fF32LXoY3rnB"
      },
      "execution_count": null,
      "outputs": []
    }
  ]
}