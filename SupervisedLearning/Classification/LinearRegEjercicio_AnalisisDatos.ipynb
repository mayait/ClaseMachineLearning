{
  "cells": [
    {
      "cell_type": "markdown",
      "metadata": {
        "id": "view-in-github",
        "colab_type": "text"
      },
      "source": [
        "<a href=\"https://colab.research.google.com/github/mayait/ClaseMachineLearning/blob/main/SupervisedLearning/Classification/LinearRegEjercicio_AnalisisDatos.ipynb\" target=\"_parent\"><img src=\"https://colab.research.google.com/assets/colab-badge.svg\" alt=\"Open In Colab\"/></a>"
      ]
    },
    {
      "cell_type": "markdown",
      "metadata": {
        "id": "-ORMB4S-ThUb"
      },
      "source": [
        "# Regresión lineal"
      ]
    },
    {
      "cell_type": "markdown",
      "metadata": {
        "id": "UX_PfnT9ThUb"
      },
      "source": [
        "## Objetivo\n",
        "\n",
        "*   Usar scikit-learn para implementar un modelo de Linear Regression\n",
        "*   Crear un modelo, entrenarlo, evaluarlo y utilizarlo\n",
        "*   Optimizar el modelo con regularizaciones"
      ]
    },
    {
      "cell_type": "code",
      "execution_count": null,
      "metadata": {
        "id": "pnb9c2LTThUb"
      },
      "outputs": [],
      "source": [
        "import matplotlib.pyplot as plt\n",
        "import pandas as pd\n",
        "import pylab as pl\n",
        "import numpy as np\n",
        "%matplotlib inline"
      ]
    },
    {
      "cell_type": "code",
      "execution_count": null,
      "metadata": {
        "id": "Gk-arZKfThUc"
      },
      "outputs": [],
      "source": [
        "# Datasets\n",
        "!wget -nv https://raw.githubusercontent.com/mayait/ClaseAnalisisDatos/main/machine_learning/datasets/advertising_and_sales_clean.csv\n",
        "!wget -nv https://cf-courses-data.s3.us.cloud-object-storage.appdomain.cloud/IBMDeveloperSkillsNetwork-ML0101EN-SkillsNetwork/labs/Module%202/data/FuelConsumptionCo2.csv"
      ]
    },
    {
      "cell_type": "markdown",
      "metadata": {
        "id": "40Av1Ly3ThUc"
      },
      "source": [
        "# Consumo de combustible\n",
        "\n",
        "### `FuelConsumption.csv`:\n",
        "\n",
        "Fuel consumption dataset, **`FuelConsumption.csv`**, Contiene las calificaciones de consumo de combustible específicas del modelo y las emisiones estimadas de dióxido de carbono para vehículos ligeros nuevos para la venta al por menor en Canadá. [Dataset source](http://open.canada.ca/data/en/dataset/98f1a129-f628-4ce4-b24d-6f16bf24dd64)\n",
        "\n",
        "*   **MODELYEAR** e.g. 2014\n",
        "*   **MAKE** e.g. Acura\n",
        "*   **MODEL** e.g. ILX\n",
        "*   **VEHICLE CLASS** e.g. SUV\n",
        "*   **ENGINE SIZE** e.g. 4.7\n",
        "*   **CYLINDERS** e.g 6\n",
        "*   **TRANSMISSION** e.g. A6\n",
        "*   **FUELTYPE** e.g. z\n",
        "*   **FUEL CONSUMPTION in CITY(L/100 km)** e.g. 9.9\n",
        "*   **FUEL CONSUMPTION in HWY (L/100 km)** e.g. 8.9\n",
        "*   **FUEL CONSUMPTION COMB (L/100 km)** e.g. 9.2\n",
        "*   **CO2 EMISSIONS (g/km)** e.g. 182   --> low --> 0"
      ]
    },
    {
      "cell_type": "code",
      "execution_count": null,
      "metadata": {
        "id": "LVKZy7NAThUc"
      },
      "outputs": [],
      "source": [
        "df = pd.read_csv(\"FuelConsumption.csv\")"
      ]
    },
    {
      "cell_type": "markdown",
      "source": [
        "## 🌶️ 🐕 Realiza un análisis EDA a FuelConsumption, resume los hallazgos\n",
        "\n",
        "- Análisis de correlación: Evaluar la correlación entre la variable dependiente y las variables independientes mediante una matriz de correlación o un gráfico de dispersión.\n",
        "- Análisis de normalidad: Verificar si las variables siguen una distribución normal utilizando histogramas.\n",
        "\n",
        "- Análisis de valores atípicos: Buscar valores extremos en las variables.\n",
        "\n",
        "- Análisis de datos faltantes: Evaluar si hay valores faltantes en los datos y determinar cómo manejarlos."
      ],
      "metadata": {
        "id": "Tiy2x8H4Ey1x"
      }
    },
    {
      "cell_type": "markdown",
      "source": [],
      "metadata": {
        "id": "HNJyZDJmG1fy"
      }
    },
    {
      "cell_type": "markdown",
      "source": [
        "## 🌶️ 🐕 Selecciona las variables"
      ],
      "metadata": {
        "id": "7M6fYK9iHC_j"
      }
    },
    {
      "cell_type": "code",
      "execution_count": null,
      "metadata": {
        "id": "Y9sNbtX3ThUd"
      },
      "outputs": [],
      "source": [
        "# Vamos a utilizar solo las siguientes caracteristicas para este ejercicio\n",
        "# Para X serán: 'ENGINESIZE','CYLINDERS','FUELCONSUMPTION_CITY','FUELCONSUMPTION_HWY','FUELCONSUMPTION_COMB'\n",
        "# Para Y será: 'CO2EMISSIONS'\n",
        "# Divide la data en train y test con un 70% para train y 30% para test\n",
        "\n",
        "from sklearn.model_selection import train_test_split\n",
        "from sklearn.linear_model import LinearRegression\n",
        "from sklearn.metrics import r2_score\n",
        "\n",
        "# 🌶️ 🐕 Seleccionamos las caracteristicas que vamos a utilizar\n",
        "X = df[🌶️🌶️🌶️🌶️]\n",
        "\n",
        "# 🌶️ 🐕 Seleccionamos la variable a predecir\n",
        "Y = df[🌶️🌶️🌶️🌶️]\n",
        "\n",
        "# 🌶️ 🐕 Divide la data en train y test\n",
        "X_train, X_test, Y_train, Y_test = train_test_split(🌶️🌶️🌶️🌶️🌶️🌶️🌶️🌶️🌶️)\n",
        "\n"
      ]
    },
    {
      "cell_type": "markdown",
      "source": [
        "# Método de mínimos cuadrados"
      ],
      "metadata": {
        "id": "uTN4G6UAHSkW"
      }
    },
    {
      "cell_type": "code",
      "execution_count": null,
      "metadata": {
        "id": "cLtjNFMdThUd"
      },
      "outputs": [],
      "source": [
        "# 🌶️ 🐕 Haz una función que entrene un modelo re regresión lineal recibiendo X_train, X_test, Y_train, Y_test\n",
        "# 🌶️ 🐕 La funcion devuelve el error cuadrático medio (MSE) y el coeficiente de determinación (R2) para train y test\n",
        "# 🌶️ 🐕 Calcula si el modelo está sobreajustado, subajustado o tiene un buen ajuste\n",
        "\n",
        "from sklearn.metrics import mean_squared_error, r2_score\n",
        "\n",
        "def entrenar_modelo_minimos_cuadrados(X_train, X_test, Y_train, Y_test):\n",
        "    # 🌶️ 🐕 Instanciamos el modelo\n",
        "    regr = 🌶️🌶️🌶️🌶️🌶️🌶️ # ¿Que modelo?\n",
        "\n",
        "    # Entrenamos el modelo\n",
        "    regr.fit(X_train, Y_train)\n",
        "\n",
        "    # Hacemos las predicciones\n",
        "    Y_pred_train = regr.predict(X_train)\n",
        "    Y_pred_test = regr.predict(X_test)\n",
        "\n",
        "    # 🌶️ 🐕 Calculamos el MSE para train y test mean_squared_error(...)\n",
        "    mse_train = 🌶️🌶️🌶️🌶️🌶️🌶️\n",
        "    mse_test = 🌶️🌶️🌶️🌶️🌶️🌶️\n",
        "\n",
        "    # 🌶️ 🐕 Calculamos el R2 r2_score\n",
        "    r2_train = 🌶️🌶️🌶️🌶️🌶️🌶️\n",
        "    r2_test = 🌶️🌶️🌶️🌶️🌶️🌶️\n",
        "\n",
        "    # Imprime los resultados\n",
        "    print(\"MSE train: %.2f\" % mse_train)\n",
        "    print(\"MSE test: %.2f\" % mse_test)\n",
        "    print(\"R2 train: %.2f\" % r2_train)\n",
        "    print(\"R2 test: %.2f\" % r2_test)\n",
        "\n",
        "    # calcula si el modelo está sobreajustado, subajustado o tiene un buen ajuste\n",
        "    if r2_train > r2_test:\n",
        "        print(\"El modelo está 🌶️🌶️🌶️🌶️🌶️🌶️\")\n",
        "    elif r2_train < r2_test:\n",
        "        print(\"El modelo está 🌶️🌶️🌶️🌶️🌶️🌶️\")\n",
        "    else:\n",
        "        print(\"El modelo 🌶️🌶️🌶️🌶️🌶️🌶️\")\n",
        "\n",
        "    return mse_train, mse_test, r2_train, r2_test\n"
      ]
    },
    {
      "cell_type": "code",
      "source": [
        "\"\"\"\n",
        "El resultado deberia ser así:\n",
        "MSE train: 563.97\n",
        "MSE test: 502.45\n",
        "R2 train: 0.86\n",
        "R2 test: 0.88\n",
        "El modelo está subajustado\n",
        "(563.9675185805852, 502.4460931860747, 0.8590623862972946, 0.8754316437513163)\n",
        "\"\"\"\n",
        "\n",
        "entrenar_modelo_minimos_cuadrados(X_train, X_test, Y_train, Y_test)"
      ],
      "metadata": {
        "id": "PPq2Lki9Haih"
      },
      "execution_count": null,
      "outputs": []
    },
    {
      "cell_type": "markdown",
      "metadata": {
        "id": "qPDWfbgtThUd"
      },
      "source": [
        "# Ridge regression"
      ]
    },
    {
      "cell_type": "code",
      "execution_count": null,
      "metadata": {
        "id": "wu0pZZ4lThUd"
      },
      "outputs": [],
      "source": [
        "# 🌶️ 🐕 Importa ridge de sklearn.linear_model\n",
        "# 🌶️ 🐕 Crea una funcion que ajuste un modelo de regresion ridge con diferentes valores de alpha\n",
        "# 🌶️ 🐕 La funcion debe devolver el MSE y el R2 para train y test\n",
        "\n",
        "from sklearn.linear_model import Ridge\n",
        "\n",
        "def entrenar_modelo_ridge(X_train, X_test, Y_train, Y_test):\n",
        "\n",
        "    # alphas\n",
        "    alphas = [0.01, 0.1, 1.0, 10.0, 100.0, 1000.0]\n",
        "\n",
        "\n",
        "    # 🐕 Hagamos una tabla vacia para almacenar los resultados de Alpha, MSE y R2 para train y test\n",
        "    df_ridge = pd.DataFrame(columns=['Alpha', 'MSE_train', 'MSE_test', 'R2_train', 'R2_test'])\n",
        "\n",
        "    # 🌶️ 🐕 Itera sobre los diferentes valores de alpha\n",
        "    for alpha in alphas:\n",
        "\n",
        "        # 🌶️ 🐕 Instanciamos el modelo, no te olvides de pasarle el Alpha\n",
        "        ridge = Ridge(🌶️🌶️🌶️)\n",
        "\n",
        "        # Entrenamos el modelo\n",
        "        ridge.fit(X_train, Y_train)\n",
        "\n",
        "        # Hacemos las predicciones\n",
        "        Y_pred_train = ridge.predict(X_train)\n",
        "        Y_pred_test = ridge.predict(X_test)\n",
        "\n",
        "        # 🌶️ 🐕 Calculamos el MSE\n",
        "        mse_train = mean_squared_error(🌶️🌶️🌶️)\n",
        "        mse_test = mean_squared_error(🌶️🌶️🌶️)\n",
        "\n",
        "        # 🌶️ 🐕 Calculamos el R2\n",
        "        r2_train = r2_score(🌶️🌶️🌶️)\n",
        "        r2_test = r2_score(🌶️🌶️🌶️)\n",
        "\n",
        "        # Guarda los resultados en la tabla df_ridge con pandas.concat\n",
        "        df_ridge = pd.concat([df_ridge, pd.DataFrame([[alpha, mse_train, mse_test, r2_train, r2_test]], columns=['Alpha', 'MSE_train', 'MSE_test', 'R2_train', 'R2_test'])])\n",
        "\n",
        "    # Imprime la tabla df_ridge\n",
        "    print(df_ridge)\n",
        "\n",
        "\n",
        "    # ¿Que valor de alpha tiene el mejor R2, imprime todos los valores para ese alpha?\n",
        "    print('Mejor R2:')\n",
        "    print(df_ridge[df_ridge['R2_test'] == df_ridge['R2_test'].max()])\n",
        "\n",
        "    return mse_train, mse_test, r2_train, r2_test"
      ]
    },
    {
      "cell_type": "code",
      "source": [
        "entrenar_modelo_ridge(X_train, X_test, Y_train, Y_test)"
      ],
      "metadata": {
        "id": "Qx9b2NKaKG7A"
      },
      "execution_count": null,
      "outputs": []
    },
    {
      "cell_type": "markdown",
      "metadata": {
        "id": "Zkgat_i8ThUe"
      },
      "source": [
        "# Lasso"
      ]
    },
    {
      "cell_type": "code",
      "execution_count": null,
      "metadata": {
        "id": "17YJeHmiThUe"
      },
      "outputs": [],
      "source": [
        "#  🌶️ 🐕  Importa lasso de sklearn.linear_model\n",
        "#  🌶️ 🐕  Crea una funcion que ajuste un modelo de regresion lasso con diferentes valores de alpha\n",
        "#  🌶️ 🐕  La funcion debe devolver el MSE y el R2 para train y test\n",
        "\n",
        "from sklearn.linear_model import Lasso\n",
        "\n",
        "def entrenar_modelo_lasso(X_train, X_test, Y_train, Y_test):\n",
        "\n",
        "    # alphas\n",
        "    alphas = [0.1, 1.0, 2, 10.0, 100.0, 1000.0]\n",
        "\n",
        "    # Crea una tabla vacia para almacenar los resultados de Alpha, MSE y R2 para train y test\n",
        "    df_lasso = pd.DataFrame(columns=['Alpha', 'MSE_train', 'MSE_test', 'R2_train', 'R2_test'])\n",
        "\n",
        "    # Itera sobre los diferentes valores de alpha\n",
        "    for alpha in alphas:\n",
        "        # Instanciamos el modelo\n",
        "        lasso = Lasso(alpha=alpha, max_iter = 10000)\n",
        "\n",
        "        # Entrenamos el modelo\n",
        "        lasso.fit(X_train, Y_train)\n",
        "\n",
        "        # Hacemos las predicciones\n",
        "        Y_pred_train = lasso.predict(X_train)\n",
        "        Y_pred_test = lasso.predict(X_test)\n",
        "\n",
        "        #  🌶️ 🐕 Calculamos el MSE\n",
        "        mse_train = 🌶️🌶️🌶️🌶️🌶️\n",
        "        mse_test = 🌶️🌶️🌶️🌶️🌶️\n",
        "\n",
        "        #  🌶️ 🐕 Calculamos el R2\n",
        "        r2_train = 🌶️🌶️🌶️🌶️🌶️\n",
        "        r2_test = 🌶️🌶️🌶️🌶️🌶️\n",
        "\n",
        "        # Guarda los resultados en la tabla df_ridge con pandas.concat\n",
        "        df_lasso = pd.concat([df_lasso, pd.DataFrame([[alpha, mse_train, mse_test, r2_train, r2_test]], columns=['Alpha', 'MSE_train', 'MSE_test', 'R2_train', 'R2_test'])])\n",
        "\n",
        "    # Imprime la tabla df_ridge\n",
        "    print(df_lasso)\n",
        "\n",
        "\n",
        "    # ¿Que valor de alpha tiene el mejor R2, imprime todos los valores para ese alpha?\n",
        "    print('El mejor valor de alpha es: ')\n",
        "    print(df_lasso[df_lasso['R2_test'] == df_lasso['R2_test'].max()])\n",
        "\n",
        "    return mse_train, mse_test, r2_train, r2_test"
      ]
    },
    {
      "cell_type": "code",
      "source": [
        "entrenar_modelo_lasso(X_train, X_test, Y_train, Y_test)"
      ],
      "metadata": {
        "id": "hWraf9zDMEVT"
      },
      "execution_count": null,
      "outputs": []
    },
    {
      "cell_type": "markdown",
      "source": [
        "# Normalización Min-Max"
      ],
      "metadata": {
        "id": "hxItYtXaSy3j"
      }
    },
    {
      "cell_type": "code",
      "source": [
        "#@title Min Max Norm\n",
        "\n",
        "import numpy as np\n",
        "import matplotlib.pyplot as plt\n",
        "from sklearn.preprocessing import MinMaxScaler\n",
        "\n",
        "# Generar puntos de datos\n",
        "x = np.linspace(-30, 500, num=100)\n",
        "y = 2 * x + np.random.normal(scale=10, size=100)\n",
        "\n",
        "# Normalizar los datos utilizando la normalización min-max\n",
        "scaler = MinMaxScaler()\n",
        "x_norm = scaler.fit_transform(x.reshape(-1, 1)).ravel()\n",
        "y_norm = y.reshape(-1, 1).ravel()\n",
        "\n",
        "# Crear una figura con dos subplots\n",
        "fig, (ax1, ax2) = plt.subplots(1, 2, figsize=(18, 9))\n",
        "\n",
        "# Graficar el primer gráfico (datos originales)\n",
        "ax1.scatter(x, y, color='blue')\n",
        "ax1.set_title('Datos Originales')\n",
        "ax1.set_xlabel('X')\n",
        "ax1.set_ylabel('Y')\n",
        "\n",
        "# Graficar el segundo gráfico (datos normalizados)\n",
        "ax2.scatter(x_norm, y_norm, color='red')\n",
        "ax2.set_title('Datos Normalizados')\n",
        "ax2.set_xlabel('X (Normalizado)')\n",
        "ax2.set_ylabel('Y (Normalizado)')\n",
        "\n",
        "# Agregar un título a la figura\n",
        "fig.suptitle('Normalización Min-Max', fontsize=24)\n",
        "\n",
        "# Ajustar el diseño y mostrar la figura\n",
        "fig.tight_layout()\n",
        "plt.show()\n",
        "\n"
      ],
      "metadata": {
        "cellView": "form",
        "colab": {
          "base_uri": "https://localhost:8080/",
          "height": 655
        },
        "id": "qkf0HpbQS3B0",
        "outputId": "46465ea9-5fe9-45e6-92d4-43859db7eb75"
      },
      "execution_count": null,
      "outputs": [
        {
          "output_type": "display_data",
          "data": {
            "text/plain": [
              "<Figure size 1296x648 with 2 Axes>"
            ],
            "image/png": "[encoded data removed]"
          },
          "metadata": {
            "needs_background": "light"
          }
        }
      ]
    },
    {
      "cell_type": "markdown",
      "source": [
        "# 🌶️ Realiza una normalización de datos con MinMax Scaler y evalua sobre los diferentes metodos"
      ],
      "metadata": {
        "id": "TTeDQK2cNaWF"
      }
    },
    {
      "cell_type": "code",
      "execution_count": null,
      "metadata": {
        "id": "alVbL84WThUe"
      },
      "outputs": [],
      "source": [
        "from sklearn.preprocessing import MinMaxScaler\n",
        "\n",
        "def entrenar_modelo_normalizado(X_train, X_test, Y_train, Y_test):\n",
        "\n",
        "        # Instancia MinMaxScaler\n",
        "        scaler = MinMaxScaler()\n",
        "\n",
        "        # Ajusta el escalador a los datos de entrenamiento\n",
        "        scaler.fit_transform(X_train)\n",
        "\n",
        "        # Transforma los datos de entrenamiento\n",
        "        X_train_scaled = scaler.transform(X_train)\n",
        "\n",
        "        # Transforma los datos de prueba\n",
        "        X_test_scaled = scaler.transform(X_test)\n",
        "\n",
        "        # 🌶️ Entrenamos el modelo con Least Squares\n",
        "        print('Entrenando modelo con Least Squares')\n",
        "        🌶️ 🌶️ 🌶️ (X_train_scaled, X_test_scaled, Y_train, Y_test)\n",
        "\n",
        "        # Entrenamos el modelo con Ridge\n",
        "        print('Entrenando modelo con Ridge')\n",
        "        🌶️ 🌶️ 🌶️ (X_train_scaled, X_test_scaled, Y_train, Y_test)\n",
        "\n",
        "        # Entrenamos el modelo con Lasso\n",
        "        print('Entrenando modelo con Lasso')\n",
        "        🌶️ 🌶️ 🌶️ (X_train_scaled, X_test_scaled, Y_train, Y_test)\n",
        "\n",
        "\n",
        "entrenar_modelo_normalizado(X_train, X_test, Y_train, Y_test)"
      ]
    },
    {
      "cell_type": "markdown",
      "metadata": {
        "id": "ta10_Jh7ThUe"
      },
      "source": [
        "# Ajuste Polinómico en Regresión Lineal\n"
      ]
    },
    {
      "cell_type": "code",
      "source": [
        "#@title Ajuste Polinómico en Regresión Lineal\n",
        "\n",
        "import numpy as np\n",
        "import matplotlib.pyplot as plt\n",
        "from sklearn.metrics import mean_squared_error, r2_score\n",
        "\n",
        "# Generar puntos de datos\n",
        "x = np.linspace(1, 7, num=20)\n",
        "y = x ** 2 + np.random.normal(scale=2, size=20)\n",
        "\n",
        "# Crear una figura con dos subplots\n",
        "fig, (ax1, ax2) = plt.subplots(1, 2, figsize=(18, 9))\n",
        "\n",
        "# Graficar el primer gráfico (regresión lineal sin ajuste)\n",
        "ax1.scatter(x, y, color='blue')\n",
        "ax1.set_title('Regresión Lineal Sin Ajuste')\n",
        "ax1.set_xlabel('X')\n",
        "ax1.set_ylabel('Y')\n",
        "\n",
        "# Ajustar una función lineal (grado=1) sin ajuste\n",
        "pendiente, intercep = np.polyfit(x, y, 1)\n",
        "funcion_lineal = np.poly1d((pendiente, intercep))\n",
        "x_vals = np.linspace(x[0], x[-1], 100)\n",
        "y_vals = funcion_lineal(x_vals)\n",
        "ax1.plot(x_vals, y_vals, color='red')\n",
        "\n",
        "# Calcular RMSE y R^2\n",
        "y_pred = funcion_lineal(x)\n",
        "rmse = np.sqrt(mean_squared_error(y, y_pred))\n",
        "r2 = r2_score(y, y_pred)\n",
        "ax1.text(0.05, 0.9, 'RMSE: {:.2f}\\nR$^2$: {:.2f}'.format(rmse, r2),\n",
        "         transform=ax1.transAxes, bbox=dict(facecolor='white', edgecolor='black', pad=10))\n",
        "\n",
        "# Graficar el segundo gráfico (regresión lineal con ajuste polinómico)\n",
        "ax2.scatter(x, y, color='blue')\n",
        "ax2.set_title('Regresión Lineal con Ajuste Polinómico')\n",
        "ax2.set_xlabel('X')\n",
        "ax2.set_ylabel('Y')\n",
        "\n",
        "# Ajustar una función polinómica (grado=2) con ajuste\n",
        "grado = 2\n",
        "coeficientes = np.polyfit(x, y, grado)\n",
        "polinomio = np.poly1d(coeficientes)\n",
        "x_vals = np.linspace(x[0], x[-1], 100)\n",
        "y_vals = polinomio(x_vals)\n",
        "ax2.plot(x_vals, y_vals, color='green')\n",
        "\n",
        "# Calcular RMSE y R^2\n",
        "y_pred = polinomio(x)\n",
        "rmse = np.sqrt(mean_squared_error(y, y_pred))\n",
        "r2 = r2_score(y, y_pred)\n",
        "ax2.text(0.05, 0.9, 'RMSE: {:.2f}\\nR$^2$: {:.2f}'.format(rmse, r2),\n",
        "         transform=ax2.transAxes, bbox=dict(facecolor='white', edgecolor='black', pad=10))\n",
        "\n",
        "# Agregar un título a la figura\n",
        "fig.suptitle('Ajuste Polinómico en Regresión Lineal', fontsize=24)\n",
        "\n",
        "# Ajustar el diseño y mostrar la figura\n",
        "fig.tight_layout()\n",
        "plt.show()"
      ],
      "metadata": {
        "cellView": "form",
        "colab": {
          "base_uri": "https://localhost:8080/",
          "height": 655
        },
        "id": "RArEo2o1QjCV",
        "outputId": "ccb6c2e9-e800-4d97-f833-ad2a33f8bfc0"
      },
      "execution_count": null,
      "outputs": [
        {
          "output_type": "display_data",
          "data": {
            "text/plain": [
              "<Figure size 1296x648 with 2 Axes>"
            ],
            "image/png": "[encoded data removed]"
          },
          "metadata": {
            "needs_background": "light"
          }
        }
      ]
    },
    {
      "cell_type": "code",
      "execution_count": null,
      "metadata": {
        "id": "Ds7y9Lp_ThUe"
      },
      "outputs": [],
      "source": [
        "# Crea una función que ajuste un modelo de regresión polinomial con diferentes grados\n",
        "# Importa PolynomialFeatures\n",
        "# Crea objeto PolynomialFeatures con el grado deseado\n",
        "# La funcion debe devolver el MSE y el R2 para train y test\n",
        "\n",
        "from sklearn.preprocessing import PolynomialFeatures\n",
        "\n",
        "def entrenar_modelo_polinomial(X_train, X_test, Y_train, Y_test):\n",
        "\n",
        "        # grados\n",
        "        grado = 2\n",
        "\n",
        "        # Crea una tabla vacia para almacenar los resultados de grado, MSE y R2 para train y test\n",
        "        df_polinomial = pd.DataFrame(columns=['Grado', 'MSE_train', 'MSE_test', 'R2_train', 'R2_test', 'Modelo'])\n",
        "\n",
        "        # Instanciamos el objeto transformador PolynomialFeatures\n",
        "        poly = PolynomialFeatures(degree=grado)\n",
        "\n",
        "        # Transforma los datos de entrenamiento y prueba en un conjunto de características polinómicas\n",
        "        X_train_poly = poly.fit_transform(X_train)\n",
        "        X_test_poly = poly.transform(X_test)\n",
        "\n",
        "        print('Grado: ', grado)\n",
        "\n",
        "        # 🌶️ Entrenamos el modelo con Least Squares\n",
        "        print('Entrenando modelo con Least Squares')\n",
        "        🌶️ 🌶️ 🌶️ (X_train_scaled, X_test_scaled, Y_train, Y_test)\n",
        "\n",
        "        # Entrenamos el modelo con Ridge\n",
        "        print('Entrenando modelo con Ridge')\n",
        "        🌶️ 🌶️ 🌶️ (X_train_scaled, X_test_scaled, Y_train, Y_test)\n",
        "\n",
        "        # Entrenamos el modelo con Lasso\n",
        "        print('Entrenando modelo con Lasso')\n",
        "        🌶️ 🌶️ 🌶️ (X_train_scaled, X_test_scaled, Y_train, Y_test)\n",
        "\n",
        "        return None\n",
        "\n",
        "entrenar_modelo_polinomial(X_train, X_test, Y_train, Y_test)"
      ]
    },
    {
      "cell_type": "code",
      "execution_count": null,
      "metadata": {
        "id": "QsUC0wZUThUf"
      },
      "outputs": [],
      "source": []
    },
    {
      "cell_type": "markdown",
      "source": [
        "## 🌶️ 🐕  Optimiza el resultado de advertising_and_sales_clean"
      ],
      "metadata": {
        "id": "q92zm7kKDA8D"
      }
    },
    {
      "cell_type": "code",
      "execution_count": null,
      "metadata": {
        "id": "7j5t2ZhtThUf"
      },
      "outputs": [],
      "source": []
    }
  ],
  "metadata": {
    "kernelspec": {
      "display_name": "Python 3",
      "language": "python",
      "name": "python3"
    },
    "language_info": {
      "codemirror_mode": {
        "name": "ipython",
        "version": 3
      },
      "file_extension": ".py",
      "mimetype": "text/x-python",
      "name": "python",
      "nbconvert_exporter": "python",
      "pygments_lexer": "ipython3",
      "version": "3.10.9"
    },
    "orig_nbformat": 4,
    "vscode": {
      "interpreter": {
        "hash": "b0fa6594d8f4cbf19f97940f81e996739fb7646882a419484c72d19e05852a7e"
      }
    },
    "colab": {
      "provenance": [],
      "include_colab_link": true
    }
  },
  "nbformat": 4,
  "nbformat_minor": 0
}